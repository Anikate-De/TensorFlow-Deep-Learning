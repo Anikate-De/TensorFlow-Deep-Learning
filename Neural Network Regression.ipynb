{
  "nbformat": 4,
  "nbformat_minor": 0,
  "metadata": {
    "colab": {
      "provenance": [],
      "collapsed_sections": [
        "pqMAf7UV0W_r",
        "enshTI2ii27E",
        "4Jn4z6DhllTg",
        "tgVgd623vahr",
        "ouY_hD_n8cOv",
        "HxK1xHFO9SPr",
        "ULpu4G0w-Pk-",
        "v-2_vFboBlZu",
        "PdI_j6lAHLLW",
        "7jZXEzrVIF8L",
        "qhu4hNHBJLbI",
        "dAs8X4ekK4Cy",
        "69yVckQPPa7n",
        "c4REVgE4VUgG"
      ],
      "mount_file_id": "1ZoNWIIbOH6KUTVxO43RCQnr1-YUp5jwn",
      "authorship_tag": "ABX9TyNCYnvpj8ggOIXerU80LUc9",
      "include_colab_link": true
    },
    "kernelspec": {
      "name": "python3",
      "display_name": "Python 3"
    },
    "language_info": {
      "name": "python"
    },
    "accelerator": "GPU",
    "gpuClass": "standard"
  },
  "cells": [
    {
      "cell_type": "markdown",
      "metadata": {
        "id": "view-in-github",
        "colab_type": "text"
      },
      "source": [
        "<a href=\"https://colab.research.google.com/github/Anikate-De/TensorFlow-Deep-Learning/blob/main/Neural%20Network%20Regression.ipynb\" target=\"_parent\"><img src=\"https://colab.research.google.com/assets/colab-badge.svg\" alt=\"Open In Colab\"/></a>"
      ]
    },
    {
      "cell_type": "markdown",
      "source": [
        "# Neural Network Regression\n",
        "\n",
        "Table of Contents\n",
        "* Modelling in TensorFlow\n",
        "* Improving the Model\n",
        "* Evaluating the Model\n",
        "* Tracking Experiments\n",
        "* Saving Models\n",
        "* Loading Models\n",
        "* Download Files from Colab"
      ],
      "metadata": {
        "id": "pqMAf7UV0W_r"
      }
    },
    {
      "cell_type": "markdown",
      "source": [
        "#### Modelling in TensorFlow"
      ],
      "metadata": {
        "id": "enshTI2ii27E"
      }
    },
    {
      "cell_type": "code",
      "source": [
        "# Create data to view and fit\n",
        "\n",
        "import tensorflow as tf\n",
        "import matplotlib.pyplot as plot\n",
        "\n",
        "# Create features\n",
        "X = tf.constant([-7.0, -4.0, -1.0, 2.0, 5.0, 8.0, 11.0, 14.0])\n",
        "\n",
        "# Create labels\n",
        "y = tf.constant([3.0, 6.0, 9.0, 12.0, 15.0, 18.0, 21.0, 24.0])\n",
        "\n",
        "# Visualise\n",
        "plot.scatter(X, y)"
      ],
      "metadata": {
        "colab": {
          "base_uri": "https://localhost:8080/",
          "height": 286
        },
        "id": "oDLinJCqExen",
        "outputId": "e2a496a7-8355-4a34-c994-bfb38ce58c2c"
      },
      "execution_count": 80,
      "outputs": [
        {
          "output_type": "execute_result",
          "data": {
            "text/plain": [
              "<matplotlib.collections.PathCollection at 0x7f6e8bf6c850>"
            ]
          },
          "metadata": {},
          "execution_count": 80
        },
        {
          "output_type": "display_data",
          "data": {
            "text/plain": [
              "<Figure size 432x288 with 1 Axes>"
            ],
            "image/png": "[encoded data removed]"
          },
          "metadata": {
            "needs_background": "light"
          }
        }
      ]
    },
    {
      "cell_type": "code",
      "source": [
        "# Set the random seed\n",
        "tf.random.set_seed(4)"
      ],
      "metadata": {
        "id": "zcuqielwjRsz"
      },
      "execution_count": 81,
      "outputs": []
    },
    {
      "cell_type": "markdown",
      "source": [
        "1.   Create a Model using the Sequential API"
      ],
      "metadata": {
        "id": "GS3RxaaUi7PB"
      }
    },
    {
      "cell_type": "code",
      "source": [
        "model = tf.keras.Sequential([\n",
        "    tf.keras.layers.Dense(1)\n",
        "])"
      ],
      "metadata": {
        "id": "qrzt4kHXi_Fj"
      },
      "execution_count": 82,
      "outputs": []
    },
    {
      "cell_type": "markdown",
      "source": [
        "2. Compile the Model"
      ],
      "metadata": {
        "id": "VdwsZl40jpac"
      }
    },
    {
      "cell_type": "code",
      "source": [
        "model.compile(loss = tf.keras.losses.mae,\n",
        "              optimizer = tf.keras.optimizers.SGD(),\n",
        "              metrics = [\"mae\"])"
      ],
      "metadata": {
        "id": "tCgjm8UYjvQj"
      },
      "execution_count": 83,
      "outputs": []
    },
    {
      "cell_type": "markdown",
      "source": [
        "3. Fit the model"
      ],
      "metadata": {
        "id": "qcjXcez5kMgU"
      }
    },
    {
      "cell_type": "code",
      "source": [
        "model.fit(tf.expand_dims(X, axis = -1), y, epochs = 5)"
      ],
      "metadata": {
        "colab": {
          "base_uri": "https://localhost:8080/"
        },
        "id": "A-HgaYQSkTUW",
        "outputId": "c1718d5d-c8b0-41ca-ea6b-db4e377b9a08"
      },
      "execution_count": 84,
      "outputs": [
        {
          "output_type": "stream",
          "name": "stdout",
          "text": [
            "Epoch 1/5\n",
            "1/1 [==============================] - 0s 356ms/step - loss: 14.3888 - mae: 14.3888\n",
            "Epoch 2/5\n",
            "1/1 [==============================] - 0s 11ms/step - loss: 14.2563 - mae: 14.2563\n",
            "Epoch 3/5\n",
            "1/1 [==============================] - 0s 13ms/step - loss: 14.1238 - mae: 14.1238\n",
            "Epoch 4/5\n",
            "1/1 [==============================] - 0s 11ms/step - loss: 13.9913 - mae: 13.9913\n",
            "Epoch 5/5\n",
            "1/1 [==============================] - 0s 14ms/step - loss: 13.8588 - mae: 13.8588\n"
          ]
        },
        {
          "output_type": "execute_result",
          "data": {
            "text/plain": [
              "<keras.callbacks.History at 0x7f6e8bf24d30>"
            ]
          },
          "metadata": {},
          "execution_count": 84
        }
      ]
    },
    {
      "cell_type": "markdown",
      "source": [
        "Now that the Model is fitted, we can use it to make predictions"
      ],
      "metadata": {
        "id": "p7MLvgtIlIWh"
      }
    },
    {
      "cell_type": "code",
      "source": [
        "model.predict([17.0])"
      ],
      "metadata": {
        "colab": {
          "base_uri": "https://localhost:8080/"
        },
        "id": "oT2ok3avlN2T",
        "outputId": "1506e42c-41e1-493b-fc7b-c5aed85abdac"
      },
      "execution_count": 85,
      "outputs": [
        {
          "output_type": "stream",
          "name": "stdout",
          "text": [
            "1/1 [==============================] - 0s 92ms/step\n"
          ]
        },
        {
          "output_type": "execute_result",
          "data": {
            "text/plain": [
              "array([[-1.2920105]], dtype=float32)"
            ]
          },
          "metadata": {},
          "execution_count": 85
        }
      ]
    },
    {
      "cell_type": "markdown",
      "source": [
        "#### Improving the Model"
      ],
      "metadata": {
        "id": "4Jn4z6DhllTg"
      }
    },
    {
      "cell_type": "markdown",
      "source": [
        "- By increasing the number of laps the model takes through the input data"
      ],
      "metadata": {
        "id": "JgfvLEcmpGjg"
      }
    },
    {
      "cell_type": "code",
      "source": [
        "model = tf.keras.Sequential([\n",
        "    tf.keras.layers.Dense(1)\n",
        "])\n",
        "\n",
        "model.compile(loss = tf.keras.losses.mae,\n",
        "              optimizer = tf.keras.optimizers.SGD(),\n",
        "              metrics = [\"mae\"])\n",
        "\n",
        "model.fit(tf.expand_dims(X, axis = -1), y, epochs = 100)"
      ],
      "metadata": {
        "colab": {
          "base_uri": "https://localhost:8080/"
        },
        "id": "d9IQzi24lSTd",
        "outputId": "385c08b0-fea0-4641-d46d-30cf1be310e4"
      },
      "execution_count": 86,
      "outputs": [
        {
          "output_type": "stream",
          "name": "stdout",
          "text": [
            "Epoch 1/100\n",
            "1/1 [==============================] - 0s 384ms/step - loss: 12.5564 - mae: 12.5564\n",
            "Epoch 2/100\n",
            "1/1 [==============================] - 0s 13ms/step - loss: 12.4239 - mae: 12.4239\n",
            "Epoch 3/100\n",
            "1/1 [==============================] - 0s 14ms/step - loss: 12.2914 - mae: 12.2914\n",
            "Epoch 4/100\n",
            "1/1 [==============================] - 0s 14ms/step - loss: 12.1589 - mae: 12.1589\n",
            "Epoch 5/100\n",
            "1/1 [==============================] - 0s 14ms/step - loss: 12.0264 - mae: 12.0264\n",
            "Epoch 6/100\n",
            "1/1 [==============================] - 0s 11ms/step - loss: 11.8939 - mae: 11.8939\n",
            "Epoch 7/100\n",
            "1/1 [==============================] - 0s 13ms/step - loss: 11.7614 - mae: 11.7614\n",
            "Epoch 8/100\n",
            "1/1 [==============================] - 0s 12ms/step - loss: 11.6289 - mae: 11.6289\n",
            "Epoch 9/100\n",
            "1/1 [==============================] - 0s 12ms/step - loss: 11.4964 - mae: 11.4964\n",
            "Epoch 10/100\n",
            "1/1 [==============================] - 0s 12ms/step - loss: 11.3639 - mae: 11.3639\n",
            "Epoch 11/100\n",
            "1/1 [==============================] - 0s 13ms/step - loss: 11.2314 - mae: 11.2314\n",
            "Epoch 12/100\n",
            "1/1 [==============================] - 0s 12ms/step - loss: 11.0989 - mae: 11.0989\n",
            "Epoch 13/100\n",
            "1/1 [==============================] - 0s 14ms/step - loss: 10.9664 - mae: 10.9664\n",
            "Epoch 14/100\n",
            "1/1 [==============================] - 0s 11ms/step - loss: 10.8339 - mae: 10.8339\n",
            "Epoch 15/100\n",
            "1/1 [==============================] - 0s 10ms/step - loss: 10.7014 - mae: 10.7014\n",
            "Epoch 16/100\n",
            "1/1 [==============================] - 0s 12ms/step - loss: 10.5689 - mae: 10.5689\n",
            "Epoch 17/100\n",
            "1/1 [==============================] - 0s 11ms/step - loss: 10.4364 - mae: 10.4364\n",
            "Epoch 18/100\n",
            "1/1 [==============================] - 0s 13ms/step - loss: 10.3039 - mae: 10.3039\n",
            "Epoch 19/100\n",
            "1/1 [==============================] - 0s 13ms/step - loss: 10.1714 - mae: 10.1714\n",
            "Epoch 20/100\n",
            "1/1 [==============================] - 0s 12ms/step - loss: 10.0389 - mae: 10.0389\n",
            "Epoch 21/100\n",
            "1/1 [==============================] - 0s 11ms/step - loss: 9.9064 - mae: 9.9064\n",
            "Epoch 22/100\n",
            "1/1 [==============================] - 0s 19ms/step - loss: 9.7739 - mae: 9.7739\n",
            "Epoch 23/100\n",
            "1/1 [==============================] - 0s 13ms/step - loss: 9.6414 - mae: 9.6414\n",
            "Epoch 24/100\n",
            "1/1 [==============================] - 0s 12ms/step - loss: 9.5089 - mae: 9.5089\n",
            "Epoch 25/100\n",
            "1/1 [==============================] - 0s 13ms/step - loss: 9.3764 - mae: 9.3764\n",
            "Epoch 26/100\n",
            "1/1 [==============================] - 0s 11ms/step - loss: 9.2439 - mae: 9.2439\n",
            "Epoch 27/100\n",
            "1/1 [==============================] - 0s 11ms/step - loss: 9.1114 - mae: 9.1114\n",
            "Epoch 28/100\n",
            "1/1 [==============================] - 0s 12ms/step - loss: 8.9789 - mae: 8.9789\n",
            "Epoch 29/100\n",
            "1/1 [==============================] - 0s 12ms/step - loss: 8.8464 - mae: 8.8464\n",
            "Epoch 30/100\n",
            "1/1 [==============================] - 0s 16ms/step - loss: 8.7139 - mae: 8.7139\n",
            "Epoch 31/100\n",
            "1/1 [==============================] - 0s 13ms/step - loss: 8.5814 - mae: 8.5814\n",
            "Epoch 32/100\n",
            "1/1 [==============================] - 0s 12ms/step - loss: 8.4489 - mae: 8.4489\n",
            "Epoch 33/100\n",
            "1/1 [==============================] - 0s 13ms/step - loss: 8.3164 - mae: 8.3164\n",
            "Epoch 34/100\n",
            "1/1 [==============================] - 0s 14ms/step - loss: 8.1839 - mae: 8.1839\n",
            "Epoch 35/100\n",
            "1/1 [==============================] - 0s 13ms/step - loss: 8.0514 - mae: 8.0514\n",
            "Epoch 36/100\n",
            "1/1 [==============================] - 0s 13ms/step - loss: 7.9189 - mae: 7.9189\n",
            "Epoch 37/100\n",
            "1/1 [==============================] - 0s 13ms/step - loss: 7.7864 - mae: 7.7864\n",
            "Epoch 38/100\n",
            "1/1 [==============================] - 0s 12ms/step - loss: 7.6539 - mae: 7.6539\n",
            "Epoch 39/100\n",
            "1/1 [==============================] - 0s 12ms/step - loss: 7.5214 - mae: 7.5214\n",
            "Epoch 40/100\n",
            "1/1 [==============================] - 0s 13ms/step - loss: 7.3889 - mae: 7.3889\n",
            "Epoch 41/100\n",
            "1/1 [==============================] - 0s 13ms/step - loss: 7.2564 - mae: 7.2564\n",
            "Epoch 42/100\n",
            "1/1 [==============================] - 0s 18ms/step - loss: 7.1925 - mae: 7.1925\n",
            "Epoch 43/100\n",
            "1/1 [==============================] - 0s 17ms/step - loss: 7.1869 - mae: 7.1869\n",
            "Epoch 44/100\n",
            "1/1 [==============================] - 0s 15ms/step - loss: 7.1813 - mae: 7.1813\n",
            "Epoch 45/100\n",
            "1/1 [==============================] - 0s 16ms/step - loss: 7.1756 - mae: 7.1756\n",
            "Epoch 46/100\n",
            "1/1 [==============================] - 0s 18ms/step - loss: 7.1700 - mae: 7.1700\n",
            "Epoch 47/100\n",
            "1/1 [==============================] - 0s 14ms/step - loss: 7.1644 - mae: 7.1644\n",
            "Epoch 48/100\n",
            "1/1 [==============================] - 0s 16ms/step - loss: 7.1588 - mae: 7.1588\n",
            "Epoch 49/100\n",
            "1/1 [==============================] - 0s 16ms/step - loss: 7.1531 - mae: 7.1531\n",
            "Epoch 50/100\n",
            "1/1 [==============================] - 0s 13ms/step - loss: 7.1475 - mae: 7.1475\n",
            "Epoch 51/100\n",
            "1/1 [==============================] - 0s 11ms/step - loss: 7.1419 - mae: 7.1419\n",
            "Epoch 52/100\n",
            "1/1 [==============================] - 0s 12ms/step - loss: 7.1363 - mae: 7.1363\n",
            "Epoch 53/100\n",
            "1/1 [==============================] - 0s 14ms/step - loss: 7.1306 - mae: 7.1306\n",
            "Epoch 54/100\n",
            "1/1 [==============================] - 0s 11ms/step - loss: 7.1250 - mae: 7.1250\n",
            "Epoch 55/100\n",
            "1/1 [==============================] - 0s 10ms/step - loss: 7.1194 - mae: 7.1194\n",
            "Epoch 56/100\n",
            "1/1 [==============================] - 0s 13ms/step - loss: 7.1138 - mae: 7.1138\n",
            "Epoch 57/100\n",
            "1/1 [==============================] - 0s 11ms/step - loss: 7.1081 - mae: 7.1081\n",
            "Epoch 58/100\n",
            "1/1 [==============================] - 0s 11ms/step - loss: 7.1025 - mae: 7.1025\n",
            "Epoch 59/100\n",
            "1/1 [==============================] - 0s 15ms/step - loss: 7.0969 - mae: 7.0969\n",
            "Epoch 60/100\n",
            "1/1 [==============================] - 0s 10ms/step - loss: 7.0912 - mae: 7.0912\n",
            "Epoch 61/100\n",
            "1/1 [==============================] - 0s 12ms/step - loss: 7.0856 - mae: 7.0856\n",
            "Epoch 62/100\n",
            "1/1 [==============================] - 0s 12ms/step - loss: 7.0800 - mae: 7.0800\n",
            "Epoch 63/100\n",
            "1/1 [==============================] - 0s 13ms/step - loss: 7.0744 - mae: 7.0744\n",
            "Epoch 64/100\n",
            "1/1 [==============================] - 0s 12ms/step - loss: 7.0688 - mae: 7.0688\n",
            "Epoch 65/100\n",
            "1/1 [==============================] - 0s 11ms/step - loss: 7.0631 - mae: 7.0631\n",
            "Epoch 66/100\n",
            "1/1 [==============================] - 0s 11ms/step - loss: 7.0575 - mae: 7.0575\n",
            "Epoch 67/100\n",
            "1/1 [==============================] - 0s 12ms/step - loss: 7.0519 - mae: 7.0519\n",
            "Epoch 68/100\n",
            "1/1 [==============================] - 0s 14ms/step - loss: 7.0463 - mae: 7.0463\n",
            "Epoch 69/100\n",
            "1/1 [==============================] - 0s 12ms/step - loss: 7.0406 - mae: 7.0406\n",
            "Epoch 70/100\n",
            "1/1 [==============================] - 0s 11ms/step - loss: 7.0350 - mae: 7.0350\n",
            "Epoch 71/100\n",
            "1/1 [==============================] - 0s 11ms/step - loss: 7.0294 - mae: 7.0294\n",
            "Epoch 72/100\n",
            "1/1 [==============================] - 0s 11ms/step - loss: 7.0238 - mae: 7.0238\n",
            "Epoch 73/100\n",
            "1/1 [==============================] - 0s 12ms/step - loss: 7.0181 - mae: 7.0181\n",
            "Epoch 74/100\n",
            "1/1 [==============================] - 0s 12ms/step - loss: 7.0125 - mae: 7.0125\n",
            "Epoch 75/100\n",
            "1/1 [==============================] - 0s 13ms/step - loss: 7.0069 - mae: 7.0069\n",
            "Epoch 76/100\n",
            "1/1 [==============================] - 0s 13ms/step - loss: 7.0013 - mae: 7.0013\n",
            "Epoch 77/100\n",
            "1/1 [==============================] - 0s 11ms/step - loss: 6.9956 - mae: 6.9956\n",
            "Epoch 78/100\n",
            "1/1 [==============================] - 0s 11ms/step - loss: 6.9900 - mae: 6.9900\n",
            "Epoch 79/100\n",
            "1/1 [==============================] - 0s 11ms/step - loss: 6.9844 - mae: 6.9844\n",
            "Epoch 80/100\n",
            "1/1 [==============================] - 0s 11ms/step - loss: 6.9788 - mae: 6.9788\n",
            "Epoch 81/100\n",
            "1/1 [==============================] - 0s 11ms/step - loss: 6.9731 - mae: 6.9731\n",
            "Epoch 82/100\n",
            "1/1 [==============================] - 0s 11ms/step - loss: 6.9675 - mae: 6.9675\n",
            "Epoch 83/100\n",
            "1/1 [==============================] - 0s 13ms/step - loss: 6.9619 - mae: 6.9619\n",
            "Epoch 84/100\n",
            "1/1 [==============================] - 0s 13ms/step - loss: 6.9563 - mae: 6.9563\n",
            "Epoch 85/100\n",
            "1/1 [==============================] - 0s 13ms/step - loss: 6.9506 - mae: 6.9506\n",
            "Epoch 86/100\n",
            "1/1 [==============================] - 0s 12ms/step - loss: 6.9450 - mae: 6.9450\n",
            "Epoch 87/100\n",
            "1/1 [==============================] - 0s 11ms/step - loss: 6.9394 - mae: 6.9394\n",
            "Epoch 88/100\n",
            "1/1 [==============================] - 0s 11ms/step - loss: 6.9338 - mae: 6.9338\n",
            "Epoch 89/100\n",
            "1/1 [==============================] - 0s 11ms/step - loss: 6.9281 - mae: 6.9281\n",
            "Epoch 90/100\n",
            "1/1 [==============================] - 0s 12ms/step - loss: 6.9225 - mae: 6.9225\n",
            "Epoch 91/100\n",
            "1/1 [==============================] - 0s 15ms/step - loss: 6.9169 - mae: 6.9169\n",
            "Epoch 92/100\n",
            "1/1 [==============================] - 0s 14ms/step - loss: 6.9113 - mae: 6.9113\n",
            "Epoch 93/100\n",
            "1/1 [==============================] - 0s 17ms/step - loss: 6.9056 - mae: 6.9056\n",
            "Epoch 94/100\n",
            "1/1 [==============================] - 0s 13ms/step - loss: 6.9000 - mae: 6.9000\n",
            "Epoch 95/100\n",
            "1/1 [==============================] - 0s 12ms/step - loss: 6.8944 - mae: 6.8944\n",
            "Epoch 96/100\n",
            "1/1 [==============================] - 0s 10ms/step - loss: 6.8888 - mae: 6.8888\n",
            "Epoch 97/100\n",
            "1/1 [==============================] - 0s 15ms/step - loss: 6.8831 - mae: 6.8831\n",
            "Epoch 98/100\n",
            "1/1 [==============================] - 0s 11ms/step - loss: 6.8775 - mae: 6.8775\n",
            "Epoch 99/100\n",
            "1/1 [==============================] - 0s 10ms/step - loss: 6.8719 - mae: 6.8719\n",
            "Epoch 100/100\n",
            "1/1 [==============================] - 0s 13ms/step - loss: 6.8663 - mae: 6.8663\n"
          ]
        },
        {
          "output_type": "execute_result",
          "data": {
            "text/plain": [
              "<keras.callbacks.History at 0x7f6e8be67550>"
            ]
          },
          "metadata": {},
          "execution_count": 86
        }
      ]
    },
    {
      "cell_type": "code",
      "source": [
        "model.predict([17.0])"
      ],
      "metadata": {
        "colab": {
          "base_uri": "https://localhost:8080/"
        },
        "id": "sJMIcn-6mRFl",
        "outputId": "a6a96472-c976-4e13-fe09-718dc864effc"
      },
      "execution_count": 87,
      "outputs": [
        {
          "output_type": "stream",
          "name": "stdout",
          "text": [
            "1/1 [==============================] - 0s 75ms/step\n"
          ]
        },
        {
          "output_type": "execute_result",
          "data": {
            "text/plain": [
              "array([[29.830902]], dtype=float32)"
            ]
          },
          "metadata": {},
          "execution_count": 87
        }
      ]
    },
    {
      "cell_type": "markdown",
      "source": [
        "- By Adding a Hidden Layer to the model"
      ],
      "metadata": {
        "id": "kbwLYkGaqT_t"
      }
    },
    {
      "cell_type": "code",
      "source": [
        "model = tf.keras.Sequential([\n",
        "    tf.keras.layers.Dense(100, activation = 'relu'),\n",
        "    tf.keras.layers.Dense(1)\n",
        "])\n",
        "\n",
        "model.compile(loss = tf.keras.losses.mae,\n",
        "              optimizer = tf.keras.optimizers.SGD(),\n",
        "              metrics = ['mae'])\n",
        "\n",
        "model.fit(tf.expand_dims(X, axis = -1), y, epochs = 100)"
      ],
      "metadata": {
        "colab": {
          "base_uri": "https://localhost:8080/"
        },
        "id": "VzPCgcO3o6xS",
        "outputId": "6453e8ec-ff4b-4c9a-a8ac-398906b4064c"
      },
      "execution_count": 88,
      "outputs": [
        {
          "output_type": "stream",
          "name": "stdout",
          "text": [
            "Epoch 1/100\n",
            "1/1 [==============================] - 1s 1s/step - loss: 13.0510 - mae: 13.0510\n",
            "Epoch 2/100\n",
            "1/1 [==============================] - 0s 16ms/step - loss: 12.5034 - mae: 12.5034\n",
            "Epoch 3/100\n",
            "1/1 [==============================] - 0s 14ms/step - loss: 11.9708 - mae: 11.9708\n",
            "Epoch 4/100\n",
            "1/1 [==============================] - 0s 15ms/step - loss: 11.4272 - mae: 11.4272\n",
            "Epoch 5/100\n",
            "1/1 [==============================] - 0s 12ms/step - loss: 10.8655 - mae: 10.8655\n",
            "Epoch 6/100\n",
            "1/1 [==============================] - 0s 12ms/step - loss: 10.2866 - mae: 10.2866\n",
            "Epoch 7/100\n",
            "1/1 [==============================] - 0s 12ms/step - loss: 9.6851 - mae: 9.6851\n",
            "Epoch 8/100\n",
            "1/1 [==============================] - 0s 13ms/step - loss: 9.0613 - mae: 9.0613\n",
            "Epoch 9/100\n",
            "1/1 [==============================] - 0s 12ms/step - loss: 8.4002 - mae: 8.4002\n",
            "Epoch 10/100\n",
            "1/1 [==============================] - 0s 12ms/step - loss: 7.7269 - mae: 7.7269\n",
            "Epoch 11/100\n",
            "1/1 [==============================] - 0s 12ms/step - loss: 7.0349 - mae: 7.0349\n",
            "Epoch 12/100\n",
            "1/1 [==============================] - 0s 14ms/step - loss: 6.2927 - mae: 6.2927\n",
            "Epoch 13/100\n",
            "1/1 [==============================] - 0s 11ms/step - loss: 5.4964 - mae: 5.4964\n",
            "Epoch 14/100\n",
            "1/1 [==============================] - 0s 11ms/step - loss: 4.6394 - mae: 4.6394\n",
            "Epoch 15/100\n",
            "1/1 [==============================] - 0s 12ms/step - loss: 4.0521 - mae: 4.0521\n",
            "Epoch 16/100\n",
            "1/1 [==============================] - 0s 11ms/step - loss: 3.9564 - mae: 3.9564\n",
            "Epoch 17/100\n",
            "1/1 [==============================] - 0s 11ms/step - loss: 3.9354 - mae: 3.9354\n",
            "Epoch 18/100\n",
            "1/1 [==============================] - 0s 11ms/step - loss: 3.9310 - mae: 3.9310\n",
            "Epoch 19/100\n",
            "1/1 [==============================] - 0s 11ms/step - loss: 3.9419 - mae: 3.9419\n",
            "Epoch 20/100\n",
            "1/1 [==============================] - 0s 10ms/step - loss: 3.9055 - mae: 3.9055\n",
            "Epoch 21/100\n",
            "1/1 [==============================] - 0s 13ms/step - loss: 3.9485 - mae: 3.9485\n",
            "Epoch 22/100\n",
            "1/1 [==============================] - 0s 12ms/step - loss: 3.8886 - mae: 3.8886\n",
            "Epoch 23/100\n",
            "1/1 [==============================] - 0s 12ms/step - loss: 3.9590 - mae: 3.9590\n",
            "Epoch 24/100\n",
            "1/1 [==============================] - 0s 12ms/step - loss: 3.8971 - mae: 3.8971\n",
            "Epoch 25/100\n",
            "1/1 [==============================] - 0s 11ms/step - loss: 3.9335 - mae: 3.9335\n",
            "Epoch 26/100\n",
            "1/1 [==============================] - 0s 11ms/step - loss: 3.9036 - mae: 3.9036\n",
            "Epoch 27/100\n",
            "1/1 [==============================] - 0s 12ms/step - loss: 3.9079 - mae: 3.9079\n",
            "Epoch 28/100\n",
            "1/1 [==============================] - 0s 11ms/step - loss: 3.9103 - mae: 3.9103\n",
            "Epoch 29/100\n",
            "1/1 [==============================] - 0s 11ms/step - loss: 3.8821 - mae: 3.8821\n",
            "Epoch 30/100\n",
            "1/1 [==============================] - 0s 11ms/step - loss: 3.9229 - mae: 3.9229\n",
            "Epoch 31/100\n",
            "1/1 [==============================] - 0s 12ms/step - loss: 3.8636 - mae: 3.8636\n",
            "Epoch 32/100\n",
            "1/1 [==============================] - 0s 10ms/step - loss: 3.9320 - mae: 3.9320\n",
            "Epoch 33/100\n",
            "1/1 [==============================] - 0s 10ms/step - loss: 3.8662 - mae: 3.8662\n",
            "Epoch 34/100\n",
            "1/1 [==============================] - 0s 15ms/step - loss: 3.9094 - mae: 3.9094\n",
            "Epoch 35/100\n",
            "1/1 [==============================] - 0s 13ms/step - loss: 3.8730 - mae: 3.8730\n",
            "Epoch 36/100\n",
            "1/1 [==============================] - 0s 12ms/step - loss: 3.8835 - mae: 3.8835\n",
            "Epoch 37/100\n",
            "1/1 [==============================] - 0s 12ms/step - loss: 3.8799 - mae: 3.8799\n",
            "Epoch 38/100\n",
            "1/1 [==============================] - 0s 12ms/step - loss: 3.8634 - mae: 3.8634\n",
            "Epoch 39/100\n",
            "1/1 [==============================] - 0s 12ms/step - loss: 3.8949 - mae: 3.8949\n",
            "Epoch 40/100\n",
            "1/1 [==============================] - 0s 14ms/step - loss: 3.8387 - mae: 3.8387\n",
            "Epoch 41/100\n",
            "1/1 [==============================] - 0s 15ms/step - loss: 3.9020 - mae: 3.9020\n",
            "Epoch 42/100\n",
            "1/1 [==============================] - 0s 17ms/step - loss: 3.8365 - mae: 3.8365\n",
            "Epoch 43/100\n",
            "1/1 [==============================] - 0s 15ms/step - loss: 3.8840 - mae: 3.8840\n",
            "Epoch 44/100\n",
            "1/1 [==============================] - 0s 15ms/step - loss: 3.8435 - mae: 3.8435\n",
            "Epoch 45/100\n",
            "1/1 [==============================] - 0s 14ms/step - loss: 3.8579 - mae: 3.8579\n",
            "Epoch 46/100\n",
            "1/1 [==============================] - 0s 12ms/step - loss: 3.8557 - mae: 3.8557\n",
            "Epoch 47/100\n",
            "1/1 [==============================] - 0s 11ms/step - loss: 3.8391 - mae: 3.8391\n",
            "Epoch 48/100\n",
            "1/1 [==============================] - 0s 11ms/step - loss: 3.8658 - mae: 3.8658\n",
            "Epoch 49/100\n",
            "1/1 [==============================] - 0s 11ms/step - loss: 3.8126 - mae: 3.8126\n",
            "Epoch 50/100\n",
            "1/1 [==============================] - 0s 12ms/step - loss: 3.8731 - mae: 3.8731\n",
            "Epoch 51/100\n",
            "1/1 [==============================] - 0s 12ms/step - loss: 3.8080 - mae: 3.8080\n",
            "Epoch 52/100\n",
            "1/1 [==============================] - 0s 17ms/step - loss: 3.8575 - mae: 3.8575\n",
            "Epoch 53/100\n",
            "1/1 [==============================] - 0s 12ms/step - loss: 3.8153 - mae: 3.8153\n",
            "Epoch 54/100\n",
            "1/1 [==============================] - 0s 13ms/step - loss: 3.8355 - mae: 3.8355\n",
            "Epoch 55/100\n",
            "1/1 [==============================] - 0s 12ms/step - loss: 3.8306 - mae: 3.8306\n",
            "Epoch 56/100\n",
            "1/1 [==============================] - 0s 12ms/step - loss: 3.8119 - mae: 3.8119\n",
            "Epoch 57/100\n",
            "1/1 [==============================] - 0s 16ms/step - loss: 3.8379 - mae: 3.8379\n",
            "Epoch 58/100\n",
            "1/1 [==============================] - 0s 13ms/step - loss: 3.7851 - mae: 3.7851\n",
            "Epoch 59/100\n",
            "1/1 [==============================] - 0s 13ms/step - loss: 3.8454 - mae: 3.8454\n",
            "Epoch 60/100\n",
            "1/1 [==============================] - 0s 15ms/step - loss: 3.7807 - mae: 3.7807\n",
            "Epoch 61/100\n",
            "1/1 [==============================] - 0s 19ms/step - loss: 3.8298 - mae: 3.8298\n",
            "Epoch 62/100\n",
            "1/1 [==============================] - 0s 20ms/step - loss: 3.7907 - mae: 3.7907\n",
            "Epoch 63/100\n",
            "1/1 [==============================] - 0s 12ms/step - loss: 3.8105 - mae: 3.8105\n",
            "Epoch 64/100\n",
            "1/1 [==============================] - 0s 16ms/step - loss: 3.8036 - mae: 3.8036\n",
            "Epoch 65/100\n",
            "1/1 [==============================] - 0s 18ms/step - loss: 3.7836 - mae: 3.7836\n",
            "Epoch 66/100\n",
            "1/1 [==============================] - 0s 12ms/step - loss: 3.8112 - mae: 3.8112\n",
            "Epoch 67/100\n",
            "1/1 [==============================] - 0s 12ms/step - loss: 3.7565 - mae: 3.7565\n",
            "Epoch 68/100\n",
            "1/1 [==============================] - 0s 11ms/step - loss: 3.8190 - mae: 3.8190\n",
            "Epoch 69/100\n",
            "1/1 [==============================] - 0s 15ms/step - loss: 3.7545 - mae: 3.7545\n",
            "Epoch 70/100\n",
            "1/1 [==============================] - 0s 14ms/step - loss: 3.8019 - mae: 3.8019\n",
            "Epoch 71/100\n",
            "1/1 [==============================] - 0s 15ms/step - loss: 3.7701 - mae: 3.7701\n",
            "Epoch 72/100\n",
            "1/1 [==============================] - 0s 13ms/step - loss: 3.7811 - mae: 3.7811\n",
            "Epoch 73/100\n",
            "1/1 [==============================] - 0s 13ms/step - loss: 3.7778 - mae: 3.7778\n",
            "Epoch 74/100\n",
            "1/1 [==============================] - 0s 13ms/step - loss: 3.7539 - mae: 3.7539\n",
            "Epoch 75/100\n",
            "1/1 [==============================] - 0s 15ms/step - loss: 3.7855 - mae: 3.7855\n",
            "Epoch 76/100\n",
            "1/1 [==============================] - 0s 22ms/step - loss: 3.7266 - mae: 3.7266\n",
            "Epoch 77/100\n",
            "1/1 [==============================] - 0s 20ms/step - loss: 3.7936 - mae: 3.7936\n",
            "Epoch 78/100\n",
            "1/1 [==============================] - 0s 14ms/step - loss: 3.7294 - mae: 3.7294\n",
            "Epoch 79/100\n",
            "1/1 [==============================] - 0s 15ms/step - loss: 3.7770 - mae: 3.7770\n",
            "Epoch 80/100\n",
            "1/1 [==============================] - 0s 13ms/step - loss: 3.7451 - mae: 3.7451\n",
            "Epoch 81/100\n",
            "1/1 [==============================] - 0s 12ms/step - loss: 3.7505 - mae: 3.7505\n",
            "Epoch 82/100\n",
            "1/1 [==============================] - 0s 13ms/step - loss: 3.7530 - mae: 3.7530\n",
            "Epoch 83/100\n",
            "1/1 [==============================] - 0s 15ms/step - loss: 3.7229 - mae: 3.7229\n",
            "Epoch 84/100\n",
            "1/1 [==============================] - 0s 12ms/step - loss: 3.7610 - mae: 3.7610\n",
            "Epoch 85/100\n",
            "1/1 [==============================] - 0s 13ms/step - loss: 3.6973 - mae: 3.6973\n",
            "Epoch 86/100\n",
            "1/1 [==============================] - 0s 18ms/step - loss: 3.7663 - mae: 3.7663\n",
            "Epoch 87/100\n",
            "1/1 [==============================] - 0s 15ms/step - loss: 3.7094 - mae: 3.7094\n",
            "Epoch 88/100\n",
            "1/1 [==============================] - 0s 13ms/step - loss: 3.7462 - mae: 3.7462\n",
            "Epoch 89/100\n",
            "1/1 [==============================] - 0s 11ms/step - loss: 3.7211 - mae: 3.7211\n",
            "Epoch 90/100\n",
            "1/1 [==============================] - 0s 16ms/step - loss: 3.7185 - mae: 3.7185\n",
            "Epoch 91/100\n",
            "1/1 [==============================] - 0s 14ms/step - loss: 3.7292 - mae: 3.7292\n",
            "Epoch 92/100\n",
            "1/1 [==============================] - 0s 13ms/step - loss: 3.6906 - mae: 3.6906\n",
            "Epoch 93/100\n",
            "1/1 [==============================] - 0s 16ms/step - loss: 3.7375 - mae: 3.7375\n",
            "Epoch 94/100\n",
            "1/1 [==============================] - 0s 11ms/step - loss: 3.6740 - mae: 3.6740\n",
            "Epoch 95/100\n",
            "1/1 [==============================] - 0s 11ms/step - loss: 3.7360 - mae: 3.7360\n",
            "Epoch 96/100\n",
            "1/1 [==============================] - 0s 15ms/step - loss: 3.6900 - mae: 3.6900\n",
            "Epoch 97/100\n",
            "1/1 [==============================] - 0s 15ms/step - loss: 3.7132 - mae: 3.7132\n",
            "Epoch 98/100\n",
            "1/1 [==============================] - 0s 10ms/step - loss: 3.6981 - mae: 3.6981\n",
            "Epoch 99/100\n",
            "1/1 [==============================] - 0s 15ms/step - loss: 3.6851 - mae: 3.6851\n",
            "Epoch 100/100\n",
            "1/1 [==============================] - 0s 13ms/step - loss: 3.7064 - mae: 3.7064\n"
          ]
        },
        {
          "output_type": "execute_result",
          "data": {
            "text/plain": [
              "<keras.callbacks.History at 0x7f6e8bf23e80>"
            ]
          },
          "metadata": {},
          "execution_count": 88
        }
      ]
    },
    {
      "cell_type": "code",
      "source": [
        "model.predict([17.0])"
      ],
      "metadata": {
        "colab": {
          "base_uri": "https://localhost:8080/"
        },
        "id": "nV-rAuGQrJgj",
        "outputId": "b93c3b09-a58f-47be-b5b2-46b0a6e25f25"
      },
      "execution_count": 89,
      "outputs": [
        {
          "output_type": "stream",
          "name": "stdout",
          "text": [
            "1/1 [==============================] - 0s 132ms/step\n"
          ]
        },
        {
          "output_type": "execute_result",
          "data": {
            "text/plain": [
              "array([[31.815845]], dtype=float32)"
            ]
          },
          "metadata": {},
          "execution_count": 89
        }
      ]
    },
    {
      "cell_type": "markdown",
      "source": [
        "- By Increasing the number of hidden units"
      ],
      "metadata": {
        "id": "0Cvr85YbtJFb"
      }
    },
    {
      "cell_type": "code",
      "source": [
        "model = tf.keras.Sequential([\n",
        "    tf.keras.layers.Dense(200, activation = 'relu'),\n",
        "    tf.keras.layers.Dense(1)\n",
        "])\n",
        "\n",
        "model.compile(loss = tf.keras.losses.mae,\n",
        "              optimizer = tf.keras.optimizers.SGD(),\n",
        "              metrics = ['mae'])\n",
        "\n",
        "model.fit(tf.expand_dims(X, axis = -1), y, epochs = 100)"
      ],
      "metadata": {
        "colab": {
          "base_uri": "https://localhost:8080/"
        },
        "id": "m7Dpd_CotJmg",
        "outputId": "364e19e5-7be8-41bd-c774-0948dc17f19f"
      },
      "execution_count": 90,
      "outputs": [
        {
          "output_type": "stream",
          "name": "stdout",
          "text": [
            "Epoch 1/100\n",
            "1/1 [==============================] - 1s 760ms/step - loss: 13.0265 - mae: 13.0265\n",
            "Epoch 2/100\n",
            "1/1 [==============================] - 0s 15ms/step - loss: 12.4234 - mae: 12.4234\n",
            "Epoch 3/100\n",
            "1/1 [==============================] - 0s 16ms/step - loss: 11.8144 - mae: 11.8144\n",
            "Epoch 4/100\n",
            "1/1 [==============================] - 0s 15ms/step - loss: 11.2002 - mae: 11.2002\n",
            "Epoch 5/100\n",
            "1/1 [==============================] - 0s 15ms/step - loss: 10.5713 - mae: 10.5713\n",
            "Epoch 6/100\n",
            "1/1 [==============================] - 0s 15ms/step - loss: 9.9240 - mae: 9.9240\n",
            "Epoch 7/100\n",
            "1/1 [==============================] - 0s 14ms/step - loss: 9.2494 - mae: 9.2494\n",
            "Epoch 8/100\n",
            "1/1 [==============================] - 0s 12ms/step - loss: 8.5402 - mae: 8.5402\n",
            "Epoch 9/100\n",
            "1/1 [==============================] - 0s 21ms/step - loss: 7.7962 - mae: 7.7962\n",
            "Epoch 10/100\n",
            "1/1 [==============================] - 0s 16ms/step - loss: 7.0075 - mae: 7.0075\n",
            "Epoch 11/100\n",
            "1/1 [==============================] - 0s 13ms/step - loss: 6.1641 - mae: 6.1641\n",
            "Epoch 12/100\n",
            "1/1 [==============================] - 0s 13ms/step - loss: 5.2872 - mae: 5.2872\n",
            "Epoch 13/100\n",
            "1/1 [==============================] - 0s 12ms/step - loss: 4.3589 - mae: 4.3589\n",
            "Epoch 14/100\n",
            "1/1 [==============================] - 0s 14ms/step - loss: 3.9415 - mae: 3.9415\n",
            "Epoch 15/100\n",
            "1/1 [==============================] - 0s 12ms/step - loss: 3.9598 - mae: 3.9598\n",
            "Epoch 16/100\n",
            "1/1 [==============================] - 0s 18ms/step - loss: 3.9156 - mae: 3.9156\n",
            "Epoch 17/100\n",
            "1/1 [==============================] - 0s 16ms/step - loss: 3.9735 - mae: 3.9735\n",
            "Epoch 18/100\n",
            "1/1 [==============================] - 0s 15ms/step - loss: 3.9053 - mae: 3.9053\n",
            "Epoch 19/100\n",
            "1/1 [==============================] - 0s 14ms/step - loss: 3.9726 - mae: 3.9726\n",
            "Epoch 20/100\n",
            "1/1 [==============================] - 0s 12ms/step - loss: 3.9125 - mae: 3.9125\n",
            "Epoch 21/100\n",
            "1/1 [==============================] - 0s 18ms/step - loss: 3.9467 - mae: 3.9467\n",
            "Epoch 22/100\n",
            "1/1 [==============================] - 0s 18ms/step - loss: 3.9198 - mae: 3.9198\n",
            "Epoch 23/100\n",
            "1/1 [==============================] - 0s 16ms/step - loss: 3.9207 - mae: 3.9207\n",
            "Epoch 24/100\n",
            "1/1 [==============================] - 0s 24ms/step - loss: 3.9272 - mae: 3.9272\n",
            "Epoch 25/100\n",
            "1/1 [==============================] - 0s 17ms/step - loss: 3.8991 - mae: 3.8991\n",
            "Epoch 26/100\n",
            "1/1 [==============================] - 0s 16ms/step - loss: 3.9425 - mae: 3.9425\n",
            "Epoch 27/100\n",
            "1/1 [==============================] - 0s 21ms/step - loss: 3.8752 - mae: 3.8752\n",
            "Epoch 28/100\n",
            "1/1 [==============================] - 0s 19ms/step - loss: 3.9501 - mae: 3.9501\n",
            "Epoch 29/100\n",
            "1/1 [==============================] - 0s 21ms/step - loss: 3.8807 - mae: 3.8807\n",
            "Epoch 30/100\n",
            "1/1 [==============================] - 0s 19ms/step - loss: 3.9248 - mae: 3.9248\n",
            "Epoch 31/100\n",
            "1/1 [==============================] - 0s 15ms/step - loss: 3.8882 - mae: 3.8882\n",
            "Epoch 32/100\n",
            "1/1 [==============================] - 0s 20ms/step - loss: 3.8986 - mae: 3.8986\n",
            "Epoch 33/100\n",
            "1/1 [==============================] - 0s 13ms/step - loss: 3.8979 - mae: 3.8979\n",
            "Epoch 34/100\n",
            "1/1 [==============================] - 0s 13ms/step - loss: 3.8792 - mae: 3.8792\n",
            "Epoch 35/100\n",
            "1/1 [==============================] - 0s 11ms/step - loss: 3.9112 - mae: 3.9112\n",
            "Epoch 36/100\n",
            "1/1 [==============================] - 0s 11ms/step - loss: 3.8526 - mae: 3.8526\n",
            "Epoch 37/100\n",
            "1/1 [==============================] - 0s 14ms/step - loss: 3.9190 - mae: 3.9190\n",
            "Epoch 38/100\n",
            "1/1 [==============================] - 0s 15ms/step - loss: 3.8500 - mae: 3.8500\n",
            "Epoch 39/100\n",
            "1/1 [==============================] - 0s 15ms/step - loss: 3.9017 - mae: 3.9017\n",
            "Epoch 40/100\n",
            "1/1 [==============================] - 0s 13ms/step - loss: 3.8578 - mae: 3.8578\n",
            "Epoch 41/100\n",
            "1/1 [==============================] - 0s 13ms/step - loss: 3.8753 - mae: 3.8753\n",
            "Epoch 42/100\n",
            "1/1 [==============================] - 0s 15ms/step - loss: 3.8733 - mae: 3.8733\n",
            "Epoch 43/100\n",
            "1/1 [==============================] - 0s 23ms/step - loss: 3.8555 - mae: 3.8555\n",
            "Epoch 44/100\n",
            "1/1 [==============================] - 0s 18ms/step - loss: 3.8812 - mae: 3.8812\n",
            "Epoch 45/100\n",
            "1/1 [==============================] - 0s 12ms/step - loss: 3.8286 - mae: 3.8286\n",
            "Epoch 46/100\n",
            "1/1 [==============================] - 0s 12ms/step - loss: 3.8892 - mae: 3.8892\n",
            "Epoch 47/100\n",
            "1/1 [==============================] - 0s 15ms/step - loss: 3.8206 - mae: 3.8206\n",
            "Epoch 48/100\n",
            "1/1 [==============================] - 0s 12ms/step - loss: 3.8773 - mae: 3.8773\n",
            "Epoch 49/100\n",
            "1/1 [==============================] - 0s 16ms/step - loss: 3.8285 - mae: 3.8285\n",
            "Epoch 50/100\n",
            "1/1 [==============================] - 0s 18ms/step - loss: 3.8554 - mae: 3.8554\n",
            "Epoch 51/100\n",
            "1/1 [==============================] - 0s 13ms/step - loss: 3.8442 - mae: 3.8442\n",
            "Epoch 52/100\n",
            "1/1 [==============================] - 0s 16ms/step - loss: 3.8306 - mae: 3.8306\n",
            "Epoch 53/100\n",
            "1/1 [==============================] - 0s 12ms/step - loss: 3.8522 - mae: 3.8522\n",
            "Epoch 54/100\n",
            "1/1 [==============================] - 0s 11ms/step - loss: 3.8033 - mae: 3.8033\n",
            "Epoch 55/100\n",
            "1/1 [==============================] - 0s 11ms/step - loss: 3.8604 - mae: 3.8604\n",
            "Epoch 56/100\n",
            "1/1 [==============================] - 0s 13ms/step - loss: 3.7922 - mae: 3.7922\n",
            "Epoch 57/100\n",
            "1/1 [==============================] - 0s 13ms/step - loss: 3.8517 - mae: 3.8517\n",
            "Epoch 58/100\n",
            "1/1 [==============================] - 0s 10ms/step - loss: 3.8024 - mae: 3.8024\n",
            "Epoch 59/100\n",
            "1/1 [==============================] - 0s 10ms/step - loss: 3.8316 - mae: 3.8316\n",
            "Epoch 60/100\n",
            "1/1 [==============================] - 0s 20ms/step - loss: 3.8161 - mae: 3.8161\n",
            "Epoch 61/100\n",
            "1/1 [==============================] - 0s 16ms/step - loss: 3.8043 - mae: 3.8043\n",
            "Epoch 62/100\n",
            "1/1 [==============================] - 0s 12ms/step - loss: 3.8244 - mae: 3.8244\n",
            "Epoch 63/100\n",
            "1/1 [==============================] - 0s 11ms/step - loss: 3.7768 - mae: 3.7768\n",
            "Epoch 64/100\n",
            "1/1 [==============================] - 0s 10ms/step - loss: 3.8328 - mae: 3.8328\n",
            "Epoch 65/100\n",
            "1/1 [==============================] - 0s 11ms/step - loss: 3.7648 - mae: 3.7648\n",
            "Epoch 66/100\n",
            "1/1 [==============================] - 0s 11ms/step - loss: 3.8247 - mae: 3.8247\n",
            "Epoch 67/100\n",
            "1/1 [==============================] - 0s 13ms/step - loss: 3.7800 - mae: 3.7800\n",
            "Epoch 68/100\n",
            "1/1 [==============================] - 0s 13ms/step - loss: 3.8044 - mae: 3.8044\n",
            "Epoch 69/100\n",
            "1/1 [==============================] - 0s 11ms/step - loss: 3.7892 - mae: 3.7892\n",
            "Epoch 70/100\n",
            "1/1 [==============================] - 0s 12ms/step - loss: 3.7767 - mae: 3.7767\n",
            "Epoch 71/100\n",
            "1/1 [==============================] - 0s 12ms/step - loss: 3.7976 - mae: 3.7976\n",
            "Epoch 72/100\n",
            "1/1 [==============================] - 0s 11ms/step - loss: 3.7489 - mae: 3.7489\n",
            "Epoch 73/100\n",
            "1/1 [==============================] - 0s 13ms/step - loss: 3.8062 - mae: 3.8062\n",
            "Epoch 74/100\n",
            "1/1 [==============================] - 0s 14ms/step - loss: 3.7385 - mae: 3.7385\n",
            "Epoch 75/100\n",
            "1/1 [==============================] - 0s 17ms/step - loss: 3.8012 - mae: 3.8012\n",
            "Epoch 76/100\n",
            "1/1 [==============================] - 0s 20ms/step - loss: 3.7547 - mae: 3.7547\n",
            "Epoch 77/100\n",
            "1/1 [==============================] - 0s 12ms/step - loss: 3.7757 - mae: 3.7757\n",
            "Epoch 78/100\n",
            "1/1 [==============================] - 0s 19ms/step - loss: 3.7632 - mae: 3.7632\n",
            "Epoch 79/100\n",
            "1/1 [==============================] - 0s 19ms/step - loss: 3.7477 - mae: 3.7477\n",
            "Epoch 80/100\n",
            "1/1 [==============================] - 0s 15ms/step - loss: 3.7719 - mae: 3.7719\n",
            "Epoch 81/100\n",
            "1/1 [==============================] - 0s 13ms/step - loss: 3.7196 - mae: 3.7196\n",
            "Epoch 82/100\n",
            "1/1 [==============================] - 0s 14ms/step - loss: 3.7807 - mae: 3.7807\n",
            "Epoch 83/100\n",
            "1/1 [==============================] - 0s 16ms/step - loss: 3.7151 - mae: 3.7151\n",
            "Epoch 84/100\n",
            "1/1 [==============================] - 0s 12ms/step - loss: 3.7739 - mae: 3.7739\n",
            "Epoch 85/100\n",
            "1/1 [==============================] - 0s 12ms/step - loss: 3.7295 - mae: 3.7295\n",
            "Epoch 86/100\n",
            "1/1 [==============================] - 0s 14ms/step - loss: 3.7457 - mae: 3.7457\n",
            "Epoch 87/100\n",
            "1/1 [==============================] - 0s 13ms/step - loss: 3.7383 - mae: 3.7383\n",
            "Epoch 88/100\n",
            "1/1 [==============================] - 0s 13ms/step - loss: 3.7174 - mae: 3.7174\n",
            "Epoch 89/100\n",
            "1/1 [==============================] - 0s 11ms/step - loss: 3.7472 - mae: 3.7472\n",
            "Epoch 90/100\n",
            "1/1 [==============================] - 0s 12ms/step - loss: 3.6890 - mae: 3.6890\n",
            "Epoch 91/100\n",
            "1/1 [==============================] - 0s 11ms/step - loss: 3.7562 - mae: 3.7562\n",
            "Epoch 92/100\n",
            "1/1 [==============================] - 0s 11ms/step - loss: 3.6953 - mae: 3.6953\n",
            "Epoch 93/100\n",
            "1/1 [==============================] - 0s 12ms/step - loss: 3.7429 - mae: 3.7429\n",
            "Epoch 94/100\n",
            "1/1 [==============================] - 0s 15ms/step - loss: 3.7054 - mae: 3.7054\n",
            "Epoch 95/100\n",
            "1/1 [==============================] - 0s 18ms/step - loss: 3.7145 - mae: 3.7145\n",
            "Epoch 96/100\n",
            "1/1 [==============================] - 0s 19ms/step - loss: 3.7143 - mae: 3.7143\n",
            "Epoch 97/100\n",
            "1/1 [==============================] - 0s 12ms/step - loss: 3.6858 - mae: 3.6858\n",
            "Epoch 98/100\n",
            "1/1 [==============================] - 0s 18ms/step - loss: 3.7234 - mae: 3.7234\n",
            "Epoch 99/100\n",
            "1/1 [==============================] - 0s 16ms/step - loss: 3.6572 - mae: 3.6572\n",
            "Epoch 100/100\n",
            "1/1 [==============================] - 0s 17ms/step - loss: 3.7359 - mae: 3.7359\n"
          ]
        },
        {
          "output_type": "execute_result",
          "data": {
            "text/plain": [
              "<keras.callbacks.History at 0x7f6e9a47f1c0>"
            ]
          },
          "metadata": {},
          "execution_count": 90
        }
      ]
    },
    {
      "cell_type": "code",
      "source": [
        "model.predict([17.0])"
      ],
      "metadata": {
        "colab": {
          "base_uri": "https://localhost:8080/"
        },
        "id": "_JHXURCLtZdZ",
        "outputId": "e5f5bc5d-61d9-40d1-ac50-7a3f618292a2"
      },
      "execution_count": 91,
      "outputs": [
        {
          "output_type": "stream",
          "name": "stdout",
          "text": [
            "1/1 [==============================] - 0s 84ms/step\n"
          ]
        },
        {
          "output_type": "execute_result",
          "data": {
            "text/plain": [
              "array([[32.136475]], dtype=float32)"
            ]
          },
          "metadata": {},
          "execution_count": 91
        }
      ]
    },
    {
      "cell_type": "markdown",
      "source": [
        "- By Changing the Activation Functions"
      ],
      "metadata": {
        "id": "U3PQ6jKurMcD"
      }
    },
    {
      "cell_type": "code",
      "source": [
        "model = tf.keras.Sequential([\n",
        "    tf.keras.layers.Dense(100, activation = None),\n",
        "    tf.keras.layers.Dense(1)\n",
        "])\n",
        "\n",
        "model.compile(loss = tf.keras.losses.mae,\n",
        "              optimizer = tf.keras.optimizers.SGD(),\n",
        "              metrics = ['mae'])\n",
        "\n",
        "model.fit(tf.expand_dims(X, axis = -1), y, epochs = 100)"
      ],
      "metadata": {
        "colab": {
          "base_uri": "https://localhost:8080/"
        },
        "id": "xnxSYt7LsO01",
        "outputId": "192431b5-eda1-4de1-8e65-543bc6bcb553"
      },
      "execution_count": 92,
      "outputs": [
        {
          "output_type": "stream",
          "name": "stdout",
          "text": [
            "Epoch 1/100\n",
            "1/1 [==============================] - 0s 477ms/step - loss: 13.0602 - mae: 13.0602\n",
            "Epoch 2/100\n",
            "1/1 [==============================] - 0s 10ms/step - loss: 12.5821 - mae: 12.5821\n",
            "Epoch 3/100\n",
            "1/1 [==============================] - 0s 14ms/step - loss: 12.1005 - mae: 12.1005\n",
            "Epoch 4/100\n",
            "1/1 [==============================] - 0s 14ms/step - loss: 11.6128 - mae: 11.6128\n",
            "Epoch 5/100\n",
            "1/1 [==============================] - 0s 12ms/step - loss: 11.1166 - mae: 11.1166\n",
            "Epoch 6/100\n",
            "1/1 [==============================] - 0s 11ms/step - loss: 10.6092 - mae: 10.6092\n",
            "Epoch 7/100\n",
            "1/1 [==============================] - 0s 11ms/step - loss: 10.0881 - mae: 10.0881\n",
            "Epoch 8/100\n",
            "1/1 [==============================] - 0s 11ms/step - loss: 9.5506 - mae: 9.5506\n",
            "Epoch 9/100\n",
            "1/1 [==============================] - 0s 16ms/step - loss: 8.9939 - mae: 8.9939\n",
            "Epoch 10/100\n",
            "1/1 [==============================] - 0s 11ms/step - loss: 8.4152 - mae: 8.4152\n",
            "Epoch 11/100\n",
            "1/1 [==============================] - 0s 11ms/step - loss: 7.8116 - mae: 7.8116\n",
            "Epoch 12/100\n",
            "1/1 [==============================] - 0s 12ms/step - loss: 7.2274 - mae: 7.2274\n",
            "Epoch 13/100\n",
            "1/1 [==============================] - 0s 12ms/step - loss: 7.2071 - mae: 7.2071\n",
            "Epoch 14/100\n",
            "1/1 [==============================] - 0s 11ms/step - loss: 7.1867 - mae: 7.1867\n",
            "Epoch 15/100\n",
            "1/1 [==============================] - 0s 12ms/step - loss: 7.1662 - mae: 7.1662\n",
            "Epoch 16/100\n",
            "1/1 [==============================] - 0s 15ms/step - loss: 7.1457 - mae: 7.1457\n",
            "Epoch 17/100\n",
            "1/1 [==============================] - 0s 13ms/step - loss: 7.1251 - mae: 7.1251\n",
            "Epoch 18/100\n",
            "1/1 [==============================] - 0s 17ms/step - loss: 7.1045 - mae: 7.1045\n",
            "Epoch 19/100\n",
            "1/1 [==============================] - 0s 12ms/step - loss: 7.0838 - mae: 7.0838\n",
            "Epoch 20/100\n",
            "1/1 [==============================] - 0s 13ms/step - loss: 7.0631 - mae: 7.0631\n",
            "Epoch 21/100\n",
            "1/1 [==============================] - 0s 11ms/step - loss: 7.0422 - mae: 7.0422\n",
            "Epoch 22/100\n",
            "1/1 [==============================] - 0s 11ms/step - loss: 7.0214 - mae: 7.0214\n",
            "Epoch 23/100\n",
            "1/1 [==============================] - 0s 11ms/step - loss: 7.0004 - mae: 7.0004\n",
            "Epoch 24/100\n",
            "1/1 [==============================] - 0s 13ms/step - loss: 6.9794 - mae: 6.9794\n",
            "Epoch 25/100\n",
            "1/1 [==============================] - 0s 13ms/step - loss: 6.9582 - mae: 6.9582\n",
            "Epoch 26/100\n",
            "1/1 [==============================] - 0s 12ms/step - loss: 6.9370 - mae: 6.9370\n",
            "Epoch 27/100\n",
            "1/1 [==============================] - 0s 18ms/step - loss: 6.9157 - mae: 6.9157\n",
            "Epoch 28/100\n",
            "1/1 [==============================] - 0s 13ms/step - loss: 6.8943 - mae: 6.8943\n",
            "Epoch 29/100\n",
            "1/1 [==============================] - 0s 11ms/step - loss: 6.8729 - mae: 6.8729\n",
            "Epoch 30/100\n",
            "1/1 [==============================] - 0s 14ms/step - loss: 6.8513 - mae: 6.8513\n",
            "Epoch 31/100\n",
            "1/1 [==============================] - 0s 13ms/step - loss: 6.8296 - mae: 6.8296\n",
            "Epoch 32/100\n",
            "1/1 [==============================] - 0s 12ms/step - loss: 6.8078 - mae: 6.8078\n",
            "Epoch 33/100\n",
            "1/1 [==============================] - 0s 11ms/step - loss: 6.7859 - mae: 6.7859\n",
            "Epoch 34/100\n",
            "1/1 [==============================] - 0s 11ms/step - loss: 6.7639 - mae: 6.7639\n",
            "Epoch 35/100\n",
            "1/1 [==============================] - 0s 13ms/step - loss: 6.7417 - mae: 6.7417\n",
            "Epoch 36/100\n",
            "1/1 [==============================] - 0s 11ms/step - loss: 6.7195 - mae: 6.7195\n",
            "Epoch 37/100\n",
            "1/1 [==============================] - 0s 13ms/step - loss: 6.6971 - mae: 6.6971\n",
            "Epoch 38/100\n",
            "1/1 [==============================] - 0s 12ms/step - loss: 6.6746 - mae: 6.6746\n",
            "Epoch 39/100\n",
            "1/1 [==============================] - 0s 12ms/step - loss: 6.6520 - mae: 6.6520\n",
            "Epoch 40/100\n",
            "1/1 [==============================] - 0s 11ms/step - loss: 6.6292 - mae: 6.6292\n",
            "Epoch 41/100\n",
            "1/1 [==============================] - 0s 13ms/step - loss: 6.6063 - mae: 6.6063\n",
            "Epoch 42/100\n",
            "1/1 [==============================] - 0s 11ms/step - loss: 6.5832 - mae: 6.5832\n",
            "Epoch 43/100\n",
            "1/1 [==============================] - 0s 11ms/step - loss: 6.5600 - mae: 6.5600\n",
            "Epoch 44/100\n",
            "1/1 [==============================] - 0s 11ms/step - loss: 6.5366 - mae: 6.5366\n",
            "Epoch 45/100\n",
            "1/1 [==============================] - 0s 11ms/step - loss: 6.5131 - mae: 6.5131\n",
            "Epoch 46/100\n",
            "1/1 [==============================] - 0s 10ms/step - loss: 6.5018 - mae: 6.5018\n",
            "Epoch 47/100\n",
            "1/1 [==============================] - 0s 13ms/step - loss: 6.4857 - mae: 6.4857\n",
            "Epoch 48/100\n",
            "1/1 [==============================] - 0s 12ms/step - loss: 6.4623 - mae: 6.4623\n",
            "Epoch 49/100\n",
            "1/1 [==============================] - 0s 11ms/step - loss: 6.4387 - mae: 6.4387\n",
            "Epoch 50/100\n",
            "1/1 [==============================] - 0s 13ms/step - loss: 6.4150 - mae: 6.4150\n",
            "Epoch 51/100\n",
            "1/1 [==============================] - 0s 11ms/step - loss: 6.3911 - mae: 6.3911\n",
            "Epoch 52/100\n",
            "1/1 [==============================] - 0s 11ms/step - loss: 6.3670 - mae: 6.3670\n",
            "Epoch 53/100\n",
            "1/1 [==============================] - 0s 14ms/step - loss: 6.3427 - mae: 6.3427\n",
            "Epoch 54/100\n",
            "1/1 [==============================] - 0s 12ms/step - loss: 6.3182 - mae: 6.3182\n",
            "Epoch 55/100\n",
            "1/1 [==============================] - 0s 11ms/step - loss: 6.2935 - mae: 6.2935\n",
            "Epoch 56/100\n",
            "1/1 [==============================] - 0s 16ms/step - loss: 6.2687 - mae: 6.2687\n",
            "Epoch 57/100\n",
            "1/1 [==============================] - 0s 14ms/step - loss: 6.2436 - mae: 6.2436\n",
            "Epoch 58/100\n",
            "1/1 [==============================] - 0s 13ms/step - loss: 6.2184 - mae: 6.2184\n",
            "Epoch 59/100\n",
            "1/1 [==============================] - 0s 15ms/step - loss: 6.1929 - mae: 6.1929\n",
            "Epoch 60/100\n",
            "1/1 [==============================] - 0s 11ms/step - loss: 6.1672 - mae: 6.1672\n",
            "Epoch 61/100\n",
            "1/1 [==============================] - 0s 15ms/step - loss: 6.1413 - mae: 6.1413\n",
            "Epoch 62/100\n",
            "1/1 [==============================] - 0s 12ms/step - loss: 6.1151 - mae: 6.1151\n",
            "Epoch 63/100\n",
            "1/1 [==============================] - 0s 13ms/step - loss: 6.0888 - mae: 6.0888\n",
            "Epoch 64/100\n",
            "1/1 [==============================] - 0s 14ms/step - loss: 6.0622 - mae: 6.0622\n",
            "Epoch 65/100\n",
            "1/1 [==============================] - 0s 13ms/step - loss: 6.0594 - mae: 6.0594\n",
            "Epoch 66/100\n",
            "1/1 [==============================] - 0s 13ms/step - loss: 6.0338 - mae: 6.0338\n",
            "Epoch 67/100\n",
            "1/1 [==============================] - 0s 12ms/step - loss: 6.0071 - mae: 6.0071\n",
            "Epoch 68/100\n",
            "1/1 [==============================] - 0s 13ms/step - loss: 5.9801 - mae: 5.9801\n",
            "Epoch 69/100\n",
            "1/1 [==============================] - 0s 12ms/step - loss: 5.9529 - mae: 5.9529\n",
            "Epoch 70/100\n",
            "1/1 [==============================] - 0s 13ms/step - loss: 5.9254 - mae: 5.9254\n",
            "Epoch 71/100\n",
            "1/1 [==============================] - 0s 12ms/step - loss: 5.8977 - mae: 5.8977\n",
            "Epoch 72/100\n",
            "1/1 [==============================] - 0s 13ms/step - loss: 5.8697 - mae: 5.8697\n",
            "Epoch 73/100\n",
            "1/1 [==============================] - 0s 13ms/step - loss: 5.8415 - mae: 5.8415\n",
            "Epoch 74/100\n",
            "1/1 [==============================] - 0s 13ms/step - loss: 5.8129 - mae: 5.8129\n",
            "Epoch 75/100\n",
            "1/1 [==============================] - 0s 12ms/step - loss: 5.7841 - mae: 5.7841\n",
            "Epoch 76/100\n",
            "1/1 [==============================] - 0s 13ms/step - loss: 5.7550 - mae: 5.7550\n",
            "Epoch 77/100\n",
            "1/1 [==============================] - 0s 12ms/step - loss: 5.7256 - mae: 5.7256\n",
            "Epoch 78/100\n",
            "1/1 [==============================] - 0s 11ms/step - loss: 5.6960 - mae: 5.6960\n",
            "Epoch 79/100\n",
            "1/1 [==============================] - 0s 11ms/step - loss: 5.6660 - mae: 5.6660\n",
            "Epoch 80/100\n",
            "1/1 [==============================] - 0s 13ms/step - loss: 5.6390 - mae: 5.6390\n",
            "Epoch 81/100\n",
            "1/1 [==============================] - 0s 11ms/step - loss: 5.6355 - mae: 5.6355\n",
            "Epoch 82/100\n",
            "1/1 [==============================] - 0s 12ms/step - loss: 5.7420 - mae: 5.7420\n",
            "Epoch 83/100\n",
            "1/1 [==============================] - 0s 12ms/step - loss: 5.5698 - mae: 5.5698\n",
            "Epoch 84/100\n",
            "1/1 [==============================] - 0s 17ms/step - loss: 5.5387 - mae: 5.5387\n",
            "Epoch 85/100\n",
            "1/1 [==============================] - 0s 16ms/step - loss: 5.5074 - mae: 5.5074\n",
            "Epoch 86/100\n",
            "1/1 [==============================] - 0s 13ms/step - loss: 5.4756 - mae: 5.4756\n",
            "Epoch 87/100\n",
            "1/1 [==============================] - 0s 13ms/step - loss: 5.4436 - mae: 5.4436\n",
            "Epoch 88/100\n",
            "1/1 [==============================] - 0s 14ms/step - loss: 5.4112 - mae: 5.4112\n",
            "Epoch 89/100\n",
            "1/1 [==============================] - 0s 14ms/step - loss: 5.3784 - mae: 5.3784\n",
            "Epoch 90/100\n",
            "1/1 [==============================] - 0s 15ms/step - loss: 5.3453 - mae: 5.3453\n",
            "Epoch 91/100\n",
            "1/1 [==============================] - 0s 11ms/step - loss: 5.3152 - mae: 5.3152\n",
            "Epoch 92/100\n",
            "1/1 [==============================] - 0s 11ms/step - loss: 5.3564 - mae: 5.3564\n",
            "Epoch 93/100\n",
            "1/1 [==============================] - 0s 11ms/step - loss: 5.4215 - mae: 5.4215\n",
            "Epoch 94/100\n",
            "1/1 [==============================] - 0s 12ms/step - loss: 5.2388 - mae: 5.2388\n",
            "Epoch 95/100\n",
            "1/1 [==============================] - 0s 11ms/step - loss: 5.2044 - mae: 5.2044\n",
            "Epoch 96/100\n",
            "1/1 [==============================] - 0s 12ms/step - loss: 5.1695 - mae: 5.1695\n",
            "Epoch 97/100\n",
            "1/1 [==============================] - 0s 12ms/step - loss: 5.1343 - mae: 5.1343\n",
            "Epoch 98/100\n",
            "1/1 [==============================] - 0s 12ms/step - loss: 5.0986 - mae: 5.0986\n",
            "Epoch 99/100\n",
            "1/1 [==============================] - 0s 14ms/step - loss: 5.0626 - mae: 5.0626\n",
            "Epoch 100/100\n",
            "1/1 [==============================] - 0s 11ms/step - loss: 5.0261 - mae: 5.0261\n"
          ]
        },
        {
          "output_type": "execute_result",
          "data": {
            "text/plain": [
              "<keras.callbacks.History at 0x7f6e98cb46d0>"
            ]
          },
          "metadata": {},
          "execution_count": 92
        }
      ]
    },
    {
      "cell_type": "code",
      "source": [
        "model.predict([17.0])"
      ],
      "metadata": {
        "colab": {
          "base_uri": "https://localhost:8080/"
        },
        "id": "0rAzn6lHsUpo",
        "outputId": "b2492224-c100-4342-f55f-4f008ae6c6be"
      },
      "execution_count": 93,
      "outputs": [
        {
          "output_type": "stream",
          "name": "stdout",
          "text": [
            "1/1 [==============================] - 0s 82ms/step\n"
          ]
        },
        {
          "output_type": "execute_result",
          "data": {
            "text/plain": [
              "array([[30.558186]], dtype=float32)"
            ]
          },
          "metadata": {},
          "execution_count": 93
        }
      ]
    },
    {
      "cell_type": "markdown",
      "source": [
        "- By Changing the Optimisation Functions"
      ],
      "metadata": {
        "id": "EJzwJmDJsWhO"
      }
    },
    {
      "cell_type": "code",
      "source": [
        "model = tf.keras.Sequential([\n",
        "    tf.keras.layers.Dense(100, activation = None),\n",
        "    tf.keras.layers.Dense(1)\n",
        "])\n",
        "\n",
        "model.compile(loss = tf.keras.losses.mae,\n",
        "              optimizer = tf.keras.optimizers.Adam(),\n",
        "              metrics = ['mae'])\n",
        "\n",
        "model.fit(tf.expand_dims(X, axis = -1), y, epochs = 100)"
      ],
      "metadata": {
        "colab": {
          "base_uri": "https://localhost:8080/"
        },
        "id": "yft5v6Cts9IH",
        "outputId": "0d3a8835-5421-4f9d-8c01-5990ce229b72"
      },
      "execution_count": 94,
      "outputs": [
        {
          "output_type": "stream",
          "name": "stdout",
          "text": [
            "Epoch 1/100\n",
            "1/1 [==============================] - 1s 634ms/step - loss: 14.5230 - mae: 14.5230\n",
            "Epoch 2/100\n",
            "1/1 [==============================] - 0s 11ms/step - loss: 14.4203 - mae: 14.4203\n",
            "Epoch 3/100\n",
            "1/1 [==============================] - 0s 10ms/step - loss: 14.3178 - mae: 14.3178\n",
            "Epoch 4/100\n",
            "1/1 [==============================] - 0s 11ms/step - loss: 14.2153 - mae: 14.2153\n",
            "Epoch 5/100\n",
            "1/1 [==============================] - 0s 10ms/step - loss: 14.1129 - mae: 14.1129\n",
            "Epoch 6/100\n",
            "1/1 [==============================] - 0s 14ms/step - loss: 14.0106 - mae: 14.0106\n",
            "Epoch 7/100\n",
            "1/1 [==============================] - 0s 10ms/step - loss: 13.9084 - mae: 13.9084\n",
            "Epoch 8/100\n",
            "1/1 [==============================] - 0s 13ms/step - loss: 13.8063 - mae: 13.8063\n",
            "Epoch 9/100\n",
            "1/1 [==============================] - 0s 15ms/step - loss: 13.7043 - mae: 13.7043\n",
            "Epoch 10/100\n",
            "1/1 [==============================] - 0s 12ms/step - loss: 13.6024 - mae: 13.6024\n",
            "Epoch 11/100\n",
            "1/1 [==============================] - 0s 16ms/step - loss: 13.5005 - mae: 13.5005\n",
            "Epoch 12/100\n",
            "1/1 [==============================] - 0s 10ms/step - loss: 13.3988 - mae: 13.3988\n",
            "Epoch 13/100\n",
            "1/1 [==============================] - 0s 10ms/step - loss: 13.2971 - mae: 13.2971\n",
            "Epoch 14/100\n",
            "1/1 [==============================] - 0s 11ms/step - loss: 13.1954 - mae: 13.1954\n",
            "Epoch 15/100\n",
            "1/1 [==============================] - 0s 10ms/step - loss: 13.0938 - mae: 13.0938\n",
            "Epoch 16/100\n",
            "1/1 [==============================] - 0s 12ms/step - loss: 12.9923 - mae: 12.9923\n",
            "Epoch 17/100\n",
            "1/1 [==============================] - 0s 11ms/step - loss: 12.8908 - mae: 12.8908\n",
            "Epoch 18/100\n",
            "1/1 [==============================] - 0s 11ms/step - loss: 12.7892 - mae: 12.7892\n",
            "Epoch 19/100\n",
            "1/1 [==============================] - 0s 13ms/step - loss: 12.6877 - mae: 12.6877\n",
            "Epoch 20/100\n",
            "1/1 [==============================] - 0s 11ms/step - loss: 12.5862 - mae: 12.5862\n",
            "Epoch 21/100\n",
            "1/1 [==============================] - 0s 12ms/step - loss: 12.4846 - mae: 12.4846\n",
            "Epoch 22/100\n",
            "1/1 [==============================] - 0s 11ms/step - loss: 12.3830 - mae: 12.3830\n",
            "Epoch 23/100\n",
            "1/1 [==============================] - 0s 11ms/step - loss: 12.2813 - mae: 12.2813\n",
            "Epoch 24/100\n",
            "1/1 [==============================] - 0s 12ms/step - loss: 12.1796 - mae: 12.1796\n",
            "Epoch 25/100\n",
            "1/1 [==============================] - 0s 15ms/step - loss: 12.0778 - mae: 12.0778\n",
            "Epoch 26/100\n",
            "1/1 [==============================] - 0s 16ms/step - loss: 11.9758 - mae: 11.9758\n",
            "Epoch 27/100\n",
            "1/1 [==============================] - 0s 16ms/step - loss: 11.8738 - mae: 11.8738\n",
            "Epoch 28/100\n",
            "1/1 [==============================] - 0s 16ms/step - loss: 11.7716 - mae: 11.7716\n",
            "Epoch 29/100\n",
            "1/1 [==============================] - 0s 16ms/step - loss: 11.6693 - mae: 11.6693\n",
            "Epoch 30/100\n",
            "1/1 [==============================] - 0s 12ms/step - loss: 11.5669 - mae: 11.5669\n",
            "Epoch 31/100\n",
            "1/1 [==============================] - 0s 15ms/step - loss: 11.4643 - mae: 11.4643\n",
            "Epoch 32/100\n",
            "1/1 [==============================] - 0s 12ms/step - loss: 11.3615 - mae: 11.3615\n",
            "Epoch 33/100\n",
            "1/1 [==============================] - 0s 12ms/step - loss: 11.2585 - mae: 11.2585\n",
            "Epoch 34/100\n",
            "1/1 [==============================] - 0s 12ms/step - loss: 11.1552 - mae: 11.1552\n",
            "Epoch 35/100\n",
            "1/1 [==============================] - 0s 11ms/step - loss: 11.0518 - mae: 11.0518\n",
            "Epoch 36/100\n",
            "1/1 [==============================] - 0s 12ms/step - loss: 10.9481 - mae: 10.9481\n",
            "Epoch 37/100\n",
            "1/1 [==============================] - 0s 10ms/step - loss: 10.8442 - mae: 10.8442\n",
            "Epoch 38/100\n",
            "1/1 [==============================] - 0s 11ms/step - loss: 10.7399 - mae: 10.7399\n",
            "Epoch 39/100\n",
            "1/1 [==============================] - 0s 12ms/step - loss: 10.6354 - mae: 10.6354\n",
            "Epoch 40/100\n",
            "1/1 [==============================] - 0s 13ms/step - loss: 10.5306 - mae: 10.5306\n",
            "Epoch 41/100\n",
            "1/1 [==============================] - 0s 14ms/step - loss: 10.4255 - mae: 10.4255\n",
            "Epoch 42/100\n",
            "1/1 [==============================] - 0s 12ms/step - loss: 10.3200 - mae: 10.3200\n",
            "Epoch 43/100\n",
            "1/1 [==============================] - 0s 12ms/step - loss: 10.2142 - mae: 10.2142\n",
            "Epoch 44/100\n",
            "1/1 [==============================] - 0s 13ms/step - loss: 10.1080 - mae: 10.1080\n",
            "Epoch 45/100\n",
            "1/1 [==============================] - 0s 16ms/step - loss: 10.0014 - mae: 10.0014\n",
            "Epoch 46/100\n",
            "1/1 [==============================] - 0s 12ms/step - loss: 9.8944 - mae: 9.8944\n",
            "Epoch 47/100\n",
            "1/1 [==============================] - 0s 12ms/step - loss: 9.7870 - mae: 9.7870\n",
            "Epoch 48/100\n",
            "1/1 [==============================] - 0s 15ms/step - loss: 9.6792 - mae: 9.6792\n",
            "Epoch 49/100\n",
            "1/1 [==============================] - 0s 16ms/step - loss: 9.5709 - mae: 9.5709\n",
            "Epoch 50/100\n",
            "1/1 [==============================] - 0s 13ms/step - loss: 9.4621 - mae: 9.4621\n",
            "Epoch 51/100\n",
            "1/1 [==============================] - 0s 13ms/step - loss: 9.3529 - mae: 9.3529\n",
            "Epoch 52/100\n",
            "1/1 [==============================] - 0s 12ms/step - loss: 9.2432 - mae: 9.2432\n",
            "Epoch 53/100\n",
            "1/1 [==============================] - 0s 13ms/step - loss: 9.1329 - mae: 9.1329\n",
            "Epoch 54/100\n",
            "1/1 [==============================] - 0s 12ms/step - loss: 9.0221 - mae: 9.0221\n",
            "Epoch 55/100\n",
            "1/1 [==============================] - 0s 12ms/step - loss: 8.9108 - mae: 8.9108\n",
            "Epoch 56/100\n",
            "1/1 [==============================] - 0s 12ms/step - loss: 8.7989 - mae: 8.7989\n",
            "Epoch 57/100\n",
            "1/1 [==============================] - 0s 12ms/step - loss: 8.6864 - mae: 8.6864\n",
            "Epoch 58/100\n",
            "1/1 [==============================] - 0s 12ms/step - loss: 8.5734 - mae: 8.5734\n",
            "Epoch 59/100\n",
            "1/1 [==============================] - 0s 13ms/step - loss: 8.4597 - mae: 8.4597\n",
            "Epoch 60/100\n",
            "1/1 [==============================] - 0s 12ms/step - loss: 8.3453 - mae: 8.3453\n",
            "Epoch 61/100\n",
            "1/1 [==============================] - 0s 12ms/step - loss: 8.2303 - mae: 8.2303\n",
            "Epoch 62/100\n",
            "1/1 [==============================] - 0s 14ms/step - loss: 8.1147 - mae: 8.1147\n",
            "Epoch 63/100\n",
            "1/1 [==============================] - 0s 15ms/step - loss: 7.9984 - mae: 7.9984\n",
            "Epoch 64/100\n",
            "1/1 [==============================] - 0s 12ms/step - loss: 7.8813 - mae: 7.8813\n",
            "Epoch 65/100\n",
            "1/1 [==============================] - 0s 13ms/step - loss: 7.7635 - mae: 7.7635\n",
            "Epoch 66/100\n",
            "1/1 [==============================] - 0s 14ms/step - loss: 7.6450 - mae: 7.6450\n",
            "Epoch 67/100\n",
            "1/1 [==============================] - 0s 12ms/step - loss: 7.5258 - mae: 7.5258\n",
            "Epoch 68/100\n",
            "1/1 [==============================] - 0s 12ms/step - loss: 7.4058 - mae: 7.4058\n",
            "Epoch 69/100\n",
            "1/1 [==============================] - 0s 14ms/step - loss: 7.2849 - mae: 7.2849\n",
            "Epoch 70/100\n",
            "1/1 [==============================] - 0s 13ms/step - loss: 7.1633 - mae: 7.1633\n",
            "Epoch 71/100\n",
            "1/1 [==============================] - 0s 11ms/step - loss: 7.0409 - mae: 7.0409\n",
            "Epoch 72/100\n",
            "1/1 [==============================] - 0s 14ms/step - loss: 6.9176 - mae: 6.9176\n",
            "Epoch 73/100\n",
            "1/1 [==============================] - 0s 14ms/step - loss: 6.7934 - mae: 6.7934\n",
            "Epoch 74/100\n",
            "1/1 [==============================] - 0s 12ms/step - loss: 6.7111 - mae: 6.7111\n",
            "Epoch 75/100\n",
            "1/1 [==============================] - 0s 15ms/step - loss: 6.6972 - mae: 6.6972\n",
            "Epoch 76/100\n",
            "1/1 [==============================] - 0s 13ms/step - loss: 6.6835 - mae: 6.6835\n",
            "Epoch 77/100\n",
            "1/1 [==============================] - 0s 13ms/step - loss: 6.6702 - mae: 6.6702\n",
            "Epoch 78/100\n",
            "1/1 [==============================] - 0s 13ms/step - loss: 6.6570 - mae: 6.6570\n",
            "Epoch 79/100\n",
            "1/1 [==============================] - 0s 13ms/step - loss: 6.6440 - mae: 6.6440\n",
            "Epoch 80/100\n",
            "1/1 [==============================] - 0s 12ms/step - loss: 6.6312 - mae: 6.6312\n",
            "Epoch 81/100\n",
            "1/1 [==============================] - 0s 12ms/step - loss: 6.6185 - mae: 6.6185\n",
            "Epoch 82/100\n",
            "1/1 [==============================] - 0s 12ms/step - loss: 6.6467 - mae: 6.6467\n",
            "Epoch 83/100\n",
            "1/1 [==============================] - 0s 13ms/step - loss: 6.6677 - mae: 6.6677\n",
            "Epoch 84/100\n",
            "1/1 [==============================] - 0s 14ms/step - loss: 6.6789 - mae: 6.6789\n",
            "Epoch 85/100\n",
            "1/1 [==============================] - 0s 13ms/step - loss: 6.6813 - mae: 6.6813\n",
            "Epoch 86/100\n",
            "1/1 [==============================] - 0s 13ms/step - loss: 6.6758 - mae: 6.6758\n",
            "Epoch 87/100\n",
            "1/1 [==============================] - 0s 12ms/step - loss: 6.6630 - mae: 6.6630\n",
            "Epoch 88/100\n",
            "1/1 [==============================] - 0s 13ms/step - loss: 6.6439 - mae: 6.6439\n",
            "Epoch 89/100\n",
            "1/1 [==============================] - 0s 13ms/step - loss: 6.6189 - mae: 6.6189\n",
            "Epoch 90/100\n",
            "1/1 [==============================] - 0s 14ms/step - loss: 6.5889 - mae: 6.5889\n",
            "Epoch 91/100\n",
            "1/1 [==============================] - 0s 12ms/step - loss: 6.5542 - mae: 6.5542\n",
            "Epoch 92/100\n",
            "1/1 [==============================] - 0s 11ms/step - loss: 6.5153 - mae: 6.5153\n",
            "Epoch 93/100\n",
            "1/1 [==============================] - 0s 11ms/step - loss: 6.5028 - mae: 6.5028\n",
            "Epoch 94/100\n",
            "1/1 [==============================] - 0s 13ms/step - loss: 6.4949 - mae: 6.4949\n",
            "Epoch 95/100\n",
            "1/1 [==============================] - 0s 17ms/step - loss: 6.4867 - mae: 6.4867\n",
            "Epoch 96/100\n",
            "1/1 [==============================] - 0s 12ms/step - loss: 6.4782 - mae: 6.4782\n",
            "Epoch 97/100\n",
            "1/1 [==============================] - 0s 13ms/step - loss: 6.4694 - mae: 6.4694\n",
            "Epoch 98/100\n",
            "1/1 [==============================] - 0s 12ms/step - loss: 6.4604 - mae: 6.4604\n",
            "Epoch 99/100\n",
            "1/1 [==============================] - 0s 11ms/step - loss: 6.4511 - mae: 6.4511\n",
            "Epoch 100/100\n",
            "1/1 [==============================] - 0s 11ms/step - loss: 6.4416 - mae: 6.4416\n"
          ]
        },
        {
          "output_type": "execute_result",
          "data": {
            "text/plain": [
              "<keras.callbacks.History at 0x7f6e8b469ee0>"
            ]
          },
          "metadata": {},
          "execution_count": 94
        }
      ]
    },
    {
      "cell_type": "code",
      "source": [
        "model.predict([17.0])"
      ],
      "metadata": {
        "colab": {
          "base_uri": "https://localhost:8080/"
        },
        "id": "U-8S3wE3tA8p",
        "outputId": "d05258fe-a5e8-45b0-e636-da6c017e434a"
      },
      "execution_count": 95,
      "outputs": [
        {
          "output_type": "stream",
          "name": "stdout",
          "text": [
            "1/1 [==============================] - 0s 89ms/step\n"
          ]
        },
        {
          "output_type": "execute_result",
          "data": {
            "text/plain": [
              "array([[30.479712]], dtype=float32)"
            ]
          },
          "metadata": {},
          "execution_count": 95
        }
      ]
    },
    {
      "cell_type": "markdown",
      "source": [
        "- By Changing the Learning Rate of the Optimizers"
      ],
      "metadata": {
        "id": "-xqwl48PtC0x"
      }
    },
    {
      "cell_type": "code",
      "source": [
        "model = tf.keras.Sequential([\n",
        "    tf.keras.layers.Dense(100, activation = None),\n",
        "    tf.keras.layers.Dense(1)\n",
        "])\n",
        "\n",
        "model.compile(loss = tf.keras.losses.mae,\n",
        "              optimizer = tf.keras.optimizers.Adam(learning_rate = 0.02),\n",
        "              metrics = ['mae'])\n",
        "\n",
        "model.fit(tf.expand_dims(X, axis = -1), y, epochs = 100)"
      ],
      "metadata": {
        "colab": {
          "base_uri": "https://localhost:8080/"
        },
        "id": "wN15l7wTtjxk",
        "outputId": "0277964d-fa76-465a-ec63-8a7964a8242f"
      },
      "execution_count": 96,
      "outputs": [
        {
          "output_type": "stream",
          "name": "stdout",
          "text": [
            "Epoch 1/100\n",
            "1/1 [==============================] - 1s 1s/step - loss: 14.2680 - mae: 14.2680\n",
            "Epoch 2/100\n",
            "1/1 [==============================] - 0s 13ms/step - loss: 12.4257 - mae: 12.4257\n",
            "Epoch 3/100\n",
            "1/1 [==============================] - 0s 13ms/step - loss: 10.6337 - mae: 10.6337\n",
            "Epoch 4/100\n",
            "1/1 [==============================] - 0s 12ms/step - loss: 8.8412 - mae: 8.8412\n",
            "Epoch 5/100\n",
            "1/1 [==============================] - 0s 12ms/step - loss: 6.9915 - mae: 6.9915\n",
            "Epoch 6/100\n",
            "1/1 [==============================] - 0s 15ms/step - loss: 7.2529 - mae: 7.2529\n",
            "Epoch 7/100\n",
            "1/1 [==============================] - 0s 14ms/step - loss: 8.4711 - mae: 8.4711\n",
            "Epoch 8/100\n",
            "1/1 [==============================] - 0s 13ms/step - loss: 8.6540 - mae: 8.6540\n",
            "Epoch 9/100\n",
            "1/1 [==============================] - 0s 13ms/step - loss: 8.1757 - mae: 8.1757\n",
            "Epoch 10/100\n",
            "1/1 [==============================] - 0s 14ms/step - loss: 7.2956 - mae: 7.2956\n",
            "Epoch 11/100\n",
            "1/1 [==============================] - 0s 12ms/step - loss: 6.3752 - mae: 6.3752\n",
            "Epoch 12/100\n",
            "1/1 [==============================] - 0s 12ms/step - loss: 5.8689 - mae: 5.8689\n",
            "Epoch 13/100\n",
            "1/1 [==============================] - 0s 11ms/step - loss: 6.1719 - mae: 6.1719\n",
            "Epoch 14/100\n",
            "1/1 [==============================] - 0s 11ms/step - loss: 6.3715 - mae: 6.3715\n",
            "Epoch 15/100\n",
            "1/1 [==============================] - 0s 14ms/step - loss: 6.2500 - mae: 6.2500\n",
            "Epoch 16/100\n",
            "1/1 [==============================] - 0s 13ms/step - loss: 5.8647 - mae: 5.8647\n",
            "Epoch 17/100\n",
            "1/1 [==============================] - 0s 12ms/step - loss: 5.2502 - mae: 5.2502\n",
            "Epoch 18/100\n",
            "1/1 [==============================] - 0s 13ms/step - loss: 4.7247 - mae: 4.7247\n",
            "Epoch 19/100\n",
            "1/1 [==============================] - 0s 12ms/step - loss: 4.7183 - mae: 4.7183\n",
            "Epoch 20/100\n",
            "1/1 [==============================] - 0s 14ms/step - loss: 4.7913 - mae: 4.7913\n",
            "Epoch 21/100\n",
            "1/1 [==============================] - 0s 13ms/step - loss: 4.6965 - mae: 4.6965\n",
            "Epoch 22/100\n",
            "1/1 [==============================] - 0s 12ms/step - loss: 4.3080 - mae: 4.3080\n",
            "Epoch 23/100\n",
            "1/1 [==============================] - 0s 13ms/step - loss: 3.7026 - mae: 3.7026\n",
            "Epoch 24/100\n",
            "1/1 [==============================] - 0s 12ms/step - loss: 3.1640 - mae: 3.1640\n",
            "Epoch 25/100\n",
            "1/1 [==============================] - 0s 10ms/step - loss: 3.0580 - mae: 3.0580\n",
            "Epoch 26/100\n",
            "1/1 [==============================] - 0s 14ms/step - loss: 2.9927 - mae: 2.9927\n",
            "Epoch 27/100\n",
            "1/1 [==============================] - 0s 17ms/step - loss: 2.6123 - mae: 2.6123\n",
            "Epoch 28/100\n",
            "1/1 [==============================] - 0s 14ms/step - loss: 1.9252 - mae: 1.9252\n",
            "Epoch 29/100\n",
            "1/1 [==============================] - 0s 11ms/step - loss: 1.2840 - mae: 1.2840\n",
            "Epoch 30/100\n",
            "1/1 [==============================] - 0s 11ms/step - loss: 1.2624 - mae: 1.2624\n",
            "Epoch 31/100\n",
            "1/1 [==============================] - 0s 12ms/step - loss: 0.8199 - mae: 0.8199\n",
            "Epoch 32/100\n",
            "1/1 [==============================] - 0s 10ms/step - loss: 0.3700 - mae: 0.3700\n",
            "Epoch 33/100\n",
            "1/1 [==============================] - 0s 12ms/step - loss: 1.0597 - mae: 1.0597\n",
            "Epoch 34/100\n",
            "1/1 [==============================] - 0s 12ms/step - loss: 1.1678 - mae: 1.1678\n",
            "Epoch 35/100\n",
            "1/1 [==============================] - 0s 14ms/step - loss: 1.2182 - mae: 1.2182\n",
            "Epoch 36/100\n",
            "1/1 [==============================] - 0s 12ms/step - loss: 1.2888 - mae: 1.2888\n",
            "Epoch 37/100\n",
            "1/1 [==============================] - 0s 11ms/step - loss: 1.1054 - mae: 1.1054\n",
            "Epoch 38/100\n",
            "1/1 [==============================] - 0s 11ms/step - loss: 0.9844 - mae: 0.9844\n",
            "Epoch 39/100\n",
            "1/1 [==============================] - 0s 11ms/step - loss: 0.6615 - mae: 0.6615\n",
            "Epoch 40/100\n",
            "1/1 [==============================] - 0s 13ms/step - loss: 0.4311 - mae: 0.4311\n",
            "Epoch 41/100\n",
            "1/1 [==============================] - 0s 12ms/step - loss: 0.1547 - mae: 0.1547\n",
            "Epoch 42/100\n",
            "1/1 [==============================] - 0s 13ms/step - loss: 0.3525 - mae: 0.3525\n",
            "Epoch 43/100\n",
            "1/1 [==============================] - 0s 21ms/step - loss: 0.5066 - mae: 0.5066\n",
            "Epoch 44/100\n",
            "1/1 [==============================] - 0s 17ms/step - loss: 0.7128 - mae: 0.7128\n",
            "Epoch 45/100\n",
            "1/1 [==============================] - 0s 14ms/step - loss: 0.6384 - mae: 0.6384\n",
            "Epoch 46/100\n",
            "1/1 [==============================] - 0s 16ms/step - loss: 0.6181 - mae: 0.6181\n",
            "Epoch 47/100\n",
            "1/1 [==============================] - 0s 15ms/step - loss: 0.4719 - mae: 0.4719\n",
            "Epoch 48/100\n",
            "1/1 [==============================] - 0s 16ms/step - loss: 0.4166 - mae: 0.4166\n",
            "Epoch 49/100\n",
            "1/1 [==============================] - 0s 16ms/step - loss: 0.1002 - mae: 0.1002\n",
            "Epoch 50/100\n",
            "1/1 [==============================] - 0s 17ms/step - loss: 0.5378 - mae: 0.5378\n",
            "Epoch 51/100\n",
            "1/1 [==============================] - 0s 15ms/step - loss: 0.7500 - mae: 0.7500\n",
            "Epoch 52/100\n",
            "1/1 [==============================] - 0s 13ms/step - loss: 0.5700 - mae: 0.5700\n",
            "Epoch 53/100\n",
            "1/1 [==============================] - 0s 14ms/step - loss: 0.8497 - mae: 0.8497\n",
            "Epoch 54/100\n",
            "1/1 [==============================] - 0s 12ms/step - loss: 0.9426 - mae: 0.9426\n",
            "Epoch 55/100\n",
            "1/1 [==============================] - 0s 11ms/step - loss: 0.5802 - mae: 0.5802\n",
            "Epoch 56/100\n",
            "1/1 [==============================] - 0s 11ms/step - loss: 0.3758 - mae: 0.3758\n",
            "Epoch 57/100\n",
            "1/1 [==============================] - 0s 11ms/step - loss: 0.6084 - mae: 0.6084\n",
            "Epoch 58/100\n",
            "1/1 [==============================] - 0s 11ms/step - loss: 0.4302 - mae: 0.4302\n",
            "Epoch 59/100\n",
            "1/1 [==============================] - 0s 11ms/step - loss: 0.5524 - mae: 0.5524\n",
            "Epoch 60/100\n",
            "1/1 [==============================] - 0s 12ms/step - loss: 0.7443 - mae: 0.7443\n",
            "Epoch 61/100\n",
            "1/1 [==============================] - 0s 11ms/step - loss: 0.6123 - mae: 0.6123\n",
            "Epoch 62/100\n",
            "1/1 [==============================] - 0s 11ms/step - loss: 0.1991 - mae: 0.1991\n",
            "Epoch 63/100\n",
            "1/1 [==============================] - 0s 12ms/step - loss: 0.5052 - mae: 0.5052\n",
            "Epoch 64/100\n",
            "1/1 [==============================] - 0s 13ms/step - loss: 0.4866 - mae: 0.4866\n",
            "Epoch 65/100\n",
            "1/1 [==============================] - 0s 13ms/step - loss: 0.2962 - mae: 0.2962\n",
            "Epoch 66/100\n",
            "1/1 [==============================] - 0s 11ms/step - loss: 0.5307 - mae: 0.5307\n",
            "Epoch 67/100\n",
            "1/1 [==============================] - 0s 13ms/step - loss: 0.4074 - mae: 0.4074\n",
            "Epoch 68/100\n",
            "1/1 [==============================] - 0s 13ms/step - loss: 0.3915 - mae: 0.3915\n",
            "Epoch 69/100\n",
            "1/1 [==============================] - 0s 13ms/step - loss: 0.2796 - mae: 0.2796\n",
            "Epoch 70/100\n",
            "1/1 [==============================] - 0s 13ms/step - loss: 0.1763 - mae: 0.1763\n",
            "Epoch 71/100\n",
            "1/1 [==============================] - 0s 13ms/step - loss: 0.2677 - mae: 0.2677\n",
            "Epoch 72/100\n",
            "1/1 [==============================] - 0s 14ms/step - loss: 0.2101 - mae: 0.2101\n",
            "Epoch 73/100\n",
            "1/1 [==============================] - 0s 14ms/step - loss: 0.1012 - mae: 0.1012\n",
            "Epoch 74/100\n",
            "1/1 [==============================] - 0s 14ms/step - loss: 0.2198 - mae: 0.2198\n",
            "Epoch 75/100\n",
            "1/1 [==============================] - 0s 12ms/step - loss: 0.1331 - mae: 0.1331\n",
            "Epoch 76/100\n",
            "1/1 [==============================] - 0s 17ms/step - loss: 0.1614 - mae: 0.1614\n",
            "Epoch 77/100\n",
            "1/1 [==============================] - 0s 19ms/step - loss: 0.1622 - mae: 0.1622\n",
            "Epoch 78/100\n",
            "1/1 [==============================] - 0s 13ms/step - loss: 0.0683 - mae: 0.0683\n",
            "Epoch 79/100\n",
            "1/1 [==============================] - 0s 12ms/step - loss: 0.1437 - mae: 0.1437\n",
            "Epoch 80/100\n",
            "1/1 [==============================] - 0s 14ms/step - loss: 0.1146 - mae: 0.1146\n",
            "Epoch 81/100\n",
            "1/1 [==============================] - 0s 16ms/step - loss: 0.0577 - mae: 0.0577\n",
            "Epoch 82/100\n",
            "1/1 [==============================] - 0s 17ms/step - loss: 0.2152 - mae: 0.2152\n",
            "Epoch 83/100\n",
            "1/1 [==============================] - 0s 15ms/step - loss: 0.0640 - mae: 0.0640\n",
            "Epoch 84/100\n",
            "1/1 [==============================] - 0s 14ms/step - loss: 0.0985 - mae: 0.0985\n",
            "Epoch 85/100\n",
            "1/1 [==============================] - 0s 13ms/step - loss: 0.1948 - mae: 0.1948\n",
            "Epoch 86/100\n",
            "1/1 [==============================] - 0s 12ms/step - loss: 0.0980 - mae: 0.0980\n",
            "Epoch 87/100\n",
            "1/1 [==============================] - 0s 13ms/step - loss: 0.0622 - mae: 0.0622\n",
            "Epoch 88/100\n",
            "1/1 [==============================] - 0s 16ms/step - loss: 0.1834 - mae: 0.1834\n",
            "Epoch 89/100\n",
            "1/1 [==============================] - 0s 13ms/step - loss: 0.0609 - mae: 0.0609\n",
            "Epoch 90/100\n",
            "1/1 [==============================] - 0s 14ms/step - loss: 0.1743 - mae: 0.1743\n",
            "Epoch 91/100\n",
            "1/1 [==============================] - 0s 12ms/step - loss: 0.0670 - mae: 0.0670\n",
            "Epoch 92/100\n",
            "1/1 [==============================] - 0s 21ms/step - loss: 0.1133 - mae: 0.1133\n",
            "Epoch 93/100\n",
            "1/1 [==============================] - 0s 18ms/step - loss: 0.1737 - mae: 0.1737\n",
            "Epoch 94/100\n",
            "1/1 [==============================] - 0s 17ms/step - loss: 0.0434 - mae: 0.0434\n",
            "Epoch 95/100\n",
            "1/1 [==============================] - 0s 17ms/step - loss: 0.0540 - mae: 0.0540\n",
            "Epoch 96/100\n",
            "1/1 [==============================] - 0s 17ms/step - loss: 0.3510 - mae: 0.3510\n",
            "Epoch 97/100\n",
            "1/1 [==============================] - 0s 20ms/step - loss: 0.2854 - mae: 0.2854\n",
            "Epoch 98/100\n",
            "1/1 [==============================] - 0s 13ms/step - loss: 0.2276 - mae: 0.2276\n",
            "Epoch 99/100\n",
            "1/1 [==============================] - 0s 12ms/step - loss: 0.2637 - mae: 0.2637\n",
            "Epoch 100/100\n",
            "1/1 [==============================] - 0s 16ms/step - loss: 0.1169 - mae: 0.1169\n"
          ]
        },
        {
          "output_type": "execute_result",
          "data": {
            "text/plain": [
              "<keras.callbacks.History at 0x7f6e8b2cb220>"
            ]
          },
          "metadata": {},
          "execution_count": 96
        }
      ]
    },
    {
      "cell_type": "code",
      "source": [
        "model.predict([17.0])"
      ],
      "metadata": {
        "colab": {
          "base_uri": "https://localhost:8080/"
        },
        "id": "uSQnkm12trVc",
        "outputId": "cd3e4a63-b5dc-49d5-c250-656273bab6a4"
      },
      "execution_count": 97,
      "outputs": [
        {
          "output_type": "stream",
          "name": "stdout",
          "text": [
            "1/1 [==============================] - 0s 116ms/step\n"
          ]
        },
        {
          "output_type": "execute_result",
          "data": {
            "text/plain": [
              "array([[27.066782]], dtype=float32)"
            ]
          },
          "metadata": {},
          "execution_count": 97
        }
      ]
    },
    {
      "cell_type": "markdown",
      "source": [
        "It can be understood that the `learning_rate` is the most important amongst all other High Parameters"
      ],
      "metadata": {
        "id": "2MVnGJaOtszu"
      }
    },
    {
      "cell_type": "markdown",
      "source": [
        "- By fitting on more data\n",
        "\n",
        "(This can be tried out on a real problem)"
      ],
      "metadata": {
        "id": "7pa6UamguQJP"
      }
    },
    {
      "cell_type": "markdown",
      "source": [
        "- By adding layers"
      ],
      "metadata": {
        "id": "YAwGxWEXudC_"
      }
    },
    {
      "cell_type": "code",
      "source": [
        "model = tf.keras.Sequential([\n",
        "    tf.keras.layers.Dense(100, activation = \"relu\"),\n",
        "    tf.keras.layers.Dense(100, activation = \"relu\"),\n",
        "    tf.keras.layers.Dense(100, activation = \"relu\"),\n",
        "    tf.keras.layers.Dense(1)\n",
        "])\n",
        "\n",
        "model.compile(loss = tf.keras.losses.mae,\n",
        "              optimizer = tf.keras.optimizers.Adam(learning_rate = 0.02),\n",
        "              metrics = ['mae'])\n",
        "\n",
        "model.fit(tf.expand_dims(X, axis = -1), y, epochs = 100)"
      ],
      "metadata": {
        "colab": {
          "base_uri": "https://localhost:8080/"
        },
        "id": "4e1XFMoSuomh",
        "outputId": "066197eb-dd82-4b73-b15f-edeb6ad87f9e"
      },
      "execution_count": 98,
      "outputs": [
        {
          "output_type": "stream",
          "name": "stdout",
          "text": [
            "Epoch 1/100\n",
            "1/1 [==============================] - 2s 2s/step - loss: 14.0081 - mae: 14.0081\n",
            "Epoch 2/100\n",
            "1/1 [==============================] - 0s 19ms/step - loss: 9.3666 - mae: 9.3666\n",
            "Epoch 3/100\n",
            "1/1 [==============================] - 0s 16ms/step - loss: 4.1511 - mae: 4.1511\n",
            "Epoch 4/100\n",
            "1/1 [==============================] - 0s 17ms/step - loss: 5.6946 - mae: 5.6946\n",
            "Epoch 5/100\n",
            "1/1 [==============================] - 0s 17ms/step - loss: 3.8091 - mae: 3.8091\n",
            "Epoch 6/100\n",
            "1/1 [==============================] - 0s 14ms/step - loss: 5.4384 - mae: 5.4384\n",
            "Epoch 7/100\n",
            "1/1 [==============================] - 0s 14ms/step - loss: 4.3583 - mae: 4.3583\n",
            "Epoch 8/100\n",
            "1/1 [==============================] - 0s 15ms/step - loss: 4.0134 - mae: 4.0134\n",
            "Epoch 9/100\n",
            "1/1 [==============================] - 0s 11ms/step - loss: 4.5449 - mae: 4.5449\n",
            "Epoch 10/100\n",
            "1/1 [==============================] - 0s 12ms/step - loss: 3.4955 - mae: 3.4955\n",
            "Epoch 11/100\n",
            "1/1 [==============================] - 0s 11ms/step - loss: 3.2248 - mae: 3.2248\n",
            "Epoch 12/100\n",
            "1/1 [==============================] - 0s 13ms/step - loss: 3.0101 - mae: 3.0101\n",
            "Epoch 13/100\n",
            "1/1 [==============================] - 0s 12ms/step - loss: 2.8715 - mae: 2.8715\n",
            "Epoch 14/100\n",
            "1/1 [==============================] - 0s 14ms/step - loss: 2.9963 - mae: 2.9963\n",
            "Epoch 15/100\n",
            "1/1 [==============================] - 0s 11ms/step - loss: 2.3699 - mae: 2.3699\n",
            "Epoch 16/100\n",
            "1/1 [==============================] - 0s 17ms/step - loss: 2.0741 - mae: 2.0741\n",
            "Epoch 17/100\n",
            "1/1 [==============================] - 0s 17ms/step - loss: 2.2543 - mae: 2.2543\n",
            "Epoch 18/100\n",
            "1/1 [==============================] - 0s 16ms/step - loss: 1.2034 - mae: 1.2034\n",
            "Epoch 19/100\n",
            "1/1 [==============================] - 0s 15ms/step - loss: 1.2169 - mae: 1.2169\n",
            "Epoch 20/100\n",
            "1/1 [==============================] - 0s 15ms/step - loss: 1.4759 - mae: 1.4759\n",
            "Epoch 21/100\n",
            "1/1 [==============================] - 0s 15ms/step - loss: 0.5675 - mae: 0.5675\n",
            "Epoch 22/100\n",
            "1/1 [==============================] - 0s 13ms/step - loss: 2.4682 - mae: 2.4682\n",
            "Epoch 23/100\n",
            "1/1 [==============================] - 0s 15ms/step - loss: 1.6697 - mae: 1.6697\n",
            "Epoch 24/100\n",
            "1/1 [==============================] - 0s 15ms/step - loss: 2.2116 - mae: 2.2116\n",
            "Epoch 25/100\n",
            "1/1 [==============================] - 0s 14ms/step - loss: 2.5260 - mae: 2.5260\n",
            "Epoch 26/100\n",
            "1/1 [==============================] - 0s 18ms/step - loss: 1.2398 - mae: 1.2398\n",
            "Epoch 27/100\n",
            "1/1 [==============================] - 0s 19ms/step - loss: 2.1755 - mae: 2.1755\n",
            "Epoch 28/100\n",
            "1/1 [==============================] - 0s 14ms/step - loss: 2.8622 - mae: 2.8622\n",
            "Epoch 29/100\n",
            "1/1 [==============================] - 0s 16ms/step - loss: 1.3234 - mae: 1.3234\n",
            "Epoch 30/100\n",
            "1/1 [==============================] - 0s 16ms/step - loss: 1.9139 - mae: 1.9139\n",
            "Epoch 31/100\n",
            "1/1 [==============================] - 0s 15ms/step - loss: 2.9265 - mae: 2.9265\n",
            "Epoch 32/100\n",
            "1/1 [==============================] - 0s 16ms/step - loss: 2.7719 - mae: 2.7719\n",
            "Epoch 33/100\n",
            "1/1 [==============================] - 0s 15ms/step - loss: 1.5508 - mae: 1.5508\n",
            "Epoch 34/100\n",
            "1/1 [==============================] - 0s 17ms/step - loss: 0.9760 - mae: 0.9760\n",
            "Epoch 35/100\n",
            "1/1 [==============================] - 0s 15ms/step - loss: 1.9137 - mae: 1.9137\n",
            "Epoch 36/100\n",
            "1/1 [==============================] - 0s 17ms/step - loss: 0.7955 - mae: 0.7955\n",
            "Epoch 37/100\n",
            "1/1 [==============================] - 0s 18ms/step - loss: 1.5983 - mae: 1.5983\n",
            "Epoch 38/100\n",
            "1/1 [==============================] - 0s 17ms/step - loss: 2.3119 - mae: 2.3119\n",
            "Epoch 39/100\n",
            "1/1 [==============================] - 0s 18ms/step - loss: 1.8637 - mae: 1.8637\n",
            "Epoch 40/100\n",
            "1/1 [==============================] - 0s 24ms/step - loss: 0.4465 - mae: 0.4465\n",
            "Epoch 41/100\n",
            "1/1 [==============================] - 0s 16ms/step - loss: 2.3661 - mae: 2.3661\n",
            "Epoch 42/100\n",
            "1/1 [==============================] - 0s 14ms/step - loss: 3.1918 - mae: 3.1918\n",
            "Epoch 43/100\n",
            "1/1 [==============================] - 0s 16ms/step - loss: 2.1586 - mae: 2.1586\n",
            "Epoch 44/100\n",
            "1/1 [==============================] - 0s 20ms/step - loss: 0.4990 - mae: 0.4990\n",
            "Epoch 45/100\n",
            "1/1 [==============================] - 0s 14ms/step - loss: 2.0324 - mae: 2.0324\n",
            "Epoch 46/100\n",
            "1/1 [==============================] - 0s 16ms/step - loss: 2.6173 - mae: 2.6173\n",
            "Epoch 47/100\n",
            "1/1 [==============================] - 0s 20ms/step - loss: 2.2517 - mae: 2.2517\n",
            "Epoch 48/100\n",
            "1/1 [==============================] - 0s 23ms/step - loss: 0.9763 - mae: 0.9763\n",
            "Epoch 49/100\n",
            "1/1 [==============================] - 0s 19ms/step - loss: 1.4180 - mae: 1.4180\n",
            "Epoch 50/100\n",
            "1/1 [==============================] - 0s 12ms/step - loss: 2.3332 - mae: 2.3332\n",
            "Epoch 51/100\n",
            "1/1 [==============================] - 0s 17ms/step - loss: 1.6803 - mae: 1.6803\n",
            "Epoch 52/100\n",
            "1/1 [==============================] - 0s 15ms/step - loss: 0.3676 - mae: 0.3676\n",
            "Epoch 53/100\n",
            "1/1 [==============================] - 0s 15ms/step - loss: 1.3461 - mae: 1.3461\n",
            "Epoch 54/100\n",
            "1/1 [==============================] - 0s 12ms/step - loss: 1.4103 - mae: 1.4103\n",
            "Epoch 55/100\n",
            "1/1 [==============================] - 0s 15ms/step - loss: 0.5453 - mae: 0.5453\n",
            "Epoch 56/100\n",
            "1/1 [==============================] - 0s 19ms/step - loss: 1.5425 - mae: 1.5425\n",
            "Epoch 57/100\n",
            "1/1 [==============================] - 0s 17ms/step - loss: 2.1253 - mae: 2.1253\n",
            "Epoch 58/100\n",
            "1/1 [==============================] - 0s 16ms/step - loss: 1.4071 - mae: 1.4071\n",
            "Epoch 59/100\n",
            "1/1 [==============================] - 0s 25ms/step - loss: 0.3938 - mae: 0.3938\n",
            "Epoch 60/100\n",
            "1/1 [==============================] - 0s 16ms/step - loss: 1.3937 - mae: 1.3937\n",
            "Epoch 61/100\n",
            "1/1 [==============================] - 0s 16ms/step - loss: 1.3231 - mae: 1.3231\n",
            "Epoch 62/100\n",
            "1/1 [==============================] - 0s 15ms/step - loss: 0.5324 - mae: 0.5324\n",
            "Epoch 63/100\n",
            "1/1 [==============================] - 0s 14ms/step - loss: 1.2962 - mae: 1.2962\n",
            "Epoch 64/100\n",
            "1/1 [==============================] - 0s 14ms/step - loss: 1.6409 - mae: 1.6409\n",
            "Epoch 65/100\n",
            "1/1 [==============================] - 0s 22ms/step - loss: 0.7265 - mae: 0.7265\n",
            "Epoch 66/100\n",
            "1/1 [==============================] - 0s 18ms/step - loss: 1.0785 - mae: 1.0785\n",
            "Epoch 67/100\n",
            "1/1 [==============================] - 0s 13ms/step - loss: 1.7005 - mae: 1.7005\n",
            "Epoch 68/100\n",
            "1/1 [==============================] - 0s 12ms/step - loss: 1.4297 - mae: 1.4297\n",
            "Epoch 69/100\n",
            "1/1 [==============================] - 0s 17ms/step - loss: 0.4043 - mae: 0.4043\n",
            "Epoch 70/100\n",
            "1/1 [==============================] - 0s 21ms/step - loss: 1.4374 - mae: 1.4374\n",
            "Epoch 71/100\n",
            "1/1 [==============================] - 0s 16ms/step - loss: 1.7287 - mae: 1.7287\n",
            "Epoch 72/100\n",
            "1/1 [==============================] - 0s 20ms/step - loss: 0.8986 - mae: 0.8986\n",
            "Epoch 73/100\n",
            "1/1 [==============================] - 0s 16ms/step - loss: 0.8294 - mae: 0.8294\n",
            "Epoch 74/100\n",
            "1/1 [==============================] - 0s 16ms/step - loss: 1.3642 - mae: 1.3642\n",
            "Epoch 75/100\n",
            "1/1 [==============================] - 0s 15ms/step - loss: 1.2129 - mae: 1.2129\n",
            "Epoch 76/100\n",
            "1/1 [==============================] - 0s 13ms/step - loss: 0.3740 - mae: 0.3740\n",
            "Epoch 77/100\n",
            "1/1 [==============================] - 0s 13ms/step - loss: 1.2467 - mae: 1.2467\n",
            "Epoch 78/100\n",
            "1/1 [==============================] - 0s 20ms/step - loss: 1.2287 - mae: 1.2287\n",
            "Epoch 79/100\n",
            "1/1 [==============================] - 0s 16ms/step - loss: 0.4335 - mae: 0.4335\n",
            "Epoch 80/100\n",
            "1/1 [==============================] - 0s 15ms/step - loss: 1.3721 - mae: 1.3721\n",
            "Epoch 81/100\n",
            "1/1 [==============================] - 0s 14ms/step - loss: 1.9146 - mae: 1.9146\n",
            "Epoch 82/100\n",
            "1/1 [==============================] - 0s 13ms/step - loss: 1.6637 - mae: 1.6637\n",
            "Epoch 83/100\n",
            "1/1 [==============================] - 0s 12ms/step - loss: 0.7425 - mae: 0.7425\n",
            "Epoch 84/100\n",
            "1/1 [==============================] - 0s 14ms/step - loss: 1.1019 - mae: 1.1019\n",
            "Epoch 85/100\n",
            "1/1 [==============================] - 0s 15ms/step - loss: 1.6715 - mae: 1.6715\n",
            "Epoch 86/100\n",
            "1/1 [==============================] - 0s 12ms/step - loss: 1.0579 - mae: 1.0579\n",
            "Epoch 87/100\n",
            "1/1 [==============================] - 0s 13ms/step - loss: 0.4764 - mae: 0.4764\n",
            "Epoch 88/100\n",
            "1/1 [==============================] - 0s 15ms/step - loss: 0.8958 - mae: 0.8958\n",
            "Epoch 89/100\n",
            "1/1 [==============================] - 0s 16ms/step - loss: 0.4602 - mae: 0.4602\n",
            "Epoch 90/100\n",
            "1/1 [==============================] - 0s 13ms/step - loss: 0.6828 - mae: 0.6828\n",
            "Epoch 91/100\n",
            "1/1 [==============================] - 0s 17ms/step - loss: 0.5377 - mae: 0.5377\n",
            "Epoch 92/100\n",
            "1/1 [==============================] - 0s 14ms/step - loss: 0.4984 - mae: 0.4984\n",
            "Epoch 93/100\n",
            "1/1 [==============================] - 0s 16ms/step - loss: 0.5351 - mae: 0.5351\n",
            "Epoch 94/100\n",
            "1/1 [==============================] - 0s 14ms/step - loss: 0.3952 - mae: 0.3952\n",
            "Epoch 95/100\n",
            "1/1 [==============================] - 0s 14ms/step - loss: 0.2171 - mae: 0.2171\n",
            "Epoch 96/100\n",
            "1/1 [==============================] - 0s 14ms/step - loss: 0.4306 - mae: 0.4306\n",
            "Epoch 97/100\n",
            "1/1 [==============================] - 0s 15ms/step - loss: 0.1441 - mae: 0.1441\n",
            "Epoch 98/100\n",
            "1/1 [==============================] - 0s 14ms/step - loss: 0.6838 - mae: 0.6838\n",
            "Epoch 99/100\n",
            "1/1 [==============================] - 0s 12ms/step - loss: 0.3871 - mae: 0.3871\n",
            "Epoch 100/100\n",
            "1/1 [==============================] - 0s 12ms/step - loss: 0.8340 - mae: 0.8340\n"
          ]
        },
        {
          "output_type": "execute_result",
          "data": {
            "text/plain": [
              "<keras.callbacks.History at 0x7f6e8b1841c0>"
            ]
          },
          "metadata": {},
          "execution_count": 98
        }
      ]
    },
    {
      "cell_type": "code",
      "source": [
        "model.predict([21.0])"
      ],
      "metadata": {
        "colab": {
          "base_uri": "https://localhost:8080/"
        },
        "id": "ARNChGMeuu3D",
        "outputId": "7b33e166-687f-4e19-cf86-905b9233eb03"
      },
      "execution_count": 99,
      "outputs": [
        {
          "output_type": "stream",
          "name": "stdout",
          "text": [
            "1/1 [==============================] - 0s 96ms/step\n"
          ]
        },
        {
          "output_type": "execute_result",
          "data": {
            "text/plain": [
              "array([[29.037672]], dtype=float32)"
            ]
          },
          "metadata": {},
          "execution_count": 99
        }
      ]
    },
    {
      "cell_type": "markdown",
      "source": [
        "#### Evaluating the Model"
      ],
      "metadata": {
        "id": "tgVgd623vahr"
      }
    },
    {
      "cell_type": "markdown",
      "source": [
        " - Visualize the Input Data"
      ],
      "metadata": {
        "id": "eE4QuQjHQmWS"
      }
    },
    {
      "cell_type": "markdown",
      "source": [
        "Make a bigger dataset"
      ],
      "metadata": {
        "id": "0Za0Y9b5PgwR"
      }
    },
    {
      "cell_type": "code",
      "source": [
        "# Input Values\n",
        "X = tf.range(-100, 100, 4)\n",
        "\n",
        "X"
      ],
      "metadata": {
        "id": "cUvooSDqvePy",
        "colab": {
          "base_uri": "https://localhost:8080/"
        },
        "outputId": "0e468f5a-c654-4fc4-9b75-d192d045b83d"
      },
      "execution_count": 100,
      "outputs": [
        {
          "output_type": "execute_result",
          "data": {
            "text/plain": [
              "<tf.Tensor: shape=(50,), dtype=int32, numpy=\n",
              "array([-100,  -96,  -92,  -88,  -84,  -80,  -76,  -72,  -68,  -64,  -60,\n",
              "        -56,  -52,  -48,  -44,  -40,  -36,  -32,  -28,  -24,  -20,  -16,\n",
              "        -12,   -8,   -4,    0,    4,    8,   12,   16,   20,   24,   28,\n",
              "         32,   36,   40,   44,   48,   52,   56,   60,   64,   68,   72,\n",
              "         76,   80,   84,   88,   92,   96], dtype=int32)>"
            ]
          },
          "metadata": {},
          "execution_count": 100
        }
      ]
    },
    {
      "cell_type": "code",
      "source": [
        "# Ground Truth\n",
        "y = X + 10\n",
        "\n",
        "y"
      ],
      "metadata": {
        "colab": {
          "base_uri": "https://localhost:8080/"
        },
        "id": "jzo_qbhzQAk-",
        "outputId": "53e25cb2-b8ec-4b13-cdc5-9012db0efa3f"
      },
      "execution_count": 101,
      "outputs": [
        {
          "output_type": "execute_result",
          "data": {
            "text/plain": [
              "<tf.Tensor: shape=(50,), dtype=int32, numpy=\n",
              "array([-90, -86, -82, -78, -74, -70, -66, -62, -58, -54, -50, -46, -42,\n",
              "       -38, -34, -30, -26, -22, -18, -14, -10,  -6,  -2,   2,   6,  10,\n",
              "        14,  18,  22,  26,  30,  34,  38,  42,  46,  50,  54,  58,  62,\n",
              "        66,  70,  74,  78,  82,  86,  90,  94,  98, 102, 106], dtype=int32)>"
            ]
          },
          "metadata": {},
          "execution_count": 101
        }
      ]
    },
    {
      "cell_type": "code",
      "source": [
        "# Visualize the input data\n",
        "import matplotlib.pyplot as plt\n",
        "\n",
        "plt.scatter(X, y)"
      ],
      "metadata": {
        "colab": {
          "base_uri": "https://localhost:8080/",
          "height": 0
        },
        "id": "yKbJHX-VQd2w",
        "outputId": "e7072e08-408e-4e9f-accc-ecfeb2bc537f"
      },
      "execution_count": 102,
      "outputs": [
        {
          "output_type": "execute_result",
          "data": {
            "text/plain": [
              "<matplotlib.collections.PathCollection at 0x7f6e864dcbb0>"
            ]
          },
          "metadata": {},
          "execution_count": 102
        },
        {
          "output_type": "display_data",
          "data": {
            "text/plain": [
              "<Figure size 432x288 with 1 Axes>"
            ],
            "image/png": "[encoded data removed]"
          },
          "metadata": {
            "needs_background": "light"
          }
        }
      ]
    },
    {
      "cell_type": "markdown",
      "source": [
        " - The Three Sets\n",
        " In Machine Learning, the data is conventionally split into three datasets -\n",
        " 1. The **Training** Dataset - This consists of about **70-80%** of the input labels, it is used for the supervised learning of the model. It is like the learning resources a student utilizes while preparing for an exam.\n",
        " 2. The **Validation** Dataset - The model gets tuned on this data. It is usually **10-15%** of the total input data. It is much like the Practice Questionnaires a student solves in order to prepare well for an exam.\n",
        " 3. The **Testing** Dataset - The model gets tested on this data. It is usually **10-15%** of the total input data. The predictions are tested across the corressponding ground truth input labels. This is much like the final exam or the test the student was preparing for."
      ],
      "metadata": {
        "id": "P_6ccXXsQw3-"
      }
    },
    {
      "cell_type": "code",
      "source": [
        "# Split the Input Data into Training and Testing Datasets\n",
        "\n",
        "# 80% of the total input data\n",
        "X_train = X[:40]\n",
        "y_train = y[:40]\n",
        "\n",
        "X_test = X[40:]\n",
        "y_test = y[40:]\n",
        "\n",
        "X_train, y_train, X_test, y_test"
      ],
      "metadata": {
        "colab": {
          "base_uri": "https://localhost:8080/"
        },
        "id": "23T_p3ZsSTqZ",
        "outputId": "d4fcba8d-62bc-41ea-ac1b-2245c416c6df"
      },
      "execution_count": 103,
      "outputs": [
        {
          "output_type": "execute_result",
          "data": {
            "text/plain": [
              "(<tf.Tensor: shape=(40,), dtype=int32, numpy=\n",
              " array([-100,  -96,  -92,  -88,  -84,  -80,  -76,  -72,  -68,  -64,  -60,\n",
              "         -56,  -52,  -48,  -44,  -40,  -36,  -32,  -28,  -24,  -20,  -16,\n",
              "         -12,   -8,   -4,    0,    4,    8,   12,   16,   20,   24,   28,\n",
              "          32,   36,   40,   44,   48,   52,   56], dtype=int32)>,\n",
              " <tf.Tensor: shape=(40,), dtype=int32, numpy=\n",
              " array([-90, -86, -82, -78, -74, -70, -66, -62, -58, -54, -50, -46, -42,\n",
              "        -38, -34, -30, -26, -22, -18, -14, -10,  -6,  -2,   2,   6,  10,\n",
              "         14,  18,  22,  26,  30,  34,  38,  42,  46,  50,  54,  58,  62,\n",
              "         66], dtype=int32)>,\n",
              " <tf.Tensor: shape=(10,), dtype=int32, numpy=array([60, 64, 68, 72, 76, 80, 84, 88, 92, 96], dtype=int32)>,\n",
              " <tf.Tensor: shape=(10,), dtype=int32, numpy=array([ 70,  74,  78,  82,  86,  90,  94,  98, 102, 106], dtype=int32)>)"
            ]
          },
          "metadata": {},
          "execution_count": 103
        }
      ]
    },
    {
      "cell_type": "code",
      "source": [
        "# Visualise the new datasets\n",
        "\n",
        "plt.figure(figsize=(10, 7))\n",
        "\n",
        "plt.scatter(X_train, y_train, label = \"Training Data\")\n",
        "plt.scatter(X_test, y_test, c = 'y', label = \"Testing Data\")\n",
        "\n",
        "plt.legend()"
      ],
      "metadata": {
        "colab": {
          "base_uri": "https://localhost:8080/",
          "height": 0
        },
        "id": "XY-fTfxpTDOl",
        "outputId": "3bf97e3b-6365-44ed-d9a8-b70466e85aca"
      },
      "execution_count": 104,
      "outputs": [
        {
          "output_type": "execute_result",
          "data": {
            "text/plain": [
              "<matplotlib.legend.Legend at 0x7f6e864bdc70>"
            ]
          },
          "metadata": {},
          "execution_count": 104
        },
        {
          "output_type": "display_data",
          "data": {
            "text/plain": [
              "<Figure size 720x504 with 1 Axes>"
            ],
            "image/png": "[encoded data removed]"
          },
          "metadata": {
            "needs_background": "light"
          }
        }
      ]
    },
    {
      "cell_type": "code",
      "source": [
        "# Create a Neural Network that is to be Evaluated\n",
        "\n",
        "tf.random.set_seed(4)\n",
        "\n",
        "model_1 = tf.keras.Sequential([\n",
        "    tf.keras.layers.Dense(100, name = 'input_layer', activation = None),\n",
        "    tf.keras.layers.Dense(1, name = 'output_layer')\n",
        "], name = 'model_1')\n",
        "\n",
        "model_1.compile(loss = tf.keras.losses.MeanSquaredError(),\n",
        "              optimizer = tf.keras.optimizers.Adam(learning_rate = 0.02),\n",
        "              metrics = ['mse'])"
      ],
      "metadata": {
        "id": "BHRL3Yo5Tq7p"
      },
      "execution_count": 105,
      "outputs": []
    },
    {
      "cell_type": "markdown",
      "source": [
        "- Visualize the Model"
      ],
      "metadata": {
        "id": "2iuKk5TpXU76"
      }
    },
    {
      "cell_type": "code",
      "source": [
        "model_1.build(input_shape = (40,1))"
      ],
      "metadata": {
        "id": "5-YjMBhvX2-G"
      },
      "execution_count": 106,
      "outputs": []
    },
    {
      "cell_type": "code",
      "source": [
        "model_1.summary()"
      ],
      "metadata": {
        "colab": {
          "base_uri": "https://localhost:8080/"
        },
        "id": "s9-SV0-YX6of",
        "outputId": "66174ea3-15a5-433c-a4d5-4a04dba8a9aa"
      },
      "execution_count": 107,
      "outputs": [
        {
          "output_type": "stream",
          "name": "stdout",
          "text": [
            "Model: \"model_1\"\n",
            "_________________________________________________________________\n",
            " Layer (type)                Output Shape              Param #   \n",
            "=================================================================\n",
            " input_layer (Dense)         (40, 100)                 200       \n",
            "                                                                 \n",
            " output_layer (Dense)        (40, 1)                   101       \n",
            "                                                                 \n",
            "=================================================================\n",
            "Total params: 301\n",
            "Trainable params: 301\n",
            "Non-trainable params: 0\n",
            "_________________________________________________________________\n"
          ]
        }
      ]
    },
    {
      "cell_type": "markdown",
      "source": [
        "**Total Params:** The total number of parameters present in the model.\n",
        "\n",
        "**Trainable Params:** The number of parameters that can be updated while training the model.\n",
        "\n",
        "**Non-trainable Params:** The number of parameters that cannot be updated while training the model (These are typically set during Transfer learning) \n"
      ],
      "metadata": {
        "id": "9PLj4XdYZJsk"
      }
    },
    {
      "cell_type": "code",
      "source": [
        "# Fit our model to the training data\n",
        "\n",
        "model_1.fit(tf.expand_dims(X_train, axis = -1), y_train, epochs = 300, verbose = 0)"
      ],
      "metadata": {
        "colab": {
          "base_uri": "https://localhost:8080/"
        },
        "id": "r6IcrrBAarzV",
        "outputId": "dbec2aa0-ab4d-4760-8f28-ca53f12f35b1"
      },
      "execution_count": 108,
      "outputs": [
        {
          "output_type": "execute_result",
          "data": {
            "text/plain": [
              "<keras.callbacks.History at 0x7f6e8641f820>"
            ]
          },
          "metadata": {},
          "execution_count": 108
        }
      ]
    },
    {
      "cell_type": "code",
      "source": [
        "# Use the Keras plot_model() function to get a more visual insight of the model\n",
        "\n",
        "from tensorflow.keras.utils import plot_model\n",
        "\n",
        "plot_model(model = model_1, show_shapes = True, show_dtype = True)"
      ],
      "metadata": {
        "colab": {
          "base_uri": "https://localhost:8080/",
          "height": 0
        },
        "id": "CjgGEAGVa3vR",
        "outputId": "2958a4e2-b209-4d68-b8dd-2dd837f3df05"
      },
      "execution_count": 109,
      "outputs": [
        {
          "output_type": "execute_result",
          "data": {
            "image/png": "[encoded data removed]",
            "text/plain": [
              "<IPython.core.display.Image object>"
            ]
          },
          "metadata": {},
          "execution_count": 109
        }
      ]
    },
    {
      "cell_type": "markdown",
      "source": [
        "- Visualize the model's predictions"
      ],
      "metadata": {
        "id": "gi99ifCCblOu"
      }
    },
    {
      "cell_type": "code",
      "source": [
        "# Make predictions\n",
        "\n",
        "y_pred = model_1.predict(X_test)\n",
        "y_pred"
      ],
      "metadata": {
        "colab": {
          "base_uri": "https://localhost:8080/"
        },
        "id": "plYUkVZjdAdL",
        "outputId": "304e72ab-e2cd-4a3c-f34b-84980f6d73e5"
      },
      "execution_count": 110,
      "outputs": [
        {
          "output_type": "stream",
          "name": "stdout",
          "text": [
            "1/1 [==============================] - 0s 61ms/step\n"
          ]
        },
        {
          "output_type": "execute_result",
          "data": {
            "text/plain": [
              "array([[ 69.99999 ],\n",
              "       [ 74.      ],\n",
              "       [ 78.00001 ],\n",
              "       [ 81.99999 ],\n",
              "       [ 85.99999 ],\n",
              "       [ 89.99999 ],\n",
              "       [ 93.999985],\n",
              "       [ 97.999985],\n",
              "       [101.99999 ],\n",
              "       [105.99999 ]], dtype=float32)"
            ]
          },
          "metadata": {},
          "execution_count": 110
        }
      ]
    },
    {
      "cell_type": "code",
      "source": [
        "y_test"
      ],
      "metadata": {
        "colab": {
          "base_uri": "https://localhost:8080/"
        },
        "id": "cIhXKFTsdNQ4",
        "outputId": "94b65580-3114-47ee-d4fa-7a7d09f83ade"
      },
      "execution_count": 111,
      "outputs": [
        {
          "output_type": "execute_result",
          "data": {
            "text/plain": [
              "<tf.Tensor: shape=(10,), dtype=int32, numpy=array([ 70,  74,  78,  82,  86,  90,  94,  98, 102, 106], dtype=int32)>"
            ]
          },
          "metadata": {},
          "execution_count": 111
        }
      ]
    },
    {
      "cell_type": "code",
      "source": [
        "# Create a Plotting function for reusability\n",
        "\n",
        "def plot_preds(preds,\n",
        "               train_data = X_train,\n",
        "               train_labels = y_train,\n",
        "               test_data = X_test,\n",
        "               test_labels = y_test):\n",
        "  \"\"\"\n",
        "  Plot training and test data along with predictions made by the model, and compare them to the ground truth (test_labels)\n",
        "  \"\"\"\n",
        "\n",
        "  import matplotlib.pyplot as plt\n",
        "\n",
        "  plt.figure(figsize = (10, 7))\n",
        "\n",
        "  plt.scatter(X_train, y_train, label = \"Training Data\")\n",
        "  plt.scatter(X_test, y_test, c = 'y', label = \"Testing Data\")\n",
        "\n",
        "  # Plot the predictions\n",
        "  plt.scatter(X_test, preds, c = 'r', label = \"Predictions\")\n",
        "\n",
        "  plt.legend()"
      ],
      "metadata": {
        "id": "EXu8dmDTdc1y"
      },
      "execution_count": 112,
      "outputs": []
    },
    {
      "cell_type": "code",
      "source": [
        "plot_preds(y_pred)"
      ],
      "metadata": {
        "colab": {
          "base_uri": "https://localhost:8080/",
          "height": 0
        },
        "id": "E9NhdDDYe7_-",
        "outputId": "687632b5-1378-4864-a767-9a88c425d55e"
      },
      "execution_count": 113,
      "outputs": [
        {
          "output_type": "display_data",
          "data": {
            "text/plain": [
              "<Figure size 720x504 with 1 Axes>"
            ],
            "image/png": "[encoded data removed]"
          },
          "metadata": {
            "needs_background": "light"
          }
        }
      ]
    },
    {
      "cell_type": "markdown",
      "source": [
        "- Evaluating Model Based on Common **Regression** Evaluation Metrics\n",
        "\n",
        "The common evaluation metrics for a regression model are -\n",
        "\n",
        "**MAE:** Mean Absolute Error, measures the average deviance from the ground truth values.\n",
        "\n",
        "**MSE:** Mean Squared Error, measures the average of the square of the deviances from the ground truth values. Very effective when making bigger mistakes is not desired. This will tone up the higher values even more (by squaring them) and this will cause the model to adjust more.\n",
        "\n",
        "**Huber:** This is a combination of MSE & MAE, it is less sensitive to outliers than MSE"
      ],
      "metadata": {
        "id": "ABsTzwxHzIyi"
      }
    },
    {
      "cell_type": "code",
      "source": [
        "# Using the evaluate() function from keras\n",
        "\n",
        "model_1.evaluate(X_test, y_test)"
      ],
      "metadata": {
        "colab": {
          "base_uri": "https://localhost:8080/"
        },
        "id": "eJ5OpINIzMQU",
        "outputId": "3808bba0-ec12-4ff6-dfcc-eeac2d17e66f"
      },
      "execution_count": 114,
      "outputs": [
        {
          "output_type": "stream",
          "name": "stdout",
          "text": [
            "1/1 [==============================] - 0s 132ms/step - loss: 4.0745e-11 - mse: 4.0745e-11\n"
          ]
        },
        {
          "output_type": "execute_result",
          "data": {
            "text/plain": [
              "[4.0745361945537795e-11, 4.0745361945537795e-11]"
            ]
          },
          "metadata": {},
          "execution_count": 114
        }
      ]
    },
    {
      "cell_type": "markdown",
      "source": [
        "Use the tf.metrics module to get the metrics based on y_pred and y_test"
      ],
      "metadata": {
        "id": "k1lh32Jw1aHk"
      }
    },
    {
      "cell_type": "code",
      "source": [
        "# Mean Absolute Error\n",
        "\n",
        "mae = tf.metrics.mean_absolute_error(y_true = y_test,\n",
        "                               y_pred = tf.squeeze(y_pred)).numpy()\n",
        "\n",
        "mae"
      ],
      "metadata": {
        "colab": {
          "base_uri": "https://localhost:8080/"
        },
        "id": "2op00QHP0iG_",
        "outputId": "184ba76e-6654-4968-ed4e-5ec3308e71fc"
      },
      "execution_count": 115,
      "outputs": [
        {
          "output_type": "execute_result",
          "data": {
            "text/plain": [
              "8.392334e-06"
            ]
          },
          "metadata": {},
          "execution_count": 115
        }
      ]
    },
    {
      "cell_type": "code",
      "source": [
        "# Mean Squared Error\n",
        "\n",
        "mse = tf.metrics.mean_squared_error(y_true = y_test,\n",
        "                               y_pred = tf.squeeze(y_pred)).numpy()\n",
        "mse "
      ],
      "metadata": {
        "colab": {
          "base_uri": "https://localhost:8080/"
        },
        "id": "usl-o93G1Ned",
        "outputId": "068ff824-b212-4eb6-9c2d-06624bbf13b4"
      },
      "execution_count": 116,
      "outputs": [
        {
          "output_type": "execute_result",
          "data": {
            "text/plain": [
              "8.731149e-11"
            ]
          },
          "metadata": {},
          "execution_count": 116
        }
      ]
    },
    {
      "cell_type": "code",
      "source": [
        "# Huber\n",
        "\n",
        "huber = tf.keras.losses.huber(y_true = y_test,\n",
        "                               y_pred = tf.squeeze(y_pred)).numpy()\n",
        "huber"
      ],
      "metadata": {
        "colab": {
          "base_uri": "https://localhost:8080/"
        },
        "id": "wa4sYOqF1lFd",
        "outputId": "6912b65a-1298-4646-a17d-4f1a8bbccc58"
      },
      "execution_count": 117,
      "outputs": [
        {
          "output_type": "execute_result",
          "data": {
            "text/plain": [
              "4.3655746e-11"
            ]
          },
          "metadata": {},
          "execution_count": 117
        }
      ]
    },
    {
      "cell_type": "code",
      "source": [
        "model_1.predict([98765432])"
      ],
      "metadata": {
        "colab": {
          "base_uri": "https://localhost:8080/"
        },
        "id": "qYm1JoTs4TM5",
        "outputId": "25b9af14-ed36-4ff7-c812-0171e1e5b14f"
      },
      "execution_count": 118,
      "outputs": [
        {
          "output_type": "stream",
          "name": "stdout",
          "text": [
            "1/1 [==============================] - 0s 95ms/step\n"
          ]
        },
        {
          "output_type": "execute_result",
          "data": {
            "text/plain": [
              "array([[98765408.]], dtype=float32)"
            ]
          },
          "metadata": {},
          "execution_count": 118
        }
      ]
    },
    {
      "cell_type": "markdown",
      "source": [
        "#### Tracking Experiments"
      ],
      "metadata": {
        "id": "ouY_hD_n8cOv"
      }
    },
    {
      "cell_type": "markdown",
      "source": [
        "- Comparing our models and their evaluation metrics"
      ],
      "metadata": {
        "id": "v7GA-aD56g1f"
      }
    },
    {
      "cell_type": "code",
      "source": [
        "# We can use the pandas module to see the output metrics of our models even better\n",
        "\n",
        "import pandas as pd\n",
        "\n",
        "model_results = [[\"model_1\", mae, mse, huber],]\n",
        "                # [\"model_2\", mae_2, mse_2, huber_2],\n",
        "                # ...]\n",
        "\n",
        "pd.DataFrame(model_results, columns = ['Model Name', 'MAE', \"MSE\", \"Huber\"])"
      ],
      "metadata": {
        "colab": {
          "base_uri": "https://localhost:8080/",
          "height": 0
        },
        "id": "L6kcUY-s6lol",
        "outputId": "7d5c1201-c169-4f2a-f8f5-3abf37e1b650"
      },
      "execution_count": 119,
      "outputs": [
        {
          "output_type": "execute_result",
          "data": {
            "text/plain": [
              "  Model Name       MAE           MSE         Huber\n",
              "0    model_1  0.000008  8.731149e-11  4.365575e-11"
            ],
            "text/html": [
              "\n",
              "  <div id=\"df-bf167312-5eee-4731-873c-398e9a67e4b9\">\n",
              "    <div class=\"colab-df-container\">\n",
              "      <div>\n",
              "<style scoped>\n",
              "    .dataframe tbody tr th:only-of-type {\n",
              "        vertical-align: middle;\n",
              "    }\n",
              "\n",
              "    .dataframe tbody tr th {\n",
              "        vertical-align: top;\n",
              "    }\n",
              "\n",
              "    .dataframe thead th {\n",
              "        text-align: right;\n",
              "    }\n",
              "</style>\n",
              "<table border=\"1\" class=\"dataframe\">\n",
              "  <thead>\n",
              "    <tr style=\"text-align: right;\">\n",
              "      <th></th>\n",
              "      <th>Model Name</th>\n",
              "      <th>MAE</th>\n",
              "      <th>MSE</th>\n",
              "      <th>Huber</th>\n",
              "    </tr>\n",
              "  </thead>\n",
              "  <tbody>\n",
              "    <tr>\n",
              "      <th>0</th>\n",
              "      <td>model_1</td>\n",
              "      <td>0.000008</td>\n",
              "      <td>8.731149e-11</td>\n",
              "      <td>4.365575e-11</td>\n",
              "    </tr>\n",
              "  </tbody>\n",
              "</table>\n",
              "</div>\n",
              "      <button class=\"colab-df-convert\" onclick=\"convertToInteractive('df-bf167312-5eee-4731-873c-398e9a67e4b9')\"\n",
              "              title=\"Convert this dataframe to an interactive table.\"\n",
              "              style=\"display:none;\">\n",
              "        \n",
              "  <svg xmlns=\"http://www.w3.org/2000/svg\" height=\"24px\"viewBox=\"0 0 24 24\"\n",
              "       width=\"24px\">\n",
              "    <path d=\"M0 0h24v24H0V0z\" fill=\"none\"/>\n",
              "    <path d=\"M18.56 5.44l.94 2.06.94-2.06 2.06-.94-2.06-.94-.94-2.06-.94 2.06-2.06.94zm-11 1L8.5 8.5l.94-2.06 2.06-.94-2.06-.94L8.5 2.5l-.94 2.06-2.06.94zm10 10l.94 2.06.94-2.06 2.06-.94-2.06-.94-.94-2.06-.94 2.06-2.06.94z\"/><path d=\"M17.41 7.96l-1.37-1.37c-.4-.4-.92-.59-1.43-.59-.52 0-1.04.2-1.43.59L10.3 9.45l-7.72 7.72c-.78.78-.78 2.05 0 2.83L4 21.41c.39.39.9.59 1.41.59.51 0 1.02-.2 1.41-.59l7.78-7.78 2.81-2.81c.8-.78.8-2.07 0-2.86zM5.41 20L4 18.59l7.72-7.72 1.47 1.35L5.41 20z\"/>\n",
              "  </svg>\n",
              "      </button>\n",
              "      \n",
              "  <style>\n",
              "    .colab-df-container {\n",
              "      display:flex;\n",
              "      flex-wrap:wrap;\n",
              "      gap: 12px;\n",
              "    }\n",
              "\n",
              "    .colab-df-convert {\n",
              "      background-color: #E8F0FE;\n",
              "      border: none;\n",
              "      border-radius: 50%;\n",
              "      cursor: pointer;\n",
              "      display: none;\n",
              "      fill: #1967D2;\n",
              "      height: 32px;\n",
              "      padding: 0 0 0 0;\n",
              "      width: 32px;\n",
              "    }\n",
              "\n",
              "    .colab-df-convert:hover {\n",
              "      background-color: #E2EBFA;\n",
              "      box-shadow: 0px 1px 2px rgba(60, 64, 67, 0.3), 0px 1px 3px 1px rgba(60, 64, 67, 0.15);\n",
              "      fill: #174EA6;\n",
              "    }\n",
              "\n",
              "    [theme=dark] .colab-df-convert {\n",
              "      background-color: #3B4455;\n",
              "      fill: #D2E3FC;\n",
              "    }\n",
              "\n",
              "    [theme=dark] .colab-df-convert:hover {\n",
              "      background-color: #434B5C;\n",
              "      box-shadow: 0px 1px 3px 1px rgba(0, 0, 0, 0.15);\n",
              "      filter: drop-shadow(0px 1px 2px rgba(0, 0, 0, 0.3));\n",
              "      fill: #FFFFFF;\n",
              "    }\n",
              "  </style>\n",
              "\n",
              "      <script>\n",
              "        const buttonEl =\n",
              "          document.querySelector('#df-bf167312-5eee-4731-873c-398e9a67e4b9 button.colab-df-convert');\n",
              "        buttonEl.style.display =\n",
              "          google.colab.kernel.accessAllowed ? 'block' : 'none';\n",
              "\n",
              "        async function convertToInteractive(key) {\n",
              "          const element = document.querySelector('#df-bf167312-5eee-4731-873c-398e9a67e4b9');\n",
              "          const dataTable =\n",
              "            await google.colab.kernel.invokeFunction('convertToInteractive',\n",
              "                                                     [key], {});\n",
              "          if (!dataTable) return;\n",
              "\n",
              "          const docLinkHtml = 'Like what you see? Visit the ' +\n",
              "            '<a target=\"_blank\" href=https://colab.research.google.com/notebooks/data_table.ipynb>data table notebook</a>'\n",
              "            + ' to learn more about interactive tables.';\n",
              "          element.innerHTML = '';\n",
              "          dataTable['output_type'] = 'display_data';\n",
              "          await google.colab.output.renderOutput(dataTable, element);\n",
              "          const docLink = document.createElement('div');\n",
              "          docLink.innerHTML = docLinkHtml;\n",
              "          element.appendChild(docLink);\n",
              "        }\n",
              "      </script>\n",
              "    </div>\n",
              "  </div>\n",
              "  "
            ]
          },
          "metadata": {},
          "execution_count": 119
        }
      ]
    },
    {
      "cell_type": "markdown",
      "source": [
        "- Using External Tools\n",
        " - Like **TensorBoard**\n",
        " - and **Weights & Biases**"
      ],
      "metadata": {
        "id": "ZhOT_13f7ZGO"
      }
    },
    {
      "cell_type": "markdown",
      "source": [
        "#### Saving Models"
      ],
      "metadata": {
        "id": "HxK1xHFO9SPr"
      }
    },
    {
      "cell_type": "markdown",
      "source": [
        "There are two formats of saving TensorFlow models onto the disk\n",
        "\n",
        "1. SavedModel\n",
        "2. HDF5 (.h5 extension)"
      ],
      "metadata": {
        "id": "VclQZHgs9WGt"
      }
    },
    {
      "cell_type": "code",
      "source": [
        "# Save the model using SavedModel format\n",
        "model_1.save(\"Simple Neural Regression Model\")"
      ],
      "metadata": {
        "id": "RR9zFpO-9uVe",
        "colab": {
          "base_uri": "https://localhost:8080/"
        },
        "outputId": "0f4781dd-14f5-4821-e4dc-956ff8c5a1f6"
      },
      "execution_count": 120,
      "outputs": [
        {
          "output_type": "stream",
          "name": "stderr",
          "text": [
            "WARNING:absl:Found untraced functions such as _update_step_xla while saving (showing 1 of 1). These functions will not be directly callable after loading.\n"
          ]
        }
      ]
    },
    {
      "cell_type": "markdown",
      "source": [
        "The `.pb` files saved inside the foldername are called **protobuf** files"
      ],
      "metadata": {
        "id": "csaMWNTH-mkz"
      }
    },
    {
      "cell_type": "code",
      "source": [
        "# Save the model in HDF5 format\n",
        "model_1.save(\"Simple Neural Regression Model.h5\")"
      ],
      "metadata": {
        "id": "MNGV6DmT9_lD"
      },
      "execution_count": 121,
      "outputs": []
    },
    {
      "cell_type": "markdown",
      "source": [
        "#### Loading Models"
      ],
      "metadata": {
        "id": "ULpu4G0w-Pk-"
      }
    },
    {
      "cell_type": "code",
      "source": [
        "# Load a model in SavedModel format\n",
        "\n",
        "loaded_model = tf.keras.models.load_model('Simple Neural Regression Model')\n",
        "loaded_model.summary()"
      ],
      "metadata": {
        "colab": {
          "base_uri": "https://localhost:8080/"
        },
        "id": "7ri9J3NL-98b",
        "outputId": "1330437e-5526-4eba-daaa-d289525c8c59"
      },
      "execution_count": 122,
      "outputs": [
        {
          "output_type": "stream",
          "name": "stdout",
          "text": [
            "Model: \"model_1\"\n",
            "_________________________________________________________________\n",
            " Layer (type)                Output Shape              Param #   \n",
            "=================================================================\n",
            " input_layer (Dense)         (None, 100)               200       \n",
            "                                                                 \n",
            " output_layer (Dense)        (None, 1)                 101       \n",
            "                                                                 \n",
            "=================================================================\n",
            "Total params: 301\n",
            "Trainable params: 301\n",
            "Non-trainable params: 0\n",
            "_________________________________________________________________\n"
          ]
        }
      ]
    },
    {
      "cell_type": "code",
      "source": [
        "model_1.summary()"
      ],
      "metadata": {
        "colab": {
          "base_uri": "https://localhost:8080/"
        },
        "id": "o3jSFt8g_WSy",
        "outputId": "6e84f295-8152-4a84-aa73-75665e2bfbf0"
      },
      "execution_count": 123,
      "outputs": [
        {
          "output_type": "stream",
          "name": "stdout",
          "text": [
            "Model: \"model_1\"\n",
            "_________________________________________________________________\n",
            " Layer (type)                Output Shape              Param #   \n",
            "=================================================================\n",
            " input_layer (Dense)         (None, 100)               200       \n",
            "                                                                 \n",
            " output_layer (Dense)        (None, 1)                 101       \n",
            "                                                                 \n",
            "=================================================================\n",
            "Total params: 301\n",
            "Trainable params: 301\n",
            "Non-trainable params: 0\n",
            "_________________________________________________________________\n"
          ]
        }
      ]
    },
    {
      "cell_type": "code",
      "source": [
        "tf.squeeze(model_1.predict(X_test)), tf.squeeze(loaded_model.predict(X_test))"
      ],
      "metadata": {
        "colab": {
          "base_uri": "https://localhost:8080/"
        },
        "id": "A0pA0hEW_fLp",
        "outputId": "82403975-ffe5-41ce-d914-108437f2105f"
      },
      "execution_count": 124,
      "outputs": [
        {
          "output_type": "stream",
          "name": "stdout",
          "text": [
            "1/1 [==============================] - 0s 33ms/step\n",
            "1/1 [==============================] - 0s 70ms/step\n"
          ]
        },
        {
          "output_type": "execute_result",
          "data": {
            "text/plain": [
              "(<tf.Tensor: shape=(10,), dtype=float32, numpy=\n",
              " array([ 69.99999 ,  74.      ,  78.00001 ,  81.99999 ,  85.99999 ,\n",
              "         89.99999 ,  93.999985,  97.999985, 101.99999 , 105.99999 ],\n",
              "       dtype=float32)>, <tf.Tensor: shape=(10,), dtype=float32, numpy=\n",
              " array([ 69.99999 ,  74.      ,  78.00001 ,  81.99999 ,  85.99999 ,\n",
              "         89.99999 ,  93.999985,  97.999985, 101.99999 , 105.99999 ],\n",
              "       dtype=float32)>)"
            ]
          },
          "metadata": {},
          "execution_count": 124
        }
      ]
    },
    {
      "cell_type": "code",
      "source": [
        "tf.squeeze(model_1.predict(X_test)) == tf.squeeze(loaded_model.predict(X_test))"
      ],
      "metadata": {
        "colab": {
          "base_uri": "https://localhost:8080/"
        },
        "id": "WnlbKEfk_ox4",
        "outputId": "9de6ee02-dcc3-4dac-c1d4-d03088a6b3eb"
      },
      "execution_count": 125,
      "outputs": [
        {
          "output_type": "stream",
          "name": "stdout",
          "text": [
            "1/1 [==============================] - 0s 38ms/step\n",
            "1/1 [==============================] - 0s 24ms/step\n"
          ]
        },
        {
          "output_type": "execute_result",
          "data": {
            "text/plain": [
              "<tf.Tensor: shape=(10,), dtype=bool, numpy=\n",
              "array([ True,  True,  True,  True,  True,  True,  True,  True,  True,\n",
              "        True])>"
            ]
          },
          "metadata": {},
          "execution_count": 125
        }
      ]
    },
    {
      "cell_type": "code",
      "source": [
        "# Load a model in HDF5 (.h5) format\n",
        "\n",
        "loaded_h5_model = tf.keras.models.load_model('Simple Neural Regression Model.h5')\n",
        "loaded_h5_model.summary()"
      ],
      "metadata": {
        "colab": {
          "base_uri": "https://localhost:8080/"
        },
        "id": "Gnu4CVJyABFg",
        "outputId": "47cf7e98-6c0a-46fc-88ce-bcea5195e70e"
      },
      "execution_count": 126,
      "outputs": [
        {
          "output_type": "stream",
          "name": "stdout",
          "text": [
            "Model: \"model_1\"\n",
            "_________________________________________________________________\n",
            " Layer (type)                Output Shape              Param #   \n",
            "=================================================================\n",
            " input_layer (Dense)         (None, 100)               200       \n",
            "                                                                 \n",
            " output_layer (Dense)        (None, 1)                 101       \n",
            "                                                                 \n",
            "=================================================================\n",
            "Total params: 301\n",
            "Trainable params: 301\n",
            "Non-trainable params: 0\n",
            "_________________________________________________________________\n"
          ]
        }
      ]
    },
    {
      "cell_type": "code",
      "source": [
        "tf.squeeze(model_1.predict(X_test)) == tf.squeeze(loaded_h5_model.predict(X_test))"
      ],
      "metadata": {
        "colab": {
          "base_uri": "https://localhost:8080/"
        },
        "id": "zo0_ugRDAUm3",
        "outputId": "bfead93f-cb66-4a9b-ad9d-80d188b292e7"
      },
      "execution_count": 127,
      "outputs": [
        {
          "output_type": "stream",
          "name": "stdout",
          "text": [
            "1/1 [==============================] - 0s 25ms/step\n",
            "1/1 [==============================] - 0s 81ms/step\n"
          ]
        },
        {
          "output_type": "execute_result",
          "data": {
            "text/plain": [
              "<tf.Tensor: shape=(10,), dtype=bool, numpy=\n",
              "array([ True,  True,  True,  True,  True,  True,  True,  True,  True,\n",
              "        True])>"
            ]
          },
          "metadata": {},
          "execution_count": 127
        }
      ]
    },
    {
      "cell_type": "markdown",
      "source": [
        "#### Download Files from Colab"
      ],
      "metadata": {
        "id": "v-2_vFboBlZu"
      }
    },
    {
      "cell_type": "code",
      "source": [
        "from google.colab import files\n",
        "files.download(\"Simple Neural Regression Model.h5\")"
      ],
      "metadata": {
        "colab": {
          "base_uri": "https://localhost:8080/",
          "height": 0
        },
        "id": "TYDfbsexBobi",
        "outputId": "6772883c-2c7d-4ffc-ace0-38f2df099427"
      },
      "execution_count": 128,
      "outputs": [
        {
          "output_type": "display_data",
          "data": {
            "text/plain": [
              "<IPython.core.display.Javascript object>"
            ],
            "application/javascript": [
              "\n",
              "    async function download(id, filename, size) {\n",
              "      if (!google.colab.kernel.accessAllowed) {\n",
              "        return;\n",
              "      }\n",
              "      const div = document.createElement('div');\n",
              "      const label = document.createElement('label');\n",
              "      label.textContent = `Downloading \"${filename}\": `;\n",
              "      div.appendChild(label);\n",
              "      const progress = document.createElement('progress');\n",
              "      progress.max = size;\n",
              "      div.appendChild(progress);\n",
              "      document.body.appendChild(div);\n",
              "\n",
              "      const buffers = [];\n",
              "      let downloaded = 0;\n",
              "\n",
              "      const channel = await google.colab.kernel.comms.open(id);\n",
              "      // Send a message to notify the kernel that we're ready.\n",
              "      channel.send({})\n",
              "\n",
              "      for await (const message of channel.messages) {\n",
              "        // Send a message to notify the kernel that we're ready.\n",
              "        channel.send({})\n",
              "        if (message.buffers) {\n",
              "          for (const buffer of message.buffers) {\n",
              "            buffers.push(buffer);\n",
              "            downloaded += buffer.byteLength;\n",
              "            progress.value = downloaded;\n",
              "          }\n",
              "        }\n",
              "      }\n",
              "      const blob = new Blob(buffers, {type: 'application/binary'});\n",
              "      const a = document.createElement('a');\n",
              "      a.href = window.URL.createObjectURL(blob);\n",
              "      a.download = filename;\n",
              "      div.appendChild(a);\n",
              "      a.click();\n",
              "      div.remove();\n",
              "    }\n",
              "  "
            ]
          },
          "metadata": {}
        },
        {
          "output_type": "display_data",
          "data": {
            "text/plain": [
              "<IPython.core.display.Javascript object>"
            ],
            "application/javascript": [
              "download(\"download_cfecf50b-a544-4942-b39f-b7f8348f0f24\", \"Simple Neural Regression Model.h5\", 28416)"
            ]
          },
          "metadata": {}
        }
      ]
    },
    {
      "cell_type": "code",
      "source": [
        "# Save Colab Files to Google Drive\n",
        "\n",
        "!cp \"Simple Neural Regression Model.h5\" \"drive/MyDrive/Colab Notebooks/Neural Network Regression/Models/\"\n",
        "!ls \"drive/MyDrive/Colab Notebooks/Neural Network Regression/Models/\""
      ],
      "metadata": {
        "colab": {
          "base_uri": "https://localhost:8080/"
        },
        "id": "LktD9I6nB6Gu",
        "outputId": "283a8091-d361-4f0f-dd71-81e0cb31d7a4"
      },
      "execution_count": 129,
      "outputs": [
        {
          "output_type": "stream",
          "name": "stdout",
          "text": [
            "'Simple Neural Regression Model.h5'\n"
          ]
        }
      ]
    },
    {
      "cell_type": "markdown",
      "source": [
        "# First Large Model"
      ],
      "metadata": {
        "id": "PdI_j6lAHLLW"
      }
    },
    {
      "cell_type": "markdown",
      "source": [
        "#### Get the Dataset and One-Hot Encode it"
      ],
      "metadata": {
        "id": "7jZXEzrVIF8L"
      }
    },
    {
      "cell_type": "code",
      "source": [
        "import tensorflow as tf\n",
        "import pandas as pd\n",
        "import matplotlib.pyplot as plt\n",
        "\n",
        "insurance = pd.read_csv(\"https://raw.githubusercontent.com/stedy/Machine-Learning-with-R-datasets/master/insurance.csv\")\n",
        "insurance"
      ],
      "metadata": {
        "colab": {
          "base_uri": "https://localhost:8080/",
          "height": 423
        },
        "id": "0gmFGXMmIKyk",
        "outputId": "48d0c8ee-84eb-423c-dd94-980d273663fd"
      },
      "execution_count": 130,
      "outputs": [
        {
          "output_type": "execute_result",
          "data": {
            "text/plain": [
              "      age     sex     bmi  children smoker     region      charges\n",
              "0      19  female  27.900         0    yes  southwest  16884.92400\n",
              "1      18    male  33.770         1     no  southeast   1725.55230\n",
              "2      28    male  33.000         3     no  southeast   4449.46200\n",
              "3      33    male  22.705         0     no  northwest  21984.47061\n",
              "4      32    male  28.880         0     no  northwest   3866.85520\n",
              "...   ...     ...     ...       ...    ...        ...          ...\n",
              "1333   50    male  30.970         3     no  northwest  10600.54830\n",
              "1334   18  female  31.920         0     no  northeast   2205.98080\n",
              "1335   18  female  36.850         0     no  southeast   1629.83350\n",
              "1336   21  female  25.800         0     no  southwest   2007.94500\n",
              "1337   61  female  29.070         0    yes  northwest  29141.36030\n",
              "\n",
              "[1338 rows x 7 columns]"
            ],
            "text/html": [
              "\n",
              "  <div id=\"df-67e17c44-34eb-4203-b158-4efd6b689b7a\">\n",
              "    <div class=\"colab-df-container\">\n",
              "      <div>\n",
              "<style scoped>\n",
              "    .dataframe tbody tr th:only-of-type {\n",
              "        vertical-align: middle;\n",
              "    }\n",
              "\n",
              "    .dataframe tbody tr th {\n",
              "        vertical-align: top;\n",
              "    }\n",
              "\n",
              "    .dataframe thead th {\n",
              "        text-align: right;\n",
              "    }\n",
              "</style>\n",
              "<table border=\"1\" class=\"dataframe\">\n",
              "  <thead>\n",
              "    <tr style=\"text-align: right;\">\n",
              "      <th></th>\n",
              "      <th>age</th>\n",
              "      <th>sex</th>\n",
              "      <th>bmi</th>\n",
              "      <th>children</th>\n",
              "      <th>smoker</th>\n",
              "      <th>region</th>\n",
              "      <th>charges</th>\n",
              "    </tr>\n",
              "  </thead>\n",
              "  <tbody>\n",
              "    <tr>\n",
              "      <th>0</th>\n",
              "      <td>19</td>\n",
              "      <td>female</td>\n",
              "      <td>27.900</td>\n",
              "      <td>0</td>\n",
              "      <td>yes</td>\n",
              "      <td>southwest</td>\n",
              "      <td>16884.92400</td>\n",
              "    </tr>\n",
              "    <tr>\n",
              "      <th>1</th>\n",
              "      <td>18</td>\n",
              "      <td>male</td>\n",
              "      <td>33.770</td>\n",
              "      <td>1</td>\n",
              "      <td>no</td>\n",
              "      <td>southeast</td>\n",
              "      <td>1725.55230</td>\n",
              "    </tr>\n",
              "    <tr>\n",
              "      <th>2</th>\n",
              "      <td>28</td>\n",
              "      <td>male</td>\n",
              "      <td>33.000</td>\n",
              "      <td>3</td>\n",
              "      <td>no</td>\n",
              "      <td>southeast</td>\n",
              "      <td>4449.46200</td>\n",
              "    </tr>\n",
              "    <tr>\n",
              "      <th>3</th>\n",
              "      <td>33</td>\n",
              "      <td>male</td>\n",
              "      <td>22.705</td>\n",
              "      <td>0</td>\n",
              "      <td>no</td>\n",
              "      <td>northwest</td>\n",
              "      <td>21984.47061</td>\n",
              "    </tr>\n",
              "    <tr>\n",
              "      <th>4</th>\n",
              "      <td>32</td>\n",
              "      <td>male</td>\n",
              "      <td>28.880</td>\n",
              "      <td>0</td>\n",
              "      <td>no</td>\n",
              "      <td>northwest</td>\n",
              "      <td>3866.85520</td>\n",
              "    </tr>\n",
              "    <tr>\n",
              "      <th>...</th>\n",
              "      <td>...</td>\n",
              "      <td>...</td>\n",
              "      <td>...</td>\n",
              "      <td>...</td>\n",
              "      <td>...</td>\n",
              "      <td>...</td>\n",
              "      <td>...</td>\n",
              "    </tr>\n",
              "    <tr>\n",
              "      <th>1333</th>\n",
              "      <td>50</td>\n",
              "      <td>male</td>\n",
              "      <td>30.970</td>\n",
              "      <td>3</td>\n",
              "      <td>no</td>\n",
              "      <td>northwest</td>\n",
              "      <td>10600.54830</td>\n",
              "    </tr>\n",
              "    <tr>\n",
              "      <th>1334</th>\n",
              "      <td>18</td>\n",
              "      <td>female</td>\n",
              "      <td>31.920</td>\n",
              "      <td>0</td>\n",
              "      <td>no</td>\n",
              "      <td>northeast</td>\n",
              "      <td>2205.98080</td>\n",
              "    </tr>\n",
              "    <tr>\n",
              "      <th>1335</th>\n",
              "      <td>18</td>\n",
              "      <td>female</td>\n",
              "      <td>36.850</td>\n",
              "      <td>0</td>\n",
              "      <td>no</td>\n",
              "      <td>southeast</td>\n",
              "      <td>1629.83350</td>\n",
              "    </tr>\n",
              "    <tr>\n",
              "      <th>1336</th>\n",
              "      <td>21</td>\n",
              "      <td>female</td>\n",
              "      <td>25.800</td>\n",
              "      <td>0</td>\n",
              "      <td>no</td>\n",
              "      <td>southwest</td>\n",
              "      <td>2007.94500</td>\n",
              "    </tr>\n",
              "    <tr>\n",
              "      <th>1337</th>\n",
              "      <td>61</td>\n",
              "      <td>female</td>\n",
              "      <td>29.070</td>\n",
              "      <td>0</td>\n",
              "      <td>yes</td>\n",
              "      <td>northwest</td>\n",
              "      <td>29141.36030</td>\n",
              "    </tr>\n",
              "  </tbody>\n",
              "</table>\n",
              "<p>1338 rows × 7 columns</p>\n",
              "</div>\n",
              "      <button class=\"colab-df-convert\" onclick=\"convertToInteractive('df-67e17c44-34eb-4203-b158-4efd6b689b7a')\"\n",
              "              title=\"Convert this dataframe to an interactive table.\"\n",
              "              style=\"display:none;\">\n",
              "        \n",
              "  <svg xmlns=\"http://www.w3.org/2000/svg\" height=\"24px\"viewBox=\"0 0 24 24\"\n",
              "       width=\"24px\">\n",
              "    <path d=\"M0 0h24v24H0V0z\" fill=\"none\"/>\n",
              "    <path d=\"M18.56 5.44l.94 2.06.94-2.06 2.06-.94-2.06-.94-.94-2.06-.94 2.06-2.06.94zm-11 1L8.5 8.5l.94-2.06 2.06-.94-2.06-.94L8.5 2.5l-.94 2.06-2.06.94zm10 10l.94 2.06.94-2.06 2.06-.94-2.06-.94-.94-2.06-.94 2.06-2.06.94z\"/><path d=\"M17.41 7.96l-1.37-1.37c-.4-.4-.92-.59-1.43-.59-.52 0-1.04.2-1.43.59L10.3 9.45l-7.72 7.72c-.78.78-.78 2.05 0 2.83L4 21.41c.39.39.9.59 1.41.59.51 0 1.02-.2 1.41-.59l7.78-7.78 2.81-2.81c.8-.78.8-2.07 0-2.86zM5.41 20L4 18.59l7.72-7.72 1.47 1.35L5.41 20z\"/>\n",
              "  </svg>\n",
              "      </button>\n",
              "      \n",
              "  <style>\n",
              "    .colab-df-container {\n",
              "      display:flex;\n",
              "      flex-wrap:wrap;\n",
              "      gap: 12px;\n",
              "    }\n",
              "\n",
              "    .colab-df-convert {\n",
              "      background-color: #E8F0FE;\n",
              "      border: none;\n",
              "      border-radius: 50%;\n",
              "      cursor: pointer;\n",
              "      display: none;\n",
              "      fill: #1967D2;\n",
              "      height: 32px;\n",
              "      padding: 0 0 0 0;\n",
              "      width: 32px;\n",
              "    }\n",
              "\n",
              "    .colab-df-convert:hover {\n",
              "      background-color: #E2EBFA;\n",
              "      box-shadow: 0px 1px 2px rgba(60, 64, 67, 0.3), 0px 1px 3px 1px rgba(60, 64, 67, 0.15);\n",
              "      fill: #174EA6;\n",
              "    }\n",
              "\n",
              "    [theme=dark] .colab-df-convert {\n",
              "      background-color: #3B4455;\n",
              "      fill: #D2E3FC;\n",
              "    }\n",
              "\n",
              "    [theme=dark] .colab-df-convert:hover {\n",
              "      background-color: #434B5C;\n",
              "      box-shadow: 0px 1px 3px 1px rgba(0, 0, 0, 0.15);\n",
              "      filter: drop-shadow(0px 1px 2px rgba(0, 0, 0, 0.3));\n",
              "      fill: #FFFFFF;\n",
              "    }\n",
              "  </style>\n",
              "\n",
              "      <script>\n",
              "        const buttonEl =\n",
              "          document.querySelector('#df-67e17c44-34eb-4203-b158-4efd6b689b7a button.colab-df-convert');\n",
              "        buttonEl.style.display =\n",
              "          google.colab.kernel.accessAllowed ? 'block' : 'none';\n",
              "\n",
              "        async function convertToInteractive(key) {\n",
              "          const element = document.querySelector('#df-67e17c44-34eb-4203-b158-4efd6b689b7a');\n",
              "          const dataTable =\n",
              "            await google.colab.kernel.invokeFunction('convertToInteractive',\n",
              "                                                     [key], {});\n",
              "          if (!dataTable) return;\n",
              "\n",
              "          const docLinkHtml = 'Like what you see? Visit the ' +\n",
              "            '<a target=\"_blank\" href=https://colab.research.google.com/notebooks/data_table.ipynb>data table notebook</a>'\n",
              "            + ' to learn more about interactive tables.';\n",
              "          element.innerHTML = '';\n",
              "          dataTable['output_type'] = 'display_data';\n",
              "          await google.colab.output.renderOutput(dataTable, element);\n",
              "          const docLink = document.createElement('div');\n",
              "          docLink.innerHTML = docLinkHtml;\n",
              "          element.appendChild(docLink);\n",
              "        }\n",
              "      </script>\n",
              "    </div>\n",
              "  </div>\n",
              "  "
            ]
          },
          "metadata": {},
          "execution_count": 130
        }
      ]
    },
    {
      "cell_type": "code",
      "source": [
        "insurance_one_hot = pd.get_dummies(insurance)\n",
        "insurance_one_hot.head()"
      ],
      "metadata": {
        "colab": {
          "base_uri": "https://localhost:8080/",
          "height": 270
        },
        "id": "0DWTslttImEm",
        "outputId": "c168f8b4-c5c8-47ec-9cad-da98ace839c1"
      },
      "execution_count": 131,
      "outputs": [
        {
          "output_type": "execute_result",
          "data": {
            "text/plain": [
              "   age     bmi  children      charges  sex_female  sex_male  smoker_no  \\\n",
              "0   19  27.900         0  16884.92400           1         0          0   \n",
              "1   18  33.770         1   1725.55230           0         1          1   \n",
              "2   28  33.000         3   4449.46200           0         1          1   \n",
              "3   33  22.705         0  21984.47061           0         1          1   \n",
              "4   32  28.880         0   3866.85520           0         1          1   \n",
              "\n",
              "   smoker_yes  region_northeast  region_northwest  region_southeast  \\\n",
              "0           1                 0                 0                 0   \n",
              "1           0                 0                 0                 1   \n",
              "2           0                 0                 0                 1   \n",
              "3           0                 0                 1                 0   \n",
              "4           0                 0                 1                 0   \n",
              "\n",
              "   region_southwest  \n",
              "0                 1  \n",
              "1                 0  \n",
              "2                 0  \n",
              "3                 0  \n",
              "4                 0  "
            ],
            "text/html": [
              "\n",
              "  <div id=\"df-6f005a0f-f3b8-4569-bbe4-c9f0d72e8044\">\n",
              "    <div class=\"colab-df-container\">\n",
              "      <div>\n",
              "<style scoped>\n",
              "    .dataframe tbody tr th:only-of-type {\n",
              "        vertical-align: middle;\n",
              "    }\n",
              "\n",
              "    .dataframe tbody tr th {\n",
              "        vertical-align: top;\n",
              "    }\n",
              "\n",
              "    .dataframe thead th {\n",
              "        text-align: right;\n",
              "    }\n",
              "</style>\n",
              "<table border=\"1\" class=\"dataframe\">\n",
              "  <thead>\n",
              "    <tr style=\"text-align: right;\">\n",
              "      <th></th>\n",
              "      <th>age</th>\n",
              "      <th>bmi</th>\n",
              "      <th>children</th>\n",
              "      <th>charges</th>\n",
              "      <th>sex_female</th>\n",
              "      <th>sex_male</th>\n",
              "      <th>smoker_no</th>\n",
              "      <th>smoker_yes</th>\n",
              "      <th>region_northeast</th>\n",
              "      <th>region_northwest</th>\n",
              "      <th>region_southeast</th>\n",
              "      <th>region_southwest</th>\n",
              "    </tr>\n",
              "  </thead>\n",
              "  <tbody>\n",
              "    <tr>\n",
              "      <th>0</th>\n",
              "      <td>19</td>\n",
              "      <td>27.900</td>\n",
              "      <td>0</td>\n",
              "      <td>16884.92400</td>\n",
              "      <td>1</td>\n",
              "      <td>0</td>\n",
              "      <td>0</td>\n",
              "      <td>1</td>\n",
              "      <td>0</td>\n",
              "      <td>0</td>\n",
              "      <td>0</td>\n",
              "      <td>1</td>\n",
              "    </tr>\n",
              "    <tr>\n",
              "      <th>1</th>\n",
              "      <td>18</td>\n",
              "      <td>33.770</td>\n",
              "      <td>1</td>\n",
              "      <td>1725.55230</td>\n",
              "      <td>0</td>\n",
              "      <td>1</td>\n",
              "      <td>1</td>\n",
              "      <td>0</td>\n",
              "      <td>0</td>\n",
              "      <td>0</td>\n",
              "      <td>1</td>\n",
              "      <td>0</td>\n",
              "    </tr>\n",
              "    <tr>\n",
              "      <th>2</th>\n",
              "      <td>28</td>\n",
              "      <td>33.000</td>\n",
              "      <td>3</td>\n",
              "      <td>4449.46200</td>\n",
              "      <td>0</td>\n",
              "      <td>1</td>\n",
              "      <td>1</td>\n",
              "      <td>0</td>\n",
              "      <td>0</td>\n",
              "      <td>0</td>\n",
              "      <td>1</td>\n",
              "      <td>0</td>\n",
              "    </tr>\n",
              "    <tr>\n",
              "      <th>3</th>\n",
              "      <td>33</td>\n",
              "      <td>22.705</td>\n",
              "      <td>0</td>\n",
              "      <td>21984.47061</td>\n",
              "      <td>0</td>\n",
              "      <td>1</td>\n",
              "      <td>1</td>\n",
              "      <td>0</td>\n",
              "      <td>0</td>\n",
              "      <td>1</td>\n",
              "      <td>0</td>\n",
              "      <td>0</td>\n",
              "    </tr>\n",
              "    <tr>\n",
              "      <th>4</th>\n",
              "      <td>32</td>\n",
              "      <td>28.880</td>\n",
              "      <td>0</td>\n",
              "      <td>3866.85520</td>\n",
              "      <td>0</td>\n",
              "      <td>1</td>\n",
              "      <td>1</td>\n",
              "      <td>0</td>\n",
              "      <td>0</td>\n",
              "      <td>1</td>\n",
              "      <td>0</td>\n",
              "      <td>0</td>\n",
              "    </tr>\n",
              "  </tbody>\n",
              "</table>\n",
              "</div>\n",
              "      <button class=\"colab-df-convert\" onclick=\"convertToInteractive('df-6f005a0f-f3b8-4569-bbe4-c9f0d72e8044')\"\n",
              "              title=\"Convert this dataframe to an interactive table.\"\n",
              "              style=\"display:none;\">\n",
              "        \n",
              "  <svg xmlns=\"http://www.w3.org/2000/svg\" height=\"24px\"viewBox=\"0 0 24 24\"\n",
              "       width=\"24px\">\n",
              "    <path d=\"M0 0h24v24H0V0z\" fill=\"none\"/>\n",
              "    <path d=\"M18.56 5.44l.94 2.06.94-2.06 2.06-.94-2.06-.94-.94-2.06-.94 2.06-2.06.94zm-11 1L8.5 8.5l.94-2.06 2.06-.94-2.06-.94L8.5 2.5l-.94 2.06-2.06.94zm10 10l.94 2.06.94-2.06 2.06-.94-2.06-.94-.94-2.06-.94 2.06-2.06.94z\"/><path d=\"M17.41 7.96l-1.37-1.37c-.4-.4-.92-.59-1.43-.59-.52 0-1.04.2-1.43.59L10.3 9.45l-7.72 7.72c-.78.78-.78 2.05 0 2.83L4 21.41c.39.39.9.59 1.41.59.51 0 1.02-.2 1.41-.59l7.78-7.78 2.81-2.81c.8-.78.8-2.07 0-2.86zM5.41 20L4 18.59l7.72-7.72 1.47 1.35L5.41 20z\"/>\n",
              "  </svg>\n",
              "      </button>\n",
              "      \n",
              "  <style>\n",
              "    .colab-df-container {\n",
              "      display:flex;\n",
              "      flex-wrap:wrap;\n",
              "      gap: 12px;\n",
              "    }\n",
              "\n",
              "    .colab-df-convert {\n",
              "      background-color: #E8F0FE;\n",
              "      border: none;\n",
              "      border-radius: 50%;\n",
              "      cursor: pointer;\n",
              "      display: none;\n",
              "      fill: #1967D2;\n",
              "      height: 32px;\n",
              "      padding: 0 0 0 0;\n",
              "      width: 32px;\n",
              "    }\n",
              "\n",
              "    .colab-df-convert:hover {\n",
              "      background-color: #E2EBFA;\n",
              "      box-shadow: 0px 1px 2px rgba(60, 64, 67, 0.3), 0px 1px 3px 1px rgba(60, 64, 67, 0.15);\n",
              "      fill: #174EA6;\n",
              "    }\n",
              "\n",
              "    [theme=dark] .colab-df-convert {\n",
              "      background-color: #3B4455;\n",
              "      fill: #D2E3FC;\n",
              "    }\n",
              "\n",
              "    [theme=dark] .colab-df-convert:hover {\n",
              "      background-color: #434B5C;\n",
              "      box-shadow: 0px 1px 3px 1px rgba(0, 0, 0, 0.15);\n",
              "      filter: drop-shadow(0px 1px 2px rgba(0, 0, 0, 0.3));\n",
              "      fill: #FFFFFF;\n",
              "    }\n",
              "  </style>\n",
              "\n",
              "      <script>\n",
              "        const buttonEl =\n",
              "          document.querySelector('#df-6f005a0f-f3b8-4569-bbe4-c9f0d72e8044 button.colab-df-convert');\n",
              "        buttonEl.style.display =\n",
              "          google.colab.kernel.accessAllowed ? 'block' : 'none';\n",
              "\n",
              "        async function convertToInteractive(key) {\n",
              "          const element = document.querySelector('#df-6f005a0f-f3b8-4569-bbe4-c9f0d72e8044');\n",
              "          const dataTable =\n",
              "            await google.colab.kernel.invokeFunction('convertToInteractive',\n",
              "                                                     [key], {});\n",
              "          if (!dataTable) return;\n",
              "\n",
              "          const docLinkHtml = 'Like what you see? Visit the ' +\n",
              "            '<a target=\"_blank\" href=https://colab.research.google.com/notebooks/data_table.ipynb>data table notebook</a>'\n",
              "            + ' to learn more about interactive tables.';\n",
              "          element.innerHTML = '';\n",
              "          dataTable['output_type'] = 'display_data';\n",
              "          await google.colab.output.renderOutput(dataTable, element);\n",
              "          const docLink = document.createElement('div');\n",
              "          docLink.innerHTML = docLinkHtml;\n",
              "          element.appendChild(docLink);\n",
              "        }\n",
              "      </script>\n",
              "    </div>\n",
              "  </div>\n",
              "  "
            ]
          },
          "metadata": {},
          "execution_count": 131
        }
      ]
    },
    {
      "cell_type": "markdown",
      "source": [
        "#### Split the Data into Rraining & Test Datasets"
      ],
      "metadata": {
        "id": "qhu4hNHBJLbI"
      }
    },
    {
      "cell_type": "code",
      "source": [
        "from sklearn.model_selection import train_test_split\n",
        "\n",
        "X = insurance_one_hot.drop('charges', axis = 1)\n",
        "y = insurance_one_hot['charges']\n",
        "\n",
        "X_train, X_test, y_train, y_test = train_test_split(X, y, test_size = 0.2, random_state = 4)\n",
        "len(X_train)"
      ],
      "metadata": {
        "colab": {
          "base_uri": "https://localhost:8080/"
        },
        "id": "CLqVSKWrJVDr",
        "outputId": "72a293fa-8067-4119-b003-3617271f44b0"
      },
      "execution_count": 132,
      "outputs": [
        {
          "output_type": "execute_result",
          "data": {
            "text/plain": [
              "1070"
            ]
          },
          "metadata": {},
          "execution_count": 132
        }
      ]
    },
    {
      "cell_type": "markdown",
      "source": [
        "#### Build a neural network"
      ],
      "metadata": {
        "id": "dAs8X4ekK4Cy"
      }
    },
    {
      "cell_type": "code",
      "source": [
        "tf.random.set_seed(4)\n",
        "\n",
        "# Create a model\n",
        "insurance_model = tf.keras.Sequential([\n",
        "    tf.keras.layers.Dense(10, name = 'input_layer'),\n",
        "    tf.keras.layers.Dense(1, name = \"output_layer\")\n",
        "], name = 'insurance_model')\n",
        "\n",
        "# Compile the model\n",
        "insurance_model.compile(loss = 'mae',\n",
        "              optimizer = 'sgd',\n",
        "              metrics = ['mae'])\n",
        "\n",
        "# Build the model\n",
        "insurance_model.build(input_shape = (1070,11))\n",
        "\n",
        "# Print the Summary of the model\n",
        "insurance_model.summary()"
      ],
      "metadata": {
        "colab": {
          "base_uri": "https://localhost:8080/"
        },
        "id": "32E2KP7vMYHH",
        "outputId": "c35f4728-18a7-4cc3-e95d-8273c0edfd5b"
      },
      "execution_count": 133,
      "outputs": [
        {
          "output_type": "stream",
          "name": "stdout",
          "text": [
            "Model: \"insurance_model\"\n",
            "_________________________________________________________________\n",
            " Layer (type)                Output Shape              Param #   \n",
            "=================================================================\n",
            " input_layer (Dense)         (1070, 10)                120       \n",
            "                                                                 \n",
            " output_layer (Dense)        (1070, 1)                 11        \n",
            "                                                                 \n",
            "=================================================================\n",
            "Total params: 131\n",
            "Trainable params: 131\n",
            "Non-trainable params: 0\n",
            "_________________________________________________________________\n"
          ]
        }
      ]
    },
    {
      "cell_type": "code",
      "source": [
        "# Visualize the model\n",
        "\n",
        "tf.keras.utils.plot_model(insurance_model, show_shapes = True, show_dtype = True)"
      ],
      "metadata": {
        "colab": {
          "base_uri": "https://localhost:8080/",
          "height": 0
        },
        "id": "sZfy0fI8NEhP",
        "outputId": "f795fe62-2654-4ddd-8758-ee5333d78e4e"
      },
      "execution_count": 134,
      "outputs": [
        {
          "output_type": "execute_result",
          "data": {
            "image/png": "[encoded data removed]",
            "text/plain": [
              "<IPython.core.display.Image object>"
            ]
          },
          "metadata": {},
          "execution_count": 134
        }
      ]
    },
    {
      "cell_type": "code",
      "source": [
        "# Fit the model\n",
        "insurance_model.fit(X_train, y_train, epochs = 100, verbose = 0)"
      ],
      "metadata": {
        "colab": {
          "base_uri": "https://localhost:8080/"
        },
        "id": "5lfC3-KuN_Pt",
        "outputId": "e74bf6d6-05f9-420d-997d-5b9cdf2da7df"
      },
      "execution_count": 135,
      "outputs": [
        {
          "output_type": "execute_result",
          "data": {
            "text/plain": [
              "<keras.callbacks.History at 0x7f6e8bab9940>"
            ]
          },
          "metadata": {},
          "execution_count": 135
        }
      ]
    },
    {
      "cell_type": "code",
      "source": [
        "insurance_model.predict(X_test)[:5]"
      ],
      "metadata": {
        "colab": {
          "base_uri": "https://localhost:8080/"
        },
        "id": "vI1kU05rOiSp",
        "outputId": "30777356-1628-47a0-9ad7-e759ff7ecc12"
      },
      "execution_count": 136,
      "outputs": [
        {
          "output_type": "stream",
          "name": "stdout",
          "text": [
            "9/9 [==============================] - 0s 2ms/step\n"
          ]
        },
        {
          "output_type": "execute_result",
          "data": {
            "text/plain": [
              "array([[13086.104],\n",
              "       [18445.697],\n",
              "       [ 8906.888],\n",
              "       [12086.728],\n",
              "       [13266.952]], dtype=float32)"
            ]
          },
          "metadata": {},
          "execution_count": 136
        }
      ]
    },
    {
      "cell_type": "code",
      "source": [
        "y_test[:5]"
      ],
      "metadata": {
        "colab": {
          "base_uri": "https://localhost:8080/"
        },
        "id": "LJJg-ZrlO0LI",
        "outputId": "c1721171-8f8a-48b1-eeef-1805ccb6a331"
      },
      "execution_count": 137,
      "outputs": [
        {
          "output_type": "execute_result",
          "data": {
            "text/plain": [
              "726     6664.68595\n",
              "260    11837.16000\n",
              "902     4661.28635\n",
              "566     6373.55735\n",
              "776     6986.69700\n",
              "Name: charges, dtype: float64"
            ]
          },
          "metadata": {},
          "execution_count": 137
        }
      ]
    },
    {
      "cell_type": "code",
      "source": [
        "insurance_model.evaluate(X_test, y_test)"
      ],
      "metadata": {
        "colab": {
          "base_uri": "https://localhost:8080/"
        },
        "id": "LIxTlGFbO8Z9",
        "outputId": "45e7be5c-bcab-4fd8-fc72-0eb919455288"
      },
      "execution_count": 138,
      "outputs": [
        {
          "output_type": "stream",
          "name": "stdout",
          "text": [
            "9/9 [==============================] - 0s 3ms/step - loss: 7409.4780 - mae: 7409.4780\n"
          ]
        },
        {
          "output_type": "execute_result",
          "data": {
            "text/plain": [
              "[7409.47802734375, 7409.47802734375]"
            ]
          },
          "metadata": {},
          "execution_count": 138
        }
      ]
    },
    {
      "cell_type": "markdown",
      "source": [
        "#### Improve the Model"
      ],
      "metadata": {
        "id": "69yVckQPPa7n"
      }
    },
    {
      "cell_type": "code",
      "source": [
        "tf.random.set_seed(4)\n",
        "\n",
        "# Create a model\n",
        "insurance_model_2 = tf.keras.Sequential([\n",
        "    tf.keras.layers.Dense(100, name = 'input_layer'),\n",
        "    tf.keras.layers.Dense(10),\n",
        "    tf.keras.layers.Dense(1, name = \"output_layer\")\n",
        "], name = 'insurance_model_2')\n",
        "\n",
        "# Compile the model\n",
        "insurance_model_2.compile(loss = 'mae',\n",
        "              optimizer = tf.keras.optimizers.Adam(),\n",
        "              metrics = ['mae'])\n",
        "\n",
        "# Build the model\n",
        "insurance_model_2.build(input_shape = (1070,11))\n",
        "\n",
        "# Print the Summary of the model\n",
        "insurance_model_2.summary()"
      ],
      "metadata": {
        "colab": {
          "base_uri": "https://localhost:8080/"
        },
        "id": "gifRBigZRldl",
        "outputId": "432e0f21-7e0f-4123-a06b-6b7bd5c5bc2c"
      },
      "execution_count": 139,
      "outputs": [
        {
          "output_type": "stream",
          "name": "stdout",
          "text": [
            "Model: \"insurance_model_2\"\n",
            "_________________________________________________________________\n",
            " Layer (type)                Output Shape              Param #   \n",
            "=================================================================\n",
            " input_layer (Dense)         (1070, 100)               1200      \n",
            "                                                                 \n",
            " dense_35 (Dense)            (1070, 10)                1010      \n",
            "                                                                 \n",
            " output_layer (Dense)        (1070, 1)                 11        \n",
            "                                                                 \n",
            "=================================================================\n",
            "Total params: 2,221\n",
            "Trainable params: 2,221\n",
            "Non-trainable params: 0\n",
            "_________________________________________________________________\n"
          ]
        }
      ]
    },
    {
      "cell_type": "code",
      "source": [
        "# Fit the model\n",
        "insurance_model_2.fit(X_train, y_train, epochs = 100, verbose = 0)"
      ],
      "metadata": {
        "colab": {
          "base_uri": "https://localhost:8080/"
        },
        "id": "oBHdDnckR8c7",
        "outputId": "c3edf30f-756a-4933-98a3-2a618f09c357"
      },
      "execution_count": 140,
      "outputs": [
        {
          "output_type": "execute_result",
          "data": {
            "text/plain": [
              "<keras.callbacks.History at 0x7f6e8be75e80>"
            ]
          },
          "metadata": {},
          "execution_count": 140
        }
      ]
    },
    {
      "cell_type": "code",
      "source": [
        "insurance_model_2.evaluate(X_test, y_test)"
      ],
      "metadata": {
        "colab": {
          "base_uri": "https://localhost:8080/"
        },
        "id": "AW0aDj1oSxOy",
        "outputId": "a2ce6f66-1f8a-4ae3-d89a-fd4371c08015"
      },
      "execution_count": 141,
      "outputs": [
        {
          "output_type": "stream",
          "name": "stdout",
          "text": [
            "9/9 [==============================] - 0s 2ms/step - loss: 4406.8984 - mae: 4406.8984\n"
          ]
        },
        {
          "output_type": "execute_result",
          "data": {
            "text/plain": [
              "[4406.8984375, 4406.8984375]"
            ]
          },
          "metadata": {},
          "execution_count": 141
        }
      ]
    },
    {
      "cell_type": "code",
      "source": [
        "tf.random.set_seed(4)\n",
        "\n",
        "# Create a model\n",
        "insurance_model_3 = tf.keras.Sequential([\n",
        "    tf.keras.layers.Dense(100, name = 'input_layer'),\n",
        "    tf.keras.layers.Dense(10),\n",
        "    tf.keras.layers.Dense(1, name = \"output_layer\")\n",
        "], name = 'insurance_model_3')\n",
        "\n",
        "# Compile the model\n",
        "insurance_model_3.compile(loss = 'mae',\n",
        "              optimizer = tf.keras.optimizers.Adam(),\n",
        "              metrics = ['mae'])\n",
        "\n",
        "# Build the model\n",
        "insurance_model_3.build(input_shape = (1070,11))\n",
        "\n",
        "# Print the Summary of the model\n",
        "insurance_model_3.summary()"
      ],
      "metadata": {
        "colab": {
          "base_uri": "https://localhost:8080/"
        },
        "id": "LesQjigcTN4X",
        "outputId": "4458cf53-af36-4a86-d689-0206ce0c4bc6"
      },
      "execution_count": 142,
      "outputs": [
        {
          "output_type": "stream",
          "name": "stdout",
          "text": [
            "Model: \"insurance_model_3\"\n",
            "_________________________________________________________________\n",
            " Layer (type)                Output Shape              Param #   \n",
            "=================================================================\n",
            " input_layer (Dense)         (1070, 100)               1200      \n",
            "                                                                 \n",
            " dense_36 (Dense)            (1070, 10)                1010      \n",
            "                                                                 \n",
            " output_layer (Dense)        (1070, 1)                 11        \n",
            "                                                                 \n",
            "=================================================================\n",
            "Total params: 2,221\n",
            "Trainable params: 2,221\n",
            "Non-trainable params: 0\n",
            "_________________________________________________________________\n"
          ]
        }
      ]
    },
    {
      "cell_type": "code",
      "source": [
        "# Fit the model and save in history which can later be plotted\n",
        "history = insurance_model_3.fit(X_train, y_train, epochs = 200, verbose = 0)"
      ],
      "metadata": {
        "id": "8FYEyomOTeOr"
      },
      "execution_count": 64,
      "outputs": []
    },
    {
      "cell_type": "code",
      "source": [
        "insurance_model_3.evaluate(X_test, y_test)"
      ],
      "metadata": {
        "colab": {
          "base_uri": "https://localhost:8080/"
        },
        "id": "JTq7NBR1Tg5m",
        "outputId": "1c0b142d-d895-45d9-d572-e0fb9403a881"
      },
      "execution_count": 65,
      "outputs": [
        {
          "output_type": "stream",
          "name": "stdout",
          "text": [
            "9/9 [==============================] - 0s 2ms/step - loss: 3854.0286 - mae: 3854.0286\n"
          ]
        },
        {
          "output_type": "execute_result",
          "data": {
            "text/plain": [
              "[3854.028564453125, 3854.028564453125]"
            ]
          },
          "metadata": {},
          "execution_count": 65
        }
      ]
    },
    {
      "cell_type": "code",
      "source": [
        "# Plot history which is also known as loss curve or training curve\n",
        "\n",
        "pd.DataFrame(history.history).plot()\n",
        "plt.xlabel('epochs')\n",
        "plt.ylabel('loss')"
      ],
      "metadata": {
        "colab": {
          "base_uri": "https://localhost:8080/",
          "height": 296
        },
        "id": "VQIB9o5wTsBV",
        "outputId": "d1ccc5b6-d769-42f7-94a4-3539414a6b46"
      },
      "execution_count": 66,
      "outputs": [
        {
          "output_type": "execute_result",
          "data": {
            "text/plain": [
              "Text(0, 0.5, 'loss')"
            ]
          },
          "metadata": {},
          "execution_count": 66
        },
        {
          "output_type": "display_data",
          "data": {
            "text/plain": [
              "<Figure size 432x288 with 1 Axes>"
            ],
            "image/png": "[encoded data removed]"
          },
          "metadata": {
            "needs_background": "light"
          }
        }
      ]
    },
    {
      "cell_type": "markdown",
      "source": [
        "#### Pre-processing Data (Normalization & Standardization)\n",
        "\n",
        "In terms of scaling values, neural networks tend to prefer normalization."
      ],
      "metadata": {
        "id": "c4REVgE4VUgG"
      }
    },
    {
      "cell_type": "code",
      "source": [
        "# Import all libraries\n",
        "\n",
        "import pandas as pd\n",
        "import matplotlib.pyplot as plt\n",
        "import tensorflow as tf"
      ],
      "metadata": {
        "id": "VahJf4lXfUi-"
      },
      "execution_count": 67,
      "outputs": []
    },
    {
      "cell_type": "code",
      "source": [
        "# Get the data\n",
        "\n",
        "insurance = pd.read_csv(\"https://raw.githubusercontent.com/stedy/Machine-Learning-with-R-datasets/master/insurance.csv\")"
      ],
      "metadata": {
        "id": "Gz8SdnVgfcA1"
      },
      "execution_count": 68,
      "outputs": []
    },
    {
      "cell_type": "code",
      "source": [
        "insurance"
      ],
      "metadata": {
        "id": "wPv8_H2TW5of",
        "colab": {
          "base_uri": "https://localhost:8080/",
          "height": 423
        },
        "outputId": "691e61e7-8f60-43e6-e230-c451d3e2dfb7"
      },
      "execution_count": 69,
      "outputs": [
        {
          "output_type": "execute_result",
          "data": {
            "text/plain": [
              "      age     sex     bmi  children smoker     region      charges\n",
              "0      19  female  27.900         0    yes  southwest  16884.92400\n",
              "1      18    male  33.770         1     no  southeast   1725.55230\n",
              "2      28    male  33.000         3     no  southeast   4449.46200\n",
              "3      33    male  22.705         0     no  northwest  21984.47061\n",
              "4      32    male  28.880         0     no  northwest   3866.85520\n",
              "...   ...     ...     ...       ...    ...        ...          ...\n",
              "1333   50    male  30.970         3     no  northwest  10600.54830\n",
              "1334   18  female  31.920         0     no  northeast   2205.98080\n",
              "1335   18  female  36.850         0     no  southeast   1629.83350\n",
              "1336   21  female  25.800         0     no  southwest   2007.94500\n",
              "1337   61  female  29.070         0    yes  northwest  29141.36030\n",
              "\n",
              "[1338 rows x 7 columns]"
            ],
            "text/html": [
              "\n",
              "  <div id=\"df-4011de35-2b2f-417c-9c20-ecacd92b9009\">\n",
              "    <div class=\"colab-df-container\">\n",
              "      <div>\n",
              "<style scoped>\n",
              "    .dataframe tbody tr th:only-of-type {\n",
              "        vertical-align: middle;\n",
              "    }\n",
              "\n",
              "    .dataframe tbody tr th {\n",
              "        vertical-align: top;\n",
              "    }\n",
              "\n",
              "    .dataframe thead th {\n",
              "        text-align: right;\n",
              "    }\n",
              "</style>\n",
              "<table border=\"1\" class=\"dataframe\">\n",
              "  <thead>\n",
              "    <tr style=\"text-align: right;\">\n",
              "      <th></th>\n",
              "      <th>age</th>\n",
              "      <th>sex</th>\n",
              "      <th>bmi</th>\n",
              "      <th>children</th>\n",
              "      <th>smoker</th>\n",
              "      <th>region</th>\n",
              "      <th>charges</th>\n",
              "    </tr>\n",
              "  </thead>\n",
              "  <tbody>\n",
              "    <tr>\n",
              "      <th>0</th>\n",
              "      <td>19</td>\n",
              "      <td>female</td>\n",
              "      <td>27.900</td>\n",
              "      <td>0</td>\n",
              "      <td>yes</td>\n",
              "      <td>southwest</td>\n",
              "      <td>16884.92400</td>\n",
              "    </tr>\n",
              "    <tr>\n",
              "      <th>1</th>\n",
              "      <td>18</td>\n",
              "      <td>male</td>\n",
              "      <td>33.770</td>\n",
              "      <td>1</td>\n",
              "      <td>no</td>\n",
              "      <td>southeast</td>\n",
              "      <td>1725.55230</td>\n",
              "    </tr>\n",
              "    <tr>\n",
              "      <th>2</th>\n",
              "      <td>28</td>\n",
              "      <td>male</td>\n",
              "      <td>33.000</td>\n",
              "      <td>3</td>\n",
              "      <td>no</td>\n",
              "      <td>southeast</td>\n",
              "      <td>4449.46200</td>\n",
              "    </tr>\n",
              "    <tr>\n",
              "      <th>3</th>\n",
              "      <td>33</td>\n",
              "      <td>male</td>\n",
              "      <td>22.705</td>\n",
              "      <td>0</td>\n",
              "      <td>no</td>\n",
              "      <td>northwest</td>\n",
              "      <td>21984.47061</td>\n",
              "    </tr>\n",
              "    <tr>\n",
              "      <th>4</th>\n",
              "      <td>32</td>\n",
              "      <td>male</td>\n",
              "      <td>28.880</td>\n",
              "      <td>0</td>\n",
              "      <td>no</td>\n",
              "      <td>northwest</td>\n",
              "      <td>3866.85520</td>\n",
              "    </tr>\n",
              "    <tr>\n",
              "      <th>...</th>\n",
              "      <td>...</td>\n",
              "      <td>...</td>\n",
              "      <td>...</td>\n",
              "      <td>...</td>\n",
              "      <td>...</td>\n",
              "      <td>...</td>\n",
              "      <td>...</td>\n",
              "    </tr>\n",
              "    <tr>\n",
              "      <th>1333</th>\n",
              "      <td>50</td>\n",
              "      <td>male</td>\n",
              "      <td>30.970</td>\n",
              "      <td>3</td>\n",
              "      <td>no</td>\n",
              "      <td>northwest</td>\n",
              "      <td>10600.54830</td>\n",
              "    </tr>\n",
              "    <tr>\n",
              "      <th>1334</th>\n",
              "      <td>18</td>\n",
              "      <td>female</td>\n",
              "      <td>31.920</td>\n",
              "      <td>0</td>\n",
              "      <td>no</td>\n",
              "      <td>northeast</td>\n",
              "      <td>2205.98080</td>\n",
              "    </tr>\n",
              "    <tr>\n",
              "      <th>1335</th>\n",
              "      <td>18</td>\n",
              "      <td>female</td>\n",
              "      <td>36.850</td>\n",
              "      <td>0</td>\n",
              "      <td>no</td>\n",
              "      <td>southeast</td>\n",
              "      <td>1629.83350</td>\n",
              "    </tr>\n",
              "    <tr>\n",
              "      <th>1336</th>\n",
              "      <td>21</td>\n",
              "      <td>female</td>\n",
              "      <td>25.800</td>\n",
              "      <td>0</td>\n",
              "      <td>no</td>\n",
              "      <td>southwest</td>\n",
              "      <td>2007.94500</td>\n",
              "    </tr>\n",
              "    <tr>\n",
              "      <th>1337</th>\n",
              "      <td>61</td>\n",
              "      <td>female</td>\n",
              "      <td>29.070</td>\n",
              "      <td>0</td>\n",
              "      <td>yes</td>\n",
              "      <td>northwest</td>\n",
              "      <td>29141.36030</td>\n",
              "    </tr>\n",
              "  </tbody>\n",
              "</table>\n",
              "<p>1338 rows × 7 columns</p>\n",
              "</div>\n",
              "      <button class=\"colab-df-convert\" onclick=\"convertToInteractive('df-4011de35-2b2f-417c-9c20-ecacd92b9009')\"\n",
              "              title=\"Convert this dataframe to an interactive table.\"\n",
              "              style=\"display:none;\">\n",
              "        \n",
              "  <svg xmlns=\"http://www.w3.org/2000/svg\" height=\"24px\"viewBox=\"0 0 24 24\"\n",
              "       width=\"24px\">\n",
              "    <path d=\"M0 0h24v24H0V0z\" fill=\"none\"/>\n",
              "    <path d=\"M18.56 5.44l.94 2.06.94-2.06 2.06-.94-2.06-.94-.94-2.06-.94 2.06-2.06.94zm-11 1L8.5 8.5l.94-2.06 2.06-.94-2.06-.94L8.5 2.5l-.94 2.06-2.06.94zm10 10l.94 2.06.94-2.06 2.06-.94-2.06-.94-.94-2.06-.94 2.06-2.06.94z\"/><path d=\"M17.41 7.96l-1.37-1.37c-.4-.4-.92-.59-1.43-.59-.52 0-1.04.2-1.43.59L10.3 9.45l-7.72 7.72c-.78.78-.78 2.05 0 2.83L4 21.41c.39.39.9.59 1.41.59.51 0 1.02-.2 1.41-.59l7.78-7.78 2.81-2.81c.8-.78.8-2.07 0-2.86zM5.41 20L4 18.59l7.72-7.72 1.47 1.35L5.41 20z\"/>\n",
              "  </svg>\n",
              "      </button>\n",
              "      \n",
              "  <style>\n",
              "    .colab-df-container {\n",
              "      display:flex;\n",
              "      flex-wrap:wrap;\n",
              "      gap: 12px;\n",
              "    }\n",
              "\n",
              "    .colab-df-convert {\n",
              "      background-color: #E8F0FE;\n",
              "      border: none;\n",
              "      border-radius: 50%;\n",
              "      cursor: pointer;\n",
              "      display: none;\n",
              "      fill: #1967D2;\n",
              "      height: 32px;\n",
              "      padding: 0 0 0 0;\n",
              "      width: 32px;\n",
              "    }\n",
              "\n",
              "    .colab-df-convert:hover {\n",
              "      background-color: #E2EBFA;\n",
              "      box-shadow: 0px 1px 2px rgba(60, 64, 67, 0.3), 0px 1px 3px 1px rgba(60, 64, 67, 0.15);\n",
              "      fill: #174EA6;\n",
              "    }\n",
              "\n",
              "    [theme=dark] .colab-df-convert {\n",
              "      background-color: #3B4455;\n",
              "      fill: #D2E3FC;\n",
              "    }\n",
              "\n",
              "    [theme=dark] .colab-df-convert:hover {\n",
              "      background-color: #434B5C;\n",
              "      box-shadow: 0px 1px 3px 1px rgba(0, 0, 0, 0.15);\n",
              "      filter: drop-shadow(0px 1px 2px rgba(0, 0, 0, 0.3));\n",
              "      fill: #FFFFFF;\n",
              "    }\n",
              "  </style>\n",
              "\n",
              "      <script>\n",
              "        const buttonEl =\n",
              "          document.querySelector('#df-4011de35-2b2f-417c-9c20-ecacd92b9009 button.colab-df-convert');\n",
              "        buttonEl.style.display =\n",
              "          google.colab.kernel.accessAllowed ? 'block' : 'none';\n",
              "\n",
              "        async function convertToInteractive(key) {\n",
              "          const element = document.querySelector('#df-4011de35-2b2f-417c-9c20-ecacd92b9009');\n",
              "          const dataTable =\n",
              "            await google.colab.kernel.invokeFunction('convertToInteractive',\n",
              "                                                     [key], {});\n",
              "          if (!dataTable) return;\n",
              "\n",
              "          const docLinkHtml = 'Like what you see? Visit the ' +\n",
              "            '<a target=\"_blank\" href=https://colab.research.google.com/notebooks/data_table.ipynb>data table notebook</a>'\n",
              "            + ' to learn more about interactive tables.';\n",
              "          element.innerHTML = '';\n",
              "          dataTable['output_type'] = 'display_data';\n",
              "          await google.colab.output.renderOutput(dataTable, element);\n",
              "          const docLink = document.createElement('div');\n",
              "          docLink.innerHTML = docLinkHtml;\n",
              "          element.appendChild(docLink);\n",
              "        }\n",
              "      </script>\n",
              "    </div>\n",
              "  </div>\n",
              "  "
            ]
          },
          "metadata": {},
          "execution_count": 69
        }
      ]
    },
    {
      "cell_type": "code",
      "source": [
        "insurance['bmi'].plot(kind = 'hist')"
      ],
      "metadata": {
        "colab": {
          "base_uri": "https://localhost:8080/",
          "height": 282
        },
        "id": "hUX_JRhBefaK",
        "outputId": "371e29f9-7546-4aec-bf24-5a26d0d576a3"
      },
      "execution_count": 70,
      "outputs": [
        {
          "output_type": "execute_result",
          "data": {
            "text/plain": [
              "<matplotlib.axes._subplots.AxesSubplot at 0x7f6e9a3b23a0>"
            ]
          },
          "metadata": {},
          "execution_count": 70
        },
        {
          "output_type": "display_data",
          "data": {
            "text/plain": [
              "<Figure size 432x288 with 1 Axes>"
            ],
            "image/png": "[encoded data removed]"
          },
          "metadata": {
            "needs_background": "light"
          }
        }
      ]
    },
    {
      "cell_type": "code",
      "source": [
        "insurance['age'].plot(kind = 'hist')"
      ],
      "metadata": {
        "colab": {
          "base_uri": "https://localhost:8080/",
          "height": 282
        },
        "id": "Ro2xBMZ6eiOS",
        "outputId": "dcff8933-b248-40d4-9910-650b69758886"
      },
      "execution_count": 71,
      "outputs": [
        {
          "output_type": "execute_result",
          "data": {
            "text/plain": [
              "<matplotlib.axes._subplots.AxesSubplot at 0x7f6e9888e700>"
            ]
          },
          "metadata": {},
          "execution_count": 71
        },
        {
          "output_type": "display_data",
          "data": {
            "text/plain": [
              "<Figure size 432x288 with 1 Axes>"
            ],
            "image/png": "[encoded data removed]"
          },
          "metadata": {
            "needs_background": "light"
          }
        }
      ]
    },
    {
      "cell_type": "code",
      "source": [
        "insurance['children'].value_counts()"
      ],
      "metadata": {
        "colab": {
          "base_uri": "https://localhost:8080/"
        },
        "id": "zDshslm0emqT",
        "outputId": "03123fed-17c7-4eaf-e2d8-e1d760ca801a"
      },
      "execution_count": 72,
      "outputs": [
        {
          "output_type": "execute_result",
          "data": {
            "text/plain": [
              "0    574\n",
              "1    324\n",
              "2    240\n",
              "3    157\n",
              "4     25\n",
              "5     18\n",
              "Name: children, dtype: int64"
            ]
          },
          "metadata": {},
          "execution_count": 72
        }
      ]
    },
    {
      "cell_type": "code",
      "source": [
        "# Get few modules from sklearn\n",
        "\n",
        "from sklearn.compose import make_column_transformer\n",
        "from sklearn.preprocessing import MinMaxScaler, OneHotEncoder"
      ],
      "metadata": {
        "id": "XrDcnkCpettk"
      },
      "execution_count": 73,
      "outputs": []
    },
    {
      "cell_type": "code",
      "source": [
        "# Create a Column Transformer\n",
        "\n",
        "ct = make_column_transformer(\n",
        "    (MinMaxScaler(),  ['age', 'bmi', 'children']),\n",
        "    (OneHotEncoder(handle_unknown='ignore'), ['sex', 'smoker', 'region'])\n",
        ")\n",
        "\n",
        "# Create X & y\n",
        "X = insurance.drop('charges', axis = 1)\n",
        "y = insurance['charges']\n",
        "\n",
        "# Split the data in the Training and Testing Datasets\n",
        "X_train, X_test, y_train, y_test = train_test_split(X, y, test_size = 0.2, random_state = 4)\n",
        "\n",
        "# Fit the column transformer to the training data\n",
        "ct.fit(X_train)\n",
        "\n",
        "# Transform training and test data with Normalization (MinMaxScaler) & OneHotEncoder\n",
        "X_train_normal = ct.transform(X_train)\n",
        "X_test_normal = ct.transform(X_test)"
      ],
      "metadata": {
        "id": "CAylKdrLf_ry"
      },
      "execution_count": 74,
      "outputs": []
    },
    {
      "cell_type": "code",
      "source": [
        "X_train.loc[0]"
      ],
      "metadata": {
        "colab": {
          "base_uri": "https://localhost:8080/"
        },
        "id": "yGw6wdGpg7EZ",
        "outputId": "3042a4d9-b335-485d-b3dd-d5557ee7cc46"
      },
      "execution_count": 75,
      "outputs": [
        {
          "output_type": "execute_result",
          "data": {
            "text/plain": [
              "age                19\n",
              "sex            female\n",
              "bmi              27.9\n",
              "children            0\n",
              "smoker            yes\n",
              "region      southwest\n",
              "Name: 0, dtype: object"
            ]
          },
          "metadata": {},
          "execution_count": 75
        }
      ]
    },
    {
      "cell_type": "code",
      "source": [
        "X_train_normal[0]"
      ],
      "metadata": {
        "colab": {
          "base_uri": "https://localhost:8080/"
        },
        "id": "RjwZss31hty9",
        "outputId": "ba1735ce-304d-4b6e-cfd8-7340c0acc115"
      },
      "execution_count": 76,
      "outputs": [
        {
          "output_type": "execute_result",
          "data": {
            "text/plain": [
              "array([0.73913043, 0.56684566, 0.        , 1.        , 0.        ,\n",
              "       1.        , 0.        , 0.        , 0.        , 0.        ,\n",
              "       1.        ])"
            ]
          },
          "metadata": {},
          "execution_count": 76
        }
      ]
    },
    {
      "cell_type": "code",
      "source": [
        "# Build the neural network on the normalized data\n",
        "\n",
        "tf.random.set_seed(4)\n",
        "\n",
        "# Create a model\n",
        "insurance_model_4 = tf.keras.Sequential([\n",
        "    tf.keras.layers.Dense(100, name = 'input_layer'),\n",
        "    tf.keras.layers.Dense(10),\n",
        "    tf.keras.layers.Dense(1, name = \"output_layer\")\n",
        "], name = 'insurance_model_4')\n",
        "\n",
        "# Compile the model\n",
        "insurance_model_4.compile(loss = 'mae',\n",
        "              optimizer = tf.keras.optimizers.Adam(),\n",
        "              metrics = ['mae'])\n",
        "\n",
        "# Build the model\n",
        "insurance_model_4.build(input_shape = (1070,11))\n",
        "\n",
        "# Print the Summary of the model\n",
        "insurance_model_4.summary()"
      ],
      "metadata": {
        "colab": {
          "base_uri": "https://localhost:8080/"
        },
        "id": "5FuidzNvhwGL",
        "outputId": "f7dacfef-92b6-4266-9896-9fe49e942bc3"
      },
      "execution_count": 77,
      "outputs": [
        {
          "output_type": "stream",
          "name": "stdout",
          "text": [
            "Model: \"insurance_model_4\"\n",
            "_________________________________________________________________\n",
            " Layer (type)                Output Shape              Param #   \n",
            "=================================================================\n",
            " input_layer (Dense)         (1070, 100)               1200      \n",
            "                                                                 \n",
            " dense_18 (Dense)            (1070, 10)                1010      \n",
            "                                                                 \n",
            " output_layer (Dense)        (1070, 1)                 11        \n",
            "                                                                 \n",
            "=================================================================\n",
            "Total params: 2,221\n",
            "Trainable params: 2,221\n",
            "Non-trainable params: 0\n",
            "_________________________________________________________________\n"
          ]
        }
      ]
    },
    {
      "cell_type": "code",
      "source": [
        "history = insurance_model_4.fit(X_train_normal, y_train, epochs = 200, verbose = 0)\n",
        "\n",
        "insurance_model_4.evaluate(X_test_normal, y_test)"
      ],
      "metadata": {
        "colab": {
          "base_uri": "https://localhost:8080/"
        },
        "id": "colpkjD9ij3s",
        "outputId": "f3647a26-6d42-4a3d-d60a-144c84f0e81d"
      },
      "execution_count": 78,
      "outputs": [
        {
          "output_type": "stream",
          "name": "stdout",
          "text": [
            "9/9 [==============================] - 0s 3ms/step - loss: 3896.9275 - mae: 3896.9275\n"
          ]
        },
        {
          "output_type": "execute_result",
          "data": {
            "text/plain": [
              "[3896.927490234375, 3896.927490234375]"
            ]
          },
          "metadata": {},
          "execution_count": 78
        }
      ]
    },
    {
      "cell_type": "code",
      "source": [
        "# Plot history which is also known as loss curve or training curve\n",
        "\n",
        "pd.DataFrame(history.history).plot()\n",
        "plt.xlabel('epochs')\n",
        "plt.ylabel('loss')"
      ],
      "metadata": {
        "colab": {
          "base_uri": "https://localhost:8080/",
          "height": 296
        },
        "id": "OF5Djk-RjF2G",
        "outputId": "3d4c8382-5805-466a-e99c-6d7834351761"
      },
      "execution_count": 79,
      "outputs": [
        {
          "output_type": "execute_result",
          "data": {
            "text/plain": [
              "Text(0, 0.5, 'loss')"
            ]
          },
          "metadata": {},
          "execution_count": 79
        },
        {
          "output_type": "display_data",
          "data": {
            "text/plain": [
              "<Figure size 432x288 with 1 Axes>"
            ],
            "image/png": "[encoded data removed]"
          },
          "metadata": {
            "needs_background": "light"
          }
        }
      ]
    }
  ]
}