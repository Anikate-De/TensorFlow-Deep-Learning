{
  "nbformat": 4,
  "nbformat_minor": 0,
  "metadata": {
    "colab": {
      "provenance": [],
      "collapsed_sections": [
        "pqMAf7UV0W_r",
        "enshTI2ii27E",
        "4Jn4z6DhllTg",
        "tgVgd623vahr",
        "ouY_hD_n8cOv",
        "HxK1xHFO9SPr",
        "ULpu4G0w-Pk-",
        "v-2_vFboBlZu",
        "PdI_j6lAHLLW",
        "7jZXEzrVIF8L",
        "qhu4hNHBJLbI",
        "dAs8X4ekK4Cy",
        "69yVckQPPa7n",
        "c4REVgE4VUgG",
        "jZ0YnVjt2WpX",
        "mAEIMwE_3Cyt",
        "4lG09eTK7bjR",
        "uv3sJjoD-TQc",
        "pMz4-lrfCFAx"
      ],
      "mount_file_id": "1ZoNWIIbOH6KUTVxO43RCQnr1-YUp5jwn",
      "authorship_tag": "ABX9TyNlYSkwxLfLEYYQsTQbe4BL",
      "include_colab_link": true
    },
    "kernelspec": {
      "name": "python3",
      "display_name": "Python 3"
    },
    "language_info": {
      "name": "python"
    },
    "accelerator": "GPU",
    "gpuClass": "standard"
  },
  "cells": [
    {
      "cell_type": "markdown",
      "metadata": {
        "id": "view-in-github",
        "colab_type": "text"
      },
      "source": [
        "<a href=\"https://colab.research.google.com/github/Anikate-De/TensorFlow-Deep-Learning/blob/main/Neural%20Network%20Regression.ipynb\" target=\"_parent\"><img src=\"https://colab.research.google.com/assets/colab-badge.svg\" alt=\"Open In Colab\"/></a>"
      ]
    },
    {
      "cell_type": "markdown",
      "source": [
        "# Neural Network Regression\n",
        "\n",
        "Table of Contents\n",
        "* Modelling in TensorFlow\n",
        "* Improving the Model\n",
        "* Evaluating the Model\n",
        "* Tracking Experiments\n",
        "* Saving Models\n",
        "* Loading Models\n",
        "* Download Files from Colab"
      ],
      "metadata": {
        "id": "pqMAf7UV0W_r"
      }
    },
    {
      "cell_type": "markdown",
      "source": [
        "#### Modelling in TensorFlow"
      ],
      "metadata": {
        "id": "enshTI2ii27E"
      }
    },
    {
      "cell_type": "code",
      "source": [
        "# Create data to view and fit\n",
        "\n",
        "import tensorflow as tf\n",
        "import matplotlib.pyplot as plot\n",
        "\n",
        "# Create features\n",
        "X = tf.constant([-7.0, -4.0, -1.0, 2.0, 5.0, 8.0, 11.0, 14.0])\n",
        "\n",
        "# Create labels\n",
        "y = tf.constant([3.0, 6.0, 9.0, 12.0, 15.0, 18.0, 21.0, 24.0])\n",
        "\n",
        "# Visualise\n",
        "plot.scatter(X, y)"
      ],
      "metadata": {
        "colab": {
          "base_uri": "https://localhost:8080/",
          "height": 0
        },
        "id": "oDLinJCqExen",
        "outputId": "26a0df37-f668-400c-a39d-7269ef599f7f"
      },
      "execution_count": 249,
      "outputs": [
        {
          "output_type": "execute_result",
          "data": {
            "text/plain": [
              "<matplotlib.collections.PathCollection at 0x7f6e8590ffa0>"
            ]
          },
          "metadata": {},
          "execution_count": 249
        },
        {
          "output_type": "display_data",
          "data": {
            "text/plain": [
              "<Figure size 432x288 with 1 Axes>"
            ],
            "image/png": "[encoded data removed]"
          },
          "metadata": {
            "needs_background": "light"
          }
        }
      ]
    },
    {
      "cell_type": "code",
      "source": [
        "# Set the random seed\n",
        "tf.random.set_seed(4)"
      ],
      "metadata": {
        "id": "zcuqielwjRsz"
      },
      "execution_count": 250,
      "outputs": []
    },
    {
      "cell_type": "markdown",
      "source": [
        "1.   Create a Model using the Sequential API"
      ],
      "metadata": {
        "id": "GS3RxaaUi7PB"
      }
    },
    {
      "cell_type": "code",
      "source": [
        "model = tf.keras.Sequential([\n",
        "    tf.keras.layers.Dense(1)\n",
        "])"
      ],
      "metadata": {
        "id": "qrzt4kHXi_Fj"
      },
      "execution_count": 251,
      "outputs": []
    },
    {
      "cell_type": "markdown",
      "source": [
        "2. Compile the Model"
      ],
      "metadata": {
        "id": "VdwsZl40jpac"
      }
    },
    {
      "cell_type": "code",
      "source": [
        "model.compile(loss = tf.keras.losses.mae,\n",
        "              optimizer = tf.keras.optimizers.SGD(),\n",
        "              metrics = [\"mae\"])"
      ],
      "metadata": {
        "id": "tCgjm8UYjvQj"
      },
      "execution_count": 252,
      "outputs": []
    },
    {
      "cell_type": "markdown",
      "source": [
        "3. Fit the model"
      ],
      "metadata": {
        "id": "qcjXcez5kMgU"
      }
    },
    {
      "cell_type": "code",
      "source": [
        "model.fit(tf.expand_dims(X, axis = -1), y, epochs = 5)"
      ],
      "metadata": {
        "colab": {
          "base_uri": "https://localhost:8080/"
        },
        "id": "A-HgaYQSkTUW",
        "outputId": "13d4a152-4312-43fc-fc8e-ccafa472d050"
      },
      "execution_count": 253,
      "outputs": [
        {
          "output_type": "stream",
          "name": "stdout",
          "text": [
            "Epoch 1/5\n",
            "1/1 [==============================] - 0s 414ms/step - loss: 17.1329 - mae: 17.1329\n",
            "Epoch 2/5\n",
            "1/1 [==============================] - 0s 16ms/step - loss: 16.8517 - mae: 16.8517\n",
            "Epoch 3/5\n",
            "1/1 [==============================] - 0s 19ms/step - loss: 16.5704 - mae: 16.5704\n",
            "Epoch 4/5\n",
            "1/1 [==============================] - 0s 13ms/step - loss: 16.2892 - mae: 16.2892\n",
            "Epoch 5/5\n",
            "1/1 [==============================] - 0s 17ms/step - loss: 16.0079 - mae: 16.0079\n"
          ]
        },
        {
          "output_type": "execute_result",
          "data": {
            "text/plain": [
              "<keras.callbacks.History at 0x7f6e858d6f70>"
            ]
          },
          "metadata": {},
          "execution_count": 253
        }
      ]
    },
    {
      "cell_type": "markdown",
      "source": [
        "Now that the Model is fitted, we can use it to make predictions"
      ],
      "metadata": {
        "id": "p7MLvgtIlIWh"
      }
    },
    {
      "cell_type": "code",
      "source": [
        "model.predict([17.0])"
      ],
      "metadata": {
        "colab": {
          "base_uri": "https://localhost:8080/"
        },
        "id": "oT2ok3avlN2T",
        "outputId": "b9675d8b-3939-45af-9c82-14146753eecf"
      },
      "execution_count": 254,
      "outputs": [
        {
          "output_type": "stream",
          "name": "stdout",
          "text": [
            "1/1 [==============================] - 0s 82ms/step\n"
          ]
        },
        {
          "output_type": "execute_result",
          "data": {
            "text/plain": [
              "array([[-9.692406]], dtype=float32)"
            ]
          },
          "metadata": {},
          "execution_count": 254
        }
      ]
    },
    {
      "cell_type": "markdown",
      "source": [
        "#### Improving the Model"
      ],
      "metadata": {
        "id": "4Jn4z6DhllTg"
      }
    },
    {
      "cell_type": "markdown",
      "source": [
        "- By increasing the number of laps the model takes through the input data"
      ],
      "metadata": {
        "id": "JgfvLEcmpGjg"
      }
    },
    {
      "cell_type": "code",
      "source": [
        "model = tf.keras.Sequential([\n",
        "    tf.keras.layers.Dense(1)\n",
        "])\n",
        "\n",
        "model.compile(loss = tf.keras.losses.mae,\n",
        "              optimizer = tf.keras.optimizers.SGD(),\n",
        "              metrics = [\"mae\"])\n",
        "\n",
        "model.fit(tf.expand_dims(X, axis = -1), y, epochs = 100)"
      ],
      "metadata": {
        "colab": {
          "base_uri": "https://localhost:8080/"
        },
        "id": "d9IQzi24lSTd",
        "outputId": "0418d45f-ab14-4a70-9989-7523546d36be"
      },
      "execution_count": 255,
      "outputs": [
        {
          "output_type": "stream",
          "name": "stdout",
          "text": [
            "Epoch 1/100\n",
            "1/1 [==============================] - 0s 405ms/step - loss: 13.7283 - mae: 13.7283\n",
            "Epoch 2/100\n",
            "1/1 [==============================] - 0s 15ms/step - loss: 13.5958 - mae: 13.5958\n",
            "Epoch 3/100\n",
            "1/1 [==============================] - 0s 16ms/step - loss: 13.4633 - mae: 13.4633\n",
            "Epoch 4/100\n",
            "1/1 [==============================] - 0s 17ms/step - loss: 13.3308 - mae: 13.3308\n",
            "Epoch 5/100\n",
            "1/1 [==============================] - 0s 16ms/step - loss: 13.1983 - mae: 13.1983\n",
            "Epoch 6/100\n",
            "1/1 [==============================] - 0s 15ms/step - loss: 13.0658 - mae: 13.0658\n",
            "Epoch 7/100\n",
            "1/1 [==============================] - 0s 16ms/step - loss: 12.9333 - mae: 12.9333\n",
            "Epoch 8/100\n",
            "1/1 [==============================] - 0s 16ms/step - loss: 12.8008 - mae: 12.8008\n",
            "Epoch 9/100\n",
            "1/1 [==============================] - 0s 14ms/step - loss: 12.6683 - mae: 12.6683\n",
            "Epoch 10/100\n",
            "1/1 [==============================] - 0s 15ms/step - loss: 12.5358 - mae: 12.5358\n",
            "Epoch 11/100\n",
            "1/1 [==============================] - 0s 14ms/step - loss: 12.4033 - mae: 12.4033\n",
            "Epoch 12/100\n",
            "1/1 [==============================] - 0s 15ms/step - loss: 12.2708 - mae: 12.2708\n",
            "Epoch 13/100\n",
            "1/1 [==============================] - 0s 14ms/step - loss: 12.1383 - mae: 12.1383\n",
            "Epoch 14/100\n",
            "1/1 [==============================] - 0s 18ms/step - loss: 12.0058 - mae: 12.0058\n",
            "Epoch 15/100\n",
            "1/1 [==============================] - 0s 14ms/step - loss: 11.8733 - mae: 11.8733\n",
            "Epoch 16/100\n",
            "1/1 [==============================] - 0s 17ms/step - loss: 11.7408 - mae: 11.7408\n",
            "Epoch 17/100\n",
            "1/1 [==============================] - 0s 14ms/step - loss: 11.6083 - mae: 11.6083\n",
            "Epoch 18/100\n",
            "1/1 [==============================] - 0s 21ms/step - loss: 11.4758 - mae: 11.4758\n",
            "Epoch 19/100\n",
            "1/1 [==============================] - 0s 14ms/step - loss: 11.3433 - mae: 11.3433\n",
            "Epoch 20/100\n",
            "1/1 [==============================] - 0s 17ms/step - loss: 11.2108 - mae: 11.2108\n",
            "Epoch 21/100\n",
            "1/1 [==============================] - 0s 15ms/step - loss: 11.0783 - mae: 11.0783\n",
            "Epoch 22/100\n",
            "1/1 [==============================] - 0s 14ms/step - loss: 10.9458 - mae: 10.9458\n",
            "Epoch 23/100\n",
            "1/1 [==============================] - 0s 13ms/step - loss: 10.8133 - mae: 10.8133\n",
            "Epoch 24/100\n",
            "1/1 [==============================] - 0s 11ms/step - loss: 10.6808 - mae: 10.6808\n",
            "Epoch 25/100\n",
            "1/1 [==============================] - 0s 15ms/step - loss: 10.5483 - mae: 10.5483\n",
            "Epoch 26/100\n",
            "1/1 [==============================] - 0s 13ms/step - loss: 10.4158 - mae: 10.4158\n",
            "Epoch 27/100\n",
            "1/1 [==============================] - 0s 14ms/step - loss: 10.2833 - mae: 10.2833\n",
            "Epoch 28/100\n",
            "1/1 [==============================] - 0s 13ms/step - loss: 10.1508 - mae: 10.1508\n",
            "Epoch 29/100\n",
            "1/1 [==============================] - 0s 12ms/step - loss: 10.0183 - mae: 10.0183\n",
            "Epoch 30/100\n",
            "1/1 [==============================] - 0s 13ms/step - loss: 9.8858 - mae: 9.8858\n",
            "Epoch 31/100\n",
            "1/1 [==============================] - 0s 15ms/step - loss: 9.7533 - mae: 9.7533\n",
            "Epoch 32/100\n",
            "1/1 [==============================] - 0s 14ms/step - loss: 9.6208 - mae: 9.6208\n",
            "Epoch 33/100\n",
            "1/1 [==============================] - 0s 14ms/step - loss: 9.4883 - mae: 9.4883\n",
            "Epoch 34/100\n",
            "1/1 [==============================] - 0s 12ms/step - loss: 9.3558 - mae: 9.3558\n",
            "Epoch 35/100\n",
            "1/1 [==============================] - 0s 13ms/step - loss: 9.2233 - mae: 9.2233\n",
            "Epoch 36/100\n",
            "1/1 [==============================] - 0s 16ms/step - loss: 9.0908 - mae: 9.0908\n",
            "Epoch 37/100\n",
            "1/1 [==============================] - 0s 16ms/step - loss: 8.9583 - mae: 8.9583\n",
            "Epoch 38/100\n",
            "1/1 [==============================] - 0s 12ms/step - loss: 8.8258 - mae: 8.8258\n",
            "Epoch 39/100\n",
            "1/1 [==============================] - 0s 18ms/step - loss: 8.6933 - mae: 8.6933\n",
            "Epoch 40/100\n",
            "1/1 [==============================] - 0s 13ms/step - loss: 8.5608 - mae: 8.5608\n",
            "Epoch 41/100\n",
            "1/1 [==============================] - 0s 14ms/step - loss: 8.4283 - mae: 8.4283\n",
            "Epoch 42/100\n",
            "1/1 [==============================] - 0s 14ms/step - loss: 8.2958 - mae: 8.2958\n",
            "Epoch 43/100\n",
            "1/1 [==============================] - 0s 15ms/step - loss: 8.1633 - mae: 8.1633\n",
            "Epoch 44/100\n",
            "1/1 [==============================] - 0s 15ms/step - loss: 8.0308 - mae: 8.0308\n",
            "Epoch 45/100\n",
            "1/1 [==============================] - 0s 14ms/step - loss: 7.8983 - mae: 7.8983\n",
            "Epoch 46/100\n",
            "1/1 [==============================] - 0s 14ms/step - loss: 7.7658 - mae: 7.7658\n",
            "Epoch 47/100\n",
            "1/1 [==============================] - 0s 14ms/step - loss: 7.6333 - mae: 7.6333\n",
            "Epoch 48/100\n",
            "1/1 [==============================] - 0s 17ms/step - loss: 7.5008 - mae: 7.5008\n",
            "Epoch 49/100\n",
            "1/1 [==============================] - 0s 11ms/step - loss: 7.3683 - mae: 7.3683\n",
            "Epoch 50/100\n",
            "1/1 [==============================] - 0s 10ms/step - loss: 7.2358 - mae: 7.2358\n",
            "Epoch 51/100\n",
            "1/1 [==============================] - 0s 12ms/step - loss: 7.1250 - mae: 7.1250\n",
            "Epoch 52/100\n",
            "1/1 [==============================] - 0s 12ms/step - loss: 7.1194 - mae: 7.1194\n",
            "Epoch 53/100\n",
            "1/1 [==============================] - 0s 10ms/step - loss: 7.1138 - mae: 7.1138\n",
            "Epoch 54/100\n",
            "1/1 [==============================] - 0s 12ms/step - loss: 7.1081 - mae: 7.1081\n",
            "Epoch 55/100\n",
            "1/1 [==============================] - 0s 13ms/step - loss: 7.1025 - mae: 7.1025\n",
            "Epoch 56/100\n",
            "1/1 [==============================] - 0s 14ms/step - loss: 7.0969 - mae: 7.0969\n",
            "Epoch 57/100\n",
            "1/1 [==============================] - 0s 15ms/step - loss: 7.0913 - mae: 7.0913\n",
            "Epoch 58/100\n",
            "1/1 [==============================] - 0s 12ms/step - loss: 7.0856 - mae: 7.0856\n",
            "Epoch 59/100\n",
            "1/1 [==============================] - 0s 11ms/step - loss: 7.0800 - mae: 7.0800\n",
            "Epoch 60/100\n",
            "1/1 [==============================] - 0s 14ms/step - loss: 7.0744 - mae: 7.0744\n",
            "Epoch 61/100\n",
            "1/1 [==============================] - 0s 14ms/step - loss: 7.0687 - mae: 7.0687\n",
            "Epoch 62/100\n",
            "1/1 [==============================] - 0s 13ms/step - loss: 7.0631 - mae: 7.0631\n",
            "Epoch 63/100\n",
            "1/1 [==============================] - 0s 12ms/step - loss: 7.0575 - mae: 7.0575\n",
            "Epoch 64/100\n",
            "1/1 [==============================] - 0s 12ms/step - loss: 7.0519 - mae: 7.0519\n",
            "Epoch 65/100\n",
            "1/1 [==============================] - 0s 14ms/step - loss: 7.0462 - mae: 7.0462\n",
            "Epoch 66/100\n",
            "1/1 [==============================] - 0s 11ms/step - loss: 7.0406 - mae: 7.0406\n",
            "Epoch 67/100\n",
            "1/1 [==============================] - 0s 11ms/step - loss: 7.0350 - mae: 7.0350\n",
            "Epoch 68/100\n",
            "1/1 [==============================] - 0s 13ms/step - loss: 7.0294 - mae: 7.0294\n",
            "Epoch 69/100\n",
            "1/1 [==============================] - 0s 11ms/step - loss: 7.0238 - mae: 7.0238\n",
            "Epoch 70/100\n",
            "1/1 [==============================] - 0s 12ms/step - loss: 7.0181 - mae: 7.0181\n",
            "Epoch 71/100\n",
            "1/1 [==============================] - 0s 12ms/step - loss: 7.0125 - mae: 7.0125\n",
            "Epoch 72/100\n",
            "1/1 [==============================] - 0s 13ms/step - loss: 7.0069 - mae: 7.0069\n",
            "Epoch 73/100\n",
            "1/1 [==============================] - 0s 13ms/step - loss: 7.0013 - mae: 7.0013\n",
            "Epoch 74/100\n",
            "1/1 [==============================] - 0s 12ms/step - loss: 6.9956 - mae: 6.9956\n",
            "Epoch 75/100\n",
            "1/1 [==============================] - 0s 11ms/step - loss: 6.9900 - mae: 6.9900\n",
            "Epoch 76/100\n",
            "1/1 [==============================] - 0s 12ms/step - loss: 6.9844 - mae: 6.9844\n",
            "Epoch 77/100\n",
            "1/1 [==============================] - 0s 13ms/step - loss: 6.9788 - mae: 6.9788\n",
            "Epoch 78/100\n",
            "1/1 [==============================] - 0s 11ms/step - loss: 6.9731 - mae: 6.9731\n",
            "Epoch 79/100\n",
            "1/1 [==============================] - 0s 12ms/step - loss: 6.9675 - mae: 6.9675\n",
            "Epoch 80/100\n",
            "1/1 [==============================] - 0s 13ms/step - loss: 6.9619 - mae: 6.9619\n",
            "Epoch 81/100\n",
            "1/1 [==============================] - 0s 13ms/step - loss: 6.9563 - mae: 6.9563\n",
            "Epoch 82/100\n",
            "1/1 [==============================] - 0s 13ms/step - loss: 6.9506 - mae: 6.9506\n",
            "Epoch 83/100\n",
            "1/1 [==============================] - 0s 13ms/step - loss: 6.9450 - mae: 6.9450\n",
            "Epoch 84/100\n",
            "1/1 [==============================] - 0s 14ms/step - loss: 6.9394 - mae: 6.9394\n",
            "Epoch 85/100\n",
            "1/1 [==============================] - 0s 14ms/step - loss: 6.9338 - mae: 6.9338\n",
            "Epoch 86/100\n",
            "1/1 [==============================] - 0s 15ms/step - loss: 6.9281 - mae: 6.9281\n",
            "Epoch 87/100\n",
            "1/1 [==============================] - 0s 16ms/step - loss: 6.9225 - mae: 6.9225\n",
            "Epoch 88/100\n",
            "1/1 [==============================] - 0s 17ms/step - loss: 6.9169 - mae: 6.9169\n",
            "Epoch 89/100\n",
            "1/1 [==============================] - 0s 14ms/step - loss: 6.9113 - mae: 6.9113\n",
            "Epoch 90/100\n",
            "1/1 [==============================] - 0s 15ms/step - loss: 6.9056 - mae: 6.9056\n",
            "Epoch 91/100\n",
            "1/1 [==============================] - 0s 14ms/step - loss: 6.9000 - mae: 6.9000\n",
            "Epoch 92/100\n",
            "1/1 [==============================] - 0s 14ms/step - loss: 6.8944 - mae: 6.8944\n",
            "Epoch 93/100\n",
            "1/1 [==============================] - 0s 15ms/step - loss: 6.8888 - mae: 6.8888\n",
            "Epoch 94/100\n",
            "1/1 [==============================] - 0s 16ms/step - loss: 6.8831 - mae: 6.8831\n",
            "Epoch 95/100\n",
            "1/1 [==============================] - 0s 12ms/step - loss: 6.8775 - mae: 6.8775\n",
            "Epoch 96/100\n",
            "1/1 [==============================] - 0s 15ms/step - loss: 6.8719 - mae: 6.8719\n",
            "Epoch 97/100\n",
            "1/1 [==============================] - 0s 21ms/step - loss: 6.8663 - mae: 6.8663\n",
            "Epoch 98/100\n",
            "1/1 [==============================] - 0s 13ms/step - loss: 6.8606 - mae: 6.8606\n",
            "Epoch 99/100\n",
            "1/1 [==============================] - 0s 13ms/step - loss: 6.8550 - mae: 6.8550\n",
            "Epoch 100/100\n",
            "1/1 [==============================] - 0s 16ms/step - loss: 6.8494 - mae: 6.8494\n"
          ]
        },
        {
          "output_type": "execute_result",
          "data": {
            "text/plain": [
              "<keras.callbacks.History at 0x7f6e857c95e0>"
            ]
          },
          "metadata": {},
          "execution_count": 255
        }
      ]
    },
    {
      "cell_type": "code",
      "source": [
        "model.predict([17.0])"
      ],
      "metadata": {
        "colab": {
          "base_uri": "https://localhost:8080/"
        },
        "id": "sJMIcn-6mRFl",
        "outputId": "348de519-ae0f-420d-9492-eb47e7482d1c"
      },
      "execution_count": 256,
      "outputs": [
        {
          "output_type": "stream",
          "name": "stdout",
          "text": [
            "1/1 [==============================] - 0s 197ms/step\n"
          ]
        },
        {
          "output_type": "execute_result",
          "data": {
            "text/plain": [
              "array([[29.516056]], dtype=float32)"
            ]
          },
          "metadata": {},
          "execution_count": 256
        }
      ]
    },
    {
      "cell_type": "markdown",
      "source": [
        "- By Adding a Hidden Layer to the model"
      ],
      "metadata": {
        "id": "kbwLYkGaqT_t"
      }
    },
    {
      "cell_type": "code",
      "source": [
        "model = tf.keras.Sequential([\n",
        "    tf.keras.layers.Dense(100, activation = 'relu'),\n",
        "    tf.keras.layers.Dense(1)\n",
        "])\n",
        "\n",
        "model.compile(loss = tf.keras.losses.mae,\n",
        "              optimizer = tf.keras.optimizers.SGD(),\n",
        "              metrics = ['mae'])\n",
        "\n",
        "model.fit(tf.expand_dims(X, axis = -1), y, epochs = 100)"
      ],
      "metadata": {
        "colab": {
          "base_uri": "https://localhost:8080/"
        },
        "id": "VzPCgcO3o6xS",
        "outputId": "5f72c775-ffb4-4a12-c6f7-a29c70c6834b"
      },
      "execution_count": 257,
      "outputs": [
        {
          "output_type": "stream",
          "name": "stdout",
          "text": [
            "Epoch 1/100\n",
            "1/1 [==============================] - 1s 842ms/step - loss: 12.5805 - mae: 12.5805\n",
            "Epoch 2/100\n",
            "1/1 [==============================] - 0s 22ms/step - loss: 12.0266 - mae: 12.0266\n",
            "Epoch 3/100\n",
            "1/1 [==============================] - 0s 20ms/step - loss: 11.4882 - mae: 11.4882\n",
            "Epoch 4/100\n",
            "1/1 [==============================] - 0s 20ms/step - loss: 10.9314 - mae: 10.9314\n",
            "Epoch 5/100\n",
            "1/1 [==============================] - 0s 17ms/step - loss: 10.3546 - mae: 10.3546\n",
            "Epoch 6/100\n",
            "1/1 [==============================] - 0s 18ms/step - loss: 9.7492 - mae: 9.7492\n",
            "Epoch 7/100\n",
            "1/1 [==============================] - 0s 17ms/step - loss: 9.1142 - mae: 9.1142\n",
            "Epoch 8/100\n",
            "1/1 [==============================] - 0s 16ms/step - loss: 8.4434 - mae: 8.4434\n",
            "Epoch 9/100\n",
            "1/1 [==============================] - 0s 15ms/step - loss: 7.7284 - mae: 7.7284\n",
            "Epoch 10/100\n",
            "1/1 [==============================] - 0s 20ms/step - loss: 6.9613 - mae: 6.9613\n",
            "Epoch 11/100\n",
            "1/1 [==============================] - 0s 19ms/step - loss: 6.1384 - mae: 6.1384\n",
            "Epoch 12/100\n",
            "1/1 [==============================] - 0s 20ms/step - loss: 5.2539 - mae: 5.2539\n",
            "Epoch 13/100\n",
            "1/1 [==============================] - 0s 15ms/step - loss: 4.3561 - mae: 4.3561\n",
            "Epoch 14/100\n",
            "1/1 [==============================] - 0s 11ms/step - loss: 3.9535 - mae: 3.9535\n",
            "Epoch 15/100\n",
            "1/1 [==============================] - 0s 12ms/step - loss: 3.9553 - mae: 3.9553\n",
            "Epoch 16/100\n",
            "1/1 [==============================] - 0s 11ms/step - loss: 3.9275 - mae: 3.9275\n",
            "Epoch 17/100\n",
            "1/1 [==============================] - 0s 13ms/step - loss: 3.9616 - mae: 3.9616\n",
            "Epoch 18/100\n",
            "1/1 [==============================] - 0s 13ms/step - loss: 3.9014 - mae: 3.9014\n",
            "Epoch 19/100\n",
            "1/1 [==============================] - 0s 15ms/step - loss: 3.9679 - mae: 3.9679\n",
            "Epoch 20/100\n",
            "1/1 [==============================] - 0s 12ms/step - loss: 3.9086 - mae: 3.9086\n",
            "Epoch 21/100\n",
            "1/1 [==============================] - 0s 16ms/step - loss: 3.9581 - mae: 3.9581\n",
            "Epoch 22/100\n",
            "1/1 [==============================] - 0s 14ms/step - loss: 3.9159 - mae: 3.9159\n",
            "Epoch 23/100\n",
            "1/1 [==============================] - 0s 14ms/step - loss: 3.9320 - mae: 3.9320\n",
            "Epoch 24/100\n",
            "1/1 [==============================] - 0s 11ms/step - loss: 3.9222 - mae: 3.9222\n",
            "Epoch 25/100\n",
            "1/1 [==============================] - 0s 14ms/step - loss: 3.9058 - mae: 3.9058\n",
            "Epoch 26/100\n",
            "1/1 [==============================] - 0s 17ms/step - loss: 3.9287 - mae: 3.9287\n",
            "Epoch 27/100\n",
            "1/1 [==============================] - 0s 15ms/step - loss: 3.8795 - mae: 3.8795\n",
            "Epoch 28/100\n",
            "1/1 [==============================] - 0s 14ms/step - loss: 3.9438 - mae: 3.9438\n",
            "Epoch 29/100\n",
            "1/1 [==============================] - 0s 15ms/step - loss: 3.8775 - mae: 3.8775\n",
            "Epoch 30/100\n",
            "1/1 [==============================] - 0s 13ms/step - loss: 3.9356 - mae: 3.9356\n",
            "Epoch 31/100\n",
            "1/1 [==============================] - 0s 15ms/step - loss: 3.8839 - mae: 3.8839\n",
            "Epoch 32/100\n",
            "1/1 [==============================] - 0s 14ms/step - loss: 3.9093 - mae: 3.9093\n",
            "Epoch 33/100\n",
            "1/1 [==============================] - 0s 14ms/step - loss: 3.8904 - mae: 3.8904\n",
            "Epoch 34/100\n",
            "1/1 [==============================] - 0s 11ms/step - loss: 3.8829 - mae: 3.8829\n",
            "Epoch 35/100\n",
            "1/1 [==============================] - 0s 12ms/step - loss: 3.8971 - mae: 3.8971\n",
            "Epoch 36/100\n",
            "1/1 [==============================] - 0s 11ms/step - loss: 3.8649 - mae: 3.8649\n",
            "Epoch 37/100\n",
            "1/1 [==============================] - 0s 13ms/step - loss: 3.9137 - mae: 3.9137\n",
            "Epoch 38/100\n",
            "1/1 [==============================] - 0s 14ms/step - loss: 3.8464 - mae: 3.8464\n",
            "Epoch 39/100\n",
            "1/1 [==============================] - 0s 14ms/step - loss: 3.9120 - mae: 3.9120\n",
            "Epoch 40/100\n",
            "1/1 [==============================] - 0s 13ms/step - loss: 3.8530 - mae: 3.8530\n",
            "Epoch 41/100\n",
            "1/1 [==============================] - 0s 17ms/step - loss: 3.8854 - mae: 3.8854\n",
            "Epoch 42/100\n",
            "1/1 [==============================] - 0s 15ms/step - loss: 3.8598 - mae: 3.8598\n",
            "Epoch 43/100\n",
            "1/1 [==============================] - 0s 12ms/step - loss: 3.8588 - mae: 3.8588\n",
            "Epoch 44/100\n",
            "1/1 [==============================] - 0s 12ms/step - loss: 3.8743 - mae: 3.8743\n",
            "Epoch 45/100\n",
            "1/1 [==============================] - 0s 15ms/step - loss: 3.8412 - mae: 3.8412\n",
            "Epoch 46/100\n",
            "1/1 [==============================] - 0s 16ms/step - loss: 3.8834 - mae: 3.8834\n",
            "Epoch 47/100\n",
            "1/1 [==============================] - 0s 12ms/step - loss: 3.8165 - mae: 3.8165\n",
            "Epoch 48/100\n",
            "1/1 [==============================] - 0s 10ms/step - loss: 3.8871 - mae: 3.8871\n",
            "Epoch 49/100\n",
            "1/1 [==============================] - 0s 11ms/step - loss: 3.8233 - mae: 3.8233\n",
            "Epoch 50/100\n",
            "1/1 [==============================] - 0s 14ms/step - loss: 3.8603 - mae: 3.8603\n",
            "Epoch 51/100\n",
            "1/1 [==============================] - 0s 11ms/step - loss: 3.8303 - mae: 3.8303\n",
            "Epoch 52/100\n",
            "1/1 [==============================] - 0s 10ms/step - loss: 3.8406 - mae: 3.8406\n",
            "Epoch 53/100\n",
            "1/1 [==============================] - 0s 13ms/step - loss: 3.8472 - mae: 3.8472\n",
            "Epoch 54/100\n",
            "1/1 [==============================] - 0s 10ms/step - loss: 3.8154 - mae: 3.8154\n",
            "Epoch 55/100\n",
            "1/1 [==============================] - 0s 12ms/step - loss: 3.8543 - mae: 3.8543\n",
            "Epoch 56/100\n",
            "1/1 [==============================] - 0s 16ms/step - loss: 3.7881 - mae: 3.7881\n",
            "Epoch 57/100\n",
            "1/1 [==============================] - 0s 16ms/step - loss: 3.8615 - mae: 3.8615\n",
            "Epoch 58/100\n",
            "1/1 [==============================] - 0s 16ms/step - loss: 3.7947 - mae: 3.7947\n",
            "Epoch 59/100\n",
            "1/1 [==============================] - 0s 17ms/step - loss: 3.8339 - mae: 3.8339\n",
            "Epoch 60/100\n",
            "1/1 [==============================] - 0s 13ms/step - loss: 3.8078 - mae: 3.8078\n",
            "Epoch 61/100\n",
            "1/1 [==============================] - 0s 12ms/step - loss: 3.8159 - mae: 3.8159\n",
            "Epoch 62/100\n",
            "1/1 [==============================] - 0s 10ms/step - loss: 3.8189 - mae: 3.8189\n",
            "Epoch 63/100\n",
            "1/1 [==============================] - 0s 13ms/step - loss: 3.7884 - mae: 3.7884\n",
            "Epoch 64/100\n",
            "1/1 [==============================] - 0s 12ms/step - loss: 3.8262 - mae: 3.8262\n",
            "Epoch 65/100\n",
            "1/1 [==============================] - 0s 11ms/step - loss: 3.7608 - mae: 3.7608\n",
            "Epoch 66/100\n",
            "1/1 [==============================] - 0s 11ms/step - loss: 3.8337 - mae: 3.8337\n",
            "Epoch 67/100\n",
            "1/1 [==============================] - 0s 12ms/step - loss: 3.7672 - mae: 3.7672\n",
            "Epoch 68/100\n",
            "1/1 [==============================] - 0s 11ms/step - loss: 3.8114 - mae: 3.8114\n",
            "Epoch 69/100\n",
            "1/1 [==============================] - 0s 11ms/step - loss: 3.7844 - mae: 3.7844\n",
            "Epoch 70/100\n",
            "1/1 [==============================] - 0s 10ms/step - loss: 3.7879 - mae: 3.7879\n",
            "Epoch 71/100\n",
            "1/1 [==============================] - 0s 11ms/step - loss: 3.7917 - mae: 3.7917\n",
            "Epoch 72/100\n",
            "1/1 [==============================] - 0s 12ms/step - loss: 3.7601 - mae: 3.7601\n",
            "Epoch 73/100\n",
            "1/1 [==============================] - 0s 12ms/step - loss: 3.7992 - mae: 3.7992\n",
            "Epoch 74/100\n",
            "1/1 [==============================] - 0s 12ms/step - loss: 3.7333 - mae: 3.7333\n",
            "Epoch 75/100\n",
            "1/1 [==============================] - 0s 11ms/step - loss: 3.8049 - mae: 3.8049\n",
            "Epoch 76/100\n",
            "1/1 [==============================] - 0s 11ms/step - loss: 3.7443 - mae: 3.7443\n",
            "Epoch 77/100\n",
            "1/1 [==============================] - 0s 10ms/step - loss: 3.7864 - mae: 3.7864\n",
            "Epoch 78/100\n",
            "1/1 [==============================] - 0s 11ms/step - loss: 3.7581 - mae: 3.7581\n",
            "Epoch 79/100\n",
            "1/1 [==============================] - 0s 11ms/step - loss: 3.7585 - mae: 3.7585\n",
            "Epoch 80/100\n",
            "1/1 [==============================] - 0s 12ms/step - loss: 3.7656 - mae: 3.7656\n",
            "Epoch 81/100\n",
            "1/1 [==============================] - 0s 12ms/step - loss: 3.7305 - mae: 3.7305\n",
            "Epoch 82/100\n",
            "1/1 [==============================] - 0s 13ms/step - loss: 3.7734 - mae: 3.7734\n",
            "Epoch 83/100\n",
            "1/1 [==============================] - 0s 13ms/step - loss: 3.7077 - mae: 3.7077\n",
            "Epoch 84/100\n",
            "1/1 [==============================] - 0s 15ms/step - loss: 3.7775 - mae: 3.7775\n",
            "Epoch 85/100\n",
            "1/1 [==============================] - 0s 12ms/step - loss: 3.7251 - mae: 3.7251\n",
            "Epoch 86/100\n",
            "1/1 [==============================] - 0s 12ms/step - loss: 3.7561 - mae: 3.7561\n",
            "Epoch 87/100\n",
            "1/1 [==============================] - 0s 14ms/step - loss: 3.7328 - mae: 3.7328\n",
            "Epoch 88/100\n",
            "1/1 [==============================] - 0s 11ms/step - loss: 3.7278 - mae: 3.7278\n",
            "Epoch 89/100\n",
            "1/1 [==============================] - 0s 10ms/step - loss: 3.7406 - mae: 3.7406\n",
            "Epoch 90/100\n",
            "1/1 [==============================] - 0s 13ms/step - loss: 3.6995 - mae: 3.6995\n",
            "Epoch 91/100\n",
            "1/1 [==============================] - 0s 11ms/step - loss: 3.7485 - mae: 3.7485\n",
            "Epoch 92/100\n",
            "1/1 [==============================] - 0s 13ms/step - loss: 3.6840 - mae: 3.6840\n",
            "Epoch 93/100\n",
            "1/1 [==============================] - 0s 12ms/step - loss: 3.7528 - mae: 3.7528\n",
            "Epoch 94/100\n",
            "1/1 [==============================] - 0s 9ms/step - loss: 3.7006 - mae: 3.7006\n",
            "Epoch 95/100\n",
            "1/1 [==============================] - 0s 13ms/step - loss: 3.7244 - mae: 3.7244\n",
            "Epoch 96/100\n",
            "1/1 [==============================] - 0s 12ms/step - loss: 3.7085 - mae: 3.7085\n",
            "Epoch 97/100\n",
            "1/1 [==============================] - 0s 11ms/step - loss: 3.6958 - mae: 3.6958\n",
            "Epoch 98/100\n",
            "1/1 [==============================] - 0s 13ms/step - loss: 3.7165 - mae: 3.7165\n",
            "Epoch 99/100\n",
            "1/1 [==============================] - 0s 11ms/step - loss: 3.6672 - mae: 3.6672\n",
            "Epoch 100/100\n",
            "1/1 [==============================] - 0s 13ms/step - loss: 3.7247 - mae: 3.7247\n"
          ]
        },
        {
          "output_type": "execute_result",
          "data": {
            "text/plain": [
              "<keras.callbacks.History at 0x7f6e85636880>"
            ]
          },
          "metadata": {},
          "execution_count": 257
        }
      ]
    },
    {
      "cell_type": "code",
      "source": [
        "model.predict([17.0])"
      ],
      "metadata": {
        "colab": {
          "base_uri": "https://localhost:8080/"
        },
        "id": "nV-rAuGQrJgj",
        "outputId": "b4c35942-c631-4e52-f358-5fd57c1fb4c2"
      },
      "execution_count": 258,
      "outputs": [
        {
          "output_type": "stream",
          "name": "stdout",
          "text": [
            "1/1 [==============================] - 0s 219ms/step\n"
          ]
        },
        {
          "output_type": "execute_result",
          "data": {
            "text/plain": [
              "array([[32.057796]], dtype=float32)"
            ]
          },
          "metadata": {},
          "execution_count": 258
        }
      ]
    },
    {
      "cell_type": "markdown",
      "source": [
        "- By Increasing the number of hidden units"
      ],
      "metadata": {
        "id": "0Cvr85YbtJFb"
      }
    },
    {
      "cell_type": "code",
      "source": [
        "model = tf.keras.Sequential([\n",
        "    tf.keras.layers.Dense(200, activation = 'relu'),\n",
        "    tf.keras.layers.Dense(1)\n",
        "])\n",
        "\n",
        "model.compile(loss = tf.keras.losses.mae,\n",
        "              optimizer = tf.keras.optimizers.SGD(),\n",
        "              metrics = ['mae'])\n",
        "\n",
        "model.fit(tf.expand_dims(X, axis = -1), y, epochs = 100)"
      ],
      "metadata": {
        "colab": {
          "base_uri": "https://localhost:8080/"
        },
        "id": "m7Dpd_CotJmg",
        "outputId": "21de3e64-d3ee-4055-b947-28e294575c08"
      },
      "execution_count": 259,
      "outputs": [
        {
          "output_type": "stream",
          "name": "stdout",
          "text": [
            "Epoch 1/100\n",
            "1/1 [==============================] - 2s 2s/step - loss: 14.0378 - mae: 14.0378\n",
            "Epoch 2/100\n",
            "1/1 [==============================] - 0s 15ms/step - loss: 13.5451 - mae: 13.5451\n",
            "Epoch 3/100\n",
            "1/1 [==============================] - 0s 18ms/step - loss: 13.0613 - mae: 13.0613\n",
            "Epoch 4/100\n",
            "1/1 [==============================] - 0s 11ms/step - loss: 12.5918 - mae: 12.5918\n",
            "Epoch 5/100\n",
            "1/1 [==============================] - 0s 13ms/step - loss: 12.1290 - mae: 12.1290\n",
            "Epoch 6/100\n",
            "1/1 [==============================] - 0s 11ms/step - loss: 11.6578 - mae: 11.6578\n",
            "Epoch 7/100\n",
            "1/1 [==============================] - 0s 14ms/step - loss: 11.1748 - mae: 11.1748\n",
            "Epoch 8/100\n",
            "1/1 [==============================] - 0s 15ms/step - loss: 10.6825 - mae: 10.6825\n",
            "Epoch 9/100\n",
            "1/1 [==============================] - 0s 13ms/step - loss: 10.1683 - mae: 10.1683\n",
            "Epoch 10/100\n",
            "1/1 [==============================] - 0s 14ms/step - loss: 9.6321 - mae: 9.6321\n",
            "Epoch 11/100\n",
            "1/1 [==============================] - 0s 12ms/step - loss: 9.0686 - mae: 9.0686\n",
            "Epoch 12/100\n",
            "1/1 [==============================] - 0s 13ms/step - loss: 8.4695 - mae: 8.4695\n",
            "Epoch 13/100\n",
            "1/1 [==============================] - 0s 11ms/step - loss: 7.8308 - mae: 7.8308\n",
            "Epoch 14/100\n",
            "1/1 [==============================] - 0s 13ms/step - loss: 7.1468 - mae: 7.1468\n",
            "Epoch 15/100\n",
            "1/1 [==============================] - 0s 13ms/step - loss: 6.4591 - mae: 6.4591\n",
            "Epoch 16/100\n",
            "1/1 [==============================] - 0s 12ms/step - loss: 5.7163 - mae: 5.7163\n",
            "Epoch 17/100\n",
            "1/1 [==============================] - 0s 12ms/step - loss: 4.9076 - mae: 4.9076\n",
            "Epoch 18/100\n",
            "1/1 [==============================] - 0s 13ms/step - loss: 4.1311 - mae: 4.1311\n",
            "Epoch 19/100\n",
            "1/1 [==============================] - 0s 12ms/step - loss: 4.0399 - mae: 4.0399\n",
            "Epoch 20/100\n",
            "1/1 [==============================] - 0s 13ms/step - loss: 3.9462 - mae: 3.9462\n",
            "Epoch 21/100\n",
            "1/1 [==============================] - 0s 11ms/step - loss: 3.9003 - mae: 3.9003\n",
            "Epoch 22/100\n",
            "1/1 [==============================] - 0s 13ms/step - loss: 3.9268 - mae: 3.9268\n",
            "Epoch 23/100\n",
            "1/1 [==============================] - 0s 16ms/step - loss: 3.9144 - mae: 3.9144\n",
            "Epoch 24/100\n",
            "1/1 [==============================] - 0s 13ms/step - loss: 3.9042 - mae: 3.9042\n",
            "Epoch 25/100\n",
            "1/1 [==============================] - 0s 12ms/step - loss: 3.9209 - mae: 3.9209\n",
            "Epoch 26/100\n",
            "1/1 [==============================] - 0s 13ms/step - loss: 3.8791 - mae: 3.8791\n",
            "Epoch 27/100\n",
            "1/1 [==============================] - 0s 12ms/step - loss: 3.9276 - mae: 3.9276\n",
            "Epoch 28/100\n",
            "1/1 [==============================] - 0s 13ms/step - loss: 3.8622 - mae: 3.8622\n",
            "Epoch 29/100\n",
            "1/1 [==============================] - 0s 12ms/step - loss: 3.9251 - mae: 3.9251\n",
            "Epoch 30/100\n",
            "1/1 [==============================] - 0s 13ms/step - loss: 3.8716 - mae: 3.8716\n",
            "Epoch 31/100\n",
            "1/1 [==============================] - 0s 13ms/step - loss: 3.9073 - mae: 3.9073\n",
            "Epoch 32/100\n",
            "1/1 [==============================] - 0s 14ms/step - loss: 3.8834 - mae: 3.8834\n",
            "Epoch 33/100\n",
            "1/1 [==============================] - 0s 15ms/step - loss: 3.8821 - mae: 3.8821\n",
            "Epoch 34/100\n",
            "1/1 [==============================] - 0s 13ms/step - loss: 3.8901 - mae: 3.8901\n",
            "Epoch 35/100\n",
            "1/1 [==============================] - 0s 15ms/step - loss: 3.8567 - mae: 3.8567\n",
            "Epoch 36/100\n",
            "1/1 [==============================] - 0s 14ms/step - loss: 3.8970 - mae: 3.8970\n",
            "Epoch 37/100\n",
            "1/1 [==============================] - 0s 14ms/step - loss: 3.8320 - mae: 3.8320\n",
            "Epoch 38/100\n",
            "1/1 [==============================] - 0s 12ms/step - loss: 3.9034 - mae: 3.9034\n",
            "Epoch 39/100\n",
            "1/1 [==============================] - 0s 15ms/step - loss: 3.8468 - mae: 3.8468\n",
            "Epoch 40/100\n",
            "1/1 [==============================] - 0s 13ms/step - loss: 3.8842 - mae: 3.8842\n",
            "Epoch 41/100\n",
            "1/1 [==============================] - 0s 19ms/step - loss: 3.8537 - mae: 3.8537\n",
            "Epoch 42/100\n",
            "1/1 [==============================] - 0s 20ms/step - loss: 3.8587 - mae: 3.8587\n",
            "Epoch 43/100\n",
            "1/1 [==============================] - 0s 14ms/step - loss: 3.8607 - mae: 3.8607\n",
            "Epoch 44/100\n",
            "1/1 [==============================] - 0s 18ms/step - loss: 3.8330 - mae: 3.8330\n",
            "Epoch 45/100\n",
            "1/1 [==============================] - 0s 12ms/step - loss: 3.8678 - mae: 3.8678\n",
            "Epoch 46/100\n",
            "1/1 [==============================] - 0s 15ms/step - loss: 3.8072 - mae: 3.8072\n",
            "Epoch 47/100\n",
            "1/1 [==============================] - 0s 14ms/step - loss: 3.8811 - mae: 3.8811\n",
            "Epoch 48/100\n",
            "1/1 [==============================] - 0s 14ms/step - loss: 3.8181 - mae: 3.8181\n",
            "Epoch 49/100\n",
            "1/1 [==============================] - 0s 12ms/step - loss: 3.8597 - mae: 3.8597\n",
            "Epoch 50/100\n",
            "1/1 [==============================] - 0s 10ms/step - loss: 3.8252 - mae: 3.8252\n",
            "Epoch 51/100\n",
            "1/1 [==============================] - 0s 13ms/step - loss: 3.8338 - mae: 3.8338\n",
            "Epoch 52/100\n",
            "1/1 [==============================] - 0s 12ms/step - loss: 3.8324 - mae: 3.8324\n",
            "Epoch 53/100\n",
            "1/1 [==============================] - 0s 11ms/step - loss: 3.8079 - mae: 3.8079\n",
            "Epoch 54/100\n",
            "1/1 [==============================] - 0s 13ms/step - loss: 3.8398 - mae: 3.8398\n",
            "Epoch 55/100\n",
            "1/1 [==============================] - 0s 13ms/step - loss: 3.7860 - mae: 3.7860\n",
            "Epoch 56/100\n",
            "1/1 [==============================] - 0s 13ms/step - loss: 3.8551 - mae: 3.8551\n",
            "Epoch 57/100\n",
            "1/1 [==============================] - 0s 12ms/step - loss: 3.7906 - mae: 3.7906\n",
            "Epoch 58/100\n",
            "1/1 [==============================] - 0s 12ms/step - loss: 3.8338 - mae: 3.8338\n",
            "Epoch 59/100\n",
            "1/1 [==============================] - 0s 11ms/step - loss: 3.7978 - mae: 3.7978\n",
            "Epoch 60/100\n",
            "1/1 [==============================] - 0s 11ms/step - loss: 3.8076 - mae: 3.8076\n",
            "Epoch 61/100\n",
            "1/1 [==============================] - 0s 12ms/step - loss: 3.8053 - mae: 3.8053\n",
            "Epoch 62/100\n",
            "1/1 [==============================] - 0s 13ms/step - loss: 3.7814 - mae: 3.7814\n",
            "Epoch 63/100\n",
            "1/1 [==============================] - 0s 12ms/step - loss: 3.8146 - mae: 3.8146\n",
            "Epoch 64/100\n",
            "1/1 [==============================] - 0s 13ms/step - loss: 3.7623 - mae: 3.7623\n",
            "Epoch 65/100\n",
            "1/1 [==============================] - 0s 16ms/step - loss: 3.8283 - mae: 3.8283\n",
            "Epoch 66/100\n",
            "1/1 [==============================] - 0s 20ms/step - loss: 3.7641 - mae: 3.7641\n",
            "Epoch 67/100\n",
            "1/1 [==============================] - 0s 10ms/step - loss: 3.8066 - mae: 3.8066\n",
            "Epoch 68/100\n",
            "1/1 [==============================] - 0s 13ms/step - loss: 3.7715 - mae: 3.7715\n",
            "Epoch 69/100\n",
            "1/1 [==============================] - 0s 11ms/step - loss: 3.7802 - mae: 3.7802\n",
            "Epoch 70/100\n",
            "1/1 [==============================] - 0s 13ms/step - loss: 3.7792 - mae: 3.7792\n",
            "Epoch 71/100\n",
            "1/1 [==============================] - 0s 11ms/step - loss: 3.7537 - mae: 3.7537\n",
            "Epoch 72/100\n",
            "1/1 [==============================] - 0s 11ms/step - loss: 3.7939 - mae: 3.7939\n",
            "Epoch 73/100\n",
            "1/1 [==============================] - 0s 12ms/step - loss: 3.7342 - mae: 3.7342\n",
            "Epoch 74/100\n",
            "1/1 [==============================] - 0s 12ms/step - loss: 3.8027 - mae: 3.8027\n",
            "Epoch 75/100\n",
            "1/1 [==============================] - 0s 14ms/step - loss: 3.7387 - mae: 3.7387\n",
            "Epoch 76/100\n",
            "1/1 [==============================] - 0s 12ms/step - loss: 3.7781 - mae: 3.7781\n",
            "Epoch 77/100\n",
            "1/1 [==============================] - 0s 13ms/step - loss: 3.7464 - mae: 3.7464\n",
            "Epoch 78/100\n",
            "1/1 [==============================] - 0s 16ms/step - loss: 3.7514 - mae: 3.7514\n",
            "Epoch 79/100\n",
            "1/1 [==============================] - 0s 13ms/step - loss: 3.7543 - mae: 3.7543\n",
            "Epoch 80/100\n",
            "1/1 [==============================] - 0s 14ms/step - loss: 3.7294 - mae: 3.7294\n",
            "Epoch 81/100\n",
            "1/1 [==============================] - 0s 12ms/step - loss: 3.7701 - mae: 3.7701\n",
            "Epoch 82/100\n",
            "1/1 [==============================] - 0s 13ms/step - loss: 3.7066 - mae: 3.7066\n",
            "Epoch 83/100\n",
            "1/1 [==============================] - 0s 15ms/step - loss: 3.7752 - mae: 3.7752\n",
            "Epoch 84/100\n",
            "1/1 [==============================] - 0s 12ms/step - loss: 3.7144 - mae: 3.7144\n",
            "Epoch 85/100\n",
            "1/1 [==============================] - 0s 10ms/step - loss: 3.7483 - mae: 3.7483\n",
            "Epoch 86/100\n",
            "1/1 [==============================] - 0s 11ms/step - loss: 3.7223 - mae: 3.7223\n",
            "Epoch 87/100\n",
            "1/1 [==============================] - 0s 13ms/step - loss: 3.7213 - mae: 3.7213\n",
            "Epoch 88/100\n",
            "1/1 [==============================] - 0s 13ms/step - loss: 3.7323 - mae: 3.7323\n",
            "Epoch 89/100\n",
            "1/1 [==============================] - 0s 12ms/step - loss: 3.7014 - mae: 3.7014\n",
            "Epoch 90/100\n",
            "1/1 [==============================] - 0s 12ms/step - loss: 3.7463 - mae: 3.7463\n",
            "Epoch 91/100\n",
            "1/1 [==============================] - 0s 14ms/step - loss: 3.6831 - mae: 3.6831\n",
            "Epoch 92/100\n",
            "1/1 [==============================] - 0s 13ms/step - loss: 3.7444 - mae: 3.7444\n",
            "Epoch 93/100\n",
            "1/1 [==============================] - 0s 14ms/step - loss: 3.6910 - mae: 3.6910\n",
            "Epoch 94/100\n",
            "1/1 [==============================] - 0s 12ms/step - loss: 3.7172 - mae: 3.7172\n",
            "Epoch 95/100\n",
            "1/1 [==============================] - 0s 13ms/step - loss: 3.6992 - mae: 3.6992\n",
            "Epoch 96/100\n",
            "1/1 [==============================] - 0s 13ms/step - loss: 3.6899 - mae: 3.6899\n",
            "Epoch 97/100\n",
            "1/1 [==============================] - 0s 12ms/step - loss: 3.7142 - mae: 3.7142\n",
            "Epoch 98/100\n",
            "1/1 [==============================] - 0s 14ms/step - loss: 3.6697 - mae: 3.6697\n",
            "Epoch 99/100\n",
            "1/1 [==============================] - 0s 14ms/step - loss: 3.7235 - mae: 3.7235\n",
            "Epoch 100/100\n",
            "1/1 [==============================] - 0s 12ms/step - loss: 3.6604 - mae: 3.6604\n"
          ]
        },
        {
          "output_type": "execute_result",
          "data": {
            "text/plain": [
              "<keras.callbacks.History at 0x7f6e8554e1c0>"
            ]
          },
          "metadata": {},
          "execution_count": 259
        }
      ]
    },
    {
      "cell_type": "code",
      "source": [
        "model.predict([17.0])"
      ],
      "metadata": {
        "colab": {
          "base_uri": "https://localhost:8080/"
        },
        "id": "_JHXURCLtZdZ",
        "outputId": "b23ecc31-232d-457f-bd1d-d80586084dca"
      },
      "execution_count": 260,
      "outputs": [
        {
          "output_type": "stream",
          "name": "stdout",
          "text": [
            "1/1 [==============================] - 0s 124ms/step\n"
          ]
        },
        {
          "output_type": "execute_result",
          "data": {
            "text/plain": [
              "array([[31.213436]], dtype=float32)"
            ]
          },
          "metadata": {},
          "execution_count": 260
        }
      ]
    },
    {
      "cell_type": "markdown",
      "source": [
        "- By Changing the Activation Functions"
      ],
      "metadata": {
        "id": "U3PQ6jKurMcD"
      }
    },
    {
      "cell_type": "code",
      "source": [
        "model = tf.keras.Sequential([\n",
        "    tf.keras.layers.Dense(100, activation = None),\n",
        "    tf.keras.layers.Dense(1)\n",
        "])\n",
        "\n",
        "model.compile(loss = tf.keras.losses.mae,\n",
        "              optimizer = tf.keras.optimizers.SGD(),\n",
        "              metrics = ['mae'])\n",
        "\n",
        "model.fit(tf.expand_dims(X, axis = -1), y, epochs = 100)"
      ],
      "metadata": {
        "colab": {
          "base_uri": "https://localhost:8080/"
        },
        "id": "xnxSYt7LsO01",
        "outputId": "c09765cd-60d2-48d9-b84f-5a7fb67fe47a"
      },
      "execution_count": 261,
      "outputs": [
        {
          "output_type": "stream",
          "name": "stdout",
          "text": [
            "Epoch 1/100\n",
            "1/1 [==============================] - 1s 543ms/step - loss: 14.7214 - mae: 14.7214\n",
            "Epoch 2/100\n",
            "1/1 [==============================] - 0s 14ms/step - loss: 14.2254 - mae: 14.2254\n",
            "Epoch 3/100\n",
            "1/1 [==============================] - 0s 12ms/step - loss: 13.7345 - mae: 13.7345\n",
            "Epoch 4/100\n",
            "1/1 [==============================] - 0s 12ms/step - loss: 13.2463 - mae: 13.2463\n",
            "Epoch 5/100\n",
            "1/1 [==============================] - 0s 12ms/step - loss: 12.7581 - mae: 12.7581\n",
            "Epoch 6/100\n",
            "1/1 [==============================] - 0s 11ms/step - loss: 12.2675 - mae: 12.2675\n",
            "Epoch 7/100\n",
            "1/1 [==============================] - 0s 11ms/step - loss: 11.7719 - mae: 11.7719\n",
            "Epoch 8/100\n",
            "1/1 [==============================] - 0s 11ms/step - loss: 11.2687 - mae: 11.2687\n",
            "Epoch 9/100\n",
            "1/1 [==============================] - 0s 15ms/step - loss: 10.7554 - mae: 10.7554\n",
            "Epoch 10/100\n",
            "1/1 [==============================] - 0s 11ms/step - loss: 10.2293 - mae: 10.2293\n",
            "Epoch 11/100\n",
            "1/1 [==============================] - 0s 12ms/step - loss: 9.6877 - mae: 9.6877\n",
            "Epoch 12/100\n",
            "1/1 [==============================] - 0s 15ms/step - loss: 9.1279 - mae: 9.1279\n",
            "Epoch 13/100\n",
            "1/1 [==============================] - 0s 11ms/step - loss: 8.5469 - mae: 8.5469\n",
            "Epoch 14/100\n",
            "1/1 [==============================] - 0s 11ms/step - loss: 7.9419 - mae: 7.9419\n",
            "Epoch 15/100\n",
            "1/1 [==============================] - 0s 12ms/step - loss: 7.3096 - mae: 7.3096\n",
            "Epoch 16/100\n",
            "1/1 [==============================] - 0s 12ms/step - loss: 7.1124 - mae: 7.1124\n",
            "Epoch 17/100\n",
            "1/1 [==============================] - 0s 11ms/step - loss: 7.0906 - mae: 7.0906\n",
            "Epoch 18/100\n",
            "1/1 [==============================] - 0s 12ms/step - loss: 7.0687 - mae: 7.0687\n",
            "Epoch 19/100\n",
            "1/1 [==============================] - 0s 12ms/step - loss: 7.0467 - mae: 7.0467\n",
            "Epoch 20/100\n",
            "1/1 [==============================] - 0s 12ms/step - loss: 7.0247 - mae: 7.0247\n",
            "Epoch 21/100\n",
            "1/1 [==============================] - 0s 12ms/step - loss: 7.0026 - mae: 7.0026\n",
            "Epoch 22/100\n",
            "1/1 [==============================] - 0s 10ms/step - loss: 6.9805 - mae: 6.9805\n",
            "Epoch 23/100\n",
            "1/1 [==============================] - 0s 12ms/step - loss: 6.9582 - mae: 6.9582\n",
            "Epoch 24/100\n",
            "1/1 [==============================] - 0s 11ms/step - loss: 6.9359 - mae: 6.9359\n",
            "Epoch 25/100\n",
            "1/1 [==============================] - 0s 13ms/step - loss: 6.9134 - mae: 6.9134\n",
            "Epoch 26/100\n",
            "1/1 [==============================] - 0s 13ms/step - loss: 6.8909 - mae: 6.8909\n",
            "Epoch 27/100\n",
            "1/1 [==============================] - 0s 12ms/step - loss: 6.8683 - mae: 6.8683\n",
            "Epoch 28/100\n",
            "1/1 [==============================] - 0s 13ms/step - loss: 6.8560 - mae: 6.8560\n",
            "Epoch 29/100\n",
            "1/1 [==============================] - 0s 11ms/step - loss: 6.8377 - mae: 6.8377\n",
            "Epoch 30/100\n",
            "1/1 [==============================] - 0s 14ms/step - loss: 6.8153 - mae: 6.8153\n",
            "Epoch 31/100\n",
            "1/1 [==============================] - 0s 12ms/step - loss: 6.7929 - mae: 6.7929\n",
            "Epoch 32/100\n",
            "1/1 [==============================] - 0s 16ms/step - loss: 6.7703 - mae: 6.7703\n",
            "Epoch 33/100\n",
            "1/1 [==============================] - 0s 9ms/step - loss: 6.7477 - mae: 6.7477\n",
            "Epoch 34/100\n",
            "1/1 [==============================] - 0s 15ms/step - loss: 6.7248 - mae: 6.7248\n",
            "Epoch 35/100\n",
            "1/1 [==============================] - 0s 11ms/step - loss: 6.7019 - mae: 6.7019\n",
            "Epoch 36/100\n",
            "1/1 [==============================] - 0s 11ms/step - loss: 6.6789 - mae: 6.6789\n",
            "Epoch 37/100\n",
            "1/1 [==============================] - 0s 12ms/step - loss: 6.6557 - mae: 6.6557\n",
            "Epoch 38/100\n",
            "1/1 [==============================] - 0s 12ms/step - loss: 6.6323 - mae: 6.6323\n",
            "Epoch 39/100\n",
            "1/1 [==============================] - 0s 12ms/step - loss: 6.6089 - mae: 6.6089\n",
            "Epoch 40/100\n",
            "1/1 [==============================] - 0s 13ms/step - loss: 6.5853 - mae: 6.5853\n",
            "Epoch 41/100\n",
            "1/1 [==============================] - 0s 10ms/step - loss: 6.5615 - mae: 6.5615\n",
            "Epoch 42/100\n",
            "1/1 [==============================] - 0s 10ms/step - loss: 6.5376 - mae: 6.5376\n",
            "Epoch 43/100\n",
            "1/1 [==============================] - 0s 13ms/step - loss: 6.5135 - mae: 6.5135\n",
            "Epoch 44/100\n",
            "1/1 [==============================] - 0s 11ms/step - loss: 6.4893 - mae: 6.4893\n",
            "Epoch 45/100\n",
            "1/1 [==============================] - 0s 14ms/step - loss: 6.4649 - mae: 6.4649\n",
            "Epoch 46/100\n",
            "1/1 [==============================] - 0s 13ms/step - loss: 6.4403 - mae: 6.4403\n",
            "Epoch 47/100\n",
            "1/1 [==============================] - 0s 14ms/step - loss: 6.4156 - mae: 6.4156\n",
            "Epoch 48/100\n",
            "1/1 [==============================] - 0s 11ms/step - loss: 6.3907 - mae: 6.3907\n",
            "Epoch 49/100\n",
            "1/1 [==============================] - 0s 11ms/step - loss: 6.3656 - mae: 6.3656\n",
            "Epoch 50/100\n",
            "1/1 [==============================] - 0s 12ms/step - loss: 6.3403 - mae: 6.3403\n",
            "Epoch 51/100\n",
            "1/1 [==============================] - 0s 11ms/step - loss: 6.3260 - mae: 6.3260\n",
            "Epoch 52/100\n",
            "1/1 [==============================] - 0s 16ms/step - loss: 6.3108 - mae: 6.3108\n",
            "Epoch 53/100\n",
            "1/1 [==============================] - 0s 13ms/step - loss: 6.2855 - mae: 6.2855\n",
            "Epoch 54/100\n",
            "1/1 [==============================] - 0s 13ms/step - loss: 6.2600 - mae: 6.2600\n",
            "Epoch 55/100\n",
            "1/1 [==============================] - 0s 11ms/step - loss: 6.2344 - mae: 6.2344\n",
            "Epoch 56/100\n",
            "1/1 [==============================] - 0s 10ms/step - loss: 6.2085 - mae: 6.2085\n",
            "Epoch 57/100\n",
            "1/1 [==============================] - 0s 12ms/step - loss: 6.1824 - mae: 6.1824\n",
            "Epoch 58/100\n",
            "1/1 [==============================] - 0s 12ms/step - loss: 6.1561 - mae: 6.1561\n",
            "Epoch 59/100\n",
            "1/1 [==============================] - 0s 13ms/step - loss: 6.1296 - mae: 6.1296\n",
            "Epoch 60/100\n",
            "1/1 [==============================] - 0s 11ms/step - loss: 6.1028 - mae: 6.1028\n",
            "Epoch 61/100\n",
            "1/1 [==============================] - 0s 12ms/step - loss: 6.0758 - mae: 6.0758\n",
            "Epoch 62/100\n",
            "1/1 [==============================] - 0s 11ms/step - loss: 6.0486 - mae: 6.0486\n",
            "Epoch 63/100\n",
            "1/1 [==============================] - 0s 13ms/step - loss: 6.0211 - mae: 6.0211\n",
            "Epoch 64/100\n",
            "1/1 [==============================] - 0s 11ms/step - loss: 5.9934 - mae: 5.9934\n",
            "Epoch 65/100\n",
            "1/1 [==============================] - 0s 11ms/step - loss: 5.9655 - mae: 5.9655\n",
            "Epoch 66/100\n",
            "1/1 [==============================] - 0s 11ms/step - loss: 5.9373 - mae: 5.9373\n",
            "Epoch 67/100\n",
            "1/1 [==============================] - 0s 11ms/step - loss: 5.9088 - mae: 5.9088\n",
            "Epoch 68/100\n",
            "1/1 [==============================] - 0s 12ms/step - loss: 5.8800 - mae: 5.8800\n",
            "Epoch 69/100\n",
            "1/1 [==============================] - 0s 12ms/step - loss: 5.8665 - mae: 5.8665\n",
            "Epoch 70/100\n",
            "1/1 [==============================] - 0s 12ms/step - loss: 5.8484 - mae: 5.8484\n",
            "Epoch 71/100\n",
            "1/1 [==============================] - 0s 11ms/step - loss: 5.8194 - mae: 5.8194\n",
            "Epoch 72/100\n",
            "1/1 [==============================] - 0s 14ms/step - loss: 5.7902 - mae: 5.7902\n",
            "Epoch 73/100\n",
            "1/1 [==============================] - 0s 12ms/step - loss: 5.7607 - mae: 5.7607\n",
            "Epoch 74/100\n",
            "1/1 [==============================] - 0s 12ms/step - loss: 5.7309 - mae: 5.7309\n",
            "Epoch 75/100\n",
            "1/1 [==============================] - 0s 12ms/step - loss: 5.7007 - mae: 5.7007\n",
            "Epoch 76/100\n",
            "1/1 [==============================] - 0s 13ms/step - loss: 5.6703 - mae: 5.6703\n",
            "Epoch 77/100\n",
            "1/1 [==============================] - 0s 15ms/step - loss: 5.6396 - mae: 5.6396\n",
            "Epoch 78/100\n",
            "1/1 [==============================] - 0s 13ms/step - loss: 5.6085 - mae: 5.6085\n",
            "Epoch 79/100\n",
            "1/1 [==============================] - 0s 15ms/step - loss: 5.5772 - mae: 5.5772\n",
            "Epoch 80/100\n",
            "1/1 [==============================] - 0s 13ms/step - loss: 5.5455 - mae: 5.5455\n",
            "Epoch 81/100\n",
            "1/1 [==============================] - 0s 12ms/step - loss: 5.5135 - mae: 5.5135\n",
            "Epoch 82/100\n",
            "1/1 [==============================] - 0s 12ms/step - loss: 5.4811 - mae: 5.4811\n",
            "Epoch 83/100\n",
            "1/1 [==============================] - 0s 14ms/step - loss: 5.4484 - mae: 5.4484\n",
            "Epoch 84/100\n",
            "1/1 [==============================] - 0s 13ms/step - loss: 5.4159 - mae: 5.4159\n",
            "Epoch 85/100\n",
            "1/1 [==============================] - 0s 12ms/step - loss: 5.4554 - mae: 5.4554\n",
            "Epoch 86/100\n",
            "1/1 [==============================] - 0s 12ms/step - loss: 5.5202 - mae: 5.5202\n",
            "Epoch 87/100\n",
            "1/1 [==============================] - 0s 12ms/step - loss: 5.3423 - mae: 5.3423\n",
            "Epoch 88/100\n",
            "1/1 [==============================] - 0s 12ms/step - loss: 5.3083 - mae: 5.3083\n",
            "Epoch 89/100\n",
            "1/1 [==============================] - 0s 13ms/step - loss: 5.2740 - mae: 5.2740\n",
            "Epoch 90/100\n",
            "1/1 [==============================] - 0s 17ms/step - loss: 5.2393 - mae: 5.2393\n",
            "Epoch 91/100\n",
            "1/1 [==============================] - 0s 14ms/step - loss: 5.2041 - mae: 5.2041\n",
            "Epoch 92/100\n",
            "1/1 [==============================] - 0s 13ms/step - loss: 5.1686 - mae: 5.1686\n",
            "Epoch 93/100\n",
            "1/1 [==============================] - 0s 12ms/step - loss: 5.1327 - mae: 5.1327\n",
            "Epoch 94/100\n",
            "1/1 [==============================] - 0s 12ms/step - loss: 5.0964 - mae: 5.0964\n",
            "Epoch 95/100\n",
            "1/1 [==============================] - 0s 12ms/step - loss: 5.0617 - mae: 5.0617\n",
            "Epoch 96/100\n",
            "1/1 [==============================] - 0s 13ms/step - loss: 5.1495 - mae: 5.1495\n",
            "Epoch 97/100\n",
            "1/1 [==============================] - 0s 13ms/step - loss: 5.1693 - mae: 5.1693\n",
            "Epoch 98/100\n",
            "1/1 [==============================] - 0s 16ms/step - loss: 4.9781 - mae: 4.9781\n",
            "Epoch 99/100\n",
            "1/1 [==============================] - 0s 11ms/step - loss: 4.9402 - mae: 4.9402\n",
            "Epoch 100/100\n",
            "1/1 [==============================] - 0s 11ms/step - loss: 4.9019 - mae: 4.9019\n"
          ]
        },
        {
          "output_type": "execute_result",
          "data": {
            "text/plain": [
              "<keras.callbacks.History at 0x7f6e87f02910>"
            ]
          },
          "metadata": {},
          "execution_count": 261
        }
      ]
    },
    {
      "cell_type": "code",
      "source": [
        "model.predict([17.0])"
      ],
      "metadata": {
        "colab": {
          "base_uri": "https://localhost:8080/"
        },
        "id": "0rAzn6lHsUpo",
        "outputId": "f92f6024-af31-403c-d7dc-0f470928ef3b"
      },
      "execution_count": 262,
      "outputs": [
        {
          "output_type": "stream",
          "name": "stdout",
          "text": [
            "1/1 [==============================] - 0s 99ms/step\n"
          ]
        },
        {
          "output_type": "execute_result",
          "data": {
            "text/plain": [
              "array([[29.57656]], dtype=float32)"
            ]
          },
          "metadata": {},
          "execution_count": 262
        }
      ]
    },
    {
      "cell_type": "markdown",
      "source": [
        "- By Changing the Optimisation Functions"
      ],
      "metadata": {
        "id": "EJzwJmDJsWhO"
      }
    },
    {
      "cell_type": "code",
      "source": [
        "model = tf.keras.Sequential([\n",
        "    tf.keras.layers.Dense(100, activation = None),\n",
        "    tf.keras.layers.Dense(1)\n",
        "])\n",
        "\n",
        "model.compile(loss = tf.keras.losses.mae,\n",
        "              optimizer = tf.keras.optimizers.Adam(),\n",
        "              metrics = ['mae'])\n",
        "\n",
        "model.fit(tf.expand_dims(X, axis = -1), y, epochs = 100)"
      ],
      "metadata": {
        "colab": {
          "base_uri": "https://localhost:8080/"
        },
        "id": "yft5v6Cts9IH",
        "outputId": "ca148819-6226-4cf9-f6ef-34409a6682be"
      },
      "execution_count": 263,
      "outputs": [
        {
          "output_type": "stream",
          "name": "stdout",
          "text": [
            "Epoch 1/100\n",
            "1/1 [==============================] - 1s 621ms/step - loss: 12.3754 - mae: 12.3754\n",
            "Epoch 2/100\n",
            "1/1 [==============================] - 0s 14ms/step - loss: 12.2767 - mae: 12.2767\n",
            "Epoch 3/100\n",
            "1/1 [==============================] - 0s 16ms/step - loss: 12.1779 - mae: 12.1779\n",
            "Epoch 4/100\n",
            "1/1 [==============================] - 0s 14ms/step - loss: 12.0791 - mae: 12.0791\n",
            "Epoch 5/100\n",
            "1/1 [==============================] - 0s 13ms/step - loss: 11.9801 - mae: 11.9801\n",
            "Epoch 6/100\n",
            "1/1 [==============================] - 0s 16ms/step - loss: 11.8812 - mae: 11.8812\n",
            "Epoch 7/100\n",
            "1/1 [==============================] - 0s 14ms/step - loss: 11.7821 - mae: 11.7821\n",
            "Epoch 8/100\n",
            "1/1 [==============================] - 0s 14ms/step - loss: 11.6829 - mae: 11.6829\n",
            "Epoch 9/100\n",
            "1/1 [==============================] - 0s 13ms/step - loss: 11.5836 - mae: 11.5836\n",
            "Epoch 10/100\n",
            "1/1 [==============================] - 0s 12ms/step - loss: 11.4843 - mae: 11.4843\n",
            "Epoch 11/100\n",
            "1/1 [==============================] - 0s 13ms/step - loss: 11.3847 - mae: 11.3847\n",
            "Epoch 12/100\n",
            "1/1 [==============================] - 0s 16ms/step - loss: 11.2851 - mae: 11.2851\n",
            "Epoch 13/100\n",
            "1/1 [==============================] - 0s 14ms/step - loss: 11.1853 - mae: 11.1853\n",
            "Epoch 14/100\n",
            "1/1 [==============================] - 0s 13ms/step - loss: 11.0853 - mae: 11.0853\n",
            "Epoch 15/100\n",
            "1/1 [==============================] - 0s 16ms/step - loss: 10.9851 - mae: 10.9851\n",
            "Epoch 16/100\n",
            "1/1 [==============================] - 0s 11ms/step - loss: 10.8847 - mae: 10.8847\n",
            "Epoch 17/100\n",
            "1/1 [==============================] - 0s 11ms/step - loss: 10.7841 - mae: 10.7841\n",
            "Epoch 18/100\n",
            "1/1 [==============================] - 0s 12ms/step - loss: 10.6832 - mae: 10.6832\n",
            "Epoch 19/100\n",
            "1/1 [==============================] - 0s 12ms/step - loss: 10.5820 - mae: 10.5820\n",
            "Epoch 20/100\n",
            "1/1 [==============================] - 0s 12ms/step - loss: 10.4805 - mae: 10.4805\n",
            "Epoch 21/100\n",
            "1/1 [==============================] - 0s 13ms/step - loss: 10.3786 - mae: 10.3786\n",
            "Epoch 22/100\n",
            "1/1 [==============================] - 0s 12ms/step - loss: 10.2764 - mae: 10.2764\n",
            "Epoch 23/100\n",
            "1/1 [==============================] - 0s 12ms/step - loss: 10.1738 - mae: 10.1738\n",
            "Epoch 24/100\n",
            "1/1 [==============================] - 0s 11ms/step - loss: 10.0708 - mae: 10.0708\n",
            "Epoch 25/100\n",
            "1/1 [==============================] - 0s 11ms/step - loss: 9.9673 - mae: 9.9673\n",
            "Epoch 26/100\n",
            "1/1 [==============================] - 0s 14ms/step - loss: 9.8634 - mae: 9.8634\n",
            "Epoch 27/100\n",
            "1/1 [==============================] - 0s 12ms/step - loss: 9.7590 - mae: 9.7590\n",
            "Epoch 28/100\n",
            "1/1 [==============================] - 0s 11ms/step - loss: 9.6541 - mae: 9.6541\n",
            "Epoch 29/100\n",
            "1/1 [==============================] - 0s 11ms/step - loss: 9.5486 - mae: 9.5486\n",
            "Epoch 30/100\n",
            "1/1 [==============================] - 0s 11ms/step - loss: 9.4426 - mae: 9.4426\n",
            "Epoch 31/100\n",
            "1/1 [==============================] - 0s 11ms/step - loss: 9.3360 - mae: 9.3360\n",
            "Epoch 32/100\n",
            "1/1 [==============================] - 0s 11ms/step - loss: 9.2288 - mae: 9.2288\n",
            "Epoch 33/100\n",
            "1/1 [==============================] - 0s 12ms/step - loss: 9.1209 - mae: 9.1209\n",
            "Epoch 34/100\n",
            "1/1 [==============================] - 0s 11ms/step - loss: 9.0124 - mae: 9.0124\n",
            "Epoch 35/100\n",
            "1/1 [==============================] - 0s 11ms/step - loss: 8.9033 - mae: 8.9033\n",
            "Epoch 36/100\n",
            "1/1 [==============================] - 0s 12ms/step - loss: 8.7934 - mae: 8.7934\n",
            "Epoch 37/100\n",
            "1/1 [==============================] - 0s 12ms/step - loss: 8.6828 - mae: 8.6828\n",
            "Epoch 38/100\n",
            "1/1 [==============================] - 0s 13ms/step - loss: 8.5714 - mae: 8.5714\n",
            "Epoch 39/100\n",
            "1/1 [==============================] - 0s 14ms/step - loss: 8.4593 - mae: 8.4593\n",
            "Epoch 40/100\n",
            "1/1 [==============================] - 0s 11ms/step - loss: 8.3464 - mae: 8.3464\n",
            "Epoch 41/100\n",
            "1/1 [==============================] - 0s 14ms/step - loss: 8.2327 - mae: 8.2327\n",
            "Epoch 42/100\n",
            "1/1 [==============================] - 0s 12ms/step - loss: 8.1181 - mae: 8.1181\n",
            "Epoch 43/100\n",
            "1/1 [==============================] - 0s 12ms/step - loss: 8.0028 - mae: 8.0028\n",
            "Epoch 44/100\n",
            "1/1 [==============================] - 0s 12ms/step - loss: 7.8865 - mae: 7.8865\n",
            "Epoch 45/100\n",
            "1/1 [==============================] - 0s 12ms/step - loss: 7.7694 - mae: 7.7694\n",
            "Epoch 46/100\n",
            "1/1 [==============================] - 0s 14ms/step - loss: 7.6514 - mae: 7.6514\n",
            "Epoch 47/100\n",
            "1/1 [==============================] - 0s 12ms/step - loss: 7.5325 - mae: 7.5325\n",
            "Epoch 48/100\n",
            "1/1 [==============================] - 0s 12ms/step - loss: 7.4126 - mae: 7.4126\n",
            "Epoch 49/100\n",
            "1/1 [==============================] - 0s 12ms/step - loss: 7.2918 - mae: 7.2918\n",
            "Epoch 50/100\n",
            "1/1 [==============================] - 0s 12ms/step - loss: 7.1700 - mae: 7.1700\n",
            "Epoch 51/100\n",
            "1/1 [==============================] - 0s 11ms/step - loss: 7.0473 - mae: 7.0473\n",
            "Epoch 52/100\n",
            "1/1 [==============================] - 0s 11ms/step - loss: 6.9235 - mae: 6.9235\n",
            "Epoch 53/100\n",
            "1/1 [==============================] - 0s 10ms/step - loss: 6.8752 - mae: 6.8752\n",
            "Epoch 54/100\n",
            "1/1 [==============================] - 0s 9ms/step - loss: 6.8604 - mae: 6.8604\n",
            "Epoch 55/100\n",
            "1/1 [==============================] - 0s 9ms/step - loss: 6.8458 - mae: 6.8458\n",
            "Epoch 56/100\n",
            "1/1 [==============================] - 0s 15ms/step - loss: 6.8315 - mae: 6.8315\n",
            "Epoch 57/100\n",
            "1/1 [==============================] - 0s 11ms/step - loss: 6.8174 - mae: 6.8174\n",
            "Epoch 58/100\n",
            "1/1 [==============================] - 0s 12ms/step - loss: 6.8035 - mae: 6.8035\n",
            "Epoch 59/100\n",
            "1/1 [==============================] - 0s 12ms/step - loss: 6.7897 - mae: 6.7897\n",
            "Epoch 60/100\n",
            "1/1 [==============================] - 0s 12ms/step - loss: 6.7886 - mae: 6.7886\n",
            "Epoch 61/100\n",
            "1/1 [==============================] - 0s 12ms/step - loss: 6.8127 - mae: 6.8127\n",
            "Epoch 62/100\n",
            "1/1 [==============================] - 0s 12ms/step - loss: 6.8265 - mae: 6.8265\n",
            "Epoch 63/100\n",
            "1/1 [==============================] - 0s 11ms/step - loss: 6.8312 - mae: 6.8312\n",
            "Epoch 64/100\n",
            "1/1 [==============================] - 0s 10ms/step - loss: 6.8276 - mae: 6.8276\n",
            "Epoch 65/100\n",
            "1/1 [==============================] - 0s 12ms/step - loss: 6.8165 - mae: 6.8165\n",
            "Epoch 66/100\n",
            "1/1 [==============================] - 0s 12ms/step - loss: 6.7988 - mae: 6.7988\n",
            "Epoch 67/100\n",
            "1/1 [==============================] - 0s 13ms/step - loss: 6.7750 - mae: 6.7750\n",
            "Epoch 68/100\n",
            "1/1 [==============================] - 0s 12ms/step - loss: 6.7458 - mae: 6.7458\n",
            "Epoch 69/100\n",
            "1/1 [==============================] - 0s 11ms/step - loss: 6.7118 - mae: 6.7118\n",
            "Epoch 70/100\n",
            "1/1 [==============================] - 0s 12ms/step - loss: 6.6736 - mae: 6.6736\n",
            "Epoch 71/100\n",
            "1/1 [==============================] - 0s 11ms/step - loss: 6.6639 - mae: 6.6639\n",
            "Epoch 72/100\n",
            "1/1 [==============================] - 0s 11ms/step - loss: 6.6554 - mae: 6.6554\n",
            "Epoch 73/100\n",
            "1/1 [==============================] - 0s 13ms/step - loss: 6.6465 - mae: 6.6465\n",
            "Epoch 74/100\n",
            "1/1 [==============================] - 0s 17ms/step - loss: 6.6373 - mae: 6.6373\n",
            "Epoch 75/100\n",
            "1/1 [==============================] - 0s 13ms/step - loss: 6.6278 - mae: 6.6278\n",
            "Epoch 76/100\n",
            "1/1 [==============================] - 0s 10ms/step - loss: 6.6180 - mae: 6.6180\n",
            "Epoch 77/100\n",
            "1/1 [==============================] - 0s 12ms/step - loss: 6.6080 - mae: 6.6080\n",
            "Epoch 78/100\n",
            "1/1 [==============================] - 0s 12ms/step - loss: 6.5976 - mae: 6.5976\n",
            "Epoch 79/100\n",
            "1/1 [==============================] - 0s 15ms/step - loss: 6.5871 - mae: 6.5871\n",
            "Epoch 80/100\n",
            "1/1 [==============================] - 0s 13ms/step - loss: 6.5764 - mae: 6.5764\n",
            "Epoch 81/100\n",
            "1/1 [==============================] - 0s 12ms/step - loss: 6.5654 - mae: 6.5654\n",
            "Epoch 82/100\n",
            "1/1 [==============================] - 0s 12ms/step - loss: 6.5543 - mae: 6.5543\n",
            "Epoch 83/100\n",
            "1/1 [==============================] - 0s 12ms/step - loss: 6.5430 - mae: 6.5430\n",
            "Epoch 84/100\n",
            "1/1 [==============================] - 0s 13ms/step - loss: 6.5315 - mae: 6.5315\n",
            "Epoch 85/100\n",
            "1/1 [==============================] - 0s 12ms/step - loss: 6.5198 - mae: 6.5198\n",
            "Epoch 86/100\n",
            "1/1 [==============================] - 0s 14ms/step - loss: 6.5080 - mae: 6.5080\n",
            "Epoch 87/100\n",
            "1/1 [==============================] - 0s 13ms/step - loss: 6.4961 - mae: 6.4961\n",
            "Epoch 88/100\n",
            "1/1 [==============================] - 0s 12ms/step - loss: 6.4840 - mae: 6.4840\n",
            "Epoch 89/100\n",
            "1/1 [==============================] - 0s 12ms/step - loss: 6.4718 - mae: 6.4718\n",
            "Epoch 90/100\n",
            "1/1 [==============================] - 0s 12ms/step - loss: 6.4594 - mae: 6.4594\n",
            "Epoch 91/100\n",
            "1/1 [==============================] - 0s 13ms/step - loss: 6.4469 - mae: 6.4469\n",
            "Epoch 92/100\n",
            "1/1 [==============================] - 0s 12ms/step - loss: 6.4343 - mae: 6.4343\n",
            "Epoch 93/100\n",
            "1/1 [==============================] - 0s 12ms/step - loss: 6.4216 - mae: 6.4216\n",
            "Epoch 94/100\n",
            "1/1 [==============================] - 0s 11ms/step - loss: 6.4087 - mae: 6.4087\n",
            "Epoch 95/100\n",
            "1/1 [==============================] - 0s 13ms/step - loss: 6.3957 - mae: 6.3957\n",
            "Epoch 96/100\n",
            "1/1 [==============================] - 0s 11ms/step - loss: 6.3827 - mae: 6.3827\n",
            "Epoch 97/100\n",
            "1/1 [==============================] - 0s 12ms/step - loss: 6.3695 - mae: 6.3695\n",
            "Epoch 98/100\n",
            "1/1 [==============================] - 0s 13ms/step - loss: 6.3561 - mae: 6.3561\n",
            "Epoch 99/100\n",
            "1/1 [==============================] - 0s 11ms/step - loss: 6.3427 - mae: 6.3427\n",
            "Epoch 100/100\n",
            "1/1 [==============================] - 0s 11ms/step - loss: 6.3292 - mae: 6.3292\n"
          ]
        },
        {
          "output_type": "execute_result",
          "data": {
            "text/plain": [
              "<keras.callbacks.History at 0x7f6e98bf04c0>"
            ]
          },
          "metadata": {},
          "execution_count": 263
        }
      ]
    },
    {
      "cell_type": "code",
      "source": [
        "model.predict([17.0])"
      ],
      "metadata": {
        "colab": {
          "base_uri": "https://localhost:8080/"
        },
        "id": "U-8S3wE3tA8p",
        "outputId": "24cde822-c962-4449-fba0-407c06adc15b"
      },
      "execution_count": 264,
      "outputs": [
        {
          "output_type": "stream",
          "name": "stdout",
          "text": [
            "1/1 [==============================] - 0s 79ms/step\n"
          ]
        },
        {
          "output_type": "execute_result",
          "data": {
            "text/plain": [
              "array([[30.541237]], dtype=float32)"
            ]
          },
          "metadata": {},
          "execution_count": 264
        }
      ]
    },
    {
      "cell_type": "markdown",
      "source": [
        "- By Changing the Learning Rate of the Optimizers"
      ],
      "metadata": {
        "id": "-xqwl48PtC0x"
      }
    },
    {
      "cell_type": "code",
      "source": [
        "model = tf.keras.Sequential([\n",
        "    tf.keras.layers.Dense(100, activation = None),\n",
        "    tf.keras.layers.Dense(1)\n",
        "])\n",
        "\n",
        "model.compile(loss = tf.keras.losses.mae,\n",
        "              optimizer = tf.keras.optimizers.Adam(learning_rate = 0.02),\n",
        "              metrics = ['mae'])\n",
        "\n",
        "model.fit(tf.expand_dims(X, axis = -1), y, epochs = 100)"
      ],
      "metadata": {
        "colab": {
          "base_uri": "https://localhost:8080/"
        },
        "id": "wN15l7wTtjxk",
        "outputId": "ef5b9118-8a08-40d0-fecc-4074909ceebb"
      },
      "execution_count": 265,
      "outputs": [
        {
          "output_type": "stream",
          "name": "stdout",
          "text": [
            "Epoch 1/100\n",
            "1/1 [==============================] - 1s 855ms/step - loss: 14.8844 - mae: 14.8844\n",
            "Epoch 2/100\n",
            "1/1 [==============================] - 0s 38ms/step - loss: 13.0418 - mae: 13.0418\n",
            "Epoch 3/100\n",
            "1/1 [==============================] - 0s 28ms/step - loss: 11.2644 - mae: 11.2644\n",
            "Epoch 4/100\n",
            "1/1 [==============================] - 0s 15ms/step - loss: 9.5009 - mae: 9.5009\n",
            "Epoch 5/100\n",
            "1/1 [==============================] - 0s 13ms/step - loss: 7.6954 - mae: 7.6954\n",
            "Epoch 6/100\n",
            "1/1 [==============================] - 0s 15ms/step - loss: 6.7332 - mae: 6.7332\n",
            "Epoch 7/100\n",
            "1/1 [==============================] - 0s 13ms/step - loss: 7.5033 - mae: 7.5033\n",
            "Epoch 8/100\n",
            "1/1 [==============================] - 0s 15ms/step - loss: 7.6783 - mae: 7.6783\n",
            "Epoch 9/100\n",
            "1/1 [==============================] - 0s 13ms/step - loss: 7.2081 - mae: 7.2081\n",
            "Epoch 10/100\n",
            "1/1 [==============================] - 0s 13ms/step - loss: 6.5239 - mae: 6.5239\n",
            "Epoch 11/100\n",
            "1/1 [==============================] - 0s 16ms/step - loss: 5.9439 - mae: 5.9439\n",
            "Epoch 12/100\n",
            "1/1 [==============================] - 0s 13ms/step - loss: 5.8907 - mae: 5.8907\n",
            "Epoch 13/100\n",
            "1/1 [==============================] - 0s 12ms/step - loss: 5.9292 - mae: 5.9292\n",
            "Epoch 14/100\n",
            "1/1 [==============================] - 0s 15ms/step - loss: 5.6394 - mae: 5.6394\n",
            "Epoch 15/100\n",
            "1/1 [==============================] - 0s 16ms/step - loss: 5.2595 - mae: 5.2595\n",
            "Epoch 16/100\n",
            "1/1 [==============================] - 0s 12ms/step - loss: 5.0408 - mae: 5.0408\n",
            "Epoch 17/100\n",
            "1/1 [==============================] - 0s 12ms/step - loss: 4.9388 - mae: 4.9388\n",
            "Epoch 18/100\n",
            "1/1 [==============================] - 0s 12ms/step - loss: 4.7326 - mae: 4.7326\n",
            "Epoch 19/100\n",
            "1/1 [==============================] - 0s 11ms/step - loss: 4.4315 - mae: 4.4315\n",
            "Epoch 20/100\n",
            "1/1 [==============================] - 0s 12ms/step - loss: 4.0430 - mae: 4.0430\n",
            "Epoch 21/100\n",
            "1/1 [==============================] - 0s 12ms/step - loss: 3.8180 - mae: 3.8180\n",
            "Epoch 22/100\n",
            "1/1 [==============================] - 0s 12ms/step - loss: 3.7884 - mae: 3.7884\n",
            "Epoch 23/100\n",
            "1/1 [==============================] - 0s 11ms/step - loss: 3.4355 - mae: 3.4355\n",
            "Epoch 24/100\n",
            "1/1 [==============================] - 0s 11ms/step - loss: 2.7995 - mae: 2.7995\n",
            "Epoch 25/100\n",
            "1/1 [==============================] - 0s 11ms/step - loss: 2.4462 - mae: 2.4462\n",
            "Epoch 26/100\n",
            "1/1 [==============================] - 0s 14ms/step - loss: 2.1080 - mae: 2.1080\n",
            "Epoch 27/100\n",
            "1/1 [==============================] - 0s 14ms/step - loss: 1.6487 - mae: 1.6487\n",
            "Epoch 28/100\n",
            "1/1 [==============================] - 0s 11ms/step - loss: 0.9476 - mae: 0.9476\n",
            "Epoch 29/100\n",
            "1/1 [==============================] - 0s 11ms/step - loss: 0.7422 - mae: 0.7422\n",
            "Epoch 30/100\n",
            "1/1 [==============================] - 0s 12ms/step - loss: 0.6005 - mae: 0.6005\n",
            "Epoch 31/100\n",
            "1/1 [==============================] - 0s 11ms/step - loss: 1.0120 - mae: 1.0120\n",
            "Epoch 32/100\n",
            "1/1 [==============================] - 0s 11ms/step - loss: 1.4784 - mae: 1.4784\n",
            "Epoch 33/100\n",
            "1/1 [==============================] - 0s 16ms/step - loss: 1.3652 - mae: 1.3652\n",
            "Epoch 34/100\n",
            "1/1 [==============================] - 0s 17ms/step - loss: 1.6319 - mae: 1.6319\n",
            "Epoch 35/100\n",
            "1/1 [==============================] - 0s 15ms/step - loss: 1.7692 - mae: 1.7692\n",
            "Epoch 36/100\n",
            "1/1 [==============================] - 0s 16ms/step - loss: 1.4248 - mae: 1.4248\n",
            "Epoch 37/100\n",
            "1/1 [==============================] - 0s 14ms/step - loss: 1.0174 - mae: 1.0174\n",
            "Epoch 38/100\n",
            "1/1 [==============================] - 0s 21ms/step - loss: 0.8855 - mae: 0.8855\n",
            "Epoch 39/100\n",
            "1/1 [==============================] - 0s 12ms/step - loss: 0.3583 - mae: 0.3583\n",
            "Epoch 40/100\n",
            "1/1 [==============================] - 0s 12ms/step - loss: 0.3750 - mae: 0.3750\n",
            "Epoch 41/100\n",
            "1/1 [==============================] - 0s 12ms/step - loss: 0.3549 - mae: 0.3549\n",
            "Epoch 42/100\n",
            "1/1 [==============================] - 0s 17ms/step - loss: 0.8907 - mae: 0.8907\n",
            "Epoch 43/100\n",
            "1/1 [==============================] - 0s 11ms/step - loss: 1.0283 - mae: 1.0283\n",
            "Epoch 44/100\n",
            "1/1 [==============================] - 0s 12ms/step - loss: 0.7899 - mae: 0.7899\n",
            "Epoch 45/100\n",
            "1/1 [==============================] - 0s 11ms/step - loss: 0.9854 - mae: 0.9854\n",
            "Epoch 46/100\n",
            "1/1 [==============================] - 0s 11ms/step - loss: 1.0201 - mae: 1.0201\n",
            "Epoch 47/100\n",
            "1/1 [==============================] - 0s 15ms/step - loss: 0.7213 - mae: 0.7213\n",
            "Epoch 48/100\n",
            "1/1 [==============================] - 0s 19ms/step - loss: 0.5990 - mae: 0.5990\n",
            "Epoch 49/100\n",
            "1/1 [==============================] - 0s 12ms/step - loss: 0.5271 - mae: 0.5271\n",
            "Epoch 50/100\n",
            "1/1 [==============================] - 0s 12ms/step - loss: 0.0615 - mae: 0.0615\n",
            "Epoch 51/100\n",
            "1/1 [==============================] - 0s 11ms/step - loss: 0.2182 - mae: 0.2182\n",
            "Epoch 52/100\n",
            "1/1 [==============================] - 0s 12ms/step - loss: 0.3866 - mae: 0.3866\n",
            "Epoch 53/100\n",
            "1/1 [==============================] - 0s 11ms/step - loss: 0.2739 - mae: 0.2739\n",
            "Epoch 54/100\n",
            "1/1 [==============================] - 0s 15ms/step - loss: 0.2723 - mae: 0.2723\n",
            "Epoch 55/100\n",
            "1/1 [==============================] - 0s 17ms/step - loss: 0.2154 - mae: 0.2154\n",
            "Epoch 56/100\n",
            "1/1 [==============================] - 0s 11ms/step - loss: 0.1255 - mae: 0.1255\n",
            "Epoch 57/100\n",
            "1/1 [==============================] - 0s 11ms/step - loss: 0.2254 - mae: 0.2254\n",
            "Epoch 58/100\n",
            "1/1 [==============================] - 0s 17ms/step - loss: 0.1668 - mae: 0.1668\n",
            "Epoch 59/100\n",
            "1/1 [==============================] - 0s 14ms/step - loss: 0.1711 - mae: 0.1711\n",
            "Epoch 60/100\n",
            "1/1 [==============================] - 0s 14ms/step - loss: 0.1050 - mae: 0.1050\n",
            "Epoch 61/100\n",
            "1/1 [==============================] - 0s 13ms/step - loss: 0.2265 - mae: 0.2265\n",
            "Epoch 62/100\n",
            "1/1 [==============================] - 0s 10ms/step - loss: 0.1245 - mae: 0.1245\n",
            "Epoch 63/100\n",
            "1/1 [==============================] - 0s 14ms/step - loss: 0.2062 - mae: 0.2062\n",
            "Epoch 64/100\n",
            "1/1 [==============================] - 0s 13ms/step - loss: 0.1523 - mae: 0.1523\n",
            "Epoch 65/100\n",
            "1/1 [==============================] - 0s 16ms/step - loss: 0.0860 - mae: 0.0860\n",
            "Epoch 66/100\n",
            "1/1 [==============================] - 0s 11ms/step - loss: 0.1232 - mae: 0.1232\n",
            "Epoch 67/100\n",
            "1/1 [==============================] - 0s 15ms/step - loss: 0.2329 - mae: 0.2329\n",
            "Epoch 68/100\n",
            "1/1 [==============================] - 0s 10ms/step - loss: 0.0730 - mae: 0.0730\n",
            "Epoch 69/100\n",
            "1/1 [==============================] - 0s 9ms/step - loss: 0.4451 - mae: 0.4451\n",
            "Epoch 70/100\n",
            "1/1 [==============================] - 0s 13ms/step - loss: 0.3742 - mae: 0.3742\n",
            "Epoch 71/100\n",
            "1/1 [==============================] - 0s 10ms/step - loss: 0.1768 - mae: 0.1768\n",
            "Epoch 72/100\n",
            "1/1 [==============================] - 0s 16ms/step - loss: 0.2255 - mae: 0.2255\n",
            "Epoch 73/100\n",
            "1/1 [==============================] - 0s 14ms/step - loss: 0.2092 - mae: 0.2092\n",
            "Epoch 74/100\n",
            "1/1 [==============================] - 0s 14ms/step - loss: 0.1172 - mae: 0.1172\n",
            "Epoch 75/100\n",
            "1/1 [==============================] - 0s 13ms/step - loss: 0.4413 - mae: 0.4413\n",
            "Epoch 76/100\n",
            "1/1 [==============================] - 0s 10ms/step - loss: 0.4791 - mae: 0.4791\n",
            "Epoch 77/100\n",
            "1/1 [==============================] - 0s 12ms/step - loss: 0.0559 - mae: 0.0559\n",
            "Epoch 78/100\n",
            "1/1 [==============================] - 0s 13ms/step - loss: 0.7926 - mae: 0.7926\n",
            "Epoch 79/100\n",
            "1/1 [==============================] - 0s 15ms/step - loss: 1.0817 - mae: 1.0817\n",
            "Epoch 80/100\n",
            "1/1 [==============================] - 0s 16ms/step - loss: 0.8657 - mae: 0.8657\n",
            "Epoch 81/100\n",
            "1/1 [==============================] - 0s 18ms/step - loss: 0.2332 - mae: 0.2332\n",
            "Epoch 82/100\n",
            "1/1 [==============================] - 0s 16ms/step - loss: 0.7819 - mae: 0.7819\n",
            "Epoch 83/100\n",
            "1/1 [==============================] - 0s 16ms/step - loss: 1.2369 - mae: 1.2369\n",
            "Epoch 84/100\n",
            "1/1 [==============================] - 0s 16ms/step - loss: 1.2255 - mae: 1.2255\n",
            "Epoch 85/100\n",
            "1/1 [==============================] - 0s 12ms/step - loss: 0.7995 - mae: 0.7995\n",
            "Epoch 86/100\n",
            "1/1 [==============================] - 0s 13ms/step - loss: 0.0319 - mae: 0.0319\n",
            "Epoch 87/100\n",
            "1/1 [==============================] - 0s 16ms/step - loss: 0.4287 - mae: 0.4287\n",
            "Epoch 88/100\n",
            "1/1 [==============================] - 0s 14ms/step - loss: 0.3897 - mae: 0.3897\n",
            "Epoch 89/100\n",
            "1/1 [==============================] - 0s 12ms/step - loss: 0.1529 - mae: 0.1529\n",
            "Epoch 90/100\n",
            "1/1 [==============================] - 0s 13ms/step - loss: 0.1968 - mae: 0.1968\n",
            "Epoch 91/100\n",
            "1/1 [==============================] - 0s 10ms/step - loss: 0.1285 - mae: 0.1285\n",
            "Epoch 92/100\n",
            "1/1 [==============================] - 0s 18ms/step - loss: 0.0631 - mae: 0.0631\n",
            "Epoch 93/100\n",
            "1/1 [==============================] - 0s 17ms/step - loss: 0.3658 - mae: 0.3658\n",
            "Epoch 94/100\n",
            "1/1 [==============================] - 0s 15ms/step - loss: 0.3128 - mae: 0.3128\n",
            "Epoch 95/100\n",
            "1/1 [==============================] - 0s 17ms/step - loss: 0.1454 - mae: 0.1454\n",
            "Epoch 96/100\n",
            "1/1 [==============================] - 0s 19ms/step - loss: 0.1640 - mae: 0.1640\n",
            "Epoch 97/100\n",
            "1/1 [==============================] - 0s 15ms/step - loss: 0.2130 - mae: 0.2130\n",
            "Epoch 98/100\n",
            "1/1 [==============================] - 0s 20ms/step - loss: 0.1515 - mae: 0.1515\n",
            "Epoch 99/100\n",
            "1/1 [==============================] - 0s 16ms/step - loss: 0.3386 - mae: 0.3386\n",
            "Epoch 100/100\n",
            "1/1 [==============================] - 0s 14ms/step - loss: 0.3709 - mae: 0.3709\n"
          ]
        },
        {
          "output_type": "execute_result",
          "data": {
            "text/plain": [
              "<keras.callbacks.History at 0x7f6e8888f220>"
            ]
          },
          "metadata": {},
          "execution_count": 265
        }
      ]
    },
    {
      "cell_type": "code",
      "source": [
        "model.predict([17.0])"
      ],
      "metadata": {
        "colab": {
          "base_uri": "https://localhost:8080/"
        },
        "id": "uSQnkm12trVc",
        "outputId": "60c999d5-31e2-4742-b9c5-f2993e7ee982"
      },
      "execution_count": 266,
      "outputs": [
        {
          "output_type": "stream",
          "name": "stdout",
          "text": [
            "1/1 [==============================] - 0s 190ms/step\n"
          ]
        },
        {
          "output_type": "execute_result",
          "data": {
            "text/plain": [
              "array([[26.970388]], dtype=float32)"
            ]
          },
          "metadata": {},
          "execution_count": 266
        }
      ]
    },
    {
      "cell_type": "markdown",
      "source": [
        "It can be understood that the `learning_rate` is the most important amongst all other High Parameters"
      ],
      "metadata": {
        "id": "2MVnGJaOtszu"
      }
    },
    {
      "cell_type": "markdown",
      "source": [
        "- By fitting on more data\n",
        "\n",
        "(This can be tried out on a real problem)"
      ],
      "metadata": {
        "id": "7pa6UamguQJP"
      }
    },
    {
      "cell_type": "markdown",
      "source": [
        "- By adding layers"
      ],
      "metadata": {
        "id": "YAwGxWEXudC_"
      }
    },
    {
      "cell_type": "code",
      "source": [
        "model = tf.keras.Sequential([\n",
        "    tf.keras.layers.Dense(100, activation = \"relu\"),\n",
        "    tf.keras.layers.Dense(100, activation = \"relu\"),\n",
        "    tf.keras.layers.Dense(100, activation = \"relu\"),\n",
        "    tf.keras.layers.Dense(1)\n",
        "])\n",
        "\n",
        "model.compile(loss = tf.keras.losses.mae,\n",
        "              optimizer = tf.keras.optimizers.Adam(learning_rate = 0.02),\n",
        "              metrics = ['mae'])\n",
        "\n",
        "model.fit(tf.expand_dims(X, axis = -1), y, epochs = 100)"
      ],
      "metadata": {
        "colab": {
          "base_uri": "https://localhost:8080/"
        },
        "id": "4e1XFMoSuomh",
        "outputId": "61b1f076-6927-43c9-f37b-70957a4fdf84"
      },
      "execution_count": 267,
      "outputs": [
        {
          "output_type": "stream",
          "name": "stdout",
          "text": [
            "Epoch 1/100\n",
            "1/1 [==============================] - 1s 1s/step - loss: 13.1207 - mae: 13.1207\n",
            "Epoch 2/100\n",
            "1/1 [==============================] - 0s 15ms/step - loss: 6.6129 - mae: 6.6129\n",
            "Epoch 3/100\n",
            "1/1 [==============================] - 0s 19ms/step - loss: 10.4211 - mae: 10.4211\n",
            "Epoch 4/100\n",
            "1/1 [==============================] - 0s 17ms/step - loss: 6.6215 - mae: 6.6215\n",
            "Epoch 5/100\n",
            "1/1 [==============================] - 0s 18ms/step - loss: 4.2841 - mae: 4.2841\n",
            "Epoch 6/100\n",
            "1/1 [==============================] - 0s 14ms/step - loss: 5.7321 - mae: 5.7321\n",
            "Epoch 7/100\n",
            "1/1 [==============================] - 0s 12ms/step - loss: 4.5517 - mae: 4.5517\n",
            "Epoch 8/100\n",
            "1/1 [==============================] - 0s 22ms/step - loss: 3.8325 - mae: 3.8325\n",
            "Epoch 9/100\n",
            "1/1 [==============================] - 0s 15ms/step - loss: 4.9226 - mae: 4.9226\n",
            "Epoch 10/100\n",
            "1/1 [==============================] - 0s 16ms/step - loss: 4.6746 - mae: 4.6746\n",
            "Epoch 11/100\n",
            "1/1 [==============================] - 0s 16ms/step - loss: 3.5408 - mae: 3.5408\n",
            "Epoch 12/100\n",
            "1/1 [==============================] - 0s 19ms/step - loss: 3.3857 - mae: 3.3857\n",
            "Epoch 13/100\n",
            "1/1 [==============================] - 0s 15ms/step - loss: 3.2340 - mae: 3.2340\n",
            "Epoch 14/100\n",
            "1/1 [==============================] - 0s 17ms/step - loss: 2.4322 - mae: 2.4322\n",
            "Epoch 15/100\n",
            "1/1 [==============================] - 0s 21ms/step - loss: 2.7511 - mae: 2.7511\n",
            "Epoch 16/100\n",
            "1/1 [==============================] - 0s 14ms/step - loss: 2.1624 - mae: 2.1624\n",
            "Epoch 17/100\n",
            "1/1 [==============================] - 0s 14ms/step - loss: 1.9717 - mae: 1.9717\n",
            "Epoch 18/100\n",
            "1/1 [==============================] - 0s 17ms/step - loss: 2.9101 - mae: 2.9101\n",
            "Epoch 19/100\n",
            "1/1 [==============================] - 0s 17ms/step - loss: 2.1074 - mae: 2.1074\n",
            "Epoch 20/100\n",
            "1/1 [==============================] - 0s 19ms/step - loss: 1.2777 - mae: 1.2777\n",
            "Epoch 21/100\n",
            "1/1 [==============================] - 0s 17ms/step - loss: 1.9856 - mae: 1.9856\n",
            "Epoch 22/100\n",
            "1/1 [==============================] - 0s 20ms/step - loss: 0.6508 - mae: 0.6508\n",
            "Epoch 23/100\n",
            "1/1 [==============================] - 0s 16ms/step - loss: 1.5466 - mae: 1.5466\n",
            "Epoch 24/100\n",
            "1/1 [==============================] - 0s 25ms/step - loss: 0.7237 - mae: 0.7237\n",
            "Epoch 25/100\n",
            "1/1 [==============================] - 0s 21ms/step - loss: 2.1200 - mae: 2.1200\n",
            "Epoch 26/100\n",
            "1/1 [==============================] - 0s 13ms/step - loss: 1.9795 - mae: 1.9795\n",
            "Epoch 27/100\n",
            "1/1 [==============================] - 0s 14ms/step - loss: 1.0000 - mae: 1.0000\n",
            "Epoch 28/100\n",
            "1/1 [==============================] - 0s 15ms/step - loss: 2.3711 - mae: 2.3711\n",
            "Epoch 29/100\n",
            "1/1 [==============================] - 0s 13ms/step - loss: 2.2455 - mae: 2.2455\n",
            "Epoch 30/100\n",
            "1/1 [==============================] - 0s 19ms/step - loss: 0.8688 - mae: 0.8688\n",
            "Epoch 31/100\n",
            "1/1 [==============================] - 0s 12ms/step - loss: 2.7733 - mae: 2.7733\n",
            "Epoch 32/100\n",
            "1/1 [==============================] - 0s 12ms/step - loss: 3.4707 - mae: 3.4707\n",
            "Epoch 33/100\n",
            "1/1 [==============================] - 0s 18ms/step - loss: 1.7487 - mae: 1.7487\n",
            "Epoch 34/100\n",
            "1/1 [==============================] - 0s 13ms/step - loss: 1.4045 - mae: 1.4045\n",
            "Epoch 35/100\n",
            "1/1 [==============================] - 0s 14ms/step - loss: 2.4100 - mae: 2.4100\n",
            "Epoch 36/100\n",
            "1/1 [==============================] - 0s 13ms/step - loss: 2.1582 - mae: 2.1582\n",
            "Epoch 37/100\n",
            "1/1 [==============================] - 0s 20ms/step - loss: 0.7040 - mae: 0.7040\n",
            "Epoch 38/100\n",
            "1/1 [==============================] - 0s 21ms/step - loss: 1.6077 - mae: 1.6077\n",
            "Epoch 39/100\n",
            "1/1 [==============================] - 0s 19ms/step - loss: 2.1315 - mae: 2.1315\n",
            "Epoch 40/100\n",
            "1/1 [==============================] - 0s 22ms/step - loss: 0.7601 - mae: 0.7601\n",
            "Epoch 41/100\n",
            "1/1 [==============================] - 0s 16ms/step - loss: 1.7832 - mae: 1.7832\n",
            "Epoch 42/100\n",
            "1/1 [==============================] - 0s 12ms/step - loss: 2.6851 - mae: 2.6851\n",
            "Epoch 43/100\n",
            "1/1 [==============================] - 0s 14ms/step - loss: 2.4571 - mae: 2.4571\n",
            "Epoch 44/100\n",
            "1/1 [==============================] - 0s 14ms/step - loss: 1.2543 - mae: 1.2543\n",
            "Epoch 45/100\n",
            "1/1 [==============================] - 0s 14ms/step - loss: 1.1108 - mae: 1.1108\n",
            "Epoch 46/100\n",
            "1/1 [==============================] - 0s 14ms/step - loss: 1.7419 - mae: 1.7419\n",
            "Epoch 47/100\n",
            "1/1 [==============================] - 0s 11ms/step - loss: 0.8210 - mae: 0.8210\n",
            "Epoch 48/100\n",
            "1/1 [==============================] - 0s 14ms/step - loss: 1.2763 - mae: 1.2763\n",
            "Epoch 49/100\n",
            "1/1 [==============================] - 0s 14ms/step - loss: 1.7848 - mae: 1.7848\n",
            "Epoch 50/100\n",
            "1/1 [==============================] - 0s 13ms/step - loss: 1.1302 - mae: 1.1302\n",
            "Epoch 51/100\n",
            "1/1 [==============================] - 0s 14ms/step - loss: 0.4589 - mae: 0.4589\n",
            "Epoch 52/100\n",
            "1/1 [==============================] - 0s 13ms/step - loss: 0.7792 - mae: 0.7792\n",
            "Epoch 53/100\n",
            "1/1 [==============================] - 0s 15ms/step - loss: 0.3483 - mae: 0.3483\n",
            "Epoch 54/100\n",
            "1/1 [==============================] - 0s 12ms/step - loss: 0.7785 - mae: 0.7785\n",
            "Epoch 55/100\n",
            "1/1 [==============================] - 0s 15ms/step - loss: 0.2660 - mae: 0.2660\n",
            "Epoch 56/100\n",
            "1/1 [==============================] - 0s 13ms/step - loss: 0.6443 - mae: 0.6443\n",
            "Epoch 57/100\n",
            "1/1 [==============================] - 0s 13ms/step - loss: 0.2249 - mae: 0.2249\n",
            "Epoch 58/100\n",
            "1/1 [==============================] - 0s 14ms/step - loss: 0.2256 - mae: 0.2256\n",
            "Epoch 59/100\n",
            "1/1 [==============================] - 0s 14ms/step - loss: 1.0081 - mae: 1.0081\n",
            "Epoch 60/100\n",
            "1/1 [==============================] - 0s 17ms/step - loss: 0.7033 - mae: 0.7033\n",
            "Epoch 61/100\n",
            "1/1 [==============================] - 0s 16ms/step - loss: 0.8262 - mae: 0.8262\n",
            "Epoch 62/100\n",
            "1/1 [==============================] - 0s 14ms/step - loss: 0.9790 - mae: 0.9790\n",
            "Epoch 63/100\n",
            "1/1 [==============================] - 0s 15ms/step - loss: 0.2088 - mae: 0.2088\n",
            "Epoch 64/100\n",
            "1/1 [==============================] - 0s 14ms/step - loss: 1.8240 - mae: 1.8240\n",
            "Epoch 65/100\n",
            "1/1 [==============================] - 0s 14ms/step - loss: 2.0948 - mae: 2.0948\n",
            "Epoch 66/100\n",
            "1/1 [==============================] - 0s 13ms/step - loss: 1.0314 - mae: 1.0314\n",
            "Epoch 67/100\n",
            "1/1 [==============================] - 0s 16ms/step - loss: 1.3010 - mae: 1.3010\n",
            "Epoch 68/100\n",
            "1/1 [==============================] - 0s 15ms/step - loss: 1.9025 - mae: 1.9025\n",
            "Epoch 69/100\n",
            "1/1 [==============================] - 0s 17ms/step - loss: 1.4811 - mae: 1.4811\n",
            "Epoch 70/100\n",
            "1/1 [==============================] - 0s 18ms/step - loss: 0.3306 - mae: 0.3306\n",
            "Epoch 71/100\n",
            "1/1 [==============================] - 0s 15ms/step - loss: 1.8022 - mae: 1.8022\n",
            "Epoch 72/100\n",
            "1/1 [==============================] - 0s 16ms/step - loss: 2.0711 - mae: 2.0711\n",
            "Epoch 73/100\n",
            "1/1 [==============================] - 0s 17ms/step - loss: 0.8799 - mae: 0.8799\n",
            "Epoch 74/100\n",
            "1/1 [==============================] - 0s 13ms/step - loss: 1.3581 - mae: 1.3581\n",
            "Epoch 75/100\n",
            "1/1 [==============================] - 0s 13ms/step - loss: 2.1502 - mae: 2.1502\n",
            "Epoch 76/100\n",
            "1/1 [==============================] - 0s 18ms/step - loss: 2.0447 - mae: 2.0447\n",
            "Epoch 77/100\n",
            "1/1 [==============================] - 0s 15ms/step - loss: 1.0521 - mae: 1.0521\n",
            "Epoch 78/100\n",
            "1/1 [==============================] - 0s 20ms/step - loss: 1.0895 - mae: 1.0895\n",
            "Epoch 79/100\n",
            "1/1 [==============================] - 0s 12ms/step - loss: 1.7957 - mae: 1.7957\n",
            "Epoch 80/100\n",
            "1/1 [==============================] - 0s 15ms/step - loss: 1.2678 - mae: 1.2678\n",
            "Epoch 81/100\n",
            "1/1 [==============================] - 0s 15ms/step - loss: 0.3916 - mae: 0.3916\n",
            "Epoch 82/100\n",
            "1/1 [==============================] - 0s 12ms/step - loss: 0.7688 - mae: 0.7688\n",
            "Epoch 83/100\n",
            "1/1 [==============================] - 0s 11ms/step - loss: 0.2560 - mae: 0.2560\n",
            "Epoch 84/100\n",
            "1/1 [==============================] - 0s 11ms/step - loss: 1.2895 - mae: 1.2895\n",
            "Epoch 85/100\n",
            "1/1 [==============================] - 0s 12ms/step - loss: 1.4155 - mae: 1.4155\n",
            "Epoch 86/100\n",
            "1/1 [==============================] - 0s 12ms/step - loss: 0.5057 - mae: 0.5057\n",
            "Epoch 87/100\n",
            "1/1 [==============================] - 0s 12ms/step - loss: 1.4556 - mae: 1.4556\n",
            "Epoch 88/100\n",
            "1/1 [==============================] - 0s 13ms/step - loss: 1.9930 - mae: 1.9930\n",
            "Epoch 89/100\n",
            "1/1 [==============================] - 0s 18ms/step - loss: 1.6453 - mae: 1.6453\n",
            "Epoch 90/100\n",
            "1/1 [==============================] - 0s 16ms/step - loss: 0.5900 - mae: 0.5900\n",
            "Epoch 91/100\n",
            "1/1 [==============================] - 0s 14ms/step - loss: 1.5084 - mae: 1.5084\n",
            "Epoch 92/100\n",
            "1/1 [==============================] - 0s 12ms/step - loss: 2.0948 - mae: 2.0948\n",
            "Epoch 93/100\n",
            "1/1 [==============================] - 0s 12ms/step - loss: 1.3398 - mae: 1.3398\n",
            "Epoch 94/100\n",
            "1/1 [==============================] - 0s 11ms/step - loss: 0.4384 - mae: 0.4384\n",
            "Epoch 95/100\n",
            "1/1 [==============================] - 0s 12ms/step - loss: 1.4300 - mae: 1.4300\n",
            "Epoch 96/100\n",
            "1/1 [==============================] - 0s 12ms/step - loss: 1.4420 - mae: 1.4420\n",
            "Epoch 97/100\n",
            "1/1 [==============================] - 0s 13ms/step - loss: 0.5769 - mae: 0.5769\n",
            "Epoch 98/100\n",
            "1/1 [==============================] - 0s 13ms/step - loss: 1.3153 - mae: 1.3153\n",
            "Epoch 99/100\n",
            "1/1 [==============================] - 0s 13ms/step - loss: 1.9511 - mae: 1.9511\n",
            "Epoch 100/100\n",
            "1/1 [==============================] - 0s 11ms/step - loss: 1.3292 - mae: 1.3292\n"
          ]
        },
        {
          "output_type": "execute_result",
          "data": {
            "text/plain": [
              "<keras.callbacks.History at 0x7f6e88d62dc0>"
            ]
          },
          "metadata": {},
          "execution_count": 267
        }
      ]
    },
    {
      "cell_type": "code",
      "source": [
        "model.predict([21.0])"
      ],
      "metadata": {
        "colab": {
          "base_uri": "https://localhost:8080/"
        },
        "id": "ARNChGMeuu3D",
        "outputId": "ef8a063b-06b6-49b1-c045-ced3e6c79244"
      },
      "execution_count": 268,
      "outputs": [
        {
          "output_type": "stream",
          "name": "stdout",
          "text": [
            "1/1 [==============================] - 0s 103ms/step\n"
          ]
        },
        {
          "output_type": "execute_result",
          "data": {
            "text/plain": [
              "array([[31.377867]], dtype=float32)"
            ]
          },
          "metadata": {},
          "execution_count": 268
        }
      ]
    },
    {
      "cell_type": "markdown",
      "source": [
        "#### Evaluating the Model"
      ],
      "metadata": {
        "id": "tgVgd623vahr"
      }
    },
    {
      "cell_type": "markdown",
      "source": [
        " - Visualize the Input Data"
      ],
      "metadata": {
        "id": "eE4QuQjHQmWS"
      }
    },
    {
      "cell_type": "markdown",
      "source": [
        "Make a bigger dataset"
      ],
      "metadata": {
        "id": "0Za0Y9b5PgwR"
      }
    },
    {
      "cell_type": "code",
      "source": [
        "# Input Values\n",
        "X = tf.range(-100, 100, 4)\n",
        "\n",
        "X"
      ],
      "metadata": {
        "id": "cUvooSDqvePy",
        "colab": {
          "base_uri": "https://localhost:8080/"
        },
        "outputId": "c23f08f2-35a9-4122-c469-3d99433c3857"
      },
      "execution_count": 269,
      "outputs": [
        {
          "output_type": "execute_result",
          "data": {
            "text/plain": [
              "<tf.Tensor: shape=(50,), dtype=int32, numpy=\n",
              "array([-100,  -96,  -92,  -88,  -84,  -80,  -76,  -72,  -68,  -64,  -60,\n",
              "        -56,  -52,  -48,  -44,  -40,  -36,  -32,  -28,  -24,  -20,  -16,\n",
              "        -12,   -8,   -4,    0,    4,    8,   12,   16,   20,   24,   28,\n",
              "         32,   36,   40,   44,   48,   52,   56,   60,   64,   68,   72,\n",
              "         76,   80,   84,   88,   92,   96], dtype=int32)>"
            ]
          },
          "metadata": {},
          "execution_count": 269
        }
      ]
    },
    {
      "cell_type": "code",
      "source": [
        "# Ground Truth\n",
        "y = X + 10\n",
        "\n",
        "y"
      ],
      "metadata": {
        "colab": {
          "base_uri": "https://localhost:8080/"
        },
        "id": "jzo_qbhzQAk-",
        "outputId": "f9924990-b803-4664-ccc6-e27c37e645f8"
      },
      "execution_count": 270,
      "outputs": [
        {
          "output_type": "execute_result",
          "data": {
            "text/plain": [
              "<tf.Tensor: shape=(50,), dtype=int32, numpy=\n",
              "array([-90, -86, -82, -78, -74, -70, -66, -62, -58, -54, -50, -46, -42,\n",
              "       -38, -34, -30, -26, -22, -18, -14, -10,  -6,  -2,   2,   6,  10,\n",
              "        14,  18,  22,  26,  30,  34,  38,  42,  46,  50,  54,  58,  62,\n",
              "        66,  70,  74,  78,  82,  86,  90,  94,  98, 102, 106], dtype=int32)>"
            ]
          },
          "metadata": {},
          "execution_count": 270
        }
      ]
    },
    {
      "cell_type": "code",
      "source": [
        "# Visualize the input data\n",
        "import matplotlib.pyplot as plt\n",
        "\n",
        "plt.scatter(X, y)"
      ],
      "metadata": {
        "colab": {
          "base_uri": "https://localhost:8080/",
          "height": 0
        },
        "id": "yKbJHX-VQd2w",
        "outputId": "19995feb-f737-4395-9d32-b323bed5025c"
      },
      "execution_count": 271,
      "outputs": [
        {
          "output_type": "execute_result",
          "data": {
            "text/plain": [
              "<matplotlib.collections.PathCollection at 0x7f6e890b6280>"
            ]
          },
          "metadata": {},
          "execution_count": 271
        },
        {
          "output_type": "display_data",
          "data": {
            "text/plain": [
              "<Figure size 432x288 with 1 Axes>"
            ],
            "image/png": "[encoded data removed]"
          },
          "metadata": {
            "needs_background": "light"
          }
        }
      ]
    },
    {
      "cell_type": "markdown",
      "source": [
        " - The Three Sets\n",
        " In Machine Learning, the data is conventionally split into three datasets -\n",
        " 1. The **Training** Dataset - This consists of about **70-80%** of the input labels, it is used for the supervised learning of the model. It is like the learning resources a student utilizes while preparing for an exam.\n",
        " 2. The **Validation** Dataset - The model gets tuned on this data. It is usually **10-15%** of the total input data. It is much like the Practice Questionnaires a student solves in order to prepare well for an exam.\n",
        " 3. The **Testing** Dataset - The model gets tested on this data. It is usually **10-15%** of the total input data. The predictions are tested across the corressponding ground truth input labels. This is much like the final exam or the test the student was preparing for."
      ],
      "metadata": {
        "id": "P_6ccXXsQw3-"
      }
    },
    {
      "cell_type": "code",
      "source": [
        "# Split the Input Data into Training and Testing Datasets\n",
        "\n",
        "# 80% of the total input data\n",
        "X_train = X[:40]\n",
        "y_train = y[:40]\n",
        "\n",
        "X_test = X[40:]\n",
        "y_test = y[40:]\n",
        "\n",
        "X_train, y_train, X_test, y_test"
      ],
      "metadata": {
        "colab": {
          "base_uri": "https://localhost:8080/"
        },
        "id": "23T_p3ZsSTqZ",
        "outputId": "0d9ea21d-9586-4695-c12d-6473638195a6"
      },
      "execution_count": 272,
      "outputs": [
        {
          "output_type": "execute_result",
          "data": {
            "text/plain": [
              "(<tf.Tensor: shape=(40,), dtype=int32, numpy=\n",
              " array([-100,  -96,  -92,  -88,  -84,  -80,  -76,  -72,  -68,  -64,  -60,\n",
              "         -56,  -52,  -48,  -44,  -40,  -36,  -32,  -28,  -24,  -20,  -16,\n",
              "         -12,   -8,   -4,    0,    4,    8,   12,   16,   20,   24,   28,\n",
              "          32,   36,   40,   44,   48,   52,   56], dtype=int32)>,\n",
              " <tf.Tensor: shape=(40,), dtype=int32, numpy=\n",
              " array([-90, -86, -82, -78, -74, -70, -66, -62, -58, -54, -50, -46, -42,\n",
              "        -38, -34, -30, -26, -22, -18, -14, -10,  -6,  -2,   2,   6,  10,\n",
              "         14,  18,  22,  26,  30,  34,  38,  42,  46,  50,  54,  58,  62,\n",
              "         66], dtype=int32)>,\n",
              " <tf.Tensor: shape=(10,), dtype=int32, numpy=array([60, 64, 68, 72, 76, 80, 84, 88, 92, 96], dtype=int32)>,\n",
              " <tf.Tensor: shape=(10,), dtype=int32, numpy=array([ 70,  74,  78,  82,  86,  90,  94,  98, 102, 106], dtype=int32)>)"
            ]
          },
          "metadata": {},
          "execution_count": 272
        }
      ]
    },
    {
      "cell_type": "code",
      "source": [
        "# Visualise the new datasets\n",
        "\n",
        "plt.figure(figsize=(10, 7))\n",
        "\n",
        "plt.scatter(X_train, y_train, label = \"Training Data\")\n",
        "plt.scatter(X_test, y_test, c = 'y', label = \"Testing Data\")\n",
        "\n",
        "plt.legend()"
      ],
      "metadata": {
        "colab": {
          "base_uri": "https://localhost:8080/",
          "height": 0
        },
        "id": "XY-fTfxpTDOl",
        "outputId": "9e408ce3-a0c8-481c-8814-521ea9f421bf"
      },
      "execution_count": 273,
      "outputs": [
        {
          "output_type": "execute_result",
          "data": {
            "text/plain": [
              "<matplotlib.legend.Legend at 0x7f6e860c6cd0>"
            ]
          },
          "metadata": {},
          "execution_count": 273
        },
        {
          "output_type": "display_data",
          "data": {
            "text/plain": [
              "<Figure size 720x504 with 1 Axes>"
            ],
            "image/png": "[encoded data removed]"
          },
          "metadata": {
            "needs_background": "light"
          }
        }
      ]
    },
    {
      "cell_type": "code",
      "source": [
        "# Create a Neural Network that is to be Evaluated\n",
        "\n",
        "tf.random.set_seed(4)\n",
        "\n",
        "model_1 = tf.keras.Sequential([\n",
        "    tf.keras.layers.Dense(100, name = 'input_layer', activation = None),\n",
        "    tf.keras.layers.Dense(1, name = 'output_layer')\n",
        "], name = 'model_1')\n",
        "\n",
        "model_1.compile(loss = tf.keras.losses.MeanSquaredError(),\n",
        "              optimizer = tf.keras.optimizers.Adam(learning_rate = 0.02),\n",
        "              metrics = ['mse'])"
      ],
      "metadata": {
        "id": "BHRL3Yo5Tq7p"
      },
      "execution_count": 274,
      "outputs": []
    },
    {
      "cell_type": "markdown",
      "source": [
        "- Visualize the Model"
      ],
      "metadata": {
        "id": "2iuKk5TpXU76"
      }
    },
    {
      "cell_type": "code",
      "source": [
        "model_1.build(input_shape = (40,1))"
      ],
      "metadata": {
        "id": "5-YjMBhvX2-G"
      },
      "execution_count": 275,
      "outputs": []
    },
    {
      "cell_type": "code",
      "source": [
        "model_1.summary()"
      ],
      "metadata": {
        "colab": {
          "base_uri": "https://localhost:8080/"
        },
        "id": "s9-SV0-YX6of",
        "outputId": "b693498b-ca8a-4683-a4cb-19869c37b324"
      },
      "execution_count": 276,
      "outputs": [
        {
          "output_type": "stream",
          "name": "stdout",
          "text": [
            "Model: \"model_1\"\n",
            "_________________________________________________________________\n",
            " Layer (type)                Output Shape              Param #   \n",
            "=================================================================\n",
            " input_layer (Dense)         (40, 100)                 200       \n",
            "                                                                 \n",
            " output_layer (Dense)        (40, 1)                   101       \n",
            "                                                                 \n",
            "=================================================================\n",
            "Total params: 301\n",
            "Trainable params: 301\n",
            "Non-trainable params: 0\n",
            "_________________________________________________________________\n"
          ]
        }
      ]
    },
    {
      "cell_type": "markdown",
      "source": [
        "**Total Params:** The total number of parameters present in the model.\n",
        "\n",
        "**Trainable Params:** The number of parameters that can be updated while training the model.\n",
        "\n",
        "**Non-trainable Params:** The number of parameters that cannot be updated while training the model (These are typically set during Transfer learning) \n"
      ],
      "metadata": {
        "id": "9PLj4XdYZJsk"
      }
    },
    {
      "cell_type": "code",
      "source": [
        "# Fit our model to the training data\n",
        "\n",
        "model_1.fit(tf.expand_dims(X_train, axis = -1), y_train, epochs = 300, verbose = 0)"
      ],
      "metadata": {
        "colab": {
          "base_uri": "https://localhost:8080/"
        },
        "id": "r6IcrrBAarzV",
        "outputId": "3cd706a9-019b-4c0e-b300-c36863509e79"
      },
      "execution_count": 277,
      "outputs": [
        {
          "output_type": "execute_result",
          "data": {
            "text/plain": [
              "<keras.callbacks.History at 0x7f6e860b0790>"
            ]
          },
          "metadata": {},
          "execution_count": 277
        }
      ]
    },
    {
      "cell_type": "code",
      "source": [
        "# Use the Keras plot_model() function to get a more visual insight of the model\n",
        "\n",
        "from tensorflow.keras.utils import plot_model\n",
        "\n",
        "plot_model(model = model_1, show_shapes = True, show_dtype = True)"
      ],
      "metadata": {
        "colab": {
          "base_uri": "https://localhost:8080/",
          "height": 0
        },
        "id": "CjgGEAGVa3vR",
        "outputId": "bf457cc0-c50e-4f6e-d828-d64a8e99b4fd"
      },
      "execution_count": 278,
      "outputs": [
        {
          "output_type": "execute_result",
          "data": {
            "image/png": "[encoded data removed]",
            "text/plain": [
              "<IPython.core.display.Image object>"
            ]
          },
          "metadata": {},
          "execution_count": 278
        }
      ]
    },
    {
      "cell_type": "markdown",
      "source": [
        "- Visualize the model's predictions"
      ],
      "metadata": {
        "id": "gi99ifCCblOu"
      }
    },
    {
      "cell_type": "code",
      "source": [
        "# Make predictions\n",
        "\n",
        "y_pred = model_1.predict(X_test)\n",
        "y_pred"
      ],
      "metadata": {
        "colab": {
          "base_uri": "https://localhost:8080/"
        },
        "id": "plYUkVZjdAdL",
        "outputId": "5b088e0a-a986-4f21-909e-ae85d0717ad8"
      },
      "execution_count": 279,
      "outputs": [
        {
          "output_type": "stream",
          "name": "stdout",
          "text": [
            "1/1 [==============================] - 0s 63ms/step\n"
          ]
        },
        {
          "output_type": "execute_result",
          "data": {
            "text/plain": [
              "array([[ 69.99999 ],\n",
              "       [ 74.      ],\n",
              "       [ 78.00001 ],\n",
              "       [ 81.999985],\n",
              "       [ 85.99999 ],\n",
              "       [ 90.      ],\n",
              "       [ 94.00001 ],\n",
              "       [ 97.99999 ],\n",
              "       [101.99999 ],\n",
              "       [106.00001 ]], dtype=float32)"
            ]
          },
          "metadata": {},
          "execution_count": 279
        }
      ]
    },
    {
      "cell_type": "code",
      "source": [
        "y_test"
      ],
      "metadata": {
        "colab": {
          "base_uri": "https://localhost:8080/"
        },
        "id": "cIhXKFTsdNQ4",
        "outputId": "fb569612-fd81-4f2b-8ee2-f23373cdb770"
      },
      "execution_count": 280,
      "outputs": [
        {
          "output_type": "execute_result",
          "data": {
            "text/plain": [
              "<tf.Tensor: shape=(10,), dtype=int32, numpy=array([ 70,  74,  78,  82,  86,  90,  94,  98, 102, 106], dtype=int32)>"
            ]
          },
          "metadata": {},
          "execution_count": 280
        }
      ]
    },
    {
      "cell_type": "code",
      "source": [
        "# Create a Plotting function for reusability\n",
        "\n",
        "def plot_preds(preds,\n",
        "               train_data = X_train,\n",
        "               train_labels = y_train,\n",
        "               test_data = X_test,\n",
        "               test_labels = y_test):\n",
        "  \"\"\"\n",
        "  Plot training and test data along with predictions made by the model, and compare them to the ground truth (test_labels)\n",
        "  \"\"\"\n",
        "\n",
        "  import matplotlib.pyplot as plt\n",
        "\n",
        "  plt.figure(figsize = (10, 7))\n",
        "\n",
        "  plt.scatter(X_train, y_train, label = \"Training Data\")\n",
        "  plt.scatter(X_test, y_test, c = 'y', label = \"Testing Data\")\n",
        "\n",
        "  # Plot the predictions\n",
        "  plt.scatter(X_test, preds, c = 'r', label = \"Predictions\")\n",
        "\n",
        "  plt.legend()"
      ],
      "metadata": {
        "id": "EXu8dmDTdc1y"
      },
      "execution_count": 281,
      "outputs": []
    },
    {
      "cell_type": "code",
      "source": [
        "plot_preds(y_pred)"
      ],
      "metadata": {
        "colab": {
          "base_uri": "https://localhost:8080/",
          "height": 0
        },
        "id": "E9NhdDDYe7_-",
        "outputId": "baf870b6-7676-4822-f1b4-7e4152a61e89"
      },
      "execution_count": 282,
      "outputs": [
        {
          "output_type": "display_data",
          "data": {
            "text/plain": [
              "<Figure size 720x504 with 1 Axes>"
            ],
            "image/png": "[encoded data removed]"
          },
          "metadata": {
            "needs_background": "light"
          }
        }
      ]
    },
    {
      "cell_type": "markdown",
      "source": [
        "- Evaluating Model Based on Common **Regression** Evaluation Metrics\n",
        "\n",
        "The common evaluation metrics for a regression model are -\n",
        "\n",
        "**MAE:** Mean Absolute Error, measures the average deviance from the ground truth values.\n",
        "\n",
        "**MSE:** Mean Squared Error, measures the average of the square of the deviances from the ground truth values. Very effective when making bigger mistakes is not desired. This will tone up the higher values even more (by squaring them) and this will cause the model to adjust more.\n",
        "\n",
        "**Huber:** This is a combination of MSE & MAE, it is less sensitive to outliers than MSE"
      ],
      "metadata": {
        "id": "ABsTzwxHzIyi"
      }
    },
    {
      "cell_type": "code",
      "source": [
        "# Using the evaluate() function from keras\n",
        "\n",
        "model_1.evaluate(X_test, y_test)"
      ],
      "metadata": {
        "colab": {
          "base_uri": "https://localhost:8080/"
        },
        "id": "eJ5OpINIzMQU",
        "outputId": "bd0b418d-bf08-4133-d5ac-9c6966a1424e"
      },
      "execution_count": 283,
      "outputs": [
        {
          "output_type": "stream",
          "name": "stdout",
          "text": [
            "1/1 [==============================] - 0s 127ms/step - loss: 1.1642e-11 - mse: 1.1642e-11\n"
          ]
        },
        {
          "output_type": "execute_result",
          "data": {
            "text/plain": [
              "[1.1641532356165829e-11, 1.1641532356165829e-11]"
            ]
          },
          "metadata": {},
          "execution_count": 283
        }
      ]
    },
    {
      "cell_type": "markdown",
      "source": [
        "Use the tf.metrics module to get the metrics based on y_pred and y_test"
      ],
      "metadata": {
        "id": "k1lh32Jw1aHk"
      }
    },
    {
      "cell_type": "code",
      "source": [
        "# Mean Absolute Error\n",
        "\n",
        "mae = tf.metrics.mean_absolute_error(y_true = y_test,\n",
        "                               y_pred = tf.squeeze(y_pred)).numpy()\n",
        "\n",
        "mae"
      ],
      "metadata": {
        "colab": {
          "base_uri": "https://localhost:8080/"
        },
        "id": "2op00QHP0iG_",
        "outputId": "c47feb40-8fc2-46c7-e3ed-722e6bf393dc"
      },
      "execution_count": 284,
      "outputs": [
        {
          "output_type": "execute_result",
          "data": {
            "text/plain": [
              "6.866455e-06"
            ]
          },
          "metadata": {},
          "execution_count": 284
        }
      ]
    },
    {
      "cell_type": "code",
      "source": [
        "# Mean Squared Error\n",
        "\n",
        "mse = tf.metrics.mean_squared_error(y_true = y_test,\n",
        "                               y_pred = tf.squeeze(y_pred)).numpy()\n",
        "mse "
      ],
      "metadata": {
        "colab": {
          "base_uri": "https://localhost:8080/"
        },
        "id": "usl-o93G1Ned",
        "outputId": "32d9b7b3-4d13-4cf5-8897-ea1d410b9830"
      },
      "execution_count": 285,
      "outputs": [
        {
          "output_type": "execute_result",
          "data": {
            "text/plain": [
              "6.402843e-11"
            ]
          },
          "metadata": {},
          "execution_count": 285
        }
      ]
    },
    {
      "cell_type": "code",
      "source": [
        "# Huber\n",
        "\n",
        "huber = tf.keras.losses.huber(y_true = y_test,\n",
        "                               y_pred = tf.squeeze(y_pred)).numpy()\n",
        "huber"
      ],
      "metadata": {
        "colab": {
          "base_uri": "https://localhost:8080/"
        },
        "id": "wa4sYOqF1lFd",
        "outputId": "d9c53273-3742-4a4f-9a9d-d31e7e278e51"
      },
      "execution_count": 286,
      "outputs": [
        {
          "output_type": "execute_result",
          "data": {
            "text/plain": [
              "3.2014214e-11"
            ]
          },
          "metadata": {},
          "execution_count": 286
        }
      ]
    },
    {
      "cell_type": "code",
      "source": [
        "model_1.predict([98765432])"
      ],
      "metadata": {
        "colab": {
          "base_uri": "https://localhost:8080/"
        },
        "id": "qYm1JoTs4TM5",
        "outputId": "7001620c-5342-4378-f19d-7930bd6d1e58"
      },
      "execution_count": 287,
      "outputs": [
        {
          "output_type": "stream",
          "name": "stdout",
          "text": [
            "1/1 [==============================] - 0s 89ms/step\n"
          ]
        },
        {
          "output_type": "execute_result",
          "data": {
            "text/plain": [
              "array([[98765440.]], dtype=float32)"
            ]
          },
          "metadata": {},
          "execution_count": 287
        }
      ]
    },
    {
      "cell_type": "markdown",
      "source": [
        "#### Tracking Experiments"
      ],
      "metadata": {
        "id": "ouY_hD_n8cOv"
      }
    },
    {
      "cell_type": "markdown",
      "source": [
        "- Comparing our models and their evaluation metrics"
      ],
      "metadata": {
        "id": "v7GA-aD56g1f"
      }
    },
    {
      "cell_type": "code",
      "source": [
        "# We can use the pandas module to see the output metrics of our models even better\n",
        "\n",
        "import pandas as pd\n",
        "\n",
        "model_results = [[\"model_1\", mae, mse, huber],]\n",
        "                # [\"model_2\", mae_2, mse_2, huber_2],\n",
        "                # ...]\n",
        "\n",
        "pd.DataFrame(model_results, columns = ['Model Name', 'MAE', \"MSE\", \"Huber\"])"
      ],
      "metadata": {
        "colab": {
          "base_uri": "https://localhost:8080/",
          "height": 0
        },
        "id": "L6kcUY-s6lol",
        "outputId": "b7833cf0-b485-488c-ca04-aad429a51829"
      },
      "execution_count": 288,
      "outputs": [
        {
          "output_type": "execute_result",
          "data": {
            "text/plain": [
              "  Model Name       MAE           MSE         Huber\n",
              "0    model_1  0.000007  6.402843e-11  3.201421e-11"
            ],
            "text/html": [
              "\n",
              "  <div id=\"df-1009b142-23a4-4530-a31b-055d01c0a4cc\">\n",
              "    <div class=\"colab-df-container\">\n",
              "      <div>\n",
              "<style scoped>\n",
              "    .dataframe tbody tr th:only-of-type {\n",
              "        vertical-align: middle;\n",
              "    }\n",
              "\n",
              "    .dataframe tbody tr th {\n",
              "        vertical-align: top;\n",
              "    }\n",
              "\n",
              "    .dataframe thead th {\n",
              "        text-align: right;\n",
              "    }\n",
              "</style>\n",
              "<table border=\"1\" class=\"dataframe\">\n",
              "  <thead>\n",
              "    <tr style=\"text-align: right;\">\n",
              "      <th></th>\n",
              "      <th>Model Name</th>\n",
              "      <th>MAE</th>\n",
              "      <th>MSE</th>\n",
              "      <th>Huber</th>\n",
              "    </tr>\n",
              "  </thead>\n",
              "  <tbody>\n",
              "    <tr>\n",
              "      <th>0</th>\n",
              "      <td>model_1</td>\n",
              "      <td>0.000007</td>\n",
              "      <td>6.402843e-11</td>\n",
              "      <td>3.201421e-11</td>\n",
              "    </tr>\n",
              "  </tbody>\n",
              "</table>\n",
              "</div>\n",
              "      <button class=\"colab-df-convert\" onclick=\"convertToInteractive('df-1009b142-23a4-4530-a31b-055d01c0a4cc')\"\n",
              "              title=\"Convert this dataframe to an interactive table.\"\n",
              "              style=\"display:none;\">\n",
              "        \n",
              "  <svg xmlns=\"http://www.w3.org/2000/svg\" height=\"24px\"viewBox=\"0 0 24 24\"\n",
              "       width=\"24px\">\n",
              "    <path d=\"M0 0h24v24H0V0z\" fill=\"none\"/>\n",
              "    <path d=\"M18.56 5.44l.94 2.06.94-2.06 2.06-.94-2.06-.94-.94-2.06-.94 2.06-2.06.94zm-11 1L8.5 8.5l.94-2.06 2.06-.94-2.06-.94L8.5 2.5l-.94 2.06-2.06.94zm10 10l.94 2.06.94-2.06 2.06-.94-2.06-.94-.94-2.06-.94 2.06-2.06.94z\"/><path d=\"M17.41 7.96l-1.37-1.37c-.4-.4-.92-.59-1.43-.59-.52 0-1.04.2-1.43.59L10.3 9.45l-7.72 7.72c-.78.78-.78 2.05 0 2.83L4 21.41c.39.39.9.59 1.41.59.51 0 1.02-.2 1.41-.59l7.78-7.78 2.81-2.81c.8-.78.8-2.07 0-2.86zM5.41 20L4 18.59l7.72-7.72 1.47 1.35L5.41 20z\"/>\n",
              "  </svg>\n",
              "      </button>\n",
              "      \n",
              "  <style>\n",
              "    .colab-df-container {\n",
              "      display:flex;\n",
              "      flex-wrap:wrap;\n",
              "      gap: 12px;\n",
              "    }\n",
              "\n",
              "    .colab-df-convert {\n",
              "      background-color: #E8F0FE;\n",
              "      border: none;\n",
              "      border-radius: 50%;\n",
              "      cursor: pointer;\n",
              "      display: none;\n",
              "      fill: #1967D2;\n",
              "      height: 32px;\n",
              "      padding: 0 0 0 0;\n",
              "      width: 32px;\n",
              "    }\n",
              "\n",
              "    .colab-df-convert:hover {\n",
              "      background-color: #E2EBFA;\n",
              "      box-shadow: 0px 1px 2px rgba(60, 64, 67, 0.3), 0px 1px 3px 1px rgba(60, 64, 67, 0.15);\n",
              "      fill: #174EA6;\n",
              "    }\n",
              "\n",
              "    [theme=dark] .colab-df-convert {\n",
              "      background-color: #3B4455;\n",
              "      fill: #D2E3FC;\n",
              "    }\n",
              "\n",
              "    [theme=dark] .colab-df-convert:hover {\n",
              "      background-color: #434B5C;\n",
              "      box-shadow: 0px 1px 3px 1px rgba(0, 0, 0, 0.15);\n",
              "      filter: drop-shadow(0px 1px 2px rgba(0, 0, 0, 0.3));\n",
              "      fill: #FFFFFF;\n",
              "    }\n",
              "  </style>\n",
              "\n",
              "      <script>\n",
              "        const buttonEl =\n",
              "          document.querySelector('#df-1009b142-23a4-4530-a31b-055d01c0a4cc button.colab-df-convert');\n",
              "        buttonEl.style.display =\n",
              "          google.colab.kernel.accessAllowed ? 'block' : 'none';\n",
              "\n",
              "        async function convertToInteractive(key) {\n",
              "          const element = document.querySelector('#df-1009b142-23a4-4530-a31b-055d01c0a4cc');\n",
              "          const dataTable =\n",
              "            await google.colab.kernel.invokeFunction('convertToInteractive',\n",
              "                                                     [key], {});\n",
              "          if (!dataTable) return;\n",
              "\n",
              "          const docLinkHtml = 'Like what you see? Visit the ' +\n",
              "            '<a target=\"_blank\" href=https://colab.research.google.com/notebooks/data_table.ipynb>data table notebook</a>'\n",
              "            + ' to learn more about interactive tables.';\n",
              "          element.innerHTML = '';\n",
              "          dataTable['output_type'] = 'display_data';\n",
              "          await google.colab.output.renderOutput(dataTable, element);\n",
              "          const docLink = document.createElement('div');\n",
              "          docLink.innerHTML = docLinkHtml;\n",
              "          element.appendChild(docLink);\n",
              "        }\n",
              "      </script>\n",
              "    </div>\n",
              "  </div>\n",
              "  "
            ]
          },
          "metadata": {},
          "execution_count": 288
        }
      ]
    },
    {
      "cell_type": "markdown",
      "source": [
        "- Using External Tools\n",
        " - Like **TensorBoard**\n",
        " - and **Weights & Biases**"
      ],
      "metadata": {
        "id": "ZhOT_13f7ZGO"
      }
    },
    {
      "cell_type": "markdown",
      "source": [
        "#### Saving Models"
      ],
      "metadata": {
        "id": "HxK1xHFO9SPr"
      }
    },
    {
      "cell_type": "markdown",
      "source": [
        "There are two formats of saving TensorFlow models onto the disk\n",
        "\n",
        "1. SavedModel\n",
        "2. HDF5 (.h5 extension)"
      ],
      "metadata": {
        "id": "VclQZHgs9WGt"
      }
    },
    {
      "cell_type": "code",
      "source": [
        "# Save the model using SavedModel format\n",
        "model_1.save(\"Simple Neural Regression Model\")"
      ],
      "metadata": {
        "id": "RR9zFpO-9uVe",
        "colab": {
          "base_uri": "https://localhost:8080/"
        },
        "outputId": "260494f7-ce5b-423d-be9b-99d7c193b4fb"
      },
      "execution_count": 289,
      "outputs": [
        {
          "output_type": "stream",
          "name": "stderr",
          "text": [
            "WARNING:absl:Found untraced functions such as _update_step_xla while saving (showing 1 of 1). These functions will not be directly callable after loading.\n"
          ]
        }
      ]
    },
    {
      "cell_type": "markdown",
      "source": [
        "The `.pb` files saved inside the foldername are called **protobuf** files"
      ],
      "metadata": {
        "id": "csaMWNTH-mkz"
      }
    },
    {
      "cell_type": "code",
      "source": [
        "# Save the model in HDF5 format\n",
        "model_1.save(\"Simple Neural Regression Model.h5\")"
      ],
      "metadata": {
        "id": "MNGV6DmT9_lD"
      },
      "execution_count": 290,
      "outputs": []
    },
    {
      "cell_type": "markdown",
      "source": [
        "#### Loading Models"
      ],
      "metadata": {
        "id": "ULpu4G0w-Pk-"
      }
    },
    {
      "cell_type": "code",
      "source": [
        "# Load a model in SavedModel format\n",
        "\n",
        "loaded_model = tf.keras.models.load_model('Simple Neural Regression Model')\n",
        "loaded_model.summary()"
      ],
      "metadata": {
        "colab": {
          "base_uri": "https://localhost:8080/"
        },
        "id": "7ri9J3NL-98b",
        "outputId": "6ae9f71c-1dc2-48dc-aedb-9a4fbdad4e4f"
      },
      "execution_count": 291,
      "outputs": [
        {
          "output_type": "stream",
          "name": "stdout",
          "text": [
            "Model: \"model_1\"\n",
            "_________________________________________________________________\n",
            " Layer (type)                Output Shape              Param #   \n",
            "=================================================================\n",
            " input_layer (Dense)         (None, 100)               200       \n",
            "                                                                 \n",
            " output_layer (Dense)        (None, 1)                 101       \n",
            "                                                                 \n",
            "=================================================================\n",
            "Total params: 301\n",
            "Trainable params: 301\n",
            "Non-trainable params: 0\n",
            "_________________________________________________________________\n"
          ]
        }
      ]
    },
    {
      "cell_type": "code",
      "source": [
        "model_1.summary()"
      ],
      "metadata": {
        "colab": {
          "base_uri": "https://localhost:8080/"
        },
        "id": "o3jSFt8g_WSy",
        "outputId": "505dc3f8-7708-469d-e291-6235591ad7e1"
      },
      "execution_count": 292,
      "outputs": [
        {
          "output_type": "stream",
          "name": "stdout",
          "text": [
            "Model: \"model_1\"\n",
            "_________________________________________________________________\n",
            " Layer (type)                Output Shape              Param #   \n",
            "=================================================================\n",
            " input_layer (Dense)         (None, 100)               200       \n",
            "                                                                 \n",
            " output_layer (Dense)        (None, 1)                 101       \n",
            "                                                                 \n",
            "=================================================================\n",
            "Total params: 301\n",
            "Trainable params: 301\n",
            "Non-trainable params: 0\n",
            "_________________________________________________________________\n"
          ]
        }
      ]
    },
    {
      "cell_type": "code",
      "source": [
        "tf.squeeze(model_1.predict(X_test)), tf.squeeze(loaded_model.predict(X_test))"
      ],
      "metadata": {
        "colab": {
          "base_uri": "https://localhost:8080/"
        },
        "id": "A0pA0hEW_fLp",
        "outputId": "4453f950-4d53-4965-af82-712c89bea838"
      },
      "execution_count": 293,
      "outputs": [
        {
          "output_type": "stream",
          "name": "stdout",
          "text": [
            "1/1 [==============================] - 0s 25ms/step\n",
            "1/1 [==============================] - 0s 63ms/step\n"
          ]
        },
        {
          "output_type": "execute_result",
          "data": {
            "text/plain": [
              "(<tf.Tensor: shape=(10,), dtype=float32, numpy=\n",
              " array([ 69.99999 ,  74.      ,  78.00001 ,  81.999985,  85.99999 ,\n",
              "         90.      ,  94.00001 ,  97.99999 , 101.99999 , 106.00001 ],\n",
              "       dtype=float32)>, <tf.Tensor: shape=(10,), dtype=float32, numpy=\n",
              " array([ 69.99999 ,  74.      ,  78.00001 ,  81.999985,  85.99999 ,\n",
              "         90.      ,  94.00001 ,  97.99999 , 101.99999 , 106.00001 ],\n",
              "       dtype=float32)>)"
            ]
          },
          "metadata": {},
          "execution_count": 293
        }
      ]
    },
    {
      "cell_type": "code",
      "source": [
        "tf.squeeze(model_1.predict(X_test)) == tf.squeeze(loaded_model.predict(X_test))"
      ],
      "metadata": {
        "colab": {
          "base_uri": "https://localhost:8080/"
        },
        "id": "WnlbKEfk_ox4",
        "outputId": "4011908d-fb32-43a1-f1e9-ffb9f0ea393b"
      },
      "execution_count": 294,
      "outputs": [
        {
          "output_type": "stream",
          "name": "stdout",
          "text": [
            "1/1 [==============================] - 0s 28ms/step\n",
            "1/1 [==============================] - 0s 26ms/step\n"
          ]
        },
        {
          "output_type": "execute_result",
          "data": {
            "text/plain": [
              "<tf.Tensor: shape=(10,), dtype=bool, numpy=\n",
              "array([ True,  True,  True,  True,  True,  True,  True,  True,  True,\n",
              "        True])>"
            ]
          },
          "metadata": {},
          "execution_count": 294
        }
      ]
    },
    {
      "cell_type": "code",
      "source": [
        "# Load a model in HDF5 (.h5) format\n",
        "\n",
        "loaded_h5_model = tf.keras.models.load_model('Simple Neural Regression Model.h5')\n",
        "loaded_h5_model.summary()"
      ],
      "metadata": {
        "colab": {
          "base_uri": "https://localhost:8080/"
        },
        "id": "Gnu4CVJyABFg",
        "outputId": "9d2369ab-54e7-47df-9ed1-541b57a51a9a"
      },
      "execution_count": 295,
      "outputs": [
        {
          "output_type": "stream",
          "name": "stdout",
          "text": [
            "Model: \"model_1\"\n",
            "_________________________________________________________________\n",
            " Layer (type)                Output Shape              Param #   \n",
            "=================================================================\n",
            " input_layer (Dense)         (None, 100)               200       \n",
            "                                                                 \n",
            " output_layer (Dense)        (None, 1)                 101       \n",
            "                                                                 \n",
            "=================================================================\n",
            "Total params: 301\n",
            "Trainable params: 301\n",
            "Non-trainable params: 0\n",
            "_________________________________________________________________\n"
          ]
        }
      ]
    },
    {
      "cell_type": "code",
      "source": [
        "tf.squeeze(model_1.predict(X_test)) == tf.squeeze(loaded_h5_model.predict(X_test))"
      ],
      "metadata": {
        "colab": {
          "base_uri": "https://localhost:8080/"
        },
        "id": "zo0_ugRDAUm3",
        "outputId": "064c1c40-c3eb-4164-aa19-96d5dfeff785"
      },
      "execution_count": 296,
      "outputs": [
        {
          "output_type": "stream",
          "name": "stdout",
          "text": [
            "1/1 [==============================] - 0s 26ms/step\n",
            "1/1 [==============================] - 0s 61ms/step\n"
          ]
        },
        {
          "output_type": "execute_result",
          "data": {
            "text/plain": [
              "<tf.Tensor: shape=(10,), dtype=bool, numpy=\n",
              "array([ True,  True,  True,  True,  True,  True,  True,  True,  True,\n",
              "        True])>"
            ]
          },
          "metadata": {},
          "execution_count": 296
        }
      ]
    },
    {
      "cell_type": "markdown",
      "source": [
        "#### Download Files from Colab"
      ],
      "metadata": {
        "id": "v-2_vFboBlZu"
      }
    },
    {
      "cell_type": "code",
      "source": [
        "from google.colab import files\n",
        "files.download(\"Simple Neural Regression Model.h5\")"
      ],
      "metadata": {
        "colab": {
          "base_uri": "https://localhost:8080/",
          "height": 0
        },
        "id": "TYDfbsexBobi",
        "outputId": "9b63ce35-3006-48fb-d7a7-aef2999d843e"
      },
      "execution_count": 297,
      "outputs": [
        {
          "output_type": "display_data",
          "data": {
            "text/plain": [
              "<IPython.core.display.Javascript object>"
            ],
            "application/javascript": [
              "\n",
              "    async function download(id, filename, size) {\n",
              "      if (!google.colab.kernel.accessAllowed) {\n",
              "        return;\n",
              "      }\n",
              "      const div = document.createElement('div');\n",
              "      const label = document.createElement('label');\n",
              "      label.textContent = `Downloading \"${filename}\": `;\n",
              "      div.appendChild(label);\n",
              "      const progress = document.createElement('progress');\n",
              "      progress.max = size;\n",
              "      div.appendChild(progress);\n",
              "      document.body.appendChild(div);\n",
              "\n",
              "      const buffers = [];\n",
              "      let downloaded = 0;\n",
              "\n",
              "      const channel = await google.colab.kernel.comms.open(id);\n",
              "      // Send a message to notify the kernel that we're ready.\n",
              "      channel.send({})\n",
              "\n",
              "      for await (const message of channel.messages) {\n",
              "        // Send a message to notify the kernel that we're ready.\n",
              "        channel.send({})\n",
              "        if (message.buffers) {\n",
              "          for (const buffer of message.buffers) {\n",
              "            buffers.push(buffer);\n",
              "            downloaded += buffer.byteLength;\n",
              "            progress.value = downloaded;\n",
              "          }\n",
              "        }\n",
              "      }\n",
              "      const blob = new Blob(buffers, {type: 'application/binary'});\n",
              "      const a = document.createElement('a');\n",
              "      a.href = window.URL.createObjectURL(blob);\n",
              "      a.download = filename;\n",
              "      div.appendChild(a);\n",
              "      a.click();\n",
              "      div.remove();\n",
              "    }\n",
              "  "
            ]
          },
          "metadata": {}
        },
        {
          "output_type": "display_data",
          "data": {
            "text/plain": [
              "<IPython.core.display.Javascript object>"
            ],
            "application/javascript": [
              "download(\"download_19c908c3-415a-4fdf-892c-844b345e3b3d\", \"Simple Neural Regression Model.h5\", 28416)"
            ]
          },
          "metadata": {}
        }
      ]
    },
    {
      "cell_type": "code",
      "source": [
        "# Save Colab Files to Google Drive\n",
        "\n",
        "!cp \"Simple Neural Regression Model.h5\" \"drive/MyDrive/Colab Notebooks/Neural Network Regression/Models/\"\n",
        "!ls \"drive/MyDrive/Colab Notebooks/Neural Network Regression/Models/\""
      ],
      "metadata": {
        "colab": {
          "base_uri": "https://localhost:8080/"
        },
        "id": "LktD9I6nB6Gu",
        "outputId": "89064e7e-4168-4da2-a38b-cffceef6659b"
      },
      "execution_count": 298,
      "outputs": [
        {
          "output_type": "stream",
          "name": "stdout",
          "text": [
            "'Simple Neural Regression Model.h5'\n"
          ]
        }
      ]
    },
    {
      "cell_type": "markdown",
      "source": [
        "# First Large Model"
      ],
      "metadata": {
        "id": "PdI_j6lAHLLW"
      }
    },
    {
      "cell_type": "markdown",
      "source": [
        "#### Get the Dataset and One-Hot Encode it"
      ],
      "metadata": {
        "id": "7jZXEzrVIF8L"
      }
    },
    {
      "cell_type": "code",
      "source": [
        "import tensorflow as tf\n",
        "import pandas as pd\n",
        "import matplotlib.pyplot as plt\n",
        "\n",
        "insurance = pd.read_csv(\"https://raw.githubusercontent.com/stedy/Machine-Learning-with-R-datasets/master/insurance.csv\")\n",
        "insurance"
      ],
      "metadata": {
        "colab": {
          "base_uri": "https://localhost:8080/",
          "height": 0
        },
        "id": "0gmFGXMmIKyk",
        "outputId": "3d584dbc-7094-45b5-dbce-ee309da5f154"
      },
      "execution_count": 299,
      "outputs": [
        {
          "output_type": "execute_result",
          "data": {
            "text/plain": [
              "      age     sex     bmi  children smoker     region      charges\n",
              "0      19  female  27.900         0    yes  southwest  16884.92400\n",
              "1      18    male  33.770         1     no  southeast   1725.55230\n",
              "2      28    male  33.000         3     no  southeast   4449.46200\n",
              "3      33    male  22.705         0     no  northwest  21984.47061\n",
              "4      32    male  28.880         0     no  northwest   3866.85520\n",
              "...   ...     ...     ...       ...    ...        ...          ...\n",
              "1333   50    male  30.970         3     no  northwest  10600.54830\n",
              "1334   18  female  31.920         0     no  northeast   2205.98080\n",
              "1335   18  female  36.850         0     no  southeast   1629.83350\n",
              "1336   21  female  25.800         0     no  southwest   2007.94500\n",
              "1337   61  female  29.070         0    yes  northwest  29141.36030\n",
              "\n",
              "[1338 rows x 7 columns]"
            ],
            "text/html": [
              "\n",
              "  <div id=\"df-6f23b998-28e9-4c49-8e05-3b4896959d41\">\n",
              "    <div class=\"colab-df-container\">\n",
              "      <div>\n",
              "<style scoped>\n",
              "    .dataframe tbody tr th:only-of-type {\n",
              "        vertical-align: middle;\n",
              "    }\n",
              "\n",
              "    .dataframe tbody tr th {\n",
              "        vertical-align: top;\n",
              "    }\n",
              "\n",
              "    .dataframe thead th {\n",
              "        text-align: right;\n",
              "    }\n",
              "</style>\n",
              "<table border=\"1\" class=\"dataframe\">\n",
              "  <thead>\n",
              "    <tr style=\"text-align: right;\">\n",
              "      <th></th>\n",
              "      <th>age</th>\n",
              "      <th>sex</th>\n",
              "      <th>bmi</th>\n",
              "      <th>children</th>\n",
              "      <th>smoker</th>\n",
              "      <th>region</th>\n",
              "      <th>charges</th>\n",
              "    </tr>\n",
              "  </thead>\n",
              "  <tbody>\n",
              "    <tr>\n",
              "      <th>0</th>\n",
              "      <td>19</td>\n",
              "      <td>female</td>\n",
              "      <td>27.900</td>\n",
              "      <td>0</td>\n",
              "      <td>yes</td>\n",
              "      <td>southwest</td>\n",
              "      <td>16884.92400</td>\n",
              "    </tr>\n",
              "    <tr>\n",
              "      <th>1</th>\n",
              "      <td>18</td>\n",
              "      <td>male</td>\n",
              "      <td>33.770</td>\n",
              "      <td>1</td>\n",
              "      <td>no</td>\n",
              "      <td>southeast</td>\n",
              "      <td>1725.55230</td>\n",
              "    </tr>\n",
              "    <tr>\n",
              "      <th>2</th>\n",
              "      <td>28</td>\n",
              "      <td>male</td>\n",
              "      <td>33.000</td>\n",
              "      <td>3</td>\n",
              "      <td>no</td>\n",
              "      <td>southeast</td>\n",
              "      <td>4449.46200</td>\n",
              "    </tr>\n",
              "    <tr>\n",
              "      <th>3</th>\n",
              "      <td>33</td>\n",
              "      <td>male</td>\n",
              "      <td>22.705</td>\n",
              "      <td>0</td>\n",
              "      <td>no</td>\n",
              "      <td>northwest</td>\n",
              "      <td>21984.47061</td>\n",
              "    </tr>\n",
              "    <tr>\n",
              "      <th>4</th>\n",
              "      <td>32</td>\n",
              "      <td>male</td>\n",
              "      <td>28.880</td>\n",
              "      <td>0</td>\n",
              "      <td>no</td>\n",
              "      <td>northwest</td>\n",
              "      <td>3866.85520</td>\n",
              "    </tr>\n",
              "    <tr>\n",
              "      <th>...</th>\n",
              "      <td>...</td>\n",
              "      <td>...</td>\n",
              "      <td>...</td>\n",
              "      <td>...</td>\n",
              "      <td>...</td>\n",
              "      <td>...</td>\n",
              "      <td>...</td>\n",
              "    </tr>\n",
              "    <tr>\n",
              "      <th>1333</th>\n",
              "      <td>50</td>\n",
              "      <td>male</td>\n",
              "      <td>30.970</td>\n",
              "      <td>3</td>\n",
              "      <td>no</td>\n",
              "      <td>northwest</td>\n",
              "      <td>10600.54830</td>\n",
              "    </tr>\n",
              "    <tr>\n",
              "      <th>1334</th>\n",
              "      <td>18</td>\n",
              "      <td>female</td>\n",
              "      <td>31.920</td>\n",
              "      <td>0</td>\n",
              "      <td>no</td>\n",
              "      <td>northeast</td>\n",
              "      <td>2205.98080</td>\n",
              "    </tr>\n",
              "    <tr>\n",
              "      <th>1335</th>\n",
              "      <td>18</td>\n",
              "      <td>female</td>\n",
              "      <td>36.850</td>\n",
              "      <td>0</td>\n",
              "      <td>no</td>\n",
              "      <td>southeast</td>\n",
              "      <td>1629.83350</td>\n",
              "    </tr>\n",
              "    <tr>\n",
              "      <th>1336</th>\n",
              "      <td>21</td>\n",
              "      <td>female</td>\n",
              "      <td>25.800</td>\n",
              "      <td>0</td>\n",
              "      <td>no</td>\n",
              "      <td>southwest</td>\n",
              "      <td>2007.94500</td>\n",
              "    </tr>\n",
              "    <tr>\n",
              "      <th>1337</th>\n",
              "      <td>61</td>\n",
              "      <td>female</td>\n",
              "      <td>29.070</td>\n",
              "      <td>0</td>\n",
              "      <td>yes</td>\n",
              "      <td>northwest</td>\n",
              "      <td>29141.36030</td>\n",
              "    </tr>\n",
              "  </tbody>\n",
              "</table>\n",
              "<p>1338 rows × 7 columns</p>\n",
              "</div>\n",
              "      <button class=\"colab-df-convert\" onclick=\"convertToInteractive('df-6f23b998-28e9-4c49-8e05-3b4896959d41')\"\n",
              "              title=\"Convert this dataframe to an interactive table.\"\n",
              "              style=\"display:none;\">\n",
              "        \n",
              "  <svg xmlns=\"http://www.w3.org/2000/svg\" height=\"24px\"viewBox=\"0 0 24 24\"\n",
              "       width=\"24px\">\n",
              "    <path d=\"M0 0h24v24H0V0z\" fill=\"none\"/>\n",
              "    <path d=\"M18.56 5.44l.94 2.06.94-2.06 2.06-.94-2.06-.94-.94-2.06-.94 2.06-2.06.94zm-11 1L8.5 8.5l.94-2.06 2.06-.94-2.06-.94L8.5 2.5l-.94 2.06-2.06.94zm10 10l.94 2.06.94-2.06 2.06-.94-2.06-.94-.94-2.06-.94 2.06-2.06.94z\"/><path d=\"M17.41 7.96l-1.37-1.37c-.4-.4-.92-.59-1.43-.59-.52 0-1.04.2-1.43.59L10.3 9.45l-7.72 7.72c-.78.78-.78 2.05 0 2.83L4 21.41c.39.39.9.59 1.41.59.51 0 1.02-.2 1.41-.59l7.78-7.78 2.81-2.81c.8-.78.8-2.07 0-2.86zM5.41 20L4 18.59l7.72-7.72 1.47 1.35L5.41 20z\"/>\n",
              "  </svg>\n",
              "      </button>\n",
              "      \n",
              "  <style>\n",
              "    .colab-df-container {\n",
              "      display:flex;\n",
              "      flex-wrap:wrap;\n",
              "      gap: 12px;\n",
              "    }\n",
              "\n",
              "    .colab-df-convert {\n",
              "      background-color: #E8F0FE;\n",
              "      border: none;\n",
              "      border-radius: 50%;\n",
              "      cursor: pointer;\n",
              "      display: none;\n",
              "      fill: #1967D2;\n",
              "      height: 32px;\n",
              "      padding: 0 0 0 0;\n",
              "      width: 32px;\n",
              "    }\n",
              "\n",
              "    .colab-df-convert:hover {\n",
              "      background-color: #E2EBFA;\n",
              "      box-shadow: 0px 1px 2px rgba(60, 64, 67, 0.3), 0px 1px 3px 1px rgba(60, 64, 67, 0.15);\n",
              "      fill: #174EA6;\n",
              "    }\n",
              "\n",
              "    [theme=dark] .colab-df-convert {\n",
              "      background-color: #3B4455;\n",
              "      fill: #D2E3FC;\n",
              "    }\n",
              "\n",
              "    [theme=dark] .colab-df-convert:hover {\n",
              "      background-color: #434B5C;\n",
              "      box-shadow: 0px 1px 3px 1px rgba(0, 0, 0, 0.15);\n",
              "      filter: drop-shadow(0px 1px 2px rgba(0, 0, 0, 0.3));\n",
              "      fill: #FFFFFF;\n",
              "    }\n",
              "  </style>\n",
              "\n",
              "      <script>\n",
              "        const buttonEl =\n",
              "          document.querySelector('#df-6f23b998-28e9-4c49-8e05-3b4896959d41 button.colab-df-convert');\n",
              "        buttonEl.style.display =\n",
              "          google.colab.kernel.accessAllowed ? 'block' : 'none';\n",
              "\n",
              "        async function convertToInteractive(key) {\n",
              "          const element = document.querySelector('#df-6f23b998-28e9-4c49-8e05-3b4896959d41');\n",
              "          const dataTable =\n",
              "            await google.colab.kernel.invokeFunction('convertToInteractive',\n",
              "                                                     [key], {});\n",
              "          if (!dataTable) return;\n",
              "\n",
              "          const docLinkHtml = 'Like what you see? Visit the ' +\n",
              "            '<a target=\"_blank\" href=https://colab.research.google.com/notebooks/data_table.ipynb>data table notebook</a>'\n",
              "            + ' to learn more about interactive tables.';\n",
              "          element.innerHTML = '';\n",
              "          dataTable['output_type'] = 'display_data';\n",
              "          await google.colab.output.renderOutput(dataTable, element);\n",
              "          const docLink = document.createElement('div');\n",
              "          docLink.innerHTML = docLinkHtml;\n",
              "          element.appendChild(docLink);\n",
              "        }\n",
              "      </script>\n",
              "    </div>\n",
              "  </div>\n",
              "  "
            ]
          },
          "metadata": {},
          "execution_count": 299
        }
      ]
    },
    {
      "cell_type": "code",
      "source": [
        "insurance_one_hot = pd.get_dummies(insurance)\n",
        "insurance_one_hot.head()"
      ],
      "metadata": {
        "colab": {
          "base_uri": "https://localhost:8080/",
          "height": 0
        },
        "id": "0DWTslttImEm",
        "outputId": "7a606556-ad01-476b-c97b-30cc259740b6"
      },
      "execution_count": 300,
      "outputs": [
        {
          "output_type": "execute_result",
          "data": {
            "text/plain": [
              "   age     bmi  children      charges  sex_female  sex_male  smoker_no  \\\n",
              "0   19  27.900         0  16884.92400           1         0          0   \n",
              "1   18  33.770         1   1725.55230           0         1          1   \n",
              "2   28  33.000         3   4449.46200           0         1          1   \n",
              "3   33  22.705         0  21984.47061           0         1          1   \n",
              "4   32  28.880         0   3866.85520           0         1          1   \n",
              "\n",
              "   smoker_yes  region_northeast  region_northwest  region_southeast  \\\n",
              "0           1                 0                 0                 0   \n",
              "1           0                 0                 0                 1   \n",
              "2           0                 0                 0                 1   \n",
              "3           0                 0                 1                 0   \n",
              "4           0                 0                 1                 0   \n",
              "\n",
              "   region_southwest  \n",
              "0                 1  \n",
              "1                 0  \n",
              "2                 0  \n",
              "3                 0  \n",
              "4                 0  "
            ],
            "text/html": [
              "\n",
              "  <div id=\"df-660f2b21-522e-4025-b75a-42e8d7b04011\">\n",
              "    <div class=\"colab-df-container\">\n",
              "      <div>\n",
              "<style scoped>\n",
              "    .dataframe tbody tr th:only-of-type {\n",
              "        vertical-align: middle;\n",
              "    }\n",
              "\n",
              "    .dataframe tbody tr th {\n",
              "        vertical-align: top;\n",
              "    }\n",
              "\n",
              "    .dataframe thead th {\n",
              "        text-align: right;\n",
              "    }\n",
              "</style>\n",
              "<table border=\"1\" class=\"dataframe\">\n",
              "  <thead>\n",
              "    <tr style=\"text-align: right;\">\n",
              "      <th></th>\n",
              "      <th>age</th>\n",
              "      <th>bmi</th>\n",
              "      <th>children</th>\n",
              "      <th>charges</th>\n",
              "      <th>sex_female</th>\n",
              "      <th>sex_male</th>\n",
              "      <th>smoker_no</th>\n",
              "      <th>smoker_yes</th>\n",
              "      <th>region_northeast</th>\n",
              "      <th>region_northwest</th>\n",
              "      <th>region_southeast</th>\n",
              "      <th>region_southwest</th>\n",
              "    </tr>\n",
              "  </thead>\n",
              "  <tbody>\n",
              "    <tr>\n",
              "      <th>0</th>\n",
              "      <td>19</td>\n",
              "      <td>27.900</td>\n",
              "      <td>0</td>\n",
              "      <td>16884.92400</td>\n",
              "      <td>1</td>\n",
              "      <td>0</td>\n",
              "      <td>0</td>\n",
              "      <td>1</td>\n",
              "      <td>0</td>\n",
              "      <td>0</td>\n",
              "      <td>0</td>\n",
              "      <td>1</td>\n",
              "    </tr>\n",
              "    <tr>\n",
              "      <th>1</th>\n",
              "      <td>18</td>\n",
              "      <td>33.770</td>\n",
              "      <td>1</td>\n",
              "      <td>1725.55230</td>\n",
              "      <td>0</td>\n",
              "      <td>1</td>\n",
              "      <td>1</td>\n",
              "      <td>0</td>\n",
              "      <td>0</td>\n",
              "      <td>0</td>\n",
              "      <td>1</td>\n",
              "      <td>0</td>\n",
              "    </tr>\n",
              "    <tr>\n",
              "      <th>2</th>\n",
              "      <td>28</td>\n",
              "      <td>33.000</td>\n",
              "      <td>3</td>\n",
              "      <td>4449.46200</td>\n",
              "      <td>0</td>\n",
              "      <td>1</td>\n",
              "      <td>1</td>\n",
              "      <td>0</td>\n",
              "      <td>0</td>\n",
              "      <td>0</td>\n",
              "      <td>1</td>\n",
              "      <td>0</td>\n",
              "    </tr>\n",
              "    <tr>\n",
              "      <th>3</th>\n",
              "      <td>33</td>\n",
              "      <td>22.705</td>\n",
              "      <td>0</td>\n",
              "      <td>21984.47061</td>\n",
              "      <td>0</td>\n",
              "      <td>1</td>\n",
              "      <td>1</td>\n",
              "      <td>0</td>\n",
              "      <td>0</td>\n",
              "      <td>1</td>\n",
              "      <td>0</td>\n",
              "      <td>0</td>\n",
              "    </tr>\n",
              "    <tr>\n",
              "      <th>4</th>\n",
              "      <td>32</td>\n",
              "      <td>28.880</td>\n",
              "      <td>0</td>\n",
              "      <td>3866.85520</td>\n",
              "      <td>0</td>\n",
              "      <td>1</td>\n",
              "      <td>1</td>\n",
              "      <td>0</td>\n",
              "      <td>0</td>\n",
              "      <td>1</td>\n",
              "      <td>0</td>\n",
              "      <td>0</td>\n",
              "    </tr>\n",
              "  </tbody>\n",
              "</table>\n",
              "</div>\n",
              "      <button class=\"colab-df-convert\" onclick=\"convertToInteractive('df-660f2b21-522e-4025-b75a-42e8d7b04011')\"\n",
              "              title=\"Convert this dataframe to an interactive table.\"\n",
              "              style=\"display:none;\">\n",
              "        \n",
              "  <svg xmlns=\"http://www.w3.org/2000/svg\" height=\"24px\"viewBox=\"0 0 24 24\"\n",
              "       width=\"24px\">\n",
              "    <path d=\"M0 0h24v24H0V0z\" fill=\"none\"/>\n",
              "    <path d=\"M18.56 5.44l.94 2.06.94-2.06 2.06-.94-2.06-.94-.94-2.06-.94 2.06-2.06.94zm-11 1L8.5 8.5l.94-2.06 2.06-.94-2.06-.94L8.5 2.5l-.94 2.06-2.06.94zm10 10l.94 2.06.94-2.06 2.06-.94-2.06-.94-.94-2.06-.94 2.06-2.06.94z\"/><path d=\"M17.41 7.96l-1.37-1.37c-.4-.4-.92-.59-1.43-.59-.52 0-1.04.2-1.43.59L10.3 9.45l-7.72 7.72c-.78.78-.78 2.05 0 2.83L4 21.41c.39.39.9.59 1.41.59.51 0 1.02-.2 1.41-.59l7.78-7.78 2.81-2.81c.8-.78.8-2.07 0-2.86zM5.41 20L4 18.59l7.72-7.72 1.47 1.35L5.41 20z\"/>\n",
              "  </svg>\n",
              "      </button>\n",
              "      \n",
              "  <style>\n",
              "    .colab-df-container {\n",
              "      display:flex;\n",
              "      flex-wrap:wrap;\n",
              "      gap: 12px;\n",
              "    }\n",
              "\n",
              "    .colab-df-convert {\n",
              "      background-color: #E8F0FE;\n",
              "      border: none;\n",
              "      border-radius: 50%;\n",
              "      cursor: pointer;\n",
              "      display: none;\n",
              "      fill: #1967D2;\n",
              "      height: 32px;\n",
              "      padding: 0 0 0 0;\n",
              "      width: 32px;\n",
              "    }\n",
              "\n",
              "    .colab-df-convert:hover {\n",
              "      background-color: #E2EBFA;\n",
              "      box-shadow: 0px 1px 2px rgba(60, 64, 67, 0.3), 0px 1px 3px 1px rgba(60, 64, 67, 0.15);\n",
              "      fill: #174EA6;\n",
              "    }\n",
              "\n",
              "    [theme=dark] .colab-df-convert {\n",
              "      background-color: #3B4455;\n",
              "      fill: #D2E3FC;\n",
              "    }\n",
              "\n",
              "    [theme=dark] .colab-df-convert:hover {\n",
              "      background-color: #434B5C;\n",
              "      box-shadow: 0px 1px 3px 1px rgba(0, 0, 0, 0.15);\n",
              "      filter: drop-shadow(0px 1px 2px rgba(0, 0, 0, 0.3));\n",
              "      fill: #FFFFFF;\n",
              "    }\n",
              "  </style>\n",
              "\n",
              "      <script>\n",
              "        const buttonEl =\n",
              "          document.querySelector('#df-660f2b21-522e-4025-b75a-42e8d7b04011 button.colab-df-convert');\n",
              "        buttonEl.style.display =\n",
              "          google.colab.kernel.accessAllowed ? 'block' : 'none';\n",
              "\n",
              "        async function convertToInteractive(key) {\n",
              "          const element = document.querySelector('#df-660f2b21-522e-4025-b75a-42e8d7b04011');\n",
              "          const dataTable =\n",
              "            await google.colab.kernel.invokeFunction('convertToInteractive',\n",
              "                                                     [key], {});\n",
              "          if (!dataTable) return;\n",
              "\n",
              "          const docLinkHtml = 'Like what you see? Visit the ' +\n",
              "            '<a target=\"_blank\" href=https://colab.research.google.com/notebooks/data_table.ipynb>data table notebook</a>'\n",
              "            + ' to learn more about interactive tables.';\n",
              "          element.innerHTML = '';\n",
              "          dataTable['output_type'] = 'display_data';\n",
              "          await google.colab.output.renderOutput(dataTable, element);\n",
              "          const docLink = document.createElement('div');\n",
              "          docLink.innerHTML = docLinkHtml;\n",
              "          element.appendChild(docLink);\n",
              "        }\n",
              "      </script>\n",
              "    </div>\n",
              "  </div>\n",
              "  "
            ]
          },
          "metadata": {},
          "execution_count": 300
        }
      ]
    },
    {
      "cell_type": "markdown",
      "source": [
        "#### Split the Data into Rraining & Test Datasets"
      ],
      "metadata": {
        "id": "qhu4hNHBJLbI"
      }
    },
    {
      "cell_type": "code",
      "source": [
        "from sklearn.model_selection import train_test_split\n",
        "\n",
        "X = insurance_one_hot.drop('charges', axis = 1)\n",
        "y = insurance_one_hot['charges']\n",
        "\n",
        "X_train, X_test, y_train, y_test = train_test_split(X, y, test_size = 0.2, random_state = 4)\n",
        "len(X_train)"
      ],
      "metadata": {
        "colab": {
          "base_uri": "https://localhost:8080/"
        },
        "id": "CLqVSKWrJVDr",
        "outputId": "0a3d6f0e-b2e5-4569-ea67-3e9045673e1f"
      },
      "execution_count": 301,
      "outputs": [
        {
          "output_type": "execute_result",
          "data": {
            "text/plain": [
              "1070"
            ]
          },
          "metadata": {},
          "execution_count": 301
        }
      ]
    },
    {
      "cell_type": "markdown",
      "source": [
        "#### Build a neural network"
      ],
      "metadata": {
        "id": "dAs8X4ekK4Cy"
      }
    },
    {
      "cell_type": "code",
      "source": [
        "tf.random.set_seed(4)\n",
        "\n",
        "# Create a model\n",
        "insurance_model = tf.keras.Sequential([\n",
        "    tf.keras.layers.Dense(10, name = 'input_layer'),\n",
        "    tf.keras.layers.Dense(1, name = \"output_layer\")\n",
        "], name = 'insurance_model')\n",
        "\n",
        "# Compile the model\n",
        "insurance_model.compile(loss = 'mae',\n",
        "              optimizer = 'sgd',\n",
        "              metrics = ['mae'])\n",
        "\n",
        "# Build the model\n",
        "insurance_model.build(input_shape = (1070,11))\n",
        "\n",
        "# Print the Summary of the model\n",
        "insurance_model.summary()"
      ],
      "metadata": {
        "colab": {
          "base_uri": "https://localhost:8080/"
        },
        "id": "32E2KP7vMYHH",
        "outputId": "393b129d-3395-4ccc-b9c8-35f6e0f2e03f"
      },
      "execution_count": 302,
      "outputs": [
        {
          "output_type": "stream",
          "name": "stdout",
          "text": [
            "Model: \"insurance_model\"\n",
            "_________________________________________________________________\n",
            " Layer (type)                Output Shape              Param #   \n",
            "=================================================================\n",
            " input_layer (Dense)         (1070, 10)                120       \n",
            "                                                                 \n",
            " output_layer (Dense)        (1070, 1)                 11        \n",
            "                                                                 \n",
            "=================================================================\n",
            "Total params: 131\n",
            "Trainable params: 131\n",
            "Non-trainable params: 0\n",
            "_________________________________________________________________\n"
          ]
        }
      ]
    },
    {
      "cell_type": "code",
      "source": [
        "# Visualize the model\n",
        "\n",
        "tf.keras.utils.plot_model(insurance_model, show_shapes = True, show_dtype = True)"
      ],
      "metadata": {
        "colab": {
          "base_uri": "https://localhost:8080/",
          "height": 0
        },
        "id": "sZfy0fI8NEhP",
        "outputId": "a925e982-dcc2-44b8-fb7b-1b13b660f58c"
      },
      "execution_count": 303,
      "outputs": [
        {
          "output_type": "execute_result",
          "data": {
            "image/png": "[encoded data removed]",
            "text/plain": [
              "<IPython.core.display.Image object>"
            ]
          },
          "metadata": {},
          "execution_count": 303
        }
      ]
    },
    {
      "cell_type": "code",
      "source": [
        "# Fit the model\n",
        "insurance_model.fit(X_train, y_train, epochs = 100, verbose = 0)"
      ],
      "metadata": {
        "colab": {
          "base_uri": "https://localhost:8080/"
        },
        "id": "5lfC3-KuN_Pt",
        "outputId": "3f29971d-deda-45a9-d889-71d61350aa67"
      },
      "execution_count": 304,
      "outputs": [
        {
          "output_type": "execute_result",
          "data": {
            "text/plain": [
              "<keras.callbacks.History at 0x7f6e88e4fb80>"
            ]
          },
          "metadata": {},
          "execution_count": 304
        }
      ]
    },
    {
      "cell_type": "code",
      "source": [
        "insurance_model.predict(X_test)[:5]"
      ],
      "metadata": {
        "colab": {
          "base_uri": "https://localhost:8080/"
        },
        "id": "vI1kU05rOiSp",
        "outputId": "e24e0d20-3b07-4bcc-e6a8-b25f7468983f"
      },
      "execution_count": 305,
      "outputs": [
        {
          "output_type": "stream",
          "name": "stdout",
          "text": [
            "9/9 [==============================] - 0s 2ms/step\n"
          ]
        },
        {
          "output_type": "execute_result",
          "data": {
            "text/plain": [
              "array([[13284.709],\n",
              "       [18644.168],\n",
              "       [ 9077.218],\n",
              "       [12364.906],\n",
              "       [13489.038]], dtype=float32)"
            ]
          },
          "metadata": {},
          "execution_count": 305
        }
      ]
    },
    {
      "cell_type": "code",
      "source": [
        "y_test[:5]"
      ],
      "metadata": {
        "colab": {
          "base_uri": "https://localhost:8080/"
        },
        "id": "LJJg-ZrlO0LI",
        "outputId": "2a2a9440-2443-4f3a-9d28-04d8d3ab65b9"
      },
      "execution_count": 306,
      "outputs": [
        {
          "output_type": "execute_result",
          "data": {
            "text/plain": [
              "726     6664.68595\n",
              "260    11837.16000\n",
              "902     4661.28635\n",
              "566     6373.55735\n",
              "776     6986.69700\n",
              "Name: charges, dtype: float64"
            ]
          },
          "metadata": {},
          "execution_count": 306
        }
      ]
    },
    {
      "cell_type": "code",
      "source": [
        "insurance_model.evaluate(X_test, y_test)"
      ],
      "metadata": {
        "colab": {
          "base_uri": "https://localhost:8080/"
        },
        "id": "LIxTlGFbO8Z9",
        "outputId": "9f99d389-7f58-4d38-c8b9-134ed44f214f"
      },
      "execution_count": 307,
      "outputs": [
        {
          "output_type": "stream",
          "name": "stdout",
          "text": [
            "9/9 [==============================] - 0s 3ms/step - loss: 7501.3091 - mae: 7501.3091\n"
          ]
        },
        {
          "output_type": "execute_result",
          "data": {
            "text/plain": [
              "[7501.30908203125, 7501.30908203125]"
            ]
          },
          "metadata": {},
          "execution_count": 307
        }
      ]
    },
    {
      "cell_type": "markdown",
      "source": [
        "#### Improve the Model"
      ],
      "metadata": {
        "id": "69yVckQPPa7n"
      }
    },
    {
      "cell_type": "code",
      "source": [
        "tf.random.set_seed(4)\n",
        "\n",
        "# Create a model\n",
        "insurance_model_2 = tf.keras.Sequential([\n",
        "    tf.keras.layers.Dense(100, name = 'input_layer'),\n",
        "    tf.keras.layers.Dense(10),\n",
        "    tf.keras.layers.Dense(1, name = \"output_layer\")\n",
        "], name = 'insurance_model_2')\n",
        "\n",
        "# Compile the model\n",
        "insurance_model_2.compile(loss = 'mae',\n",
        "              optimizer = tf.keras.optimizers.Adam(),\n",
        "              metrics = ['mae'])\n",
        "\n",
        "# Build the model\n",
        "insurance_model_2.build(input_shape = (1070,11))\n",
        "\n",
        "# Print the Summary of the model\n",
        "insurance_model_2.summary()"
      ],
      "metadata": {
        "colab": {
          "base_uri": "https://localhost:8080/"
        },
        "id": "gifRBigZRldl",
        "outputId": "95d71024-db45-492b-b831-3a5e81bb1216"
      },
      "execution_count": 308,
      "outputs": [
        {
          "output_type": "stream",
          "name": "stdout",
          "text": [
            "Model: \"insurance_model_2\"\n",
            "_________________________________________________________________\n",
            " Layer (type)                Output Shape              Param #   \n",
            "=================================================================\n",
            " input_layer (Dense)         (1070, 100)               1200      \n",
            "                                                                 \n",
            " dense_105 (Dense)           (1070, 10)                1010      \n",
            "                                                                 \n",
            " output_layer (Dense)        (1070, 1)                 11        \n",
            "                                                                 \n",
            "=================================================================\n",
            "Total params: 2,221\n",
            "Trainable params: 2,221\n",
            "Non-trainable params: 0\n",
            "_________________________________________________________________\n"
          ]
        }
      ]
    },
    {
      "cell_type": "code",
      "source": [
        "# Fit the model\n",
        "insurance_model_2.fit(X_train, y_train, epochs = 100, verbose = 0)"
      ],
      "metadata": {
        "colab": {
          "base_uri": "https://localhost:8080/"
        },
        "id": "oBHdDnckR8c7",
        "outputId": "138b98cc-4a25-45f2-d613-9f9238652b9b"
      },
      "execution_count": 309,
      "outputs": [
        {
          "output_type": "execute_result",
          "data": {
            "text/plain": [
              "<keras.callbacks.History at 0x7f6e8607d7f0>"
            ]
          },
          "metadata": {},
          "execution_count": 309
        }
      ]
    },
    {
      "cell_type": "code",
      "source": [
        "insurance_model_2.evaluate(X_test, y_test)"
      ],
      "metadata": {
        "colab": {
          "base_uri": "https://localhost:8080/"
        },
        "id": "AW0aDj1oSxOy",
        "outputId": "686edd3c-4ca6-4313-c2d5-1f79979b4a03"
      },
      "execution_count": 310,
      "outputs": [
        {
          "output_type": "stream",
          "name": "stdout",
          "text": [
            "9/9 [==============================] - 0s 4ms/step - loss: 4561.9707 - mae: 4561.9707\n"
          ]
        },
        {
          "output_type": "execute_result",
          "data": {
            "text/plain": [
              "[4561.970703125, 4561.970703125]"
            ]
          },
          "metadata": {},
          "execution_count": 310
        }
      ]
    },
    {
      "cell_type": "code",
      "source": [
        "tf.random.set_seed(4)\n",
        "\n",
        "# Create a model\n",
        "insurance_model_3 = tf.keras.Sequential([\n",
        "    tf.keras.layers.Dense(100, name = 'input_layer'),\n",
        "    tf.keras.layers.Dense(10),\n",
        "    tf.keras.layers.Dense(1, name = \"output_layer\")\n",
        "], name = 'insurance_model_3')\n",
        "\n",
        "# Compile the model\n",
        "insurance_model_3.compile(loss = 'mae',\n",
        "              optimizer = tf.keras.optimizers.Adam(),\n",
        "              metrics = ['mae'])\n",
        "\n",
        "# Build the model\n",
        "insurance_model_3.build(input_shape = (1070,11))\n",
        "\n",
        "# Print the Summary of the model\n",
        "insurance_model_3.summary()"
      ],
      "metadata": {
        "colab": {
          "base_uri": "https://localhost:8080/"
        },
        "id": "LesQjigcTN4X",
        "outputId": "7175b122-0950-4201-a95e-b057c270651b"
      },
      "execution_count": 311,
      "outputs": [
        {
          "output_type": "stream",
          "name": "stdout",
          "text": [
            "Model: \"insurance_model_3\"\n",
            "_________________________________________________________________\n",
            " Layer (type)                Output Shape              Param #   \n",
            "=================================================================\n",
            " input_layer (Dense)         (1070, 100)               1200      \n",
            "                                                                 \n",
            " dense_106 (Dense)           (1070, 10)                1010      \n",
            "                                                                 \n",
            " output_layer (Dense)        (1070, 1)                 11        \n",
            "                                                                 \n",
            "=================================================================\n",
            "Total params: 2,221\n",
            "Trainable params: 2,221\n",
            "Non-trainable params: 0\n",
            "_________________________________________________________________\n"
          ]
        }
      ]
    },
    {
      "cell_type": "code",
      "source": [
        "# Fit the model and save in history which can later be plotted\n",
        "history = insurance_model_3.fit(X_train, y_train, epochs = 200, verbose = 0)"
      ],
      "metadata": {
        "id": "8FYEyomOTeOr"
      },
      "execution_count": 312,
      "outputs": []
    },
    {
      "cell_type": "code",
      "source": [
        "insurance_model_3.evaluate(X_test, y_test)"
      ],
      "metadata": {
        "colab": {
          "base_uri": "https://localhost:8080/"
        },
        "id": "JTq7NBR1Tg5m",
        "outputId": "b20238f2-8256-4e85-f8d5-a64365f7944b"
      },
      "execution_count": 313,
      "outputs": [
        {
          "output_type": "stream",
          "name": "stdout",
          "text": [
            "9/9 [==============================] - 0s 3ms/step - loss: 3815.1538 - mae: 3815.1538\n"
          ]
        },
        {
          "output_type": "execute_result",
          "data": {
            "text/plain": [
              "[3815.15380859375, 3815.15380859375]"
            ]
          },
          "metadata": {},
          "execution_count": 313
        }
      ]
    },
    {
      "cell_type": "code",
      "source": [
        "# Plot history which is also known as loss curve or training curve\n",
        "\n",
        "pd.DataFrame(history.history).plot()\n",
        "plt.xlabel('epochs')\n",
        "plt.ylabel('loss')"
      ],
      "metadata": {
        "colab": {
          "base_uri": "https://localhost:8080/",
          "height": 0
        },
        "id": "VQIB9o5wTsBV",
        "outputId": "5bbc51fa-a73d-4fd5-a3f8-7fbbb3034e2d"
      },
      "execution_count": 314,
      "outputs": [
        {
          "output_type": "execute_result",
          "data": {
            "text/plain": [
              "Text(0, 0.5, 'loss')"
            ]
          },
          "metadata": {},
          "execution_count": 314
        },
        {
          "output_type": "display_data",
          "data": {
            "text/plain": [
              "<Figure size 432x288 with 1 Axes>"
            ],
            "image/png": "[encoded data removed]"
          },
          "metadata": {
            "needs_background": "light"
          }
        }
      ]
    },
    {
      "cell_type": "markdown",
      "source": [
        "#### Pre-processing Data (Normalization & Standardization)\n",
        "\n",
        "In terms of scaling values, neural networks tend to prefer normalization."
      ],
      "metadata": {
        "id": "c4REVgE4VUgG"
      }
    },
    {
      "cell_type": "code",
      "source": [
        "# Import all libraries\n",
        "\n",
        "import pandas as pd\n",
        "import matplotlib.pyplot as plt\n",
        "import tensorflow as tf"
      ],
      "metadata": {
        "id": "VahJf4lXfUi-"
      },
      "execution_count": 315,
      "outputs": []
    },
    {
      "cell_type": "code",
      "source": [
        "# Get the data\n",
        "\n",
        "insurance = pd.read_csv(\"https://raw.githubusercontent.com/stedy/Machine-Learning-with-R-datasets/master/insurance.csv\")"
      ],
      "metadata": {
        "id": "Gz8SdnVgfcA1"
      },
      "execution_count": 316,
      "outputs": []
    },
    {
      "cell_type": "code",
      "source": [
        "insurance"
      ],
      "metadata": {
        "id": "wPv8_H2TW5of",
        "colab": {
          "base_uri": "https://localhost:8080/",
          "height": 423
        },
        "outputId": "2b48c87a-020e-44bd-f8ff-c4ddb3c53bca"
      },
      "execution_count": 317,
      "outputs": [
        {
          "output_type": "execute_result",
          "data": {
            "text/plain": [
              "      age     sex     bmi  children smoker     region      charges\n",
              "0      19  female  27.900         0    yes  southwest  16884.92400\n",
              "1      18    male  33.770         1     no  southeast   1725.55230\n",
              "2      28    male  33.000         3     no  southeast   4449.46200\n",
              "3      33    male  22.705         0     no  northwest  21984.47061\n",
              "4      32    male  28.880         0     no  northwest   3866.85520\n",
              "...   ...     ...     ...       ...    ...        ...          ...\n",
              "1333   50    male  30.970         3     no  northwest  10600.54830\n",
              "1334   18  female  31.920         0     no  northeast   2205.98080\n",
              "1335   18  female  36.850         0     no  southeast   1629.83350\n",
              "1336   21  female  25.800         0     no  southwest   2007.94500\n",
              "1337   61  female  29.070         0    yes  northwest  29141.36030\n",
              "\n",
              "[1338 rows x 7 columns]"
            ],
            "text/html": [
              "\n",
              "  <div id=\"df-963ef935-8a83-424c-8404-93da507426be\">\n",
              "    <div class=\"colab-df-container\">\n",
              "      <div>\n",
              "<style scoped>\n",
              "    .dataframe tbody tr th:only-of-type {\n",
              "        vertical-align: middle;\n",
              "    }\n",
              "\n",
              "    .dataframe tbody tr th {\n",
              "        vertical-align: top;\n",
              "    }\n",
              "\n",
              "    .dataframe thead th {\n",
              "        text-align: right;\n",
              "    }\n",
              "</style>\n",
              "<table border=\"1\" class=\"dataframe\">\n",
              "  <thead>\n",
              "    <tr style=\"text-align: right;\">\n",
              "      <th></th>\n",
              "      <th>age</th>\n",
              "      <th>sex</th>\n",
              "      <th>bmi</th>\n",
              "      <th>children</th>\n",
              "      <th>smoker</th>\n",
              "      <th>region</th>\n",
              "      <th>charges</th>\n",
              "    </tr>\n",
              "  </thead>\n",
              "  <tbody>\n",
              "    <tr>\n",
              "      <th>0</th>\n",
              "      <td>19</td>\n",
              "      <td>female</td>\n",
              "      <td>27.900</td>\n",
              "      <td>0</td>\n",
              "      <td>yes</td>\n",
              "      <td>southwest</td>\n",
              "      <td>16884.92400</td>\n",
              "    </tr>\n",
              "    <tr>\n",
              "      <th>1</th>\n",
              "      <td>18</td>\n",
              "      <td>male</td>\n",
              "      <td>33.770</td>\n",
              "      <td>1</td>\n",
              "      <td>no</td>\n",
              "      <td>southeast</td>\n",
              "      <td>1725.55230</td>\n",
              "    </tr>\n",
              "    <tr>\n",
              "      <th>2</th>\n",
              "      <td>28</td>\n",
              "      <td>male</td>\n",
              "      <td>33.000</td>\n",
              "      <td>3</td>\n",
              "      <td>no</td>\n",
              "      <td>southeast</td>\n",
              "      <td>4449.46200</td>\n",
              "    </tr>\n",
              "    <tr>\n",
              "      <th>3</th>\n",
              "      <td>33</td>\n",
              "      <td>male</td>\n",
              "      <td>22.705</td>\n",
              "      <td>0</td>\n",
              "      <td>no</td>\n",
              "      <td>northwest</td>\n",
              "      <td>21984.47061</td>\n",
              "    </tr>\n",
              "    <tr>\n",
              "      <th>4</th>\n",
              "      <td>32</td>\n",
              "      <td>male</td>\n",
              "      <td>28.880</td>\n",
              "      <td>0</td>\n",
              "      <td>no</td>\n",
              "      <td>northwest</td>\n",
              "      <td>3866.85520</td>\n",
              "    </tr>\n",
              "    <tr>\n",
              "      <th>...</th>\n",
              "      <td>...</td>\n",
              "      <td>...</td>\n",
              "      <td>...</td>\n",
              "      <td>...</td>\n",
              "      <td>...</td>\n",
              "      <td>...</td>\n",
              "      <td>...</td>\n",
              "    </tr>\n",
              "    <tr>\n",
              "      <th>1333</th>\n",
              "      <td>50</td>\n",
              "      <td>male</td>\n",
              "      <td>30.970</td>\n",
              "      <td>3</td>\n",
              "      <td>no</td>\n",
              "      <td>northwest</td>\n",
              "      <td>10600.54830</td>\n",
              "    </tr>\n",
              "    <tr>\n",
              "      <th>1334</th>\n",
              "      <td>18</td>\n",
              "      <td>female</td>\n",
              "      <td>31.920</td>\n",
              "      <td>0</td>\n",
              "      <td>no</td>\n",
              "      <td>northeast</td>\n",
              "      <td>2205.98080</td>\n",
              "    </tr>\n",
              "    <tr>\n",
              "      <th>1335</th>\n",
              "      <td>18</td>\n",
              "      <td>female</td>\n",
              "      <td>36.850</td>\n",
              "      <td>0</td>\n",
              "      <td>no</td>\n",
              "      <td>southeast</td>\n",
              "      <td>1629.83350</td>\n",
              "    </tr>\n",
              "    <tr>\n",
              "      <th>1336</th>\n",
              "      <td>21</td>\n",
              "      <td>female</td>\n",
              "      <td>25.800</td>\n",
              "      <td>0</td>\n",
              "      <td>no</td>\n",
              "      <td>southwest</td>\n",
              "      <td>2007.94500</td>\n",
              "    </tr>\n",
              "    <tr>\n",
              "      <th>1337</th>\n",
              "      <td>61</td>\n",
              "      <td>female</td>\n",
              "      <td>29.070</td>\n",
              "      <td>0</td>\n",
              "      <td>yes</td>\n",
              "      <td>northwest</td>\n",
              "      <td>29141.36030</td>\n",
              "    </tr>\n",
              "  </tbody>\n",
              "</table>\n",
              "<p>1338 rows × 7 columns</p>\n",
              "</div>\n",
              "      <button class=\"colab-df-convert\" onclick=\"convertToInteractive('df-963ef935-8a83-424c-8404-93da507426be')\"\n",
              "              title=\"Convert this dataframe to an interactive table.\"\n",
              "              style=\"display:none;\">\n",
              "        \n",
              "  <svg xmlns=\"http://www.w3.org/2000/svg\" height=\"24px\"viewBox=\"0 0 24 24\"\n",
              "       width=\"24px\">\n",
              "    <path d=\"M0 0h24v24H0V0z\" fill=\"none\"/>\n",
              "    <path d=\"M18.56 5.44l.94 2.06.94-2.06 2.06-.94-2.06-.94-.94-2.06-.94 2.06-2.06.94zm-11 1L8.5 8.5l.94-2.06 2.06-.94-2.06-.94L8.5 2.5l-.94 2.06-2.06.94zm10 10l.94 2.06.94-2.06 2.06-.94-2.06-.94-.94-2.06-.94 2.06-2.06.94z\"/><path d=\"M17.41 7.96l-1.37-1.37c-.4-.4-.92-.59-1.43-.59-.52 0-1.04.2-1.43.59L10.3 9.45l-7.72 7.72c-.78.78-.78 2.05 0 2.83L4 21.41c.39.39.9.59 1.41.59.51 0 1.02-.2 1.41-.59l7.78-7.78 2.81-2.81c.8-.78.8-2.07 0-2.86zM5.41 20L4 18.59l7.72-7.72 1.47 1.35L5.41 20z\"/>\n",
              "  </svg>\n",
              "      </button>\n",
              "      \n",
              "  <style>\n",
              "    .colab-df-container {\n",
              "      display:flex;\n",
              "      flex-wrap:wrap;\n",
              "      gap: 12px;\n",
              "    }\n",
              "\n",
              "    .colab-df-convert {\n",
              "      background-color: #E8F0FE;\n",
              "      border: none;\n",
              "      border-radius: 50%;\n",
              "      cursor: pointer;\n",
              "      display: none;\n",
              "      fill: #1967D2;\n",
              "      height: 32px;\n",
              "      padding: 0 0 0 0;\n",
              "      width: 32px;\n",
              "    }\n",
              "\n",
              "    .colab-df-convert:hover {\n",
              "      background-color: #E2EBFA;\n",
              "      box-shadow: 0px 1px 2px rgba(60, 64, 67, 0.3), 0px 1px 3px 1px rgba(60, 64, 67, 0.15);\n",
              "      fill: #174EA6;\n",
              "    }\n",
              "\n",
              "    [theme=dark] .colab-df-convert {\n",
              "      background-color: #3B4455;\n",
              "      fill: #D2E3FC;\n",
              "    }\n",
              "\n",
              "    [theme=dark] .colab-df-convert:hover {\n",
              "      background-color: #434B5C;\n",
              "      box-shadow: 0px 1px 3px 1px rgba(0, 0, 0, 0.15);\n",
              "      filter: drop-shadow(0px 1px 2px rgba(0, 0, 0, 0.3));\n",
              "      fill: #FFFFFF;\n",
              "    }\n",
              "  </style>\n",
              "\n",
              "      <script>\n",
              "        const buttonEl =\n",
              "          document.querySelector('#df-963ef935-8a83-424c-8404-93da507426be button.colab-df-convert');\n",
              "        buttonEl.style.display =\n",
              "          google.colab.kernel.accessAllowed ? 'block' : 'none';\n",
              "\n",
              "        async function convertToInteractive(key) {\n",
              "          const element = document.querySelector('#df-963ef935-8a83-424c-8404-93da507426be');\n",
              "          const dataTable =\n",
              "            await google.colab.kernel.invokeFunction('convertToInteractive',\n",
              "                                                     [key], {});\n",
              "          if (!dataTable) return;\n",
              "\n",
              "          const docLinkHtml = 'Like what you see? Visit the ' +\n",
              "            '<a target=\"_blank\" href=https://colab.research.google.com/notebooks/data_table.ipynb>data table notebook</a>'\n",
              "            + ' to learn more about interactive tables.';\n",
              "          element.innerHTML = '';\n",
              "          dataTable['output_type'] = 'display_data';\n",
              "          await google.colab.output.renderOutput(dataTable, element);\n",
              "          const docLink = document.createElement('div');\n",
              "          docLink.innerHTML = docLinkHtml;\n",
              "          element.appendChild(docLink);\n",
              "        }\n",
              "      </script>\n",
              "    </div>\n",
              "  </div>\n",
              "  "
            ]
          },
          "metadata": {},
          "execution_count": 317
        }
      ]
    },
    {
      "cell_type": "code",
      "source": [
        "insurance['bmi'].plot(kind = 'hist')"
      ],
      "metadata": {
        "colab": {
          "base_uri": "https://localhost:8080/",
          "height": 282
        },
        "id": "hUX_JRhBefaK",
        "outputId": "143a4c02-6da4-498c-e7b4-5b66897990e4"
      },
      "execution_count": 318,
      "outputs": [
        {
          "output_type": "execute_result",
          "data": {
            "text/plain": [
              "<matplotlib.axes._subplots.AxesSubplot at 0x7f6e85cc92e0>"
            ]
          },
          "metadata": {},
          "execution_count": 318
        },
        {
          "output_type": "display_data",
          "data": {
            "text/plain": [
              "<Figure size 432x288 with 1 Axes>"
            ],
            "image/png": "[encoded data removed]"
          },
          "metadata": {
            "needs_background": "light"
          }
        }
      ]
    },
    {
      "cell_type": "code",
      "source": [
        "insurance['age'].plot(kind = 'hist')"
      ],
      "metadata": {
        "colab": {
          "base_uri": "https://localhost:8080/",
          "height": 282
        },
        "id": "Ro2xBMZ6eiOS",
        "outputId": "94a476f3-4736-45f8-b976-d364c76e5cc3"
      },
      "execution_count": 319,
      "outputs": [
        {
          "output_type": "execute_result",
          "data": {
            "text/plain": [
              "<matplotlib.axes._subplots.AxesSubplot at 0x7f6e88b9f430>"
            ]
          },
          "metadata": {},
          "execution_count": 319
        },
        {
          "output_type": "display_data",
          "data": {
            "text/plain": [
              "<Figure size 432x288 with 1 Axes>"
            ],
            "image/png": "[encoded data removed]"
          },
          "metadata": {
            "needs_background": "light"
          }
        }
      ]
    },
    {
      "cell_type": "code",
      "source": [
        "insurance['children'].value_counts()"
      ],
      "metadata": {
        "colab": {
          "base_uri": "https://localhost:8080/"
        },
        "id": "zDshslm0emqT",
        "outputId": "7712624c-9108-4db0-b833-a02470d1ed88"
      },
      "execution_count": 320,
      "outputs": [
        {
          "output_type": "execute_result",
          "data": {
            "text/plain": [
              "0    574\n",
              "1    324\n",
              "2    240\n",
              "3    157\n",
              "4     25\n",
              "5     18\n",
              "Name: children, dtype: int64"
            ]
          },
          "metadata": {},
          "execution_count": 320
        }
      ]
    },
    {
      "cell_type": "code",
      "source": [
        "# Get few modules from sklearn\n",
        "\n",
        "from sklearn.compose import make_column_transformer\n",
        "from sklearn.preprocessing import MinMaxScaler, OneHotEncoder"
      ],
      "metadata": {
        "id": "XrDcnkCpettk"
      },
      "execution_count": 321,
      "outputs": []
    },
    {
      "cell_type": "code",
      "source": [
        "# Create a Column Transformer\n",
        "\n",
        "ct = make_column_transformer(\n",
        "    (MinMaxScaler(),  ['age', 'bmi', 'children']),\n",
        "    (OneHotEncoder(handle_unknown='ignore'), ['sex', 'smoker', 'region'])\n",
        ")\n",
        "\n",
        "# Create X & y\n",
        "X = insurance.drop('charges', axis = 1)\n",
        "y = insurance['charges']\n",
        "\n",
        "# Split the data in the Training and Testing Datasets\n",
        "X_train, X_test, y_train, y_test = train_test_split(X, y, test_size = 0.2, random_state = 4)\n",
        "\n",
        "# Fit the column transformer to the training data\n",
        "ct.fit(X_train)\n",
        "\n",
        "# Transform training and test data with Normalization (MinMaxScaler) & OneHotEncoder\n",
        "X_train_normal = ct.transform(X_train)\n",
        "X_test_normal = ct.transform(X_test)"
      ],
      "metadata": {
        "id": "CAylKdrLf_ry"
      },
      "execution_count": 322,
      "outputs": []
    },
    {
      "cell_type": "code",
      "source": [
        "X_train.loc[0]"
      ],
      "metadata": {
        "colab": {
          "base_uri": "https://localhost:8080/"
        },
        "id": "yGw6wdGpg7EZ",
        "outputId": "9639591a-7b95-4797-c167-7da0d2867c2e"
      },
      "execution_count": 323,
      "outputs": [
        {
          "output_type": "execute_result",
          "data": {
            "text/plain": [
              "age                19\n",
              "sex            female\n",
              "bmi              27.9\n",
              "children            0\n",
              "smoker            yes\n",
              "region      southwest\n",
              "Name: 0, dtype: object"
            ]
          },
          "metadata": {},
          "execution_count": 323
        }
      ]
    },
    {
      "cell_type": "code",
      "source": [
        "X_train_normal[0]"
      ],
      "metadata": {
        "colab": {
          "base_uri": "https://localhost:8080/"
        },
        "id": "RjwZss31hty9",
        "outputId": "608febb3-fa56-4d06-b59b-4e8f7b122166"
      },
      "execution_count": 324,
      "outputs": [
        {
          "output_type": "execute_result",
          "data": {
            "text/plain": [
              "array([0.73913043, 0.56684566, 0.        , 1.        , 0.        ,\n",
              "       1.        , 0.        , 0.        , 0.        , 0.        ,\n",
              "       1.        ])"
            ]
          },
          "metadata": {},
          "execution_count": 324
        }
      ]
    },
    {
      "cell_type": "code",
      "source": [
        "# Build the neural network on the normalized data\n",
        "\n",
        "tf.random.set_seed(4)\n",
        "\n",
        "# Create a model\n",
        "insurance_model_4 = tf.keras.Sequential([\n",
        "    tf.keras.layers.Dense(100, name = 'input_layer'),\n",
        "    tf.keras.layers.Dense(10),\n",
        "    tf.keras.layers.Dense(1, name = \"output_layer\")\n",
        "], name = 'insurance_model_4')\n",
        "\n",
        "# Compile the model\n",
        "insurance_model_4.compile(loss = 'mae',\n",
        "              optimizer = tf.keras.optimizers.Adam(),\n",
        "              metrics = ['mae'])\n",
        "\n",
        "# Build the model\n",
        "insurance_model_4.build(input_shape = (1070,11))\n",
        "\n",
        "# Print the Summary of the model\n",
        "insurance_model_4.summary()"
      ],
      "metadata": {
        "colab": {
          "base_uri": "https://localhost:8080/"
        },
        "id": "5FuidzNvhwGL",
        "outputId": "aba041b9-8103-4545-e3ed-d2795813650a"
      },
      "execution_count": 325,
      "outputs": [
        {
          "output_type": "stream",
          "name": "stdout",
          "text": [
            "Model: \"insurance_model_4\"\n",
            "_________________________________________________________________\n",
            " Layer (type)                Output Shape              Param #   \n",
            "=================================================================\n",
            " input_layer (Dense)         (1070, 100)               1200      \n",
            "                                                                 \n",
            " dense_107 (Dense)           (1070, 10)                1010      \n",
            "                                                                 \n",
            " output_layer (Dense)        (1070, 1)                 11        \n",
            "                                                                 \n",
            "=================================================================\n",
            "Total params: 2,221\n",
            "Trainable params: 2,221\n",
            "Non-trainable params: 0\n",
            "_________________________________________________________________\n"
          ]
        }
      ]
    },
    {
      "cell_type": "code",
      "source": [
        "history = insurance_model_4.fit(X_train_normal, y_train, epochs = 200, verbose = 0)\n",
        "\n",
        "insurance_model_4.evaluate(X_test_normal, y_test)"
      ],
      "metadata": {
        "colab": {
          "base_uri": "https://localhost:8080/"
        },
        "id": "colpkjD9ij3s",
        "outputId": "1460be1d-1ad3-4b8a-a128-75fbde305013"
      },
      "execution_count": 326,
      "outputs": [
        {
          "output_type": "stream",
          "name": "stdout",
          "text": [
            "9/9 [==============================] - 0s 3ms/step - loss: 3896.3503 - mae: 3896.3503\n"
          ]
        },
        {
          "output_type": "execute_result",
          "data": {
            "text/plain": [
              "[3896.350341796875, 3896.350341796875]"
            ]
          },
          "metadata": {},
          "execution_count": 326
        }
      ]
    },
    {
      "cell_type": "code",
      "source": [
        "# Plot history which is also known as loss curve or training curve\n",
        "\n",
        "pd.DataFrame(history.history).plot()\n",
        "plt.xlabel('epochs')\n",
        "plt.ylabel('loss')"
      ],
      "metadata": {
        "colab": {
          "base_uri": "https://localhost:8080/",
          "height": 0
        },
        "id": "OF5Djk-RjF2G",
        "outputId": "844a155f-c3b2-4367-e83f-8f3a7bf48904"
      },
      "execution_count": 327,
      "outputs": [
        {
          "output_type": "execute_result",
          "data": {
            "text/plain": [
              "Text(0, 0.5, 'loss')"
            ]
          },
          "metadata": {},
          "execution_count": 327
        },
        {
          "output_type": "display_data",
          "data": {
            "text/plain": [
              "<Figure size 432x288 with 1 Axes>"
            ],
            "image/png": "[encoded data removed]"
          },
          "metadata": {
            "needs_background": "light"
          }
        }
      ]
    },
    {
      "cell_type": "markdown",
      "source": [
        "# Exercises"
      ],
      "metadata": {
        "id": "jZ0YnVjt2WpX"
      }
    },
    {
      "cell_type": "markdown",
      "source": [
        "1. Create your own regression dataset (or make the one we created in \"Create data to view and fit\" bigger) and build fit a model to it.\n",
        "2. Try building a neural network with 4 Dense layers and fitting it to your own regression dataset, how does it perform?\n",
        "3. Try and improve the results we got on the insurance dataset, some things you might want to try include:\n",
        " - Building a larger model (how does one with 4 dense layers go?).\n",
        " - Increasing the number of units in each layer.\n",
        " - Lookup the documentation of [`Adam`](https://www.tensorflow.org/api_docs/python/tf/keras/optimizers/Adam) and find out what the first parameter is, what happens if you increase it by 10x?\n",
        " - What happens if you train for longer (say 300 epochs instead of 200)?\n",
        "4. Import the [Boston pricing dataset](https://www.tensorflow.org/api_docs/python/tf/keras/datasets/boston_housing/load_data) from TensorFlow [`tf.keras.datasets`](https://www.tensorflow.org/api_docs/python/tf/keras/datasets) and model it."
      ],
      "metadata": {
        "id": "-NFOAmQy2Y5M"
      }
    },
    {
      "cell_type": "markdown",
      "source": [
        "#### 1. Create our own Regression Dataset & Build + Fit a Model to it"
      ],
      "metadata": {
        "id": "mAEIMwE_3Cyt"
      }
    },
    {
      "cell_type": "code",
      "source": [
        "# Import the required libraries for the exercise\n",
        "\n",
        "import tensorflow as tf\n",
        "import pandas as pd\n",
        "import matplotlib.pyplot as plt"
      ],
      "metadata": {
        "id": "oX6hK2rv34l-"
      },
      "execution_count": 328,
      "outputs": []
    },
    {
      "cell_type": "code",
      "source": [
        "# Create Input Values\n",
        "X = tf.range(-10000, 10000, delta=8)\n",
        "X"
      ],
      "metadata": {
        "colab": {
          "base_uri": "https://localhost:8080/"
        },
        "id": "cWE_UOkk3G2J",
        "outputId": "c5d3c050-ef3d-4c02-86b6-de4f3e459688"
      },
      "execution_count": 329,
      "outputs": [
        {
          "output_type": "execute_result",
          "data": {
            "text/plain": [
              "<tf.Tensor: shape=(2500,), dtype=int32, numpy=array([-10000,  -9992,  -9984, ...,   9976,   9984,   9992], dtype=int32)>"
            ]
          },
          "metadata": {},
          "execution_count": 329
        }
      ]
    },
    {
      "cell_type": "code",
      "source": [
        "# Create Labels or the \"Ground Truth\"\n",
        "y = X + 5\n",
        "y"
      ],
      "metadata": {
        "colab": {
          "base_uri": "https://localhost:8080/"
        },
        "id": "mx0LIl834JEh",
        "outputId": "33d1604d-278c-4d97-d461-a005f0c4c3b2"
      },
      "execution_count": 330,
      "outputs": [
        {
          "output_type": "execute_result",
          "data": {
            "text/plain": [
              "<tf.Tensor: shape=(2500,), dtype=int32, numpy=array([-9995, -9987, -9979, ...,  9981,  9989,  9997], dtype=int32)>"
            ]
          },
          "metadata": {},
          "execution_count": 330
        }
      ]
    },
    {
      "cell_type": "code",
      "source": [
        "# Split the data into Testing and Training Datasets\n",
        "from sklearn.model_selection import train_test_split\n",
        "\n",
        "X_train, X_test, y_train, y_test = X[:2000], X[2000:], y[:2000], y[2000:]\n",
        "\n",
        "X_train.shape, X_test.shape"
      ],
      "metadata": {
        "colab": {
          "base_uri": "https://localhost:8080/"
        },
        "id": "c3uCC9pm5E5r",
        "outputId": "07a517e9-ad30-488c-963b-c69276fb1f41"
      },
      "execution_count": 331,
      "outputs": [
        {
          "output_type": "execute_result",
          "data": {
            "text/plain": [
              "(TensorShape([2000]), TensorShape([500]))"
            ]
          },
          "metadata": {},
          "execution_count": 331
        }
      ]
    },
    {
      "cell_type": "code",
      "source": [
        "# Visualize the Data\n",
        "\n",
        "plt.figure(figsize = (20, 15))\n",
        "\n",
        "plt.scatter(X_train, y_train, label = \"Training Data\")\n",
        "plt.scatter(X_test, y_test, label = \"Testing Data\", c = 'y')\n",
        "\n",
        "plt.legend()"
      ],
      "metadata": {
        "colab": {
          "base_uri": "https://localhost:8080/",
          "height": 0
        },
        "id": "FMThxzY98acW",
        "outputId": "33089db3-3ff4-480c-cbc6-a78f4a8fdd55"
      },
      "execution_count": 332,
      "outputs": [
        {
          "output_type": "execute_result",
          "data": {
            "text/plain": [
              "<matplotlib.legend.Legend at 0x7f6e8545aee0>"
            ]
          },
          "metadata": {},
          "execution_count": 332
        },
        {
          "output_type": "display_data",
          "data": {
            "text/plain": [
              "<Figure size 1440x1080 with 1 Axes>"
            ],
            "image/png": "[encoded data removed]"
          },
          "metadata": {
            "needs_background": "light"
          }
        }
      ]
    },
    {
      "cell_type": "code",
      "source": [
        "# Set a global random seed\n",
        "tf.random.set_seed(4)\n",
        "\n",
        "# Create the model\n",
        "model = tf.keras.Sequential([\n",
        "    tf.keras.layers.Dense(1)\n",
        "])\n",
        "\n",
        "# Compile the model\n",
        "model.compile(loss = 'mae',\n",
        "              optimizer = 'sgd',\n",
        "              metrics = ['mae'])\n",
        "\n",
        "# Fit the model\n",
        "model.fit(tf.expand_dims(X_train, -1), y_train, epochs = 100, verbose = 0)"
      ],
      "metadata": {
        "colab": {
          "base_uri": "https://localhost:8080/"
        },
        "id": "NE33cxEo4aIw",
        "outputId": "26dd5ff4-00cb-4082-aff2-4396ebd96ee2"
      },
      "execution_count": 333,
      "outputs": [
        {
          "output_type": "execute_result",
          "data": {
            "text/plain": [
              "<keras.callbacks.History at 0x7f6e85420220>"
            ]
          },
          "metadata": {},
          "execution_count": 333
        }
      ]
    },
    {
      "cell_type": "code",
      "source": [
        "model.evaluate(X_test, y_test)"
      ],
      "metadata": {
        "colab": {
          "base_uri": "https://localhost:8080/"
        },
        "id": "Nia8CVbF6zDS",
        "outputId": "2f07f1ae-0751-4db9-f7cb-fd3a42ba96d8"
      },
      "execution_count": 334,
      "outputs": [
        {
          "output_type": "stream",
          "name": "stdout",
          "text": [
            "16/16 [==============================] - 0s 2ms/step - loss: 360261.5625 - mae: 360261.5625\n"
          ]
        },
        {
          "output_type": "execute_result",
          "data": {
            "text/plain": [
              "[360261.5625, 360261.5625]"
            ]
          },
          "metadata": {},
          "execution_count": 334
        }
      ]
    },
    {
      "cell_type": "code",
      "source": [
        "model.predict([821])"
      ],
      "metadata": {
        "colab": {
          "base_uri": "https://localhost:8080/"
        },
        "id": "T9ydY0tU6_0w",
        "outputId": "48352d48-371d-4d66-96ee-ae136f14aff8"
      },
      "execution_count": 335,
      "outputs": [
        {
          "output_type": "stream",
          "name": "stdout",
          "text": [
            "1/1 [==============================] - 0s 72ms/step\n"
          ]
        },
        {
          "output_type": "execute_result",
          "data": {
            "text/plain": [
              "array([[-36168.52]], dtype=float32)"
            ]
          },
          "metadata": {},
          "execution_count": 335
        }
      ]
    },
    {
      "cell_type": "markdown",
      "source": [
        "#### 2. Building a Neural Network with 4 Dense layers and fitting it to the regression dataset"
      ],
      "metadata": {
        "id": "4lG09eTK7bjR"
      }
    },
    {
      "cell_type": "code",
      "source": [
        "# Create the model\n",
        "model = tf.keras.Sequential([\n",
        "    tf.keras.layers.Dense(10),\n",
        "    tf.keras.layers.Dense(10),\n",
        "    tf.keras.layers.Dense(10),\n",
        "    tf.keras.layers.Dense(1)\n",
        "])\n",
        "\n",
        "# Compile the model\n",
        "model.compile(loss = 'mae',\n",
        "              optimizer = tf.keras.optimizers.Adam(),\n",
        "              metrics = ['mae'])\n",
        "\n",
        "# Fit the model\n",
        "history = model.fit(tf.expand_dims(X_train, -1), y_train, epochs = 100, verbose = 0)"
      ],
      "metadata": {
        "id": "KN5Bpkks7k9c"
      },
      "execution_count": 336,
      "outputs": []
    },
    {
      "cell_type": "code",
      "source": [
        "model.evaluate(X_test, y_test)"
      ],
      "metadata": {
        "colab": {
          "base_uri": "https://localhost:8080/"
        },
        "id": "_kX-zMTq7ul2",
        "outputId": "7e6345b7-ef23-4cf9-b607-716b36a46d2e"
      },
      "execution_count": 337,
      "outputs": [
        {
          "output_type": "stream",
          "name": "stdout",
          "text": [
            "16/16 [==============================] - 0s 2ms/step - loss: 57.5335 - mae: 57.5335\n"
          ]
        },
        {
          "output_type": "execute_result",
          "data": {
            "text/plain": [
              "[57.53351974487305, 57.53351974487305]"
            ]
          },
          "metadata": {},
          "execution_count": 337
        }
      ]
    },
    {
      "cell_type": "markdown",
      "source": [
        "Evaluation Metrics"
      ],
      "metadata": {
        "id": "Zv3YT21o7zDA"
      }
    },
    {
      "cell_type": "code",
      "source": [
        "# Get predictions\n",
        "y_pred = model.predict(X_test)\n",
        "y_pred"
      ],
      "metadata": {
        "colab": {
          "base_uri": "https://localhost:8080/"
        },
        "id": "WYjBP4Hh9UiY",
        "outputId": "f4ea63b0-eed8-4373-985f-7061ad93aaee"
      },
      "execution_count": 338,
      "outputs": [
        {
          "output_type": "stream",
          "name": "stdout",
          "text": [
            "16/16 [==============================] - 0s 2ms/step\n"
          ]
        },
        {
          "output_type": "execute_result",
          "data": {
            "text/plain": [
              "array([[ 6048.1694],\n",
              "       [ 6056.2266],\n",
              "       [ 6064.284 ],\n",
              "       [ 6072.341 ],\n",
              "       [ 6080.3994],\n",
              "       [ 6088.4565],\n",
              "       [ 6096.514 ],\n",
              "       [ 6104.572 ],\n",
              "       [ 6112.63  ],\n",
              "       [ 6120.687 ],\n",
              "       [ 6128.7446],\n",
              "       [ 6136.8013],\n",
              "       [ 6144.8604],\n",
              "       [ 6152.9175],\n",
              "       [ 6160.974 ],\n",
              "       [ 6169.0327],\n",
              "       [ 6177.0903],\n",
              "       [ 6185.1475],\n",
              "       [ 6193.2046],\n",
              "       [ 6201.263 ],\n",
              "       [ 6209.321 ],\n",
              "       [ 6217.378 ],\n",
              "       [ 6225.435 ],\n",
              "       [ 6233.4927],\n",
              "       [ 6241.551 ],\n",
              "       [ 6249.608 ],\n",
              "       [ 6257.6665],\n",
              "       [ 6265.723 ],\n",
              "       [ 6273.7803],\n",
              "       [ 6281.8384],\n",
              "       [ 6289.8965],\n",
              "       [ 6297.953 ],\n",
              "       [ 6306.011 ],\n",
              "       [ 6314.069 ],\n",
              "       [ 6322.1265],\n",
              "       [ 6330.183 ],\n",
              "       [ 6338.2417],\n",
              "       [ 6346.299 ],\n",
              "       [ 6354.3564],\n",
              "       [ 6362.414 ],\n",
              "       [ 6370.4717],\n",
              "       [ 6378.53  ],\n",
              "       [ 6386.587 ],\n",
              "       [ 6394.6445],\n",
              "       [ 6402.7017],\n",
              "       [ 6410.76  ],\n",
              "       [ 6418.817 ],\n",
              "       [ 6426.8745],\n",
              "       [ 6434.932 ],\n",
              "       [ 6442.9897],\n",
              "       [ 6451.0474],\n",
              "       [ 6459.105 ],\n",
              "       [ 6467.162 ],\n",
              "       [ 6475.22  ],\n",
              "       [ 6483.278 ],\n",
              "       [ 6491.336 ],\n",
              "       [ 6499.393 ],\n",
              "       [ 6507.4507],\n",
              "       [ 6515.509 ],\n",
              "       [ 6523.566 ],\n",
              "       [ 6531.6235],\n",
              "       [ 6539.681 ],\n",
              "       [ 6547.739 ],\n",
              "       [ 6555.7964],\n",
              "       [ 6563.8535],\n",
              "       [ 6571.911 ],\n",
              "       [ 6579.969 ],\n",
              "       [ 6588.026 ],\n",
              "       [ 6596.0845],\n",
              "       [ 6604.141 ],\n",
              "       [ 6612.1987],\n",
              "       [ 6620.257 ],\n",
              "       [ 6628.3135],\n",
              "       [ 6636.3716],\n",
              "       [ 6644.429 ],\n",
              "       [ 6652.4873],\n",
              "       [ 6660.545 ],\n",
              "       [ 6668.602 ],\n",
              "       [ 6676.659 ],\n",
              "       [ 6684.7173],\n",
              "       [ 6692.775 ],\n",
              "       [ 6700.8325],\n",
              "       [ 6708.8896],\n",
              "       [ 6716.9478],\n",
              "       [ 6725.005 ],\n",
              "       [ 6733.0635],\n",
              "       [ 6741.1196],\n",
              "       [ 6749.1772],\n",
              "       [ 6757.235 ],\n",
              "       [ 6765.2925],\n",
              "       [ 6773.3506],\n",
              "       [ 6781.408 ],\n",
              "       [ 6789.4663],\n",
              "       [ 6797.523 ],\n",
              "       [ 6805.5815],\n",
              "       [ 6813.6387],\n",
              "       [ 6821.697 ],\n",
              "       [ 6829.754 ],\n",
              "       [ 6837.811 ],\n",
              "       [ 6845.869 ],\n",
              "       [ 6853.9263],\n",
              "       [ 6861.984 ],\n",
              "       [ 6870.0415],\n",
              "       [ 6878.0986],\n",
              "       [ 6886.1567],\n",
              "       [ 6894.2134],\n",
              "       [ 6902.2715],\n",
              "       [ 6910.3296],\n",
              "       [ 6918.387 ],\n",
              "       [ 6926.444 ],\n",
              "       [ 6934.502 ],\n",
              "       [ 6942.559 ],\n",
              "       [ 6950.6177],\n",
              "       [ 6958.6743],\n",
              "       [ 6966.7324],\n",
              "       [ 6974.7896],\n",
              "       [ 6982.8477],\n",
              "       [ 6990.9053],\n",
              "       [ 6998.9624],\n",
              "       [ 7007.021 ],\n",
              "       [ 7015.0767],\n",
              "       [ 7023.135 ],\n",
              "       [ 7031.193 ],\n",
              "       [ 7039.251 ],\n",
              "       [ 7047.3076],\n",
              "       [ 7055.365 ],\n",
              "       [ 7063.4233],\n",
              "       [ 7071.481 ],\n",
              "       [ 7079.5376],\n",
              "       [ 7087.596 ],\n",
              "       [ 7095.654 ],\n",
              "       [ 7103.711 ],\n",
              "       [ 7111.7686],\n",
              "       [ 7119.826 ],\n",
              "       [ 7127.884 ],\n",
              "       [ 7135.941 ],\n",
              "       [ 7143.9995],\n",
              "       [ 7152.0566],\n",
              "       [ 7160.114 ],\n",
              "       [ 7168.1714],\n",
              "       [ 7176.2295],\n",
              "       [ 7184.287 ],\n",
              "       [ 7192.344 ],\n",
              "       [ 7200.4023],\n",
              "       [ 7208.46  ],\n",
              "       [ 7216.5166],\n",
              "       [ 7224.575 ],\n",
              "       [ 7232.6313],\n",
              "       [ 7240.6904],\n",
              "       [ 7248.748 ],\n",
              "       [ 7256.8057],\n",
              "       [ 7264.862 ],\n",
              "       [ 7272.9204],\n",
              "       [ 7280.9775],\n",
              "       [ 7289.0356],\n",
              "       [ 7297.0933],\n",
              "       [ 7305.151 ],\n",
              "       [ 7313.208 ],\n",
              "       [ 7321.266 ],\n",
              "       [ 7329.3237],\n",
              "       [ 7337.3804],\n",
              "       [ 7345.4385],\n",
              "       [ 7353.496 ],\n",
              "       [ 7361.553 ],\n",
              "       [ 7369.611 ],\n",
              "       [ 7377.6685],\n",
              "       [ 7385.726 ],\n",
              "       [ 7393.7837],\n",
              "       [ 7401.842 ],\n",
              "       [ 7409.899 ],\n",
              "       [ 7417.9565],\n",
              "       [ 7426.014 ],\n",
              "       [ 7434.0713],\n",
              "       [ 7442.1294],\n",
              "       [ 7450.187 ],\n",
              "       [ 7458.2437],\n",
              "       [ 7466.3022],\n",
              "       [ 7474.3594],\n",
              "       [ 7482.418 ],\n",
              "       [ 7490.475 ],\n",
              "       [ 7498.533 ],\n",
              "       [ 7506.59  ],\n",
              "       [ 7514.647 ],\n",
              "       [ 7522.7046],\n",
              "       [ 7530.7627],\n",
              "       [ 7538.8203],\n",
              "       [ 7546.878 ],\n",
              "       [ 7554.935 ],\n",
              "       [ 7562.993 ],\n",
              "       [ 7571.05  ],\n",
              "       [ 7579.108 ],\n",
              "       [ 7587.1655],\n",
              "       [ 7595.223 ],\n",
              "       [ 7603.281 ],\n",
              "       [ 7611.3384],\n",
              "       [ 7619.396 ],\n",
              "       [ 7627.454 ],\n",
              "       [ 7635.511 ],\n",
              "       [ 7643.568 ],\n",
              "       [ 7651.6265],\n",
              "       [ 7659.684 ],\n",
              "       [ 7667.7417],\n",
              "       [ 7675.7983],\n",
              "       [ 7683.856 ],\n",
              "       [ 7691.9146],\n",
              "       [ 7699.9717],\n",
              "       [ 7708.0293],\n",
              "       [ 7716.087 ],\n",
              "       [ 7724.1445],\n",
              "       [ 7732.2017],\n",
              "       [ 7740.2603],\n",
              "       [ 7748.318 ],\n",
              "       [ 7756.375 ],\n",
              "       [ 7764.432 ],\n",
              "       [ 7772.4897],\n",
              "       [ 7780.548 ],\n",
              "       [ 7788.6055],\n",
              "       [ 7796.6626],\n",
              "       [ 7804.72  ],\n",
              "       [ 7812.7773],\n",
              "       [ 7820.8354],\n",
              "       [ 7828.893 ],\n",
              "       [ 7836.9507],\n",
              "       [ 7845.009 ],\n",
              "       [ 7853.0654],\n",
              "       [ 7861.123 ],\n",
              "       [ 7869.18  ],\n",
              "       [ 7877.239 ],\n",
              "       [ 7885.2964],\n",
              "       [ 7893.353 ],\n",
              "       [ 7901.412 ],\n",
              "       [ 7909.4683],\n",
              "       [ 7917.5264],\n",
              "       [ 7925.584 ],\n",
              "       [ 7933.641 ],\n",
              "       [ 7941.698 ],\n",
              "       [ 7949.7563],\n",
              "       [ 7957.815 ],\n",
              "       [ 7965.8716],\n",
              "       [ 7973.929 ],\n",
              "       [ 7981.986 ],\n",
              "       [ 7990.0444],\n",
              "       [ 7998.103 ],\n",
              "       [ 8006.16  ],\n",
              "       [ 8014.217 ],\n",
              "       [ 8022.2744],\n",
              "       [ 8030.333 ],\n",
              "       [ 8038.389 ],\n",
              "       [ 8046.447 ],\n",
              "       [ 8054.5054],\n",
              "       [ 8062.5625],\n",
              "       [ 8070.62  ],\n",
              "       [ 8078.6777],\n",
              "       [ 8086.7363],\n",
              "       [ 8094.793 ],\n",
              "       [ 8102.85  ],\n",
              "       [ 8110.9077],\n",
              "       [ 8118.966 ],\n",
              "       [ 8127.0234],\n",
              "       [ 8135.08  ],\n",
              "       [ 8143.1377],\n",
              "       [ 8151.196 ],\n",
              "       [ 8159.2544],\n",
              "       [ 8167.3105],\n",
              "       [ 8175.3687],\n",
              "       [ 8183.4263],\n",
              "       [ 8191.4834],\n",
              "       [ 8199.541 ],\n",
              "       [ 8207.598 ],\n",
              "       [ 8215.656 ],\n",
              "       [ 8223.713 ],\n",
              "       [ 8231.7705],\n",
              "       [ 8239.829 ],\n",
              "       [ 8247.886 ],\n",
              "       [ 8255.943 ],\n",
              "       [ 8264.002 ],\n",
              "       [ 8272.059 ],\n",
              "       [ 8280.116 ],\n",
              "       [ 8288.174 ],\n",
              "       [ 8296.231 ],\n",
              "       [ 8304.289 ],\n",
              "       [ 8312.348 ],\n",
              "       [ 8320.405 ],\n",
              "       [ 8328.461 ],\n",
              "       [ 8336.52  ],\n",
              "       [ 8344.578 ],\n",
              "       [ 8352.636 ],\n",
              "       [ 8360.692 ],\n",
              "       [ 8368.75  ],\n",
              "       [ 8376.808 ],\n",
              "       [ 8384.865 ],\n",
              "       [ 8392.923 ],\n",
              "       [ 8400.98  ],\n",
              "       [ 8409.038 ],\n",
              "       [ 8417.095 ],\n",
              "       [ 8425.152 ],\n",
              "       [ 8433.211 ],\n",
              "       [ 8441.268 ],\n",
              "       [ 8449.325 ],\n",
              "       [ 8457.384 ],\n",
              "       [ 8465.44  ],\n",
              "       [ 8473.499 ],\n",
              "       [ 8481.556 ],\n",
              "       [ 8489.613 ],\n",
              "       [ 8497.671 ],\n",
              "       [ 8505.729 ],\n",
              "       [ 8513.785 ],\n",
              "       [ 8521.844 ],\n",
              "       [ 8529.9   ],\n",
              "       [ 8537.959 ],\n",
              "       [ 8546.018 ],\n",
              "       [ 8554.073 ],\n",
              "       [ 8562.131 ],\n",
              "       [ 8570.188 ],\n",
              "       [ 8578.247 ],\n",
              "       [ 8586.306 ],\n",
              "       [ 8594.362 ],\n",
              "       [ 8602.419 ],\n",
              "       [ 8610.478 ],\n",
              "       [ 8618.535 ],\n",
              "       [ 8626.592 ],\n",
              "       [ 8634.65  ],\n",
              "       [ 8642.706 ],\n",
              "       [ 8650.766 ],\n",
              "       [ 8658.822 ],\n",
              "       [ 8666.88  ],\n",
              "       [ 8674.9375],\n",
              "       [ 8682.996 ],\n",
              "       [ 8691.053 ],\n",
              "       [ 8699.11  ],\n",
              "       [ 8707.168 ],\n",
              "       [ 8715.225 ],\n",
              "       [ 8723.283 ],\n",
              "       [ 8731.341 ],\n",
              "       [ 8739.397 ],\n",
              "       [ 8747.456 ],\n",
              "       [ 8755.514 ],\n",
              "       [ 8763.571 ],\n",
              "       [ 8771.628 ],\n",
              "       [ 8779.687 ],\n",
              "       [ 8787.744 ],\n",
              "       [ 8795.802 ],\n",
              "       [ 8803.858 ],\n",
              "       [ 8811.916 ],\n",
              "       [ 8819.975 ],\n",
              "       [ 8828.031 ],\n",
              "       [ 8836.089 ],\n",
              "       [ 8844.146 ],\n",
              "       [ 8852.204 ],\n",
              "       [ 8860.262 ],\n",
              "       [ 8868.319 ],\n",
              "       [ 8876.378 ],\n",
              "       [ 8884.434 ],\n",
              "       [ 8892.492 ],\n",
              "       [ 8900.55  ],\n",
              "       [ 8908.607 ],\n",
              "       [ 8916.665 ],\n",
              "       [ 8924.723 ],\n",
              "       [ 8932.779 ],\n",
              "       [ 8940.838 ],\n",
              "       [ 8948.895 ],\n",
              "       [ 8956.953 ],\n",
              "       [ 8965.011 ],\n",
              "       [ 8973.067 ],\n",
              "       [ 8981.126 ],\n",
              "       [ 8989.183 ],\n",
              "       [ 8997.24  ],\n",
              "       [ 9005.298 ],\n",
              "       [ 9013.356 ],\n",
              "       [ 9021.413 ],\n",
              "       [ 9029.471 ],\n",
              "       [ 9037.529 ],\n",
              "       [ 9045.586 ],\n",
              "       [ 9053.644 ],\n",
              "       [ 9061.702 ],\n",
              "       [ 9069.759 ],\n",
              "       [ 9077.816 ],\n",
              "       [ 9085.874 ],\n",
              "       [ 9093.932 ],\n",
              "       [ 9101.989 ],\n",
              "       [ 9110.046 ],\n",
              "       [ 9118.1045],\n",
              "       [ 9126.162 ],\n",
              "       [ 9134.219 ],\n",
              "       [ 9142.277 ],\n",
              "       [ 9150.335 ],\n",
              "       [ 9158.392 ],\n",
              "       [ 9166.45  ],\n",
              "       [ 9174.507 ],\n",
              "       [ 9182.564 ],\n",
              "       [ 9190.622 ],\n",
              "       [ 9198.681 ],\n",
              "       [ 9206.737 ],\n",
              "       [ 9214.795 ],\n",
              "       [ 9222.854 ],\n",
              "       [ 9230.909 ],\n",
              "       [ 9238.969 ],\n",
              "       [ 9247.025 ],\n",
              "       [ 9255.083 ],\n",
              "       [ 9263.141 ],\n",
              "       [ 9271.198 ],\n",
              "       [ 9279.257 ],\n",
              "       [ 9287.313 ],\n",
              "       [ 9295.371 ],\n",
              "       [ 9303.428 ],\n",
              "       [ 9311.486 ],\n",
              "       [ 9319.543 ],\n",
              "       [ 9327.601 ],\n",
              "       [ 9335.659 ],\n",
              "       [ 9343.716 ],\n",
              "       [ 9351.774 ],\n",
              "       [ 9359.83  ],\n",
              "       [ 9367.89  ],\n",
              "       [ 9375.947 ],\n",
              "       [ 9384.004 ],\n",
              "       [ 9392.062 ],\n",
              "       [ 9400.12  ],\n",
              "       [ 9408.177 ],\n",
              "       [ 9416.234 ],\n",
              "       [ 9424.293 ],\n",
              "       [ 9432.35  ],\n",
              "       [ 9440.406 ],\n",
              "       [ 9448.466 ],\n",
              "       [ 9456.522 ],\n",
              "       [ 9464.579 ],\n",
              "       [ 9472.636 ],\n",
              "       [ 9480.696 ],\n",
              "       [ 9488.753 ],\n",
              "       [ 9496.811 ],\n",
              "       [ 9504.868 ],\n",
              "       [ 9512.926 ],\n",
              "       [ 9520.982 ],\n",
              "       [ 9529.041 ],\n",
              "       [ 9537.099 ],\n",
              "       [ 9545.157 ],\n",
              "       [ 9553.214 ],\n",
              "       [ 9561.2705],\n",
              "       [ 9569.328 ],\n",
              "       [ 9577.387 ],\n",
              "       [ 9585.444 ],\n",
              "       [ 9593.5   ],\n",
              "       [ 9601.559 ],\n",
              "       [ 9609.616 ],\n",
              "       [ 9617.675 ],\n",
              "       [ 9625.731 ],\n",
              "       [ 9633.789 ],\n",
              "       [ 9641.848 ],\n",
              "       [ 9649.904 ],\n",
              "       [ 9657.962 ],\n",
              "       [ 9666.019 ],\n",
              "       [ 9674.077 ],\n",
              "       [ 9682.135 ],\n",
              "       [ 9690.192 ],\n",
              "       [ 9698.249 ],\n",
              "       [ 9706.308 ],\n",
              "       [ 9714.365 ],\n",
              "       [ 9722.423 ],\n",
              "       [ 9730.481 ],\n",
              "       [ 9738.536 ],\n",
              "       [ 9746.596 ],\n",
              "       [ 9754.652 ],\n",
              "       [ 9762.711 ],\n",
              "       [ 9770.768 ],\n",
              "       [ 9778.825 ],\n",
              "       [ 9786.883 ],\n",
              "       [ 9794.941 ],\n",
              "       [ 9802.998 ],\n",
              "       [ 9811.057 ],\n",
              "       [ 9819.114 ],\n",
              "       [ 9827.171 ],\n",
              "       [ 9835.229 ],\n",
              "       [ 9843.286 ],\n",
              "       [ 9851.344 ],\n",
              "       [ 9859.401 ],\n",
              "       [ 9867.46  ],\n",
              "       [ 9875.517 ],\n",
              "       [ 9883.574 ],\n",
              "       [ 9891.633 ],\n",
              "       [ 9899.69  ],\n",
              "       [ 9907.746 ],\n",
              "       [ 9915.806 ],\n",
              "       [ 9923.862 ],\n",
              "       [ 9931.92  ],\n",
              "       [ 9939.976 ],\n",
              "       [ 9948.034 ],\n",
              "       [ 9956.093 ],\n",
              "       [ 9964.15  ],\n",
              "       [ 9972.207 ],\n",
              "       [ 9980.266 ],\n",
              "       [ 9988.322 ],\n",
              "       [ 9996.381 ],\n",
              "       [10004.438 ],\n",
              "       [10012.495 ],\n",
              "       [10020.553 ],\n",
              "       [10028.61  ],\n",
              "       [10036.667 ],\n",
              "       [10044.726 ],\n",
              "       [10052.782 ],\n",
              "       [10060.841 ],\n",
              "       [10068.899 ]], dtype=float32)"
            ]
          },
          "metadata": {},
          "execution_count": 338
        }
      ]
    },
    {
      "cell_type": "code",
      "source": [
        "# Visualize predictions\n",
        "\n",
        "plt.figure(figsize = (20, 15))\n",
        "\n",
        "plt.scatter(X_train, y_train, label = \"Training Data\")\n",
        "plt.scatter(X_test, y_test, label = \"Testing Data\", c = 'y')\n",
        "plt.scatter(X_test, y_pred, label = \"Predictions\", c = 'r')\n",
        "\n",
        "plt.legend()"
      ],
      "metadata": {
        "colab": {
          "base_uri": "https://localhost:8080/",
          "height": 0
        },
        "id": "W6y7x-Aw9C3o",
        "outputId": "b9cf680d-77d8-4445-d901-ab0828476d5a"
      },
      "execution_count": 339,
      "outputs": [
        {
          "output_type": "execute_result",
          "data": {
            "text/plain": [
              "<matplotlib.legend.Legend at 0x7f6e850b3fa0>"
            ]
          },
          "metadata": {},
          "execution_count": 339
        },
        {
          "output_type": "display_data",
          "data": {
            "text/plain": [
              "<Figure size 1440x1080 with 1 Axes>"
            ],
            "image/png": "[encoded data removed]"
          },
          "metadata": {
            "needs_background": "light"
          }
        }
      ]
    },
    {
      "cell_type": "code",
      "source": [
        "# MAE\n",
        "mae = tf.keras.losses.mae(y_true = y_test, y_pred= tf.squeeze(y_pred)).numpy()\n",
        "mae"
      ],
      "metadata": {
        "colab": {
          "base_uri": "https://localhost:8080/"
        },
        "id": "-h5tJrEx9oG2",
        "outputId": "532d4651-36d1-4c9a-e6f2-244dc99596b1"
      },
      "execution_count": 340,
      "outputs": [
        {
          "output_type": "execute_result",
          "data": {
            "text/plain": [
              "57.533516"
            ]
          },
          "metadata": {},
          "execution_count": 340
        }
      ]
    },
    {
      "cell_type": "code",
      "source": [
        "# MSE\n",
        "mse = tf.keras.losses.mse(y_true = y_test, y_pred= tf.squeeze(y_pred)).numpy()\n",
        "mse"
      ],
      "metadata": {
        "colab": {
          "base_uri": "https://localhost:8080/"
        },
        "id": "u0lUarp591DM",
        "outputId": "9cd9cc9b-1951-4aba-b475-a20045e1ccaf"
      },
      "execution_count": 341,
      "outputs": [
        {
          "output_type": "execute_result",
          "data": {
            "text/plain": [
              "3379.1619"
            ]
          },
          "metadata": {},
          "execution_count": 341
        }
      ]
    },
    {
      "cell_type": "code",
      "source": [
        "# Huber\n",
        "huber = tf.keras.losses.huber(y_true = y_test, y_pred= tf.squeeze(y_pred)).numpy()\n",
        "huber"
      ],
      "metadata": {
        "colab": {
          "base_uri": "https://localhost:8080/"
        },
        "id": "q8kmopg_9_Gy",
        "outputId": "973e10ee-3a05-4ac1-9bc5-23b69dc857fa"
      },
      "execution_count": 342,
      "outputs": [
        {
          "output_type": "execute_result",
          "data": {
            "text/plain": [
              "57.033516"
            ]
          },
          "metadata": {},
          "execution_count": 342
        }
      ]
    },
    {
      "cell_type": "code",
      "source": [
        "pd.DataFrame(history.history).plot()\n",
        "plt.xlabel(\"Epochs\")\n",
        "plt.xlabel(\"Loss\")"
      ],
      "metadata": {
        "colab": {
          "base_uri": "https://localhost:8080/",
          "height": 0
        },
        "id": "zz_XU08R-Cbe",
        "outputId": "3c0c3e35-8519-4a1b-817e-21ca47fdcb64"
      },
      "execution_count": 343,
      "outputs": [
        {
          "output_type": "execute_result",
          "data": {
            "text/plain": [
              "Text(0.5, 0, 'Loss')"
            ]
          },
          "metadata": {},
          "execution_count": 343
        },
        {
          "output_type": "display_data",
          "data": {
            "text/plain": [
              "<Figure size 432x288 with 1 Axes>"
            ],
            "image/png": "[encoded data removed]"
          },
          "metadata": {
            "needs_background": "light"
          }
        }
      ]
    },
    {
      "cell_type": "markdown",
      "source": [
        "#### 3. Improve the Insurance Model"
      ],
      "metadata": {
        "id": "uv3sJjoD-TQc"
      }
    },
    {
      "cell_type": "code",
      "source": [
        "insurance = pd.read_csv(\"https://raw.githubusercontent.com/stedy/Machine-Learning-with-R-datasets/master/insurance.csv\")"
      ],
      "metadata": {
        "id": "XuWzLHaz-_Q6"
      },
      "execution_count": 344,
      "outputs": []
    },
    {
      "cell_type": "code",
      "source": [
        "from sklearn.compose import make_column_transformer\n",
        "from sklearn.preprocessing import MinMaxScaler, OneHotEncoder\n",
        "\n",
        "# Create a Column Transformer\n",
        "ct = make_column_transformer(\n",
        "    (MinMaxScaler(),  ['age', 'bmi', 'children']),\n",
        "    (OneHotEncoder(handle_unknown='ignore'), ['sex', 'smoker', 'region'])\n",
        ")\n",
        "\n",
        "# Create X & y\n",
        "X = insurance.drop('charges', axis = 1)\n",
        "y = insurance['charges']\n",
        "\n",
        "# Split the data in the Training and Testing Datasets\n",
        "X_train, X_test, y_train, y_test = train_test_split(X, y, test_size = 0.2, random_state = 4)\n",
        "\n",
        "# Fit the column transformer to the training data\n",
        "ct.fit(X_train)\n",
        "\n",
        "# Transform training and test data with Normalization (MinMaxScaler) & OneHotEncoder\n",
        "X_train_normal = ct.transform(X_train)\n",
        "X_test_normal = ct.transform(X_test)"
      ],
      "metadata": {
        "id": "Kw0vIduV_bRw"
      },
      "execution_count": 345,
      "outputs": []
    },
    {
      "cell_type": "code",
      "source": [
        "# Build the neural network on the normalized data\n",
        "\n",
        "tf.random.set_seed(4)\n",
        "\n",
        "# Create a model\n",
        "insurance_model_5 = tf.keras.Sequential([\n",
        "    tf.keras.layers.Dense(100, name = 'input_layer'),\n",
        "    tf.keras.layers.Dense(10),\n",
        "    tf.keras.layers.Dense(10),\n",
        "    tf.keras.layers.Dense(1, name = \"output_layer\")\n",
        "], name = 'insurance_model_5')\n",
        "\n",
        "# Compile the model\n",
        "insurance_model_5.compile(loss = 'mae',\n",
        "              optimizer = tf.keras.optimizers.Adam(),\n",
        "              metrics = ['mae'])\n",
        "\n",
        "# Build the model\n",
        "insurance_model_5.build(input_shape = (1070,11))\n",
        "\n",
        "# Print the Summary of the model\n",
        "insurance_model_5.summary()"
      ],
      "metadata": {
        "colab": {
          "base_uri": "https://localhost:8080/"
        },
        "id": "eo8d9uU0_d8w",
        "outputId": "8d758655-8a5b-47e3-9a3b-37101eb30d7e"
      },
      "execution_count": 346,
      "outputs": [
        {
          "output_type": "stream",
          "name": "stdout",
          "text": [
            "Model: \"insurance_model_5\"\n",
            "_________________________________________________________________\n",
            " Layer (type)                Output Shape              Param #   \n",
            "=================================================================\n",
            " input_layer (Dense)         (1070, 100)               1200      \n",
            "                                                                 \n",
            " dense_113 (Dense)           (1070, 10)                1010      \n",
            "                                                                 \n",
            " dense_114 (Dense)           (1070, 10)                110       \n",
            "                                                                 \n",
            " output_layer (Dense)        (1070, 1)                 11        \n",
            "                                                                 \n",
            "=================================================================\n",
            "Total params: 2,331\n",
            "Trainable params: 2,331\n",
            "Non-trainable params: 0\n",
            "_________________________________________________________________\n"
          ]
        }
      ]
    },
    {
      "cell_type": "code",
      "source": [
        "history = insurance_model_5.fit(X_train_normal, y_train, epochs = 200, verbose = 0)\n",
        "\n",
        "insurance_model_5.evaluate(X_test_normal, y_test)"
      ],
      "metadata": {
        "colab": {
          "base_uri": "https://localhost:8080/"
        },
        "id": "nG43I64F_gQD",
        "outputId": "5e8fc976-1f0d-4693-e540-b1002ac0e4e8"
      },
      "execution_count": 347,
      "outputs": [
        {
          "output_type": "stream",
          "name": "stdout",
          "text": [
            "9/9 [==============================] - 0s 3ms/step - loss: 3887.8091 - mae: 3887.8091\n"
          ]
        },
        {
          "output_type": "execute_result",
          "data": {
            "text/plain": [
              "[3887.80908203125, 3887.80908203125]"
            ]
          },
          "metadata": {},
          "execution_count": 347
        }
      ]
    },
    {
      "cell_type": "code",
      "source": [
        "pd.DataFrame(history.history).plot()\n",
        "plt.xlabel(\"Epochs\")\n",
        "plt.xlabel(\"Loss\")"
      ],
      "metadata": {
        "colab": {
          "base_uri": "https://localhost:8080/",
          "height": 296
        },
        "id": "M3YVVEwb_lmc",
        "outputId": "25dca2f6-7ff9-44cd-9b15-dfd087782297"
      },
      "execution_count": 348,
      "outputs": [
        {
          "output_type": "execute_result",
          "data": {
            "text/plain": [
              "Text(0.5, 0, 'Loss')"
            ]
          },
          "metadata": {},
          "execution_count": 348
        },
        {
          "output_type": "display_data",
          "data": {
            "text/plain": [
              "<Figure size 432x288 with 1 Axes>"
            ],
            "image/png": "[encoded data removed]"
          },
          "metadata": {
            "needs_background": "light"
          }
        }
      ]
    },
    {
      "cell_type": "code",
      "source": [
        "# Build the neural network on the normalized data\n",
        "\n",
        "tf.random.set_seed(4)\n",
        "\n",
        "# Create a model\n",
        "insurance_model_6 = tf.keras.Sequential([\n",
        "    tf.keras.layers.Dense(100, name = 'input_layer'),\n",
        "    tf.keras.layers.Dense(100),\n",
        "    tf.keras.layers.Dense(100),\n",
        "    tf.keras.layers.Dense(1, name = \"output_layer\")\n",
        "], name = 'insurance_model_6')\n",
        "\n",
        "# Compile the model\n",
        "insurance_model_6.compile(loss = 'mae',\n",
        "              optimizer = tf.keras.optimizers.Adam(),\n",
        "              metrics = ['mae'])\n",
        "\n",
        "# Build the model\n",
        "insurance_model_6.build(input_shape = (1070,11))\n",
        "\n",
        "# Print the Summary of the model\n",
        "insurance_model_6.summary()"
      ],
      "metadata": {
        "colab": {
          "base_uri": "https://localhost:8080/"
        },
        "id": "vtaxGkD7_0Vr",
        "outputId": "2ab46dcb-a144-4115-d9ed-b9e503a586b5"
      },
      "execution_count": 349,
      "outputs": [
        {
          "output_type": "stream",
          "name": "stdout",
          "text": [
            "Model: \"insurance_model_6\"\n",
            "_________________________________________________________________\n",
            " Layer (type)                Output Shape              Param #   \n",
            "=================================================================\n",
            " input_layer (Dense)         (1070, 100)               1200      \n",
            "                                                                 \n",
            " dense_115 (Dense)           (1070, 100)               10100     \n",
            "                                                                 \n",
            " dense_116 (Dense)           (1070, 100)               10100     \n",
            "                                                                 \n",
            " output_layer (Dense)        (1070, 1)                 101       \n",
            "                                                                 \n",
            "=================================================================\n",
            "Total params: 21,501\n",
            "Trainable params: 21,501\n",
            "Non-trainable params: 0\n",
            "_________________________________________________________________\n"
          ]
        }
      ]
    },
    {
      "cell_type": "code",
      "source": [
        "history = insurance_model_6.fit(X_train_normal, y_train, epochs = 200, verbose = 0)\n",
        "\n",
        "insurance_model_6.evaluate(X_test_normal, y_test)"
      ],
      "metadata": {
        "colab": {
          "base_uri": "https://localhost:8080/"
        },
        "id": "Kl5uLigaAXOb",
        "outputId": "71d30a4e-f549-49fe-ce06-55afd4509283"
      },
      "execution_count": 350,
      "outputs": [
        {
          "output_type": "stream",
          "name": "stdout",
          "text": [
            "9/9 [==============================] - 0s 3ms/step - loss: 3991.8354 - mae: 3991.8354\n"
          ]
        },
        {
          "output_type": "execute_result",
          "data": {
            "text/plain": [
              "[3991.83544921875, 3991.83544921875]"
            ]
          },
          "metadata": {},
          "execution_count": 350
        }
      ]
    },
    {
      "cell_type": "code",
      "source": [
        "pd.DataFrame(history.history).plot()\n",
        "plt.xlabel(\"Epochs\")\n",
        "plt.xlabel(\"Loss\")"
      ],
      "metadata": {
        "colab": {
          "base_uri": "https://localhost:8080/",
          "height": 296
        },
        "id": "Wa-e0xFYAYD4",
        "outputId": "05685c2c-0979-4e1a-fcc3-48d10bcb2625"
      },
      "execution_count": 351,
      "outputs": [
        {
          "output_type": "execute_result",
          "data": {
            "text/plain": [
              "Text(0.5, 0, 'Loss')"
            ]
          },
          "metadata": {},
          "execution_count": 351
        },
        {
          "output_type": "display_data",
          "data": {
            "text/plain": [
              "<Figure size 432x288 with 1 Axes>"
            ],
            "image/png": "[encoded data removed]"
          },
          "metadata": {
            "needs_background": "light"
          }
        }
      ]
    },
    {
      "cell_type": "code",
      "source": [
        "# Build the neural network on the normalized data\n",
        "\n",
        "tf.random.set_seed(4)\n",
        "\n",
        "# Create a model\n",
        "insurance_model_7 = tf.keras.Sequential([\n",
        "    tf.keras.layers.Dense(100, name = 'input_layer'),\n",
        "    tf.keras.layers.Dense(100),\n",
        "    tf.keras.layers.Dense(100),\n",
        "    tf.keras.layers.Dense(1, name = \"output_layer\")\n",
        "], name = 'insurance_model_7')\n",
        "\n",
        "# Compile the model\n",
        "insurance_model_7.compile(loss = 'mae',\n",
        "              optimizer = tf.keras.optimizers.Adam(learning_rate = 0.01),\n",
        "              metrics = ['mae'])\n",
        "\n",
        "# Build the model\n",
        "insurance_model_7.build(input_shape = (1070,11))\n",
        "\n",
        "# Print the Summary of the model\n",
        "insurance_model_7.summary()"
      ],
      "metadata": {
        "colab": {
          "base_uri": "https://localhost:8080/"
        },
        "id": "6IxjD_BvAfEF",
        "outputId": "2d44da9a-9de9-43ff-e4ae-7ecc3bcd4185"
      },
      "execution_count": 352,
      "outputs": [
        {
          "output_type": "stream",
          "name": "stdout",
          "text": [
            "Model: \"insurance_model_7\"\n",
            "_________________________________________________________________\n",
            " Layer (type)                Output Shape              Param #   \n",
            "=================================================================\n",
            " input_layer (Dense)         (1070, 100)               1200      \n",
            "                                                                 \n",
            " dense_117 (Dense)           (1070, 100)               10100     \n",
            "                                                                 \n",
            " dense_118 (Dense)           (1070, 100)               10100     \n",
            "                                                                 \n",
            " output_layer (Dense)        (1070, 1)                 101       \n",
            "                                                                 \n",
            "=================================================================\n",
            "Total params: 21,501\n",
            "Trainable params: 21,501\n",
            "Non-trainable params: 0\n",
            "_________________________________________________________________\n"
          ]
        }
      ]
    },
    {
      "cell_type": "code",
      "source": [
        "history = insurance_model_7.fit(X_train_normal, y_train, epochs = 200, verbose = 0)\n",
        "\n",
        "insurance_model_7.evaluate(X_test_normal, y_test)"
      ],
      "metadata": {
        "colab": {
          "base_uri": "https://localhost:8080/"
        },
        "id": "IAL9Rm4WA2Dn",
        "outputId": "eb797e93-1465-4dd3-96c5-1baf74b7cf7c"
      },
      "execution_count": 353,
      "outputs": [
        {
          "output_type": "stream",
          "name": "stdout",
          "text": [
            "9/9 [==============================] - 0s 3ms/step - loss: 4004.7136 - mae: 4004.7136\n"
          ]
        },
        {
          "output_type": "execute_result",
          "data": {
            "text/plain": [
              "[4004.713623046875, 4004.713623046875]"
            ]
          },
          "metadata": {},
          "execution_count": 353
        }
      ]
    },
    {
      "cell_type": "code",
      "source": [
        "pd.DataFrame(history.history).plot()\n",
        "plt.xlabel(\"Epochs\")\n",
        "plt.xlabel(\"Loss\")"
      ],
      "metadata": {
        "colab": {
          "base_uri": "https://localhost:8080/",
          "height": 296
        },
        "id": "gnhMXzoyA4j6",
        "outputId": "05165dab-f484-4f32-9770-d6914591fecc"
      },
      "execution_count": 354,
      "outputs": [
        {
          "output_type": "execute_result",
          "data": {
            "text/plain": [
              "Text(0.5, 0, 'Loss')"
            ]
          },
          "metadata": {},
          "execution_count": 354
        },
        {
          "output_type": "display_data",
          "data": {
            "text/plain": [
              "<Figure size 432x288 with 1 Axes>"
            ],
            "image/png": "[encoded data removed]"
          },
          "metadata": {
            "needs_background": "light"
          }
        }
      ]
    },
    {
      "cell_type": "code",
      "source": [
        "history = insurance_model_7.fit(X_train_normal, y_train, epochs = 300, verbose = 0)\n",
        "\n",
        "insurance_model_7.evaluate(X_test_normal, y_test)"
      ],
      "metadata": {
        "colab": {
          "base_uri": "https://localhost:8080/"
        },
        "id": "ExYh_fq4A5cW",
        "outputId": "4e89ae01-7b2a-429d-e823-69463c3b2f2a"
      },
      "execution_count": 355,
      "outputs": [
        {
          "output_type": "stream",
          "name": "stdout",
          "text": [
            "9/9 [==============================] - 0s 3ms/step - loss: 3958.0579 - mae: 3958.0579\n"
          ]
        },
        {
          "output_type": "execute_result",
          "data": {
            "text/plain": [
              "[3958.057861328125, 3958.057861328125]"
            ]
          },
          "metadata": {},
          "execution_count": 355
        }
      ]
    },
    {
      "cell_type": "code",
      "source": [
        "pd.DataFrame(history.history).plot()\n",
        "plt.xlabel(\"Epochs\")\n",
        "plt.xlabel(\"Loss\")"
      ],
      "metadata": {
        "colab": {
          "base_uri": "https://localhost:8080/",
          "height": 296
        },
        "id": "Vrzmjg5yBBwh",
        "outputId": "08ca13c8-c1d8-47fe-abb9-c57ddd013a5a"
      },
      "execution_count": 356,
      "outputs": [
        {
          "output_type": "execute_result",
          "data": {
            "text/plain": [
              "Text(0.5, 0, 'Loss')"
            ]
          },
          "metadata": {},
          "execution_count": 356
        },
        {
          "output_type": "display_data",
          "data": {
            "text/plain": [
              "<Figure size 432x288 with 1 Axes>"
            ],
            "image/png": "[encoded data removed]"
          },
          "metadata": {
            "needs_background": "light"
          }
        }
      ]
    },
    {
      "cell_type": "code",
      "source": [
        "# Build the neural network on the normalized data\n",
        "\n",
        "tf.random.set_seed(4)\n",
        "\n",
        "# Create a model\n",
        "insurance_model_7 = tf.keras.Sequential([\n",
        "    tf.keras.layers.Dense(100, name = 'input_layer', activation = None),\n",
        "    tf.keras.layers.Dense(100, activation = None),\n",
        "    tf.keras.layers.Dense(100, activation = None),\n",
        "    tf.keras.layers.Dense(1, name = \"output_layer\", activation = None)\n",
        "], name = 'insurance_model_7')\n",
        "\n",
        "# Compile the model\n",
        "insurance_model_7.compile(loss = 'mse',\n",
        "              optimizer = tf.keras.optimizers.Adam(learning_rate = 0.03),\n",
        "              metrics = ['mae'])\n",
        "\n",
        "# Build the model\n",
        "insurance_model_7.build(input_shape = (1070,11))\n",
        "\n",
        "# Print the Summary of the model\n",
        "insurance_model_7.summary()"
      ],
      "metadata": {
        "colab": {
          "base_uri": "https://localhost:8080/"
        },
        "id": "d8vpX2IlBCct",
        "outputId": "0ee507b6-f1bf-4a7e-b300-6630b67438f7"
      },
      "execution_count": 357,
      "outputs": [
        {
          "output_type": "stream",
          "name": "stdout",
          "text": [
            "Model: \"insurance_model_7\"\n",
            "_________________________________________________________________\n",
            " Layer (type)                Output Shape              Param #   \n",
            "=================================================================\n",
            " input_layer (Dense)         (1070, 100)               1200      \n",
            "                                                                 \n",
            " dense_119 (Dense)           (1070, 100)               10100     \n",
            "                                                                 \n",
            " dense_120 (Dense)           (1070, 100)               10100     \n",
            "                                                                 \n",
            " output_layer (Dense)        (1070, 1)                 101       \n",
            "                                                                 \n",
            "=================================================================\n",
            "Total params: 21,501\n",
            "Trainable params: 21,501\n",
            "Non-trainable params: 0\n",
            "_________________________________________________________________\n"
          ]
        }
      ]
    },
    {
      "cell_type": "code",
      "source": [
        "history = insurance_model_7.fit(X_train_normal, y_train, epochs = 300, verbose = 0)\n",
        "\n",
        "insurance_model_7.evaluate(X_test_normal, y_test)"
      ],
      "metadata": {
        "colab": {
          "base_uri": "https://localhost:8080/"
        },
        "id": "vNPfq_EcBwUH",
        "outputId": "530d963e-bafc-479b-fc5e-7b109942d71c"
      },
      "execution_count": 358,
      "outputs": [
        {
          "output_type": "stream",
          "name": "stdout",
          "text": [
            "9/9 [==============================] - 0s 4ms/step - loss: 38592780.0000 - mae: 4091.7043\n"
          ]
        },
        {
          "output_type": "execute_result",
          "data": {
            "text/plain": [
              "[38592780.0, 4091.704345703125]"
            ]
          },
          "metadata": {},
          "execution_count": 358
        }
      ]
    },
    {
      "cell_type": "code",
      "source": [
        "pd.DataFrame(history.history).plot()\n",
        "plt.xlabel(\"Epochs\")\n",
        "plt.xlabel(\"Loss\")"
      ],
      "metadata": {
        "colab": {
          "base_uri": "https://localhost:8080/",
          "height": 307
        },
        "id": "vzyGw1gaCEL-",
        "outputId": "1f1c730f-6572-4219-e239-bc55d64cb5a9"
      },
      "execution_count": 359,
      "outputs": [
        {
          "output_type": "execute_result",
          "data": {
            "text/plain": [
              "Text(0.5, 0, 'Loss')"
            ]
          },
          "metadata": {},
          "execution_count": 359
        },
        {
          "output_type": "display_data",
          "data": {
            "text/plain": [
              "<Figure size 432x288 with 1 Axes>"
            ],
            "image/png": "[encoded data removed]"
          },
          "metadata": {
            "needs_background": "light"
          }
        }
      ]
    },
    {
      "cell_type": "markdown",
      "source": [
        "#### 4. Import the Boston pricing dataset and model it."
      ],
      "metadata": {
        "id": "pMz4-lrfCFAx"
      }
    },
    {
      "cell_type": "code",
      "source": [
        "(X_train, y_train), (X_test, y_test) = tf.keras.datasets.boston_housing.load_data(test_split=0.2, seed=4)"
      ],
      "metadata": {
        "id": "UF8Unx2gCLn5"
      },
      "execution_count": 360,
      "outputs": []
    },
    {
      "cell_type": "code",
      "source": [
        "X_train, X_train.shape"
      ],
      "metadata": {
        "colab": {
          "base_uri": "https://localhost:8080/"
        },
        "id": "-23Da3vtCtR5",
        "outputId": "219b755e-b957-4948-aebd-178c00efcd2a"
      },
      "execution_count": 361,
      "outputs": [
        {
          "output_type": "execute_result",
          "data": {
            "text/plain": [
              "(array([[2.11240e-01, 1.25000e+01, 7.87000e+00, ..., 1.52000e+01,\n",
              "         3.86630e+02, 2.99300e+01],\n",
              "        [4.29700e-02, 5.25000e+01, 5.32000e+00, ..., 1.66000e+01,\n",
              "         3.71720e+02, 9.51000e+00],\n",
              "        [1.35540e-01, 1.25000e+01, 6.07000e+00, ..., 1.89000e+01,\n",
              "         3.96900e+02, 1.30900e+01],\n",
              "        ...,\n",
              "        [1.70040e-01, 1.25000e+01, 7.87000e+00, ..., 1.52000e+01,\n",
              "         3.86710e+02, 1.71000e+01],\n",
              "        [5.64600e-02, 0.00000e+00, 1.28300e+01, ..., 1.87000e+01,\n",
              "         3.86400e+02, 1.23400e+01],\n",
              "        [1.42362e+01, 0.00000e+00, 1.81000e+01, ..., 2.02000e+01,\n",
              "         3.96900e+02, 2.03200e+01]]), (404, 13))"
            ]
          },
          "metadata": {},
          "execution_count": 361
        }
      ]
    },
    {
      "cell_type": "code",
      "source": [
        "y_train"
      ],
      "metadata": {
        "colab": {
          "base_uri": "https://localhost:8080/"
        },
        "id": "FzQcPQWJC0_o",
        "outputId": "2da0f6b2-6cfe-4c91-a167-3b0a79c9947d"
      },
      "execution_count": 362,
      "outputs": [
        {
          "output_type": "execute_result",
          "data": {
            "text/plain": [
              "array([16.5, 24.8, 17.4, 19.3, 37.6, 24.2, 35.4, 19.9, 27.5, 17. , 31.2,\n",
              "       24.4, 16.1, 27. , 21. , 14.9, 18.9,  6.3, 16.3, 13.9,  8.8, 19.4,\n",
              "       18.8, 19.8, 17.5, 19.3, 20. , 14.3, 16.1, 19.5, 11. , 21.9, 31. ,\n",
              "       22. , 15.1, 13.3, 28.7, 46.7, 22.2, 22.8, 42.3, 41.3, 16.7, 31.1,\n",
              "       26.7, 19.4, 50. , 16.6, 19.5, 24.4, 28.5, 22.3, 12.1, 28.6, 15.6,\n",
              "       19.2, 27.5, 32. , 20.2, 32.4, 18.4, 19.9, 29.8, 20.1, 43.5, 24.5,\n",
              "       50. ,  7.2, 19.1, 21.2, 22.6, 22.9, 25. , 23.3, 17.3, 33. , 17.8,\n",
              "       23.8, 10.9, 18.6, 19.3, 16.7, 28. , 18.2, 29.1, 11.9, 32.7, 18.3,\n",
              "       22.4, 45.4, 31.5, 48.5, 19.8, 41.7, 22.2, 20.3, 20.7, 50. , 11.8,\n",
              "       19.5,  8.7, 23.3, 36.4, 13.3, 24.8, 20.4, 44. , 29. , 39.8, 22.9,\n",
              "       23. , 15.3, 23.7, 30.5, 33.2, 26.4, 50. , 14.2,  8.1, 16. , 20. ,\n",
              "        8.5, 23.7, 26.4, 18.5, 20. , 50. , 13.4, 13.1, 12.7, 50. , 15.6,\n",
              "       50. , 29.4, 42.8, 21.7, 11.8, 24.8, 19.4, 17.5, 13.4, 13.9, 24.5,\n",
              "       15. , 13.8, 23.1, 12.5, 14.9, 21.9, 18.5, 30.8, 14.6, 23.9, 18.2,\n",
              "       21.7, 13.5, 50. , 23.1, 48.8, 13.8, 20.1, 50. , 34.9,  8.4, 15.2,\n",
              "       23. , 24.7, 25.3, 17.2, 50. , 22.9, 20.2, 17.4, 19.5, 18.5, 14. ,\n",
              "       22.6, 14.1, 15.6, 46. , 20.5, 13.5, 10.4, 21.4, 21.6, 23.2, 23. ,\n",
              "       17.6, 16.1,  5. ,  8.3, 27.5, 18.7, 21.7, 30.7,  5. , 11.3,  7. ,\n",
              "       32.9, 14.6, 12. , 28.1, 18. ,  5.6, 23.6, 24.7, 22.5, 17.7, 13.1,\n",
              "       23.1, 25. , 14.9,  9.7, 22.8, 22. , 23.6, 14.3, 18.8, 19.9, 13.6,\n",
              "       19.4, 16.8, 20. , 43.1, 27.9, 20.1, 19. , 19.2, 21.7, 33.1, 50. ,\n",
              "       33.2, 20.1, 21.1,  8.8, 12.3, 14.5, 23.8, 18.7, 21.8, 21.9, 21.7,\n",
              "       17.1, 23.1, 36.1, 28.2, 11.5, 19. , 22. , 10.5, 21.4, 16.5, 20.6,\n",
              "       23.3, 23.5, 15. , 26.5, 50. , 10.5, 17.5, 13.6, 17.2, 19.1, 16.4,\n",
              "       20.6, 20.9, 30.1, 20.7, 22.2, 24.6, 25.2, 37.9, 20.1, 29.6, 18.7,\n",
              "       23. , 22.9, 24.6, 24.8, 20.8, 22.4, 18.2, 14.4, 23.2, 13. , 19.7,\n",
              "       21.2, 21.7, 24. , 22. , 20.6, 11.9, 24.3, 23.8, 22.8, 13.3, 25. ,\n",
              "       21. , 20.4, 33.1, 48.3, 14.5, 36. , 22.6, 18.4, 18.9, 12.6, 15.2,\n",
              "       24.1, 29.9, 23.9, 31.6, 11.7, 20.3, 16.6, 22.2, 26.6, 36.2, 28.4,\n",
              "       20.8, 15.4, 50. , 18.1, 23.1, 21.5, 13.1, 21.8,  8.5, 15.6, 26.2,\n",
              "       32.2,  9.6, 31.6, 17.8, 34.7, 20. , 21. , 22.7, 28.7, 23.9, 35.4,\n",
              "       13.2, 18.3, 13.1, 23.1, 20.6,  7. , 13.4, 24.1, 30.1, 20.3, 15.6,\n",
              "       26.6, 15. , 37.2, 27.1, 24.4, 17.8, 19.8, 10.2, 23.1, 37.3, 23.2,\n",
              "       19.1, 19.6, 38.7, 25. , 23.7, 22.8, 16.2, 20.3, 24.3, 21.2, 19.3,\n",
              "       20.6, 21.4, 14.4, 19.9, 16.2, 22.5, 19.1, 17.8, 30.1, 14.8, 35.2,\n",
              "       29. , 25.1, 21.5,  8.3, 22. , 44.8, 24.5, 34.9, 17.2, 33.8, 19.6,\n",
              "       14.1,  8.4, 33.3, 23.4, 21.4, 18.9, 21.2,  7.2])"
            ]
          },
          "metadata": {},
          "execution_count": 362
        }
      ]
    },
    {
      "cell_type": "code",
      "source": [
        "# Build the neural network\n",
        "tf.random.set_seed(4)\n",
        "\n",
        "# Create a model\n",
        "boston_house_pricing_model = tf.keras.Sequential([\n",
        "    tf.keras.layers.Dense(100, name = 'input_layer', activation = 'relu'),\n",
        "    tf.keras.layers.Dense(10, activation = 'relu'),\n",
        "    tf.keras.layers.Dense(10, activation = 'relu'),\n",
        "    tf.keras.layers.Dense(10, activation = 'relu'),\n",
        "    tf.keras.layers.Dense(1, name = \"output_layer\", activation = None)\n",
        "], name = 'boston_house_pricing_model')\n",
        "\n",
        "# Compile the model\n",
        "boston_house_pricing_model.compile(loss = 'mse',\n",
        "              optimizer = tf.keras.optimizers.Adam(learning_rate = 0.05),\n",
        "              metrics = ['mse'])\n",
        "\n",
        "# Build the model\n",
        "boston_house_pricing_model.build(input_shape = (404,13))\n",
        "\n",
        "# Print the Summary of the model\n",
        "boston_house_pricing_model.summary()"
      ],
      "metadata": {
        "colab": {
          "base_uri": "https://localhost:8080/"
        },
        "id": "nWn8324CC_XP",
        "outputId": "1fdcf686-38f4-4666-913a-27224c9ea9b3"
      },
      "execution_count": 363,
      "outputs": [
        {
          "output_type": "stream",
          "name": "stdout",
          "text": [
            "Model: \"boston_house_pricing_model\"\n",
            "_________________________________________________________________\n",
            " Layer (type)                Output Shape              Param #   \n",
            "=================================================================\n",
            " input_layer (Dense)         (404, 100)                1400      \n",
            "                                                                 \n",
            " dense_121 (Dense)           (404, 10)                 1010      \n",
            "                                                                 \n",
            " dense_122 (Dense)           (404, 10)                 110       \n",
            "                                                                 \n",
            " dense_123 (Dense)           (404, 10)                 110       \n",
            "                                                                 \n",
            " output_layer (Dense)        (404, 1)                  11        \n",
            "                                                                 \n",
            "=================================================================\n",
            "Total params: 2,641\n",
            "Trainable params: 2,641\n",
            "Non-trainable params: 0\n",
            "_________________________________________________________________\n"
          ]
        }
      ]
    },
    {
      "cell_type": "code",
      "source": [
        "history = boston_house_pricing_model.fit(X_train, y_train, epochs = 300, verbose = 0)\n",
        "boston_house_pricing_model.evaluate(X_test, y_test)"
      ],
      "metadata": {
        "colab": {
          "base_uri": "https://localhost:8080/"
        },
        "id": "zWxrTHWlDZxI",
        "outputId": "a3f2261c-5b4e-42b1-8d94-f074e188ac81"
      },
      "execution_count": 364,
      "outputs": [
        {
          "output_type": "stream",
          "name": "stdout",
          "text": [
            "4/4 [==============================] - 0s 6ms/step - loss: 16.7696 - mse: 16.7696\n"
          ]
        },
        {
          "output_type": "execute_result",
          "data": {
            "text/plain": [
              "[16.769601821899414, 16.769601821899414]"
            ]
          },
          "metadata": {},
          "execution_count": 364
        }
      ]
    },
    {
      "cell_type": "code",
      "source": [
        "pd.DataFrame(history.history).plot()\n",
        "plt.xlabel(\"Epochs\")\n",
        "plt.xlabel(\"Loss\")"
      ],
      "metadata": {
        "colab": {
          "base_uri": "https://localhost:8080/",
          "height": 296
        },
        "id": "CURnwlJ3DqZ-",
        "outputId": "747f3544-6718-4203-e742-f49871f0059d"
      },
      "execution_count": 365,
      "outputs": [
        {
          "output_type": "execute_result",
          "data": {
            "text/plain": [
              "Text(0.5, 0, 'Loss')"
            ]
          },
          "metadata": {},
          "execution_count": 365
        },
        {
          "output_type": "display_data",
          "data": {
            "text/plain": [
              "<Figure size 432x288 with 1 Axes>"
            ],
            "image/png": "[encoded data removed]"
          },
          "metadata": {
            "needs_background": "light"
          }
        }
      ]
    },
    {
      "cell_type": "code",
      "source": [
        "import numpy as np\n",
        "np.median(X_train), X_train.mean()"
      ],
      "metadata": {
        "colab": {
          "base_uri": "https://localhost:8080/"
        },
        "id": "uq6FmNd_Drwp",
        "outputId": "fc066aa8-8a3c-4346-8ecb-5cbb888f8c06"
      },
      "execution_count": 366,
      "outputs": [
        {
          "output_type": "execute_result",
          "data": {
            "text/plain": [
              "(6.65196, 70.21037013137853)"
            ]
          },
          "metadata": {},
          "execution_count": 366
        }
      ]
    }
  ]
}